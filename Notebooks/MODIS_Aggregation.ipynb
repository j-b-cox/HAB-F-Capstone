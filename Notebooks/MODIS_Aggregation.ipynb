{
 "cells": [
  {
   "cell_type": "code",
   "execution_count": 1,
   "id": "9e0282c1-c222-43ba-9a20-4394ee7ca515",
   "metadata": {},
   "outputs": [
    {
     "name": "stderr",
     "output_type": "stream",
     "text": [
      "/Users/jessecox/.pyenv/versions/3.11.2/lib/python3.11/site-packages/tqdm/auto.py:21: TqdmWarning: IProgress not found. Please update jupyter and ipywidgets. See https://ipywidgets.readthedocs.io/en/stable/user_install.html\n",
      "  from .autonotebook import tqdm as notebook_tqdm\n"
     ]
    }
   ],
   "source": [
    "import os\n",
    "import numpy as np\n",
    "import xarray as xr\n",
    "import earthaccess\n",
    "from datetime import datetime, timedelta\n",
    "import pickle\n",
    "import time\n",
    "import random\n",
    "from tqdm import tqdm"
   ]
  },
  {
   "cell_type": "code",
   "execution_count": 2,
   "id": "eaa2af1a-0f7d-43de-bdfa-afcec497c5f8",
   "metadata": {},
   "outputs": [],
   "source": [
    "# Authenticate\n",
    "auth = earthaccess.login(persist=True)"
   ]
  },
  {
   "cell_type": "code",
   "execution_count": 3,
   "id": "a5359207-42e0-4e21-9db3-3067e82f9c64",
   "metadata": {},
   "outputs": [],
   "source": [
    "# Parameters\n",
    "bbox = (-83.62, 41.34, -82, 42.27)      # (lon_min, lat_min, lon_max, lat_max)\n",
    "res = 0.01\n",
    "start_date = datetime(2024, 4, 14)\n",
    "end_date = datetime(2024, 4, 20)"
   ]
  },
  {
   "cell_type": "code",
   "execution_count": 4,
   "id": "33af5159-b90f-4bfe-8e65-f7d462563f55",
   "metadata": {},
   "outputs": [],
   "source": [
    "# Ensure data directories exist\n",
    "os.makedirs(\"../Data/\", exist_ok=True)\n",
    "os.makedirs(\"../Cache/\", exist_ok=True)\n",
    "os.makedirs(\"../Images/\", exist_ok=True)"
   ]
  },
  {
   "cell_type": "code",
   "execution_count": 5,
   "id": "183bc789-453f-4630-b0b8-44b5dd50a72b",
   "metadata": {},
   "outputs": [],
   "source": [
    "# Output grid\n",
    "lat_bins = np.arange(bbox[1], bbox[3] + res, res)\n",
    "lon_bins = np.arange(bbox[0], bbox[2] + res, res)\n",
    "lat_centers = 0.5 * (lat_bins[:-1] + lat_bins[1:])\n",
    "lon_centers = 0.5 * (lon_bins[:-1] + lon_bins[1:])\n",
    "nlat, nlon = len(lat_centers), len(lon_centers)"
   ]
  },
  {
   "cell_type": "code",
   "execution_count": 6,
   "id": "97ee2f06-b860-4ef5-82ca-d16acdc1ef2b",
   "metadata": {},
   "outputs": [],
   "source": [
    "# --- Retry Helpers ---\n",
    "def safe_search(short_name, temporal, bounding_box, max_retries=500):\n",
    "    retries = 0\n",
    "    while True:\n",
    "        try:\n",
    "            results = earthaccess.search_data(\n",
    "                short_name=short_name,\n",
    "                temporal=temporal,\n",
    "                bounding_box=bounding_box\n",
    "            )\n",
    "            return results\n",
    "        except Exception as e:\n",
    "            retries += 1\n",
    "            if retries >= max_retries:\n",
    "                print(f\"Search failed after {max_retries} retries: {e}\")\n",
    "                return []\n",
    "            wait = 5 + random.uniform(0, 3)\n",
    "            print(f\"Search error: {e}. Retrying in {wait:.1f} seconds...\")\n",
    "            time.sleep(wait)"
   ]
  },
  {
   "cell_type": "code",
   "execution_count": 7,
   "id": "bbc1d2a2-be31-4855-b628-0751cbcfbdf3",
   "metadata": {},
   "outputs": [],
   "source": [
    "def safe_download(results, directory=\"../Data/\", max_retries=5):\n",
    "    retries = 0\n",
    "    while True:\n",
    "        try:\n",
    "            paths = earthaccess.download(results, directory)\n",
    "            return paths\n",
    "        except Exception as e:\n",
    "            retries += 1\n",
    "            if retries >= max_retries:\n",
    "                print(f\"Download failed after {max_retries} retries: {e}\")\n",
    "                return []\n",
    "            wait = 5 + random.uniform(0, 3)\n",
    "            print(f\"Download error: {e}. Retrying in {wait:.1f} seconds...\")\n",
    "            time.sleep(wait)"
   ]
  },
  {
   "cell_type": "code",
   "execution_count": 8,
   "id": "df4577f5-77d1-432a-a1b3-71bf5c7ed7bb",
   "metadata": {},
   "outputs": [],
   "source": [
    "# Wavelengths from a reference file (S3A or S3B, any available date)\n",
    "def get_reference_wavelengths():\n",
    "    satellites = [\"MODISA_L2_OC\", \"MODIST_L2_OC\"]\n",
    "    ref_file = None\n",
    "    search_dates = [(\"2024-06-01\", \"2024-06-05\"), (\"2024-05-01\", \"2024-06-01\"), (\"2024-04-01\", \"2024-05-01\")]\n",
    "\n",
    "    for sat in satellites:\n",
    "        for temporal in search_dates:\n",
    "            print(f\"Trying to find wavelengths in {sat} from {temporal}...\")\n",
    "\n",
    "            search_ref = safe_search(\n",
    "                short_name=sat,\n",
    "                temporal=temporal,\n",
    "                bounding_box=bbox,\n",
    "            )\n",
    "            if search_ref:\n",
    "                ref_file = safe_download(search_ref, \"../Data/\")[0]\n",
    "                try:\n",
    "                    with xr.open_dataset(ref_file, group=\"sensor_band_parameters\") as ds:\n",
    "                        if \"wavelength\" in ds:\n",
    "                            print(\"found wavelength\")\n",
    "                            wave_all = ds[\"wavelength\"].data\n",
    "                        elif \"wavelength_3d\" in ds:\n",
    "                            print(\"found wavelength_3d\")\n",
    "                            wave_all = ds[\"wavelength_3d\"].data\n",
    "                        else:\n",
    "                            raise KeyError(\"No 'wavelength' variable found in reference file.\")\n",
    "                    print(f\"Found wavelengths in {ref_file} ({len(wave_all)} channels)\")\n",
    "                    return wave_all\n",
    "                except Exception as e:\n",
    "                    print(f\"Failed to extract wavelengths from {ref_file}: {e}\")\n",
    "    raise RuntimeError(\"No reference files found to retrieve wavelengths.\")"
   ]
  },
  {
   "cell_type": "code",
   "execution_count": 9,
   "id": "884c8b8f-bedd-4b46-ac55-28d52c6b3555",
   "metadata": {},
   "outputs": [
    {
     "name": "stdout",
     "output_type": "stream",
     "text": [
      "Trying to find wavelengths in MODISA_L2_OC from ('2024-06-01', '2024-06-05')...\n"
     ]
    },
    {
     "name": "stderr",
     "output_type": "stream",
     "text": [
      "QUEUEING TASKS | : 100%|████████████████████████| 8/8 [00:00<00:00, 4491.89it/s]\n",
      "PROCESSING TASKS | : 100%|█████████████████████| 8/8 [00:00<00:00, 19611.01it/s]\n",
      "COLLECTING RESULTS | : 100%|███████████████████| 8/8 [00:00<00:00, 78951.60it/s]"
     ]
    },
    {
     "name": "stdout",
     "output_type": "stream",
     "text": [
      "found wavelength\n",
      "Found wavelengths in ../Data/AQUA_MODIS.20240601T192000.L2.OC.nc (24 channels)\n"
     ]
    },
    {
     "name": "stderr",
     "output_type": "stream",
     "text": [
      "\n"
     ]
    }
   ],
   "source": [
    "# Call it\n",
    "wave_all = get_reference_wavelengths()"
   ]
  },
  {
   "cell_type": "code",
   "execution_count": 10,
   "id": "28ee19dc-b79c-46cb-993e-ce8e5e9fca52",
   "metadata": {},
   "outputs": [
    {
     "data": {
      "text/plain": [
       "array([  412.,   443.,   469.,   488.,   531.,   547.,   555.,   645.,\n",
       "         667.,   678.,   748.,   859.,   869.,  1240.,  1640.,  2130.,\n",
       "        3750.,  3959.,  4050.,  6715.,  7325.,  8550., 11000., 12000.])"
      ]
     },
     "execution_count": 10,
     "metadata": {},
     "output_type": "execute_result"
    }
   ],
   "source": [
    "wave_all"
   ]
  },
  {
   "cell_type": "code",
   "execution_count": 11,
   "id": "65eaffe4-ebe7-4a08-8868-d8d17d2b85e9",
   "metadata": {},
   "outputs": [
    {
     "name": "stdout",
     "output_type": "stream",
     "text": [
      "Found 24 channels.\n"
     ]
    }
   ],
   "source": [
    "num_channels = len(wave_all)\n",
    "print(f\"Found {num_channels} channels.\")"
   ]
  },
  {
   "cell_type": "code",
   "execution_count": 12,
   "id": "486dc5a3-a825-4bb8-9b49-c81e82e7b17c",
   "metadata": {},
   "outputs": [],
   "source": [
    "# Prepare main array\n",
    "total_days = (end_date - start_date).days + 1\n",
    "ndarray_all = np.full((total_days, nlat, nlon, num_channels), np.nan, dtype=np.float32)"
   ]
  },
  {
   "cell_type": "code",
   "execution_count": 13,
   "id": "8b670544-a3fb-465a-8bd1-cb4082df1410",
   "metadata": {},
   "outputs": [
    {
     "name": "stdout",
     "output_type": "stream",
     "text": [
      "\n",
      "Processing 2024-04-14 (composite window 2024-04-13 to 2024-04-13)\n",
      "Need to download 2 new files for this window.\n"
     ]
    },
    {
     "name": "stderr",
     "output_type": "stream",
     "text": [
      "QUEUEING TASKS | : 100%|████████████████████████| 2/2 [00:00<00:00, 1059.30it/s]\n",
      "PROCESSING TASKS | : 100%|█████████████████████| 2/2 [00:00<00:00, 13086.75it/s]\n",
      "COLLECTING RESULTS | : 100%|████████████████████| 2/2 [00:00<00:00, 8439.24it/s]\n"
     ]
    },
    {
     "name": "stdout",
     "output_type": "stream",
     "text": [
      "delta_days: 0\n",
      "Processing AQUA_MODIS.20240413T184001.L2.OC.nc (not in cache)\n",
      "Available variables in AQUA_MODIS.20240413T184001.L2.OC.nc:\n",
      "['aot_869', 'angstrom', 'Rrs_412', 'Rrs_443', 'Rrs_469', 'Rrs_488', 'Rrs_531', 'Rrs_547', 'Rrs_555', 'Rrs_645', 'Rrs_667', 'Rrs_678', 'chlor_a', 'Kd_490', 'pic', 'poc', 'ipar', 'nflh', 'par', 'l2_flags']\n",
      "Expected Rrs variable names (based on reference wavelengths):\n",
      "['Rrs_412', 'Rrs_443', 'Rrs_469', 'Rrs_488', 'Rrs_531', 'Rrs_547', 'Rrs_555', 'Rrs_645', 'Rrs_667', 'Rrs_678', 'Rrs_748', 'Rrs_859', 'Rrs_869', 'Rrs_1240', 'Rrs_1640', 'Rrs_2130', 'Rrs_3750', 'Rrs_3959', 'Rrs_4050', 'Rrs_6715', 'Rrs_7325', 'Rrs_8550', 'Rrs_11000', 'Rrs_12000']\n"
     ]
    },
    {
     "name": "stderr",
     "output_type": "stream",
     "text": [
      "                                                                                \r"
     ]
    },
    {
     "name": "stdout",
     "output_type": "stream",
     "text": [
      "Cached data to ../Cache/AQUA_MODIS.20240413T184001.L2.OC.nc.npz\n",
      "delta_days: 0\n",
      "Processing TERRA_MODIS.20240413T160000.L2.OC.nc (not in cache)\n",
      "Available variables in TERRA_MODIS.20240413T160000.L2.OC.nc:\n",
      "['aot_869', 'angstrom', 'Rrs_412', 'Rrs_443', 'Rrs_469', 'Rrs_488', 'Rrs_531', 'Rrs_547', 'Rrs_555', 'Rrs_645', 'Rrs_667', 'Rrs_678', 'chlor_a', 'Kd_490', 'pic', 'poc', 'ipar', 'nflh', 'par', 'l2_flags']\n",
      "Expected Rrs variable names (based on reference wavelengths):\n",
      "['Rrs_412', 'Rrs_443', 'Rrs_469', 'Rrs_488', 'Rrs_531', 'Rrs_547', 'Rrs_555', 'Rrs_645', 'Rrs_667', 'Rrs_678', 'Rrs_748', 'Rrs_859', 'Rrs_869', 'Rrs_1240', 'Rrs_1640', 'Rrs_2130', 'Rrs_3750', 'Rrs_3959', 'Rrs_4050', 'Rrs_6715', 'Rrs_7325', 'Rrs_8550', 'Rrs_11000', 'Rrs_12000']\n"
     ]
    },
    {
     "name": "stderr",
     "output_type": "stream",
     "text": [
      "                                                                                \r"
     ]
    },
    {
     "name": "stdout",
     "output_type": "stream",
     "text": [
      "Cached data to ../Cache/TERRA_MODIS.20240413T160000.L2.OC.nc.npz\n",
      "Deleted old file: TERRA_MODIS.20240413T160000.L2.OC.nc\n",
      "Deleted old file: AQUA_MODIS.20240413T184001.L2.OC.nc\n",
      "\n",
      "Processing 2024-04-15 (composite window 2024-04-14 to 2024-04-14)\n",
      "Need to download 3 new files for this window.\n"
     ]
    },
    {
     "name": "stderr",
     "output_type": "stream",
     "text": [
      "QUEUEING TASKS | : 100%|█████████████████████████| 3/3 [00:00<00:00, 764.55it/s]\n",
      "PROCESSING TASKS | : 100%|████████████████████████| 3/3 [00:07<00:00,  2.42s/it]\n",
      "COLLECTING RESULTS | : 100%|███████████████████| 3/3 [00:00<00:00, 28339.89it/s]\n"
     ]
    },
    {
     "name": "stdout",
     "output_type": "stream",
     "text": [
      "delta_days: 0\n",
      "Processing AQUA_MODIS.20240414T192001.L2.OC.nc (not in cache)\n",
      "Available variables in AQUA_MODIS.20240414T192001.L2.OC.nc:\n",
      "['aot_869', 'angstrom', 'Rrs_412', 'Rrs_443', 'Rrs_469', 'Rrs_488', 'Rrs_531', 'Rrs_547', 'Rrs_555', 'Rrs_645', 'Rrs_667', 'Rrs_678', 'chlor_a', 'Kd_490', 'pic', 'poc', 'ipar', 'nflh', 'par', 'l2_flags']\n",
      "Expected Rrs variable names (based on reference wavelengths):\n",
      "['Rrs_412', 'Rrs_443', 'Rrs_469', 'Rrs_488', 'Rrs_531', 'Rrs_547', 'Rrs_555', 'Rrs_645', 'Rrs_667', 'Rrs_678', 'Rrs_748', 'Rrs_859', 'Rrs_869', 'Rrs_1240', 'Rrs_1640', 'Rrs_2130', 'Rrs_3750', 'Rrs_3959', 'Rrs_4050', 'Rrs_6715', 'Rrs_7325', 'Rrs_8550', 'Rrs_11000', 'Rrs_12000']\n"
     ]
    },
    {
     "name": "stderr",
     "output_type": "stream",
     "text": [
      "                                                                                \r"
     ]
    },
    {
     "name": "stdout",
     "output_type": "stream",
     "text": [
      "Cached data to ../Cache/AQUA_MODIS.20240414T192001.L2.OC.nc.npz\n",
      "delta_days: 0\n",
      "Processing TERRA_MODIS.20240414T150501.L2.OC.nc (not in cache)\n",
      "Available variables in TERRA_MODIS.20240414T150501.L2.OC.nc:\n",
      "['aot_869', 'angstrom', 'Rrs_412', 'Rrs_443', 'Rrs_469', 'Rrs_488', 'Rrs_531', 'Rrs_547', 'Rrs_555', 'Rrs_645', 'Rrs_667', 'Rrs_678', 'chlor_a', 'Kd_490', 'pic', 'poc', 'ipar', 'nflh', 'par', 'l2_flags']\n",
      "Expected Rrs variable names (based on reference wavelengths):\n",
      "['Rrs_412', 'Rrs_443', 'Rrs_469', 'Rrs_488', 'Rrs_531', 'Rrs_547', 'Rrs_555', 'Rrs_645', 'Rrs_667', 'Rrs_678', 'Rrs_748', 'Rrs_859', 'Rrs_869', 'Rrs_1240', 'Rrs_1640', 'Rrs_2130', 'Rrs_3750', 'Rrs_3959', 'Rrs_4050', 'Rrs_6715', 'Rrs_7325', 'Rrs_8550', 'Rrs_11000', 'Rrs_12000']\n"
     ]
    },
    {
     "name": "stderr",
     "output_type": "stream",
     "text": [
      "                                                                                \r"
     ]
    },
    {
     "name": "stdout",
     "output_type": "stream",
     "text": [
      "Cached data to ../Cache/TERRA_MODIS.20240414T150501.L2.OC.nc.npz\n",
      "delta_days: 0\n",
      "Processing TERRA_MODIS.20240414T164000.L2.OC.nc (not in cache)\n",
      "Available variables in TERRA_MODIS.20240414T164000.L2.OC.nc:\n",
      "['aot_869', 'angstrom', 'Rrs_412', 'Rrs_443', 'Rrs_469', 'Rrs_488', 'Rrs_531', 'Rrs_547', 'Rrs_555', 'Rrs_645', 'Rrs_667', 'Rrs_678', 'chlor_a', 'Kd_490', 'pic', 'poc', 'ipar', 'nflh', 'par', 'l2_flags']\n",
      "Expected Rrs variable names (based on reference wavelengths):\n",
      "['Rrs_412', 'Rrs_443', 'Rrs_469', 'Rrs_488', 'Rrs_531', 'Rrs_547', 'Rrs_555', 'Rrs_645', 'Rrs_667', 'Rrs_678', 'Rrs_748', 'Rrs_859', 'Rrs_869', 'Rrs_1240', 'Rrs_1640', 'Rrs_2130', 'Rrs_3750', 'Rrs_3959', 'Rrs_4050', 'Rrs_6715', 'Rrs_7325', 'Rrs_8550', 'Rrs_11000', 'Rrs_12000']\n"
     ]
    },
    {
     "name": "stderr",
     "output_type": "stream",
     "text": [
      "                                                                                \r"
     ]
    },
    {
     "name": "stdout",
     "output_type": "stream",
     "text": [
      "Cached data to ../Cache/TERRA_MODIS.20240414T164000.L2.OC.nc.npz\n",
      "Deleted old file: AQUA_MODIS.20240414T192001.L2.OC.nc\n",
      "Deleted old file: TERRA_MODIS.20240414T164000.L2.OC.nc\n",
      "Deleted old file: TERRA_MODIS.20240414T150501.L2.OC.nc\n",
      "\n",
      "Processing 2024-04-16 (composite window 2024-04-15 to 2024-04-15)\n",
      "Need to download 3 new files for this window.\n"
     ]
    },
    {
     "name": "stderr",
     "output_type": "stream",
     "text": [
      "QUEUEING TASKS | : 100%|█████████████████████████| 3/3 [00:00<00:00, 775.14it/s]\n",
      "PROCESSING TASKS | : 100%|████████████████████████| 3/3 [00:07<00:00,  2.49s/it]\n",
      "COLLECTING RESULTS | : 100%|███████████████████| 3/3 [00:00<00:00, 31223.11it/s]\n"
     ]
    },
    {
     "name": "stdout",
     "output_type": "stream",
     "text": [
      "delta_days: 0\n",
      "Processing AQUA_MODIS.20240415T182000.L2.OC.nc (not in cache)\n",
      "Available variables in AQUA_MODIS.20240415T182000.L2.OC.nc:\n",
      "['aot_869', 'angstrom', 'Rrs_412', 'Rrs_443', 'Rrs_469', 'Rrs_488', 'Rrs_531', 'Rrs_547', 'Rrs_555', 'Rrs_645', 'Rrs_667', 'Rrs_678', 'chlor_a', 'Kd_490', 'pic', 'poc', 'ipar', 'nflh', 'par', 'l2_flags']\n",
      "Expected Rrs variable names (based on reference wavelengths):\n",
      "['Rrs_412', 'Rrs_443', 'Rrs_469', 'Rrs_488', 'Rrs_531', 'Rrs_547', 'Rrs_555', 'Rrs_645', 'Rrs_667', 'Rrs_678', 'Rrs_748', 'Rrs_859', 'Rrs_869', 'Rrs_1240', 'Rrs_1640', 'Rrs_2130', 'Rrs_3750', 'Rrs_3959', 'Rrs_4050', 'Rrs_6715', 'Rrs_7325', 'Rrs_8550', 'Rrs_11000', 'Rrs_12000']\n"
     ]
    },
    {
     "name": "stderr",
     "output_type": "stream",
     "text": [
      "                                                                                \r"
     ]
    },
    {
     "name": "stdout",
     "output_type": "stream",
     "text": [
      "Cached data to ../Cache/AQUA_MODIS.20240415T182000.L2.OC.nc.npz\n",
      "delta_days: 0\n",
      "Processing AQUA_MODIS.20240415T200000.L2.OC.nc (not in cache)\n",
      "Available variables in AQUA_MODIS.20240415T200000.L2.OC.nc:\n",
      "['aot_869', 'angstrom', 'Rrs_412', 'Rrs_443', 'Rrs_469', 'Rrs_488', 'Rrs_531', 'Rrs_547', 'Rrs_555', 'Rrs_645', 'Rrs_667', 'Rrs_678', 'chlor_a', 'Kd_490', 'pic', 'poc', 'ipar', 'nflh', 'par', 'l2_flags']\n",
      "Expected Rrs variable names (based on reference wavelengths):\n",
      "['Rrs_412', 'Rrs_443', 'Rrs_469', 'Rrs_488', 'Rrs_531', 'Rrs_547', 'Rrs_555', 'Rrs_645', 'Rrs_667', 'Rrs_678', 'Rrs_748', 'Rrs_859', 'Rrs_869', 'Rrs_1240', 'Rrs_1640', 'Rrs_2130', 'Rrs_3750', 'Rrs_3959', 'Rrs_4050', 'Rrs_6715', 'Rrs_7325', 'Rrs_8550', 'Rrs_11000', 'Rrs_12000']\n"
     ]
    },
    {
     "name": "stderr",
     "output_type": "stream",
     "text": [
      "                                                                                \r"
     ]
    },
    {
     "name": "stdout",
     "output_type": "stream",
     "text": [
      "Cached data to ../Cache/AQUA_MODIS.20240415T200000.L2.OC.nc.npz\n",
      "delta_days: 0\n",
      "Processing TERRA_MODIS.20240415T154501.L2.OC.nc (not in cache)\n",
      "Available variables in TERRA_MODIS.20240415T154501.L2.OC.nc:\n",
      "['aot_869', 'angstrom', 'Rrs_412', 'Rrs_443', 'Rrs_469', 'Rrs_488', 'Rrs_531', 'Rrs_547', 'Rrs_555', 'Rrs_645', 'Rrs_667', 'Rrs_678', 'chlor_a', 'Kd_490', 'pic', 'poc', 'ipar', 'nflh', 'par', 'l2_flags']\n",
      "Expected Rrs variable names (based on reference wavelengths):\n",
      "['Rrs_412', 'Rrs_443', 'Rrs_469', 'Rrs_488', 'Rrs_531', 'Rrs_547', 'Rrs_555', 'Rrs_645', 'Rrs_667', 'Rrs_678', 'Rrs_748', 'Rrs_859', 'Rrs_869', 'Rrs_1240', 'Rrs_1640', 'Rrs_2130', 'Rrs_3750', 'Rrs_3959', 'Rrs_4050', 'Rrs_6715', 'Rrs_7325', 'Rrs_8550', 'Rrs_11000', 'Rrs_12000']\n"
     ]
    },
    {
     "name": "stderr",
     "output_type": "stream",
     "text": [
      "                                                                                \r"
     ]
    },
    {
     "name": "stdout",
     "output_type": "stream",
     "text": [
      "Cached data to ../Cache/TERRA_MODIS.20240415T154501.L2.OC.nc.npz\n",
      "Deleted old file: TERRA_MODIS.20240415T154501.L2.OC.nc\n",
      "Deleted old file: AQUA_MODIS.20240415T182000.L2.OC.nc\n",
      "Deleted old file: AQUA_MODIS.20240415T200000.L2.OC.nc\n",
      "\n",
      "Processing 2024-04-17 (composite window 2024-04-16 to 2024-04-16)\n",
      "Need to download 2 new files for this window.\n"
     ]
    },
    {
     "name": "stderr",
     "output_type": "stream",
     "text": [
      "QUEUEING TASKS | : 100%|█████████████████████████| 2/2 [00:00<00:00, 754.44it/s]\n",
      "PROCESSING TASKS | : 100%|████████████████████████| 2/2 [00:05<00:00,  2.83s/it]\n",
      "COLLECTING RESULTS | : 100%|███████████████████| 2/2 [00:00<00:00, 36954.22it/s]\n"
     ]
    },
    {
     "name": "stdout",
     "output_type": "stream",
     "text": [
      "delta_days: 0\n",
      "Processing AQUA_MODIS.20240416T190501.L2.OC.nc (not in cache)\n",
      "Available variables in AQUA_MODIS.20240416T190501.L2.OC.nc:\n",
      "['aot_869', 'angstrom', 'Rrs_412', 'Rrs_443', 'Rrs_469', 'Rrs_488', 'Rrs_531', 'Rrs_547', 'Rrs_555', 'Rrs_645', 'Rrs_667', 'Rrs_678', 'chlor_a', 'Kd_490', 'pic', 'poc', 'ipar', 'nflh', 'par', 'l2_flags']\n",
      "Expected Rrs variable names (based on reference wavelengths):\n",
      "['Rrs_412', 'Rrs_443', 'Rrs_469', 'Rrs_488', 'Rrs_531', 'Rrs_547', 'Rrs_555', 'Rrs_645', 'Rrs_667', 'Rrs_678', 'Rrs_748', 'Rrs_859', 'Rrs_869', 'Rrs_1240', 'Rrs_1640', 'Rrs_2130', 'Rrs_3750', 'Rrs_3959', 'Rrs_4050', 'Rrs_6715', 'Rrs_7325', 'Rrs_8550', 'Rrs_11000', 'Rrs_12000']\n"
     ]
    },
    {
     "name": "stderr",
     "output_type": "stream",
     "text": [
      "                                                                                \r"
     ]
    },
    {
     "name": "stdout",
     "output_type": "stream",
     "text": [
      "Cached data to ../Cache/AQUA_MODIS.20240416T190501.L2.OC.nc.npz\n",
      "delta_days: 0\n",
      "Processing TERRA_MODIS.20240416T162501.L2.OC.nc (not in cache)\n",
      "Available variables in TERRA_MODIS.20240416T162501.L2.OC.nc:\n",
      "['aot_869', 'angstrom', 'Rrs_412', 'Rrs_443', 'Rrs_469', 'Rrs_488', 'Rrs_531', 'Rrs_547', 'Rrs_555', 'Rrs_645', 'Rrs_667', 'Rrs_678', 'chlor_a', 'Kd_490', 'pic', 'poc', 'ipar', 'nflh', 'par', 'l2_flags']\n",
      "Expected Rrs variable names (based on reference wavelengths):\n",
      "['Rrs_412', 'Rrs_443', 'Rrs_469', 'Rrs_488', 'Rrs_531', 'Rrs_547', 'Rrs_555', 'Rrs_645', 'Rrs_667', 'Rrs_678', 'Rrs_748', 'Rrs_859', 'Rrs_869', 'Rrs_1240', 'Rrs_1640', 'Rrs_2130', 'Rrs_3750', 'Rrs_3959', 'Rrs_4050', 'Rrs_6715', 'Rrs_7325', 'Rrs_8550', 'Rrs_11000', 'Rrs_12000']\n"
     ]
    },
    {
     "name": "stderr",
     "output_type": "stream",
     "text": [
      "                                                                                \r"
     ]
    },
    {
     "name": "stdout",
     "output_type": "stream",
     "text": [
      "Cached data to ../Cache/TERRA_MODIS.20240416T162501.L2.OC.nc.npz\n",
      "Deleted old file: TERRA_MODIS.20240416T162501.L2.OC.nc\n",
      "Deleted old file: AQUA_MODIS.20240416T190501.L2.OC.nc\n",
      "\n",
      "Processing 2024-04-18 (composite window 2024-04-17 to 2024-04-17)\n",
      "Need to download 3 new files for this window.\n"
     ]
    },
    {
     "name": "stderr",
     "output_type": "stream",
     "text": [
      "QUEUEING TASKS | : 100%|█████████████████████████| 3/3 [00:00<00:00, 616.14it/s]\n",
      "PROCESSING TASKS | : 100%|████████████████████████| 3/3 [00:05<00:00,  1.78s/it]\n",
      "COLLECTING RESULTS | : 100%|███████████████████| 3/3 [00:00<00:00, 30916.25it/s]\n"
     ]
    },
    {
     "name": "stdout",
     "output_type": "stream",
     "text": [
      "delta_days: 0\n",
      "Processing AQUA_MODIS.20240417T180501.L2.OC.nc (not in cache)\n",
      "Available variables in AQUA_MODIS.20240417T180501.L2.OC.nc:\n",
      "['aot_869', 'angstrom', 'Rrs_412', 'Rrs_443', 'Rrs_469', 'Rrs_488', 'Rrs_531', 'Rrs_547', 'Rrs_555', 'Rrs_645', 'Rrs_667', 'Rrs_678', 'chlor_a', 'Kd_490', 'pic', 'poc', 'ipar', 'nflh', 'par', 'l2_flags']\n",
      "Expected Rrs variable names (based on reference wavelengths):\n",
      "['Rrs_412', 'Rrs_443', 'Rrs_469', 'Rrs_488', 'Rrs_531', 'Rrs_547', 'Rrs_555', 'Rrs_645', 'Rrs_667', 'Rrs_678', 'Rrs_748', 'Rrs_859', 'Rrs_869', 'Rrs_1240', 'Rrs_1640', 'Rrs_2130', 'Rrs_3750', 'Rrs_3959', 'Rrs_4050', 'Rrs_6715', 'Rrs_7325', 'Rrs_8550', 'Rrs_11000', 'Rrs_12000']\n"
     ]
    },
    {
     "name": "stderr",
     "output_type": "stream",
     "text": [
      "                                                                                \r"
     ]
    },
    {
     "name": "stdout",
     "output_type": "stream",
     "text": [
      "Cached data to ../Cache/AQUA_MODIS.20240417T180501.L2.OC.nc.npz\n",
      "delta_days: 0\n",
      "Processing AQUA_MODIS.20240417T194501.L2.OC.nc (not in cache)\n",
      "Available variables in AQUA_MODIS.20240417T194501.L2.OC.nc:\n",
      "['aot_869', 'angstrom', 'Rrs_412', 'Rrs_443', 'Rrs_469', 'Rrs_488', 'Rrs_531', 'Rrs_547', 'Rrs_555', 'Rrs_645', 'Rrs_667', 'Rrs_678', 'chlor_a', 'Kd_490', 'pic', 'poc', 'ipar', 'nflh', 'par', 'l2_flags']\n",
      "Expected Rrs variable names (based on reference wavelengths):\n",
      "['Rrs_412', 'Rrs_443', 'Rrs_469', 'Rrs_488', 'Rrs_531', 'Rrs_547', 'Rrs_555', 'Rrs_645', 'Rrs_667', 'Rrs_678', 'Rrs_748', 'Rrs_859', 'Rrs_869', 'Rrs_1240', 'Rrs_1640', 'Rrs_2130', 'Rrs_3750', 'Rrs_3959', 'Rrs_4050', 'Rrs_6715', 'Rrs_7325', 'Rrs_8550', 'Rrs_11000', 'Rrs_12000']\n"
     ]
    },
    {
     "name": "stderr",
     "output_type": "stream",
     "text": [
      "                                                                                \r"
     ]
    },
    {
     "name": "stdout",
     "output_type": "stream",
     "text": [
      "Cached data to ../Cache/AQUA_MODIS.20240417T194501.L2.OC.nc.npz\n",
      "delta_days: 0\n",
      "Processing TERRA_MODIS.20240417T152501.L2.OC.nc (not in cache)\n",
      "Available variables in TERRA_MODIS.20240417T152501.L2.OC.nc:\n",
      "['aot_869', 'angstrom', 'Rrs_412', 'Rrs_443', 'Rrs_469', 'Rrs_488', 'Rrs_531', 'Rrs_547', 'Rrs_555', 'Rrs_645', 'Rrs_667', 'Rrs_678', 'chlor_a', 'Kd_490', 'pic', 'poc', 'ipar', 'nflh', 'par', 'l2_flags']\n",
      "Expected Rrs variable names (based on reference wavelengths):\n",
      "['Rrs_412', 'Rrs_443', 'Rrs_469', 'Rrs_488', 'Rrs_531', 'Rrs_547', 'Rrs_555', 'Rrs_645', 'Rrs_667', 'Rrs_678', 'Rrs_748', 'Rrs_859', 'Rrs_869', 'Rrs_1240', 'Rrs_1640', 'Rrs_2130', 'Rrs_3750', 'Rrs_3959', 'Rrs_4050', 'Rrs_6715', 'Rrs_7325', 'Rrs_8550', 'Rrs_11000', 'Rrs_12000']\n"
     ]
    },
    {
     "name": "stderr",
     "output_type": "stream",
     "text": [
      "                                                                                \r"
     ]
    },
    {
     "name": "stdout",
     "output_type": "stream",
     "text": [
      "Cached data to ../Cache/TERRA_MODIS.20240417T152501.L2.OC.nc.npz\n",
      "Deleted old file: AQUA_MODIS.20240417T180501.L2.OC.nc\n",
      "Deleted old file: TERRA_MODIS.20240417T152501.L2.OC.nc\n",
      "Deleted old file: AQUA_MODIS.20240417T194501.L2.OC.nc\n",
      "\n",
      "Processing 2024-04-19 (composite window 2024-04-18 to 2024-04-18)\n",
      "Need to download 3 new files for this window.\n"
     ]
    },
    {
     "name": "stderr",
     "output_type": "stream",
     "text": [
      "QUEUEING TASKS | : 100%|█████████████████████████| 3/3 [00:00<00:00, 872.84it/s]\n",
      "PROCESSING TASKS | : 100%|████████████████████████| 3/3 [00:05<00:00,  1.67s/it]\n",
      "COLLECTING RESULTS | : 100%|███████████████████| 3/3 [00:00<00:00, 27235.74it/s]\n"
     ]
    },
    {
     "name": "stdout",
     "output_type": "stream",
     "text": [
      "delta_days: 0\n",
      "Processing AQUA_MODIS.20240418T184500.L2.OC.nc (not in cache)\n",
      "Available variables in AQUA_MODIS.20240418T184500.L2.OC.nc:\n",
      "['aot_869', 'angstrom', 'Rrs_412', 'Rrs_443', 'Rrs_469', 'Rrs_488', 'Rrs_531', 'Rrs_547', 'Rrs_555', 'Rrs_645', 'Rrs_667', 'Rrs_678', 'chlor_a', 'Kd_490', 'pic', 'poc', 'ipar', 'nflh', 'par', 'l2_flags']\n",
      "Expected Rrs variable names (based on reference wavelengths):\n",
      "['Rrs_412', 'Rrs_443', 'Rrs_469', 'Rrs_488', 'Rrs_531', 'Rrs_547', 'Rrs_555', 'Rrs_645', 'Rrs_667', 'Rrs_678', 'Rrs_748', 'Rrs_859', 'Rrs_869', 'Rrs_1240', 'Rrs_1640', 'Rrs_2130', 'Rrs_3750', 'Rrs_3959', 'Rrs_4050', 'Rrs_6715', 'Rrs_7325', 'Rrs_8550', 'Rrs_11000', 'Rrs_12000']\n"
     ]
    },
    {
     "name": "stderr",
     "output_type": "stream",
     "text": [
      "                                                                                \r"
     ]
    },
    {
     "name": "stdout",
     "output_type": "stream",
     "text": [
      "Cached data to ../Cache/AQUA_MODIS.20240418T184500.L2.OC.nc.npz\n",
      "delta_days: 0\n",
      "Processing TERRA_MODIS.20240418T160501.L2.OC.nc (not in cache)\n",
      "Available variables in TERRA_MODIS.20240418T160501.L2.OC.nc:\n",
      "['aot_869', 'angstrom', 'Rrs_412', 'Rrs_443', 'Rrs_469', 'Rrs_488', 'Rrs_531', 'Rrs_547', 'Rrs_555', 'Rrs_645', 'Rrs_667', 'Rrs_678', 'chlor_a', 'Kd_490', 'pic', 'poc', 'ipar', 'nflh', 'par', 'l2_flags']\n",
      "Expected Rrs variable names (based on reference wavelengths):\n",
      "['Rrs_412', 'Rrs_443', 'Rrs_469', 'Rrs_488', 'Rrs_531', 'Rrs_547', 'Rrs_555', 'Rrs_645', 'Rrs_667', 'Rrs_678', 'Rrs_748', 'Rrs_859', 'Rrs_869', 'Rrs_1240', 'Rrs_1640', 'Rrs_2130', 'Rrs_3750', 'Rrs_3959', 'Rrs_4050', 'Rrs_6715', 'Rrs_7325', 'Rrs_8550', 'Rrs_11000', 'Rrs_12000']\n"
     ]
    },
    {
     "name": "stderr",
     "output_type": "stream",
     "text": [
      "                                                                                \r"
     ]
    },
    {
     "name": "stdout",
     "output_type": "stream",
     "text": [
      "Cached data to ../Cache/TERRA_MODIS.20240418T160501.L2.OC.nc.npz\n",
      "delta_days: 0\n",
      "Processing TERRA_MODIS.20240418T161001.L2.OC.nc (not in cache)\n",
      "Available variables in TERRA_MODIS.20240418T161001.L2.OC.nc:\n",
      "['aot_869', 'angstrom', 'Rrs_412', 'Rrs_443', 'Rrs_469', 'Rrs_488', 'Rrs_531', 'Rrs_547', 'Rrs_555', 'Rrs_645', 'Rrs_667', 'Rrs_678', 'chlor_a', 'Kd_490', 'pic', 'poc', 'ipar', 'nflh', 'par', 'l2_flags']\n",
      "Expected Rrs variable names (based on reference wavelengths):\n",
      "['Rrs_412', 'Rrs_443', 'Rrs_469', 'Rrs_488', 'Rrs_531', 'Rrs_547', 'Rrs_555', 'Rrs_645', 'Rrs_667', 'Rrs_678', 'Rrs_748', 'Rrs_859', 'Rrs_869', 'Rrs_1240', 'Rrs_1640', 'Rrs_2130', 'Rrs_3750', 'Rrs_3959', 'Rrs_4050', 'Rrs_6715', 'Rrs_7325', 'Rrs_8550', 'Rrs_11000', 'Rrs_12000']\n"
     ]
    },
    {
     "name": "stderr",
     "output_type": "stream",
     "text": [
      "                                                                                \r"
     ]
    },
    {
     "name": "stdout",
     "output_type": "stream",
     "text": [
      "Cached data to ../Cache/TERRA_MODIS.20240418T161001.L2.OC.nc.npz\n",
      "Deleted old file: TERRA_MODIS.20240418T161001.L2.OC.nc\n",
      "Deleted old file: AQUA_MODIS.20240418T184500.L2.OC.nc\n",
      "Deleted old file: TERRA_MODIS.20240418T160501.L2.OC.nc\n",
      "\n",
      "Processing 2024-04-20 (composite window 2024-04-19 to 2024-04-19)\n",
      "Need to download 5 new files for this window.\n"
     ]
    },
    {
     "name": "stderr",
     "output_type": "stream",
     "text": [
      "QUEUEING TASKS | : 100%|█████████████████████████| 5/5 [00:00<00:00, 785.30it/s]\n",
      "PROCESSING TASKS | : 100%|████████████████████████| 5/5 [00:05<00:00,  1.17s/it]\n",
      "COLLECTING RESULTS | : 100%|███████████████████| 5/5 [00:00<00:00, 64927.31it/s]\n"
     ]
    },
    {
     "name": "stdout",
     "output_type": "stream",
     "text": [
      "delta_days: 0\n",
      "Processing AQUA_MODIS.20240419T192501.L2.OC.nc (not in cache)\n",
      "Available variables in AQUA_MODIS.20240419T192501.L2.OC.nc:\n",
      "['aot_869', 'angstrom', 'Rrs_412', 'Rrs_443', 'Rrs_469', 'Rrs_488', 'Rrs_531', 'Rrs_547', 'Rrs_555', 'Rrs_645', 'Rrs_667', 'Rrs_678', 'chlor_a', 'Kd_490', 'pic', 'poc', 'ipar', 'nflh', 'par', 'l2_flags']\n",
      "Expected Rrs variable names (based on reference wavelengths):\n",
      "['Rrs_412', 'Rrs_443', 'Rrs_469', 'Rrs_488', 'Rrs_531', 'Rrs_547', 'Rrs_555', 'Rrs_645', 'Rrs_667', 'Rrs_678', 'Rrs_748', 'Rrs_859', 'Rrs_869', 'Rrs_1240', 'Rrs_1640', 'Rrs_2130', 'Rrs_3750', 'Rrs_3959', 'Rrs_4050', 'Rrs_6715', 'Rrs_7325', 'Rrs_8550', 'Rrs_11000', 'Rrs_12000']\n"
     ]
    },
    {
     "name": "stderr",
     "output_type": "stream",
     "text": [
      "                                                                                \r"
     ]
    },
    {
     "name": "stdout",
     "output_type": "stream",
     "text": [
      "Cached data to ../Cache/AQUA_MODIS.20240419T192501.L2.OC.nc.npz\n",
      "delta_days: 0\n",
      "Processing AQUA_MODIS.20240419T193001.L2.OC.nc (not in cache)\n",
      "Available variables in AQUA_MODIS.20240419T193001.L2.OC.nc:\n",
      "['aot_869', 'angstrom', 'Rrs_412', 'Rrs_443', 'Rrs_469', 'Rrs_488', 'Rrs_531', 'Rrs_547', 'Rrs_555', 'Rrs_645', 'Rrs_667', 'Rrs_678', 'chlor_a', 'Kd_490', 'pic', 'poc', 'ipar', 'nflh', 'par', 'l2_flags']\n",
      "Expected Rrs variable names (based on reference wavelengths):\n",
      "['Rrs_412', 'Rrs_443', 'Rrs_469', 'Rrs_488', 'Rrs_531', 'Rrs_547', 'Rrs_555', 'Rrs_645', 'Rrs_667', 'Rrs_678', 'Rrs_748', 'Rrs_859', 'Rrs_869', 'Rrs_1240', 'Rrs_1640', 'Rrs_2130', 'Rrs_3750', 'Rrs_3959', 'Rrs_4050', 'Rrs_6715', 'Rrs_7325', 'Rrs_8550', 'Rrs_11000', 'Rrs_12000']\n"
     ]
    },
    {
     "name": "stderr",
     "output_type": "stream",
     "text": [
      "                                                                                \r"
     ]
    },
    {
     "name": "stdout",
     "output_type": "stream",
     "text": [
      "Cached data to ../Cache/AQUA_MODIS.20240419T193001.L2.OC.nc.npz\n",
      "delta_days: 0\n",
      "Processing TERRA_MODIS.20240419T151000.L2.OC.nc (not in cache)\n",
      "Available variables in TERRA_MODIS.20240419T151000.L2.OC.nc:\n",
      "['aot_869', 'angstrom', 'Rrs_412', 'Rrs_443', 'Rrs_469', 'Rrs_488', 'Rrs_531', 'Rrs_547', 'Rrs_555', 'Rrs_645', 'Rrs_667', 'Rrs_678', 'chlor_a', 'Kd_490', 'pic', 'poc', 'ipar', 'nflh', 'par', 'l2_flags']\n",
      "Expected Rrs variable names (based on reference wavelengths):\n",
      "['Rrs_412', 'Rrs_443', 'Rrs_469', 'Rrs_488', 'Rrs_531', 'Rrs_547', 'Rrs_555', 'Rrs_645', 'Rrs_667', 'Rrs_678', 'Rrs_748', 'Rrs_859', 'Rrs_869', 'Rrs_1240', 'Rrs_1640', 'Rrs_2130', 'Rrs_3750', 'Rrs_3959', 'Rrs_4050', 'Rrs_6715', 'Rrs_7325', 'Rrs_8550', 'Rrs_11000', 'Rrs_12000']\n"
     ]
    },
    {
     "name": "stderr",
     "output_type": "stream",
     "text": [
      "                                                                                \r"
     ]
    },
    {
     "name": "stdout",
     "output_type": "stream",
     "text": [
      "Cached data to ../Cache/TERRA_MODIS.20240419T151000.L2.OC.nc.npz\n",
      "delta_days: 0\n",
      "Processing TERRA_MODIS.20240419T164501.L2.OC.nc (not in cache)\n",
      "Available variables in TERRA_MODIS.20240419T164501.L2.OC.nc:\n",
      "['aot_869', 'angstrom', 'Rrs_412', 'Rrs_443', 'Rrs_469', 'Rrs_488', 'Rrs_531', 'Rrs_547', 'Rrs_555', 'Rrs_645', 'Rrs_667', 'Rrs_678', 'chlor_a', 'Kd_490', 'pic', 'poc', 'ipar', 'nflh', 'par', 'l2_flags']\n",
      "Expected Rrs variable names (based on reference wavelengths):\n",
      "['Rrs_412', 'Rrs_443', 'Rrs_469', 'Rrs_488', 'Rrs_531', 'Rrs_547', 'Rrs_555', 'Rrs_645', 'Rrs_667', 'Rrs_678', 'Rrs_748', 'Rrs_859', 'Rrs_869', 'Rrs_1240', 'Rrs_1640', 'Rrs_2130', 'Rrs_3750', 'Rrs_3959', 'Rrs_4050', 'Rrs_6715', 'Rrs_7325', 'Rrs_8550', 'Rrs_11000', 'Rrs_12000']\n"
     ]
    },
    {
     "name": "stderr",
     "output_type": "stream",
     "text": [
      "                                                                                \r"
     ]
    },
    {
     "name": "stdout",
     "output_type": "stream",
     "text": [
      "Cached data to ../Cache/TERRA_MODIS.20240419T164501.L2.OC.nc.npz\n",
      "delta_days: 0\n",
      "Processing TERRA_MODIS.20240419T165000.L2.OC.nc (not in cache)\n",
      "Available variables in TERRA_MODIS.20240419T165000.L2.OC.nc:\n",
      "['aot_869', 'angstrom', 'Rrs_412', 'Rrs_443', 'Rrs_469', 'Rrs_488', 'Rrs_531', 'Rrs_547', 'Rrs_555', 'Rrs_645', 'Rrs_667', 'Rrs_678', 'chlor_a', 'Kd_490', 'pic', 'poc', 'ipar', 'nflh', 'par', 'l2_flags']\n",
      "Expected Rrs variable names (based on reference wavelengths):\n",
      "['Rrs_412', 'Rrs_443', 'Rrs_469', 'Rrs_488', 'Rrs_531', 'Rrs_547', 'Rrs_555', 'Rrs_645', 'Rrs_667', 'Rrs_678', 'Rrs_748', 'Rrs_859', 'Rrs_869', 'Rrs_1240', 'Rrs_1640', 'Rrs_2130', 'Rrs_3750', 'Rrs_3959', 'Rrs_4050', 'Rrs_6715', 'Rrs_7325', 'Rrs_8550', 'Rrs_11000', 'Rrs_12000']\n"
     ]
    },
    {
     "name": "stderr",
     "output_type": "stream",
     "text": [
      "                                                                                "
     ]
    },
    {
     "name": "stdout",
     "output_type": "stream",
     "text": [
      "Cached data to ../Cache/TERRA_MODIS.20240419T165000.L2.OC.nc.npz\n",
      "Deleted old file: AQUA_MODIS.20240419T193001.L2.OC.nc\n",
      "Deleted old file: TERRA_MODIS.20240419T164501.L2.OC.nc\n",
      "Deleted old file: AQUA_MODIS.20240419T192501.L2.OC.nc\n",
      "Deleted old file: TERRA_MODIS.20240419T151000.L2.OC.nc\n",
      "Deleted old file: TERRA_MODIS.20240419T165000.L2.OC.nc\n"
     ]
    },
    {
     "name": "stderr",
     "output_type": "stream",
     "text": [
      "\r"
     ]
    }
   ],
   "source": [
    "# Process day by day\n",
    "window_size = 1\n",
    "for day_idx in range(total_days):\n",
    "    current_date = start_date + timedelta(days=day_idx)\n",
    "    window_start = current_date - timedelta(days=window_size)\n",
    "    window_end = current_date - timedelta(days=1)\n",
    "\n",
    "    print(f\"\\nProcessing {current_date.date()} (composite window {window_start.date()} to {window_end.date()})\")\n",
    "\n",
    "    # Search for data from both S3A and S3B\n",
    "    results_ma = safe_search(\n",
    "        short_name=\"MODISA_L2_OC\",\n",
    "        temporal=(window_start.strftime(\"%Y-%m-%d\"), window_end.strftime(\"%Y-%m-%d\")),\n",
    "        bounding_box=bbox,\n",
    "    )\n",
    "    \n",
    "    results_mt = safe_search(\n",
    "        short_name=\"MODIST_L2_OC\",\n",
    "        temporal=(window_start.strftime(\"%Y-%m-%d\"), window_end.strftime(\"%Y-%m-%d\")),\n",
    "        bounding_box=bbox,\n",
    "    )\n",
    "    results = results_ma + results_mt\n",
    "\n",
    "    if not results:\n",
    "        print(\"No data found for this window. Skipping to next date.\")\n",
    "        continue\n",
    "\n",
    "    # Download new files\n",
    "    to_download = []\n",
    "    for granule in results:\n",
    "        granule_id = granule['umm']['DataGranule']['ArchiveAndDistributionInformation'][0]['Name']\n",
    "        granule_basename = os.path.basename(granule_id)\n",
    "        cache_path = f\"../Cache/{granule_basename}.nc.npz\"\n",
    "        if not os.path.exists(cache_path):\n",
    "            to_download.append(granule)\n",
    "\n",
    "    if to_download:\n",
    "        print(f\"Need to download {len(to_download)} new files for this window.\")\n",
    "        paths = safe_download(to_download, \"../Data/\")\n",
    "        if not paths:\n",
    "            print(\"No files downloaded for this window. Skipping to next date.\")\n",
    "            continue\n",
    "    else:\n",
    "        print(\"All files already cached. Skipping download.\")\n",
    "        paths = [f\"../Data/{os.path.basename(granule['granule_id'])}\" for granule in results]\n",
    "\n",
    "    # Initialize sum and weight arrays\n",
    "    sum_all = np.zeros((num_channels, nlat, nlon))\n",
    "    weight_all = np.zeros((num_channels, nlat, nlon))\n",
    "\n",
    "    for path in paths:\n",
    "        base = os.path.basename(path)\n",
    "        date_str = base.split(\".\")[1][:8]\n",
    "        file_date = datetime.strptime(date_str, \"%Y%m%d\")\n",
    "        delta_days = (window_end - file_date).days\n",
    "        print('delta_days:', delta_days)\n",
    "        weight = 1\n",
    "\n",
    "        cache_file = f\"../Cache/{base}.npz\"\n",
    "\n",
    "        if not os.path.exists(cache_file):\n",
    "            print(f\"Processing {base} (not in cache)\")\n",
    "            try:\n",
    "                nav = xr.open_dataset(path, group=\"navigation_data\")\n",
    "                lat = nav[\"latitude\"].values\n",
    "                lon = nav[\"longitude\"].values\n",
    "\n",
    "\n",
    "\n",
    "                rrs_ds = xr.open_dataset(path, group=\"geophysical_data\")\n",
    "                lat_idx_all, lon_idx_all, ch_idx_all, val_all = [], [], [], []\n",
    "                print(f\"Available variables in {base}:\")\n",
    "                print([v for v in rrs_ds.variables])\n",
    "                print(\"Expected Rrs variable names (based on reference wavelengths):\")\n",
    "                print([f\"Rrs_{int(round(w))}\" for w in wave_all])\n",
    "\n",
    "                for ch_idx, wl in tqdm(list(enumerate(wave_all)), desc=f\"Channels in {base}\", leave=False):\n",
    "                    var_name = f\"Rrs_{int(round(wl))}\"\n",
    "                    if var_name not in rrs_ds:\n",
    "                        continue\n",
    "                    band = rrs_ds[var_name].values\n",
    "                    mask = (\n",
    "                        np.isfinite(band) &\n",
    "                        (lat >= bbox[1]) & (lat <= bbox[3]) &\n",
    "                        (lon >= bbox[0]) & (lon <= bbox[2])\n",
    "                    )\n",
    "                    lat_valid = lat[mask]\n",
    "                    lon_valid = lon[mask]\n",
    "                    val_valid = band[mask]\n",
    "\n",
    "                    lat_idx = np.searchsorted(lat_bins, lat_valid) - 1\n",
    "                    lon_idx = np.searchsorted(lon_bins, lon_valid) - 1\n",
    "\n",
    "                    lat_idx_all.extend(lat_idx)\n",
    "                    lon_idx_all.extend(lon_idx)\n",
    "                    ch_idx_all.extend([ch_idx] * len(val_valid))\n",
    "                    val_all.extend(val_valid)\n",
    "\n",
    "                np.savez_compressed(cache_file,\n",
    "                                    lat_idx=np.array(lat_idx_all, dtype=np.int16),\n",
    "                                    lon_idx=np.array(lon_idx_all, dtype=np.int16),\n",
    "                                    ch_idx=np.array(ch_idx_all, dtype=np.int16),\n",
    "                                    val=np.array(val_all, dtype=np.float32))\n",
    "                print(f\"Cached data to {cache_file}\")\n",
    "\n",
    "            except Exception as e:\n",
    "                print(f\"Failed to process {path}: {e}\")\n",
    "                continue\n",
    "        else:\n",
    "            print(f\"Using cached data for {base}\")\n",
    "\n",
    "        # Load from cache\n",
    "        data = np.load(cache_file)\n",
    "        lat_idx = data['lat_idx']\n",
    "        lon_idx = data['lon_idx']\n",
    "        ch_idx = data['ch_idx']\n",
    "        val = data['val']\n",
    "\n",
    "        for j in range(len(val)):\n",
    "            if 0 <= lat_idx[j] < nlat and 0 <= lon_idx[j] < nlon:\n",
    "                sum_all[ch_idx[j], lat_idx[j], lon_idx[j]] += val[j] * weight\n",
    "                weight_all[ch_idx[j], lat_idx[j], lon_idx[j]] += weight\n",
    "\n",
    "    # Finalize average\n",
    "    with np.errstate(invalid=\"ignore\", divide=\"ignore\"):\n",
    "        avg_all = sum_all / weight_all\n",
    "        avg_all[weight_all == 0] = np.nan\n",
    "\n",
    "    ndarray_all[day_idx] = np.transpose(avg_all, (1, 2, 0))\n",
    "\n",
    "    # Delete old files\n",
    "    delete_date = (current_date - timedelta(days=window_size)).strftime('%Y%m%d')\n",
    "    for fname in os.listdir(\"../Data/\"):\n",
    "        if delete_date in fname and fname.endswith(\".nc\"):\n",
    "            try:\n",
    "                os.remove(os.path.join(\"../Data/\", fname))\n",
    "                print(f\"Deleted old file: {fname}\")\n",
    "            except Exception as e:\n",
    "                print(f\"Could not delete {fname}: {e}\")"
   ]
  },
  {
   "cell_type": "code",
   "execution_count": 15,
   "id": "539daace-f6bd-44fe-981c-831338e298e7",
   "metadata": {},
   "outputs": [
    {
     "name": "stdout",
     "output_type": "stream",
     "text": [
      "\n",
      "Saved full 4D composite data array to '../Composite_Data/composite_data_MODIS.npy'.\n",
      "Saved metadata (wavelengths, lat, lon) to '../Composite_Data/composite_metadata_MODIS.pkl'.\n"
     ]
    }
   ],
   "source": [
    "# Save results\n",
    "np.save(\"../Composite_Data/composite_data_MODIS.npy\", ndarray_all)\n",
    "print(\"\\nSaved full 4D composite data array to '../Composite_Data/composite_data_MODIS.npy'.\")\n",
    "\n",
    "metadata = {\"wavelengths\": wave_all, \"lat\": lat_centers, \"lon\": lon_centers}\n",
    "with open(\"../Composite_Data/composite_metadata_MODIS.pkl\", \"wb\") as f:\n",
    "    pickle.dump(metadata, f)\n",
    "print(\"Saved metadata (wavelengths, lat, lon) to '../Composite_Data/composite_metadata_MODIS.pkl'.\")"
   ]
  },
  {
   "cell_type": "code",
   "execution_count": null,
   "id": "7879ceb5-49a2-40b5-bef4-600492635c96",
   "metadata": {},
   "outputs": [],
   "source": []
  }
 ],
 "metadata": {
  "kernelspec": {
   "display_name": "Python 3 (ipykernel)",
   "language": "python",
   "name": "python3"
  },
  "language_info": {
   "codemirror_mode": {
    "name": "ipython",
    "version": 3
   },
   "file_extension": ".py",
   "mimetype": "text/x-python",
   "name": "python",
   "nbconvert_exporter": "python",
   "pygments_lexer": "ipython3",
   "version": "3.11.2"
  }
 },
 "nbformat": 4,
 "nbformat_minor": 5
}
