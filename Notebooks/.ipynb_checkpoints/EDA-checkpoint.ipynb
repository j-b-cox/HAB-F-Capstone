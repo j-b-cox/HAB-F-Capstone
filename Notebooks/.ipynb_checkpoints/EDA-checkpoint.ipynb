{
 "cells": [
  {
   "cell_type": "code",
   "execution_count": 29,
   "id": "5b2d9896-4018-4edb-8308-3858765d57b9",
   "metadata": {
    "scrolled": true
   },
   "outputs": [
    {
     "name": "stdout",
     "output_type": "stream",
     "text": [
      "Processing 2024-05-13 to 2024-05-17\n"
     ]
    },
    {
     "name": "stderr",
     "output_type": "stream",
     "text": [
      "QUEUEING TASKS | : 100%|████████████████████████| 9/9 [00:00<00:00, 1042.49it/s]\n",
      "PROCESSING TASKS | : 100%|████████████████████████| 9/9 [00:05<00:00,  1.61it/s]\n",
      "COLLECTING RESULTS | : 100%|███████████████████| 9/9 [00:00<00:00, 63980.91it/s]\n"
     ]
    },
    {
     "name": "stdout",
     "output_type": "stream",
     "text": [
      "Saved ../Images/composite_20240517.png\n",
      "Processing 2024-05-14 to 2024-05-18\n"
     ]
    },
    {
     "name": "stderr",
     "output_type": "stream",
     "text": [
      "QUEUEING TASKS | : 100%|████████████████████████| 9/9 [00:00<00:00, 3614.39it/s]\n",
      "PROCESSING TASKS | : 100%|█████████████████████| 9/9 [00:00<00:00, 49474.10it/s]\n",
      "COLLECTING RESULTS | : 100%|███████████████████| 9/9 [00:00<00:00, 62497.91it/s]\n"
     ]
    },
    {
     "name": "stdout",
     "output_type": "stream",
     "text": [
      "Saved ../Images/composite_20240518.png\n",
      "Processing 2024-05-15 to 2024-05-19\n"
     ]
    },
    {
     "name": "stderr",
     "output_type": "stream",
     "text": [
      "QUEUEING TASKS | : 100%|████████████████████████| 9/9 [00:00<00:00, 4459.92it/s]\n",
      "PROCESSING TASKS | : 100%|████████████████████████| 9/9 [00:05<00:00,  1.70it/s]\n",
      "COLLECTING RESULTS | : 100%|██████████████████| 9/9 [00:00<00:00, 106035.78it/s]\n"
     ]
    },
    {
     "name": "stdout",
     "output_type": "stream",
     "text": [
      "Saved ../Images/composite_20240519.png\n",
      "Processing 2024-05-16 to 2024-05-20\n"
     ]
    },
    {
     "name": "stderr",
     "output_type": "stream",
     "text": [
      "QUEUEING TASKS | : 100%|████████████████████████| 8/8 [00:00<00:00, 2720.04it/s]\n",
      "PROCESSING TASKS | : 100%|████████████████████████| 8/8 [00:05<00:00,  1.45it/s]\n",
      "COLLECTING RESULTS | : 100%|███████████████████| 8/8 [00:00<00:00, 64652.08it/s]\n"
     ]
    },
    {
     "name": "stdout",
     "output_type": "stream",
     "text": [
      "Saved ../Images/composite_20240520.png\n",
      "Processing 2024-05-17 to 2024-05-21\n"
     ]
    },
    {
     "name": "stderr",
     "output_type": "stream",
     "text": [
      "QUEUEING TASKS | : 100%|████████████████████████| 8/8 [00:00<00:00, 3512.08it/s]\n",
      "PROCESSING TASKS | : 100%|████████████████████████| 8/8 [00:12<00:00,  1.56s/it]\n",
      "COLLECTING RESULTS | : 100%|███████████████████| 8/8 [00:00<00:00, 10433.59it/s]\n"
     ]
    },
    {
     "name": "stdout",
     "output_type": "stream",
     "text": [
      "Saved ../Images/composite_20240521.png\n",
      "Processing 2024-05-18 to 2024-05-22\n"
     ]
    },
    {
     "name": "stderr",
     "output_type": "stream",
     "text": [
      "QUEUEING TASKS | : 100%|████████████████████████| 8/8 [00:00<00:00, 3081.78it/s]\n",
      "PROCESSING TASKS | : 100%|████████████████████████| 8/8 [00:11<00:00,  1.40s/it]\n",
      "COLLECTING RESULTS | : 100%|███████████████████| 8/8 [00:00<00:00, 27413.75it/s]\n"
     ]
    },
    {
     "name": "stdout",
     "output_type": "stream",
     "text": [
      "Saved ../Images/composite_20240522.png\n",
      "Processing 2024-05-19 to 2024-05-23\n"
     ]
    },
    {
     "name": "stderr",
     "output_type": "stream",
     "text": [
      "QUEUEING TASKS | : 100%|████████████████████████| 7/7 [00:00<00:00, 6044.91it/s]\n",
      "PROCESSING TASKS | : 100%|████████████████████████| 7/7 [00:06<00:00,  1.03it/s]\n",
      "COLLECTING RESULTS | : 100%|███████████████████| 7/7 [00:00<00:00, 67963.26it/s]\n"
     ]
    },
    {
     "name": "stdout",
     "output_type": "stream",
     "text": [
      "Saved ../Images/composite_20240523.png\n",
      "Processing 2024-05-20 to 2024-05-24\n"
     ]
    },
    {
     "name": "stderr",
     "output_type": "stream",
     "text": [
      "QUEUEING TASKS | : 100%|████████████████████████| 8/8 [00:00<00:00, 2145.97it/s]\n",
      "PROCESSING TASKS | : 100%|████████████████████████| 8/8 [00:11<00:00,  1.48s/it]\n",
      "COLLECTING RESULTS | : 100%|███████████████████| 8/8 [00:00<00:00, 67786.73it/s]\n"
     ]
    },
    {
     "name": "stdout",
     "output_type": "stream",
     "text": [
      "Saved ../Images/composite_20240524.png\n",
      "Processing 2024-05-21 to 2024-05-25\n"
     ]
    },
    {
     "name": "stderr",
     "output_type": "stream",
     "text": [
      "QUEUEING TASKS | : 100%|████████████████████████| 7/7 [00:00<00:00, 3472.11it/s]\n",
      "PROCESSING TASKS | : 100%|█████████████████████| 7/7 [00:00<00:00, 26618.43it/s]\n",
      "COLLECTING RESULTS | : 100%|███████████████████| 7/7 [00:00<00:00, 32878.08it/s]\n"
     ]
    },
    {
     "name": "stdout",
     "output_type": "stream",
     "text": [
      "Saved ../Images/composite_20240525.png\n",
      "Processing 2024-05-22 to 2024-05-26\n"
     ]
    },
    {
     "name": "stderr",
     "output_type": "stream",
     "text": [
      "QUEUEING TASKS | : 100%|████████████████████████| 4/4 [00:00<00:00, 3625.94it/s]\n",
      "PROCESSING TASKS | : 100%|█████████████████████| 4/4 [00:00<00:00, 17924.38it/s]\n",
      "COLLECTING RESULTS | : 100%|███████████████████| 4/4 [00:00<00:00, 31476.95it/s]\n"
     ]
    },
    {
     "name": "stdout",
     "output_type": "stream",
     "text": [
      "Saved ../Images/composite_20240526.png\n",
      "Processing 2024-05-23 to 2024-05-27\n"
     ]
    },
    {
     "name": "stderr",
     "output_type": "stream",
     "text": [
      "QUEUEING TASKS | : 100%|████████████████████████| 3/3 [00:00<00:00, 1668.38it/s]\n",
      "PROCESSING TASKS | : 100%|██████████████████████| 3/3 [00:00<00:00, 7958.83it/s]\n",
      "COLLECTING RESULTS | : 100%|████████████████████| 3/3 [00:00<00:00, 3783.20it/s]\n"
     ]
    },
    {
     "name": "stdout",
     "output_type": "stream",
     "text": [
      "Saved ../Images/composite_20240527.png\n",
      "Processing 2024-05-24 to 2024-05-28\n"
     ]
    },
    {
     "name": "stderr",
     "output_type": "stream",
     "text": [
      "QUEUEING TASKS | : 100%|████████████████████████| 2/2 [00:00<00:00, 1980.31it/s]\n",
      "PROCESSING TASKS | : 100%|█████████████████████| 2/2 [00:00<00:00, 14614.30it/s]\n",
      "COLLECTING RESULTS | : 100%|███████████████████| 2/2 [00:00<00:00, 23237.14it/s]\n"
     ]
    },
    {
     "name": "stdout",
     "output_type": "stream",
     "text": [
      "Saved ../Images/composite_20240528.png\n",
      "Processing 2024-05-25 to 2024-05-29\n"
     ]
    },
    {
     "ename": "ValueError",
     "evalue": "List of URLs or DataGranule instances expected",
     "output_type": "error",
     "traceback": [
      "\u001b[0;31m---------------------------------------------------------------------------\u001b[0m",
      "\u001b[0;31mValueError\u001b[0m                                Traceback (most recent call last)",
      "Cell \u001b[0;32mIn[29], line 51\u001b[0m\n\u001b[1;32m     44\u001b[0m \u001b[38;5;28mprint\u001b[39m(\u001b[38;5;124mf\u001b[39m\u001b[38;5;124m\"\u001b[39m\u001b[38;5;124mProcessing \u001b[39m\u001b[38;5;132;01m{\u001b[39;00mt0\u001b[38;5;241m.\u001b[39mdate()\u001b[38;5;132;01m}\u001b[39;00m\u001b[38;5;124m to \u001b[39m\u001b[38;5;132;01m{\u001b[39;00mt1\u001b[38;5;241m.\u001b[39mdate()\u001b[38;5;132;01m}\u001b[39;00m\u001b[38;5;124m\"\u001b[39m)\n\u001b[1;32m     46\u001b[0m results \u001b[38;5;241m=\u001b[39m earthaccess\u001b[38;5;241m.\u001b[39msearch_data(\n\u001b[1;32m     47\u001b[0m     short_name\u001b[38;5;241m=\u001b[39m\u001b[38;5;124m\"\u001b[39m\u001b[38;5;124mPACE_OCI_L2_AOP\u001b[39m\u001b[38;5;124m\"\u001b[39m,\n\u001b[1;32m     48\u001b[0m     temporal\u001b[38;5;241m=\u001b[39m(t0\u001b[38;5;241m.\u001b[39mstrftime(\u001b[38;5;124m\"\u001b[39m\u001b[38;5;124m%\u001b[39m\u001b[38;5;124mY-\u001b[39m\u001b[38;5;124m%\u001b[39m\u001b[38;5;124mm-\u001b[39m\u001b[38;5;132;01m%d\u001b[39;00m\u001b[38;5;124m\"\u001b[39m), t1\u001b[38;5;241m.\u001b[39mstrftime(\u001b[38;5;124m\"\u001b[39m\u001b[38;5;124m%\u001b[39m\u001b[38;5;124mY-\u001b[39m\u001b[38;5;124m%\u001b[39m\u001b[38;5;124mm-\u001b[39m\u001b[38;5;132;01m%d\u001b[39;00m\u001b[38;5;124m\"\u001b[39m)),\n\u001b[1;32m     49\u001b[0m     bounding_box\u001b[38;5;241m=\u001b[39mbbox,\n\u001b[1;32m     50\u001b[0m )\n\u001b[0;32m---> 51\u001b[0m paths \u001b[38;5;241m=\u001b[39m \u001b[43mearthaccess\u001b[49m\u001b[38;5;241;43m.\u001b[39;49m\u001b[43mdownload\u001b[49m\u001b[43m(\u001b[49m\u001b[43mresults\u001b[49m\u001b[43m,\u001b[49m\u001b[43m \u001b[49m\u001b[43mdata_dir\u001b[49m\u001b[43m)\u001b[49m\n\u001b[1;32m     53\u001b[0m \u001b[38;5;28;01mif\u001b[39;00m \u001b[38;5;129;01mnot\u001b[39;00m paths:\n\u001b[1;32m     54\u001b[0m     \u001b[38;5;28mprint\u001b[39m(\u001b[38;5;124m\"\u001b[39m\u001b[38;5;124mNo data found, skipping.\u001b[39m\u001b[38;5;124m\"\u001b[39m)\n",
      "File \u001b[0;32m~/.pyenv/versions/3.11.2/lib/python3.11/site-packages/earthaccess/api.py:270\u001b[0m, in \u001b[0;36mdownload\u001b[0;34m(granules, local_path, provider, threads, pqdm_kwargs)\u001b[0m\n\u001b[1;32m    267\u001b[0m     granules \u001b[38;5;241m=\u001b[39m [granules]\n\u001b[1;32m    269\u001b[0m \u001b[38;5;28;01mtry\u001b[39;00m:\n\u001b[0;32m--> 270\u001b[0m     \u001b[38;5;28;01mreturn\u001b[39;00m \u001b[43mearthaccess\u001b[49m\u001b[38;5;241;43m.\u001b[39;49m\u001b[43m__store__\u001b[49m\u001b[38;5;241;43m.\u001b[39;49m\u001b[43mget\u001b[49m\u001b[43m(\u001b[49m\n\u001b[1;32m    271\u001b[0m \u001b[43m        \u001b[49m\u001b[43mgranules\u001b[49m\u001b[43m,\u001b[49m\u001b[43m \u001b[49m\u001b[43mlocal_path\u001b[49m\u001b[43m,\u001b[49m\u001b[43m \u001b[49m\u001b[43mprovider\u001b[49m\u001b[43m,\u001b[49m\u001b[43m \u001b[49m\u001b[43mthreads\u001b[49m\u001b[43m,\u001b[49m\u001b[43m \u001b[49m\u001b[43mpqdm_kwargs\u001b[49m\u001b[38;5;241;43m=\u001b[39;49m\u001b[43mpqdm_kwargs\u001b[49m\n\u001b[1;32m    272\u001b[0m \u001b[43m    \u001b[49m\u001b[43m)\u001b[49m\n\u001b[1;32m    273\u001b[0m \u001b[38;5;28;01mexcept\u001b[39;00m \u001b[38;5;167;01mAttributeError\u001b[39;00m \u001b[38;5;28;01mas\u001b[39;00m err:\n\u001b[1;32m    274\u001b[0m     logger\u001b[38;5;241m.\u001b[39merror(\n\u001b[1;32m    275\u001b[0m         \u001b[38;5;124mf\u001b[39m\u001b[38;5;124m\"\u001b[39m\u001b[38;5;132;01m{\u001b[39;00merr\u001b[38;5;132;01m}\u001b[39;00m\u001b[38;5;124m: You must call earthaccess.login() before you can download data\u001b[39m\u001b[38;5;124m\"\u001b[39m\n\u001b[1;32m    276\u001b[0m     )\n",
      "File \u001b[0;32m~/.pyenv/versions/3.11.2/lib/python3.11/site-packages/earthaccess/store.py:523\u001b[0m, in \u001b[0;36mStore.get\u001b[0;34m(self, granules, local_path, provider, threads, pqdm_kwargs)\u001b[0m\n\u001b[1;32m    496\u001b[0m \u001b[38;5;250m\u001b[39m\u001b[38;5;124;03m\"\"\"Retrieves data granules from a remote storage system.\u001b[39;00m\n\u001b[1;32m    497\u001b[0m \n\u001b[1;32m    498\u001b[0m \u001b[38;5;124;03m   * If we run this in the cloud,\u001b[39;00m\n\u001b[0;32m   (...)\u001b[0m\n\u001b[1;32m    520\u001b[0m \u001b[38;5;124;03m    List of downloaded files\u001b[39;00m\n\u001b[1;32m    521\u001b[0m \u001b[38;5;124;03m\"\"\"\u001b[39;00m\n\u001b[1;32m    522\u001b[0m \u001b[38;5;28;01mif\u001b[39;00m \u001b[38;5;129;01mnot\u001b[39;00m granules:\n\u001b[0;32m--> 523\u001b[0m     \u001b[38;5;28;01mraise\u001b[39;00m \u001b[38;5;167;01mValueError\u001b[39;00m(\u001b[38;5;124m\"\u001b[39m\u001b[38;5;124mList of URLs or DataGranule instances expected\u001b[39m\u001b[38;5;124m\"\u001b[39m)\n\u001b[1;32m    525\u001b[0m \u001b[38;5;28;01mif\u001b[39;00m local_path \u001b[38;5;129;01mis\u001b[39;00m \u001b[38;5;28;01mNone\u001b[39;00m:\n\u001b[1;32m    526\u001b[0m     today \u001b[38;5;241m=\u001b[39m datetime\u001b[38;5;241m.\u001b[39mdatetime\u001b[38;5;241m.\u001b[39mnow()\u001b[38;5;241m.\u001b[39mstrftime(\u001b[38;5;124m\"\u001b[39m\u001b[38;5;124m%\u001b[39m\u001b[38;5;124mY-\u001b[39m\u001b[38;5;124m%\u001b[39m\u001b[38;5;124mm-\u001b[39m\u001b[38;5;132;01m%d\u001b[39;00m\u001b[38;5;124m\"\u001b[39m)\n",
      "\u001b[0;31mValueError\u001b[0m: List of URLs or DataGranule instances expected"
     ]
    }
   ],
   "source": [
    "import os\n",
    "import shutil\n",
    "import numpy as np\n",
    "import matplotlib.pyplot as plt\n",
    "import xarray as xr\n",
    "import earthaccess\n",
    "from datetime import datetime, timedelta\n",
    "\n",
    "# Authenticate\n",
    "auth = earthaccess.login(persist=True)\n",
    "\n",
    "# Parameters\n",
    "selected_wavelengths = [645, 555, 450]\n",
    "bbox = (-83.62, 41.34, -82, 42.27)\n",
    "res = 0.01\n",
    "\n",
    "# Output directories\n",
    "data_dir = \"../Data/\"\n",
    "image_dir = \"../Images/\"\n",
    "os.makedirs(data_dir, exist_ok=True)\n",
    "os.makedirs(image_dir, exist_ok=True)\n",
    "\n",
    "# Date range\n",
    "start_date = datetime(2024, 5, 17)\n",
    "end_date = datetime(2025, 5, 23)\n",
    "\n",
    "# Output grid\n",
    "lat_bins = np.arange(bbox[1], bbox[3] + res, res)\n",
    "lon_bins = np.arange(bbox[0], bbox[2] + res, res)\n",
    "lat_centers = 0.5 * (lat_bins[:-1] + lat_bins[1:])\n",
    "lon_centers = 0.5 * (lon_bins[:-1] + lon_bins[1:])\n",
    "nlat, nlon = len(lat_centers), len(lon_centers)\n",
    "\n",
    "# Normalize function\n",
    "def normalize(arr, vmin=0, vmax=0.03):\n",
    "    return np.clip((arr - vmin) / (vmax - vmin), 0, 1)\n",
    "\n",
    "# Main loop\n",
    "current_date = start_date\n",
    "while current_date <= end_date:\n",
    "    t0 = current_date - timedelta(days=4)\n",
    "    t1 = current_date\n",
    "\n",
    "    print(f\"Processing {t0.date()} to {t1.date()}\")\n",
    "\n",
    "    results = earthaccess.search_data(\n",
    "        short_name=\"PACE_OCI_L2_AOP\",\n",
    "        temporal=(window_start.strftime(\"%Y-%m-%d\"), window_end.strftime(\"%Y-%m-%d\")),\n",
    "        bounding_box=bbox,\n",
    "    )\n",
    "    \n",
    "    if not results:\n",
    "        print(f\"No data for {window_end.strftime('%Y-%m-%d')}. Skipping.\")\n",
    "        current_date += timedelta(days=1)\n",
    "        continue\n",
    "        \n",
    "    paths = earthaccess.download(results, data_dir)\n",
    "\n",
    "    if not paths:\n",
    "        print(\"No data found, skipping.\")\n",
    "        current_date += timedelta(days=1)\n",
    "        continue\n",
    "\n",
    "    sum_rgb = np.zeros((3, nlat, nlon))\n",
    "    count_rgb = np.zeros((3, nlat, nlon))\n",
    "\n",
    "    wave = xr.open_dataset(paths[0], group=\"sensor_band_parameters\")['wavelength_3d'].data\n",
    "\n",
    "    for path in paths:\n",
    "        try:\n",
    "            rrs_ds = xr.open_dataset(path, group=\"geophysical_data\")[\"Rrs\"]\n",
    "            rrs_ds = rrs_ds.assign_coords(wavelength_3d=wave)\n",
    "\n",
    "            nav = xr.open_dataset(path, group=\"navigation_data\")\n",
    "            lat = nav[\"latitude\"].values\n",
    "            lon = nav[\"longitude\"].values\n",
    "\n",
    "            for b, wl in enumerate(selected_wavelengths):\n",
    "                band = rrs_ds.sel(wavelength_3d=wl, method=\"nearest\").values\n",
    "                mask = (\n",
    "                    np.isfinite(band) &\n",
    "                    (lat >= bbox[1]) & (lat <= bbox[3]) &\n",
    "                    (lon >= bbox[0]) & (lon <= bbox[2])\n",
    "                )\n",
    "                lat_valid = lat[mask]\n",
    "                lon_valid = lon[mask]\n",
    "                val_valid = band[mask]\n",
    "\n",
    "                lat_idx = np.searchsorted(lat_bins, lat_valid) - 1\n",
    "                lon_idx = np.searchsorted(lon_bins, lon_valid) - 1\n",
    "\n",
    "                for j in range(len(val_valid)):\n",
    "                    if 0 <= lat_idx[j] < nlat and 0 <= lon_idx[j] < nlon:\n",
    "                        sum_rgb[b, lat_idx[j], lon_idx[j]] += val_valid[j]\n",
    "                        count_rgb[b, lat_idx[j], lon_idx[j]] += 1\n",
    "        except Exception as e:\n",
    "            print(f\"Failed to process {path}: {e}\")\n",
    "\n",
    "    with np.errstate(invalid='ignore', divide='ignore'):\n",
    "        mean_rgb = sum_rgb / count_rgb\n",
    "        mean_rgb = np.nan_to_num(mean_rgb, nan=0.0)\n",
    "\n",
    "    r = normalize(mean_rgb[0])\n",
    "    g = normalize(mean_rgb[1])\n",
    "    b = normalize(mean_rgb[2])\n",
    "    rgb = np.stack([r, g, b], axis=-1)\n",
    "\n",
    "    # Save image\n",
    "    plt.figure(figsize=(10, 6))\n",
    "    plt.imshow(rgb, origin=\"lower\", extent=[bbox[0], bbox[2], bbox[1], bbox[3]])\n",
    "    plt.title(f\"True Color Composite: {t0.date()} to {t1.date()}\")\n",
    "    plt.xlabel(\"Longitude\")\n",
    "    plt.ylabel(\"Latitude\")\n",
    "    plt.tight_layout()\n",
    "\n",
    "    outfile = os.path.join(image_dir, f\"composite_{t1.strftime('%Y%m%d')}.png\")\n",
    "    plt.savefig(outfile, dpi=150)\n",
    "    plt.close()\n",
    "    print(f\"Saved {outfile}\")\n",
    "\n",
    "    # Clean up only files from the earliest date in the current window\n",
    "    oldest_date = current_date - timedelta(days=4)\n",
    "    oldest_str = oldest_date.strftime(\"%Y%m%d\")\n",
    "    \n",
    "    data_dir = \"../Data/\"\n",
    "    for filename in os.listdir(data_dir):\n",
    "        if oldest_str in filename:\n",
    "            os.remove(os.path.join(data_dir, filename))\n",
    "\n",
    "    current_date += timedelta(days=1)\n"
   ]
  },
  {
   "cell_type": "code",
   "execution_count": 17,
   "id": "24ad901c-018e-4f84-ac10-ac1d24a13f33",
   "metadata": {},
   "outputs": [
    {
     "data": {
      "text/plain": [
       "array([[0., 0., 0., ..., 0., 0., 0.],\n",
       "       [0., 0., 0., ..., 0., 0., 0.],\n",
       "       [0., 0., 0., ..., 0., 0., 0.],\n",
       "       ...,\n",
       "       [0., 0., 0., ..., 0., 0., 0.],\n",
       "       [0., 0., 0., ..., 0., 1., 0.],\n",
       "       [0., 0., 0., ..., 0., 0., 0.]])"
      ]
     },
     "execution_count": 17,
     "metadata": {},
     "output_type": "execute_result"
    }
   ],
   "source": [
    "alpha"
   ]
  },
  {
   "cell_type": "code",
   "execution_count": null,
   "id": "be17e289-34f7-495b-a54d-b72a044f0427",
   "metadata": {},
   "outputs": [],
   "source": []
  }
 ],
 "metadata": {
  "kernelspec": {
   "display_name": "Python 3 (ipykernel)",
   "language": "python",
   "name": "python3"
  },
  "language_info": {
   "codemirror_mode": {
    "name": "ipython",
    "version": 3
   },
   "file_extension": ".py",
   "mimetype": "text/x-python",
   "name": "python",
   "nbconvert_exporter": "python",
   "pygments_lexer": "ipython3",
   "version": "3.11.2"
  }
 },
 "nbformat": 4,
 "nbformat_minor": 5
}
