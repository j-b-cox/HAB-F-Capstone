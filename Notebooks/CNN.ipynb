{
 "cells": [
  {
   "cell_type": "code",
   "execution_count": 1,
   "id": "e21aefe1-4bb6-4f61-9557-b68d57542952",
   "metadata": {},
   "outputs": [],
   "source": [
    "dataset_path    = \"../LabelData/dataset.npy\""
   ]
  },
  {
   "cell_type": "code",
   "execution_count": 2,
   "id": "9384b6f9-d835-4f14-ae03-23b5f58dcb52",
   "metadata": {
    "scrolled": true
   },
   "outputs": [
    {
     "name": "stdout",
     "output_type": "stream",
     "text": [
      "Dropping 279 / 833 images (≥95% blank)\n"
     ]
    },
    {
     "data": {
      "text/html": [
       "<pre style=\"white-space:pre;overflow-x:auto;line-height:normal;font-family:Menlo,'DejaVu Sans Mono',consolas,'Courier New',monospace\"><span style=\"font-weight: bold\">Model: \"functional\"</span>\n",
       "</pre>\n"
      ],
      "text/plain": [
       "\u001b[1mModel: \"functional\"\u001b[0m\n"
      ]
     },
     "metadata": {},
     "output_type": "display_data"
    },
    {
     "data": {
      "text/html": [
       "<pre style=\"white-space:pre;overflow-x:auto;line-height:normal;font-family:Menlo,'DejaVu Sans Mono',consolas,'Courier New',monospace\">┏━━━━━━━━━━━━━━━━━━━━━━━━━━━━━━━━━┳━━━━━━━━━━━━━━━━━━━━━━━━┳━━━━━━━━━━━━━━━┓\n",
       "┃<span style=\"font-weight: bold\"> Layer (type)                    </span>┃<span style=\"font-weight: bold\"> Output Shape           </span>┃<span style=\"font-weight: bold\">       Param # </span>┃\n",
       "┡━━━━━━━━━━━━━━━━━━━━━━━━━━━━━━━━━╇━━━━━━━━━━━━━━━━━━━━━━━━╇━━━━━━━━━━━━━━━┩\n",
       "│ input_layer (<span style=\"color: #0087ff; text-decoration-color: #0087ff\">InputLayer</span>)        │ (<span style=\"color: #00d7ff; text-decoration-color: #00d7ff\">None</span>, <span style=\"color: #00af00; text-decoration-color: #00af00\">10</span>, <span style=\"color: #00af00; text-decoration-color: #00af00\">10</span>, <span style=\"color: #00af00; text-decoration-color: #00af00\">20</span>)     │             <span style=\"color: #00af00; text-decoration-color: #00af00\">0</span> │\n",
       "├─────────────────────────────────┼────────────────────────┼───────────────┤\n",
       "│ conv2d (<span style=\"color: #0087ff; text-decoration-color: #0087ff\">Conv2D</span>)                 │ (<span style=\"color: #00d7ff; text-decoration-color: #00d7ff\">None</span>, <span style=\"color: #00af00; text-decoration-color: #00af00\">10</span>, <span style=\"color: #00af00; text-decoration-color: #00af00\">10</span>, <span style=\"color: #00af00; text-decoration-color: #00af00\">32</span>)     │         <span style=\"color: #00af00; text-decoration-color: #00af00\">5,792</span> │\n",
       "├─────────────────────────────────┼────────────────────────┼───────────────┤\n",
       "│ conv2d_1 (<span style=\"color: #0087ff; text-decoration-color: #0087ff\">Conv2D</span>)               │ (<span style=\"color: #00d7ff; text-decoration-color: #00d7ff\">None</span>, <span style=\"color: #00af00; text-decoration-color: #00af00\">10</span>, <span style=\"color: #00af00; text-decoration-color: #00af00\">10</span>, <span style=\"color: #00af00; text-decoration-color: #00af00\">64</span>)     │        <span style=\"color: #00af00; text-decoration-color: #00af00\">18,496</span> │\n",
       "├─────────────────────────────────┼────────────────────────┼───────────────┤\n",
       "│ reshape (<span style=\"color: #0087ff; text-decoration-color: #0087ff\">Reshape</span>)               │ (<span style=\"color: #00d7ff; text-decoration-color: #00d7ff\">None</span>, <span style=\"color: #00af00; text-decoration-color: #00af00\">100</span>, <span style=\"color: #00af00; text-decoration-color: #00af00\">64</span>)        │             <span style=\"color: #00af00; text-decoration-color: #00af00\">0</span> │\n",
       "├─────────────────────────────────┼────────────────────────┼───────────────┤\n",
       "│ dense (<span style=\"color: #0087ff; text-decoration-color: #0087ff\">Dense</span>)                   │ (<span style=\"color: #00d7ff; text-decoration-color: #00d7ff\">None</span>, <span style=\"color: #00af00; text-decoration-color: #00af00\">100</span>, <span style=\"color: #00af00; text-decoration-color: #00af00\">128</span>)       │         <span style=\"color: #00af00; text-decoration-color: #00af00\">8,320</span> │\n",
       "├─────────────────────────────────┼────────────────────────┼───────────────┤\n",
       "│ global_max_pooling1d            │ (<span style=\"color: #00d7ff; text-decoration-color: #00d7ff\">None</span>, <span style=\"color: #00af00; text-decoration-color: #00af00\">128</span>)            │             <span style=\"color: #00af00; text-decoration-color: #00af00\">0</span> │\n",
       "│ (<span style=\"color: #0087ff; text-decoration-color: #0087ff\">GlobalMaxPooling1D</span>)            │                        │               │\n",
       "├─────────────────────────────────┼────────────────────────┼───────────────┤\n",
       "│ dense_1 (<span style=\"color: #0087ff; text-decoration-color: #0087ff\">Dense</span>)                 │ (<span style=\"color: #00d7ff; text-decoration-color: #00d7ff\">None</span>, <span style=\"color: #00af00; text-decoration-color: #00af00\">5</span>)              │           <span style=\"color: #00af00; text-decoration-color: #00af00\">645</span> │\n",
       "└─────────────────────────────────┴────────────────────────┴───────────────┘\n",
       "</pre>\n"
      ],
      "text/plain": [
       "┏━━━━━━━━━━━━━━━━━━━━━━━━━━━━━━━━━┳━━━━━━━━━━━━━━━━━━━━━━━━┳━━━━━━━━━━━━━━━┓\n",
       "┃\u001b[1m \u001b[0m\u001b[1mLayer (type)                   \u001b[0m\u001b[1m \u001b[0m┃\u001b[1m \u001b[0m\u001b[1mOutput Shape          \u001b[0m\u001b[1m \u001b[0m┃\u001b[1m \u001b[0m\u001b[1m      Param #\u001b[0m\u001b[1m \u001b[0m┃\n",
       "┡━━━━━━━━━━━━━━━━━━━━━━━━━━━━━━━━━╇━━━━━━━━━━━━━━━━━━━━━━━━╇━━━━━━━━━━━━━━━┩\n",
       "│ input_layer (\u001b[38;5;33mInputLayer\u001b[0m)        │ (\u001b[38;5;45mNone\u001b[0m, \u001b[38;5;34m10\u001b[0m, \u001b[38;5;34m10\u001b[0m, \u001b[38;5;34m20\u001b[0m)     │             \u001b[38;5;34m0\u001b[0m │\n",
       "├─────────────────────────────────┼────────────────────────┼───────────────┤\n",
       "│ conv2d (\u001b[38;5;33mConv2D\u001b[0m)                 │ (\u001b[38;5;45mNone\u001b[0m, \u001b[38;5;34m10\u001b[0m, \u001b[38;5;34m10\u001b[0m, \u001b[38;5;34m32\u001b[0m)     │         \u001b[38;5;34m5,792\u001b[0m │\n",
       "├─────────────────────────────────┼────────────────────────┼───────────────┤\n",
       "│ conv2d_1 (\u001b[38;5;33mConv2D\u001b[0m)               │ (\u001b[38;5;45mNone\u001b[0m, \u001b[38;5;34m10\u001b[0m, \u001b[38;5;34m10\u001b[0m, \u001b[38;5;34m64\u001b[0m)     │        \u001b[38;5;34m18,496\u001b[0m │\n",
       "├─────────────────────────────────┼────────────────────────┼───────────────┤\n",
       "│ reshape (\u001b[38;5;33mReshape\u001b[0m)               │ (\u001b[38;5;45mNone\u001b[0m, \u001b[38;5;34m100\u001b[0m, \u001b[38;5;34m64\u001b[0m)        │             \u001b[38;5;34m0\u001b[0m │\n",
       "├─────────────────────────────────┼────────────────────────┼───────────────┤\n",
       "│ dense (\u001b[38;5;33mDense\u001b[0m)                   │ (\u001b[38;5;45mNone\u001b[0m, \u001b[38;5;34m100\u001b[0m, \u001b[38;5;34m128\u001b[0m)       │         \u001b[38;5;34m8,320\u001b[0m │\n",
       "├─────────────────────────────────┼────────────────────────┼───────────────┤\n",
       "│ global_max_pooling1d            │ (\u001b[38;5;45mNone\u001b[0m, \u001b[38;5;34m128\u001b[0m)            │             \u001b[38;5;34m0\u001b[0m │\n",
       "│ (\u001b[38;5;33mGlobalMaxPooling1D\u001b[0m)            │                        │               │\n",
       "├─────────────────────────────────┼────────────────────────┼───────────────┤\n",
       "│ dense_1 (\u001b[38;5;33mDense\u001b[0m)                 │ (\u001b[38;5;45mNone\u001b[0m, \u001b[38;5;34m5\u001b[0m)              │           \u001b[38;5;34m645\u001b[0m │\n",
       "└─────────────────────────────────┴────────────────────────┴───────────────┘\n"
      ]
     },
     "metadata": {},
     "output_type": "display_data"
    },
    {
     "data": {
      "text/html": [
       "<pre style=\"white-space:pre;overflow-x:auto;line-height:normal;font-family:Menlo,'DejaVu Sans Mono',consolas,'Courier New',monospace\"><span style=\"font-weight: bold\"> Total params: </span><span style=\"color: #00af00; text-decoration-color: #00af00\">33,253</span> (129.89 KB)\n",
       "</pre>\n"
      ],
      "text/plain": [
       "\u001b[1m Total params: \u001b[0m\u001b[38;5;34m33,253\u001b[0m (129.89 KB)\n"
      ]
     },
     "metadata": {},
     "output_type": "display_data"
    },
    {
     "data": {
      "text/html": [
       "<pre style=\"white-space:pre;overflow-x:auto;line-height:normal;font-family:Menlo,'DejaVu Sans Mono',consolas,'Courier New',monospace\"><span style=\"font-weight: bold\"> Trainable params: </span><span style=\"color: #00af00; text-decoration-color: #00af00\">33,253</span> (129.89 KB)\n",
       "</pre>\n"
      ],
      "text/plain": [
       "\u001b[1m Trainable params: \u001b[0m\u001b[38;5;34m33,253\u001b[0m (129.89 KB)\n"
      ]
     },
     "metadata": {},
     "output_type": "display_data"
    },
    {
     "data": {
      "text/html": [
       "<pre style=\"white-space:pre;overflow-x:auto;line-height:normal;font-family:Menlo,'DejaVu Sans Mono',consolas,'Courier New',monospace\"><span style=\"font-weight: bold\"> Non-trainable params: </span><span style=\"color: #00af00; text-decoration-color: #00af00\">0</span> (0.00 B)\n",
       "</pre>\n"
      ],
      "text/plain": [
       "\u001b[1m Non-trainable params: \u001b[0m\u001b[38;5;34m0\u001b[0m (0.00 B)\n"
      ]
     },
     "metadata": {},
     "output_type": "display_data"
    },
    {
     "name": "stdout",
     "output_type": "stream",
     "text": [
      "Epoch 1/50\n",
      "\u001b[1m11/11\u001b[0m \u001b[32m━━━━━━━━━━━━━━━━━━━━\u001b[0m\u001b[37m\u001b[0m \u001b[1m1s\u001b[0m 17ms/step - auc: 0.7004 - loss: 0.5259 - val_auc: 0.7478 - val_loss: 0.4763 - learning_rate: 0.0010\n",
      "Epoch 2/50\n",
      "\u001b[1m11/11\u001b[0m \u001b[32m━━━━━━━━━━━━━━━━━━━━\u001b[0m\u001b[37m\u001b[0m \u001b[1m0s\u001b[0m 10ms/step - auc: 0.7918 - loss: 0.4286 - val_auc: 0.7624 - val_loss: 0.4490 - learning_rate: 0.0010\n",
      "Epoch 3/50\n",
      "\u001b[1m11/11\u001b[0m \u001b[32m━━━━━━━━━━━━━━━━━━━━\u001b[0m\u001b[37m\u001b[0m \u001b[1m0s\u001b[0m 10ms/step - auc: 0.7892 - loss: 0.4274 - val_auc: 0.7719 - val_loss: 0.4350 - learning_rate: 0.0010\n",
      "Epoch 4/50\n",
      "\u001b[1m11/11\u001b[0m \u001b[32m━━━━━━━━━━━━━━━━━━━━\u001b[0m\u001b[37m\u001b[0m \u001b[1m0s\u001b[0m 10ms/step - auc: 0.8220 - loss: 0.3992 - val_auc: 0.7756 - val_loss: 0.4338 - learning_rate: 0.0010\n",
      "Epoch 5/50\n",
      "\u001b[1m11/11\u001b[0m \u001b[32m━━━━━━━━━━━━━━━━━━━━\u001b[0m\u001b[37m\u001b[0m \u001b[1m0s\u001b[0m 12ms/step - auc: 0.8341 - loss: 0.3880 - val_auc: 0.7815 - val_loss: 0.4268 - learning_rate: 0.0010\n",
      "Epoch 6/50\n",
      "\u001b[1m11/11\u001b[0m \u001b[32m━━━━━━━━━━━━━━━━━━━━\u001b[0m\u001b[37m\u001b[0m \u001b[1m0s\u001b[0m 10ms/step - auc: 0.8499 - loss: 0.3755 - val_auc: 0.7844 - val_loss: 0.4282 - learning_rate: 0.0010\n",
      "Epoch 7/50\n",
      "\u001b[1m11/11\u001b[0m \u001b[32m━━━━━━━━━━━━━━━━━━━━\u001b[0m\u001b[37m\u001b[0m \u001b[1m0s\u001b[0m 10ms/step - auc: 0.8451 - loss: 0.3845 - val_auc: 0.7880 - val_loss: 0.4224 - learning_rate: 0.0010\n",
      "Epoch 8/50\n",
      "\u001b[1m11/11\u001b[0m \u001b[32m━━━━━━━━━━━━━━━━━━━━\u001b[0m\u001b[37m\u001b[0m \u001b[1m0s\u001b[0m 10ms/step - auc: 0.8732 - loss: 0.3546 - val_auc: 0.7858 - val_loss: 0.4208 - learning_rate: 0.0010\n",
      "Epoch 9/50\n",
      "\u001b[1m11/11\u001b[0m \u001b[32m━━━━━━━━━━━━━━━━━━━━\u001b[0m\u001b[37m\u001b[0m \u001b[1m0s\u001b[0m 10ms/step - auc: 0.8778 - loss: 0.3483 - val_auc: 0.7918 - val_loss: 0.4210 - learning_rate: 0.0010\n",
      "Epoch 10/50\n",
      "\u001b[1m11/11\u001b[0m \u001b[32m━━━━━━━━━━━━━━━━━━━━\u001b[0m\u001b[37m\u001b[0m \u001b[1m0s\u001b[0m 10ms/step - auc: 0.8815 - loss: 0.3462 - val_auc: 0.7936 - val_loss: 0.4189 - learning_rate: 0.0010\n",
      "Epoch 11/50\n",
      "\u001b[1m11/11\u001b[0m \u001b[32m━━━━━━━━━━━━━━━━━━━━\u001b[0m\u001b[37m\u001b[0m \u001b[1m0s\u001b[0m 10ms/step - auc: 0.8885 - loss: 0.3359 - val_auc: 0.7955 - val_loss: 0.4195 - learning_rate: 0.0010\n",
      "Epoch 12/50\n",
      "\u001b[1m11/11\u001b[0m \u001b[32m━━━━━━━━━━━━━━━━━━━━\u001b[0m\u001b[37m\u001b[0m \u001b[1m0s\u001b[0m 11ms/step - auc: 0.8951 - loss: 0.3261 - val_auc: 0.7966 - val_loss: 0.4337 - learning_rate: 0.0010\n",
      "Epoch 13/50\n",
      "\u001b[1m11/11\u001b[0m \u001b[32m━━━━━━━━━━━━━━━━━━━━\u001b[0m\u001b[37m\u001b[0m \u001b[1m0s\u001b[0m 10ms/step - auc: 0.9037 - loss: 0.3140 - val_auc: 0.7964 - val_loss: 0.4240 - learning_rate: 0.0010\n",
      "Epoch 14/50\n",
      "\u001b[1m11/11\u001b[0m \u001b[32m━━━━━━━━━━━━━━━━━━━━\u001b[0m\u001b[37m\u001b[0m \u001b[1m0s\u001b[0m 10ms/step - auc: 0.9105 - loss: 0.3098 - val_auc: 0.7981 - val_loss: 0.4218 - learning_rate: 5.0000e-04\n",
      "Epoch 15/50\n",
      "\u001b[1m11/11\u001b[0m \u001b[32m━━━━━━━━━━━━━━━━━━━━\u001b[0m\u001b[37m\u001b[0m \u001b[1m0s\u001b[0m 10ms/step - auc: 0.9189 - loss: 0.2923 - val_auc: 0.7999 - val_loss: 0.4191 - learning_rate: 5.0000e-04\n",
      "Epoch 16/50\n",
      "\u001b[1m11/11\u001b[0m \u001b[32m━━━━━━━━━━━━━━━━━━━━\u001b[0m\u001b[37m\u001b[0m \u001b[1m0s\u001b[0m 10ms/step - auc: 0.9313 - loss: 0.2852 - val_auc: 0.8019 - val_loss: 0.4172 - learning_rate: 5.0000e-04\n",
      "Epoch 17/50\n",
      "\u001b[1m11/11\u001b[0m \u001b[32m━━━━━━━━━━━━━━━━━━━━\u001b[0m\u001b[37m\u001b[0m \u001b[1m0s\u001b[0m 11ms/step - auc: 0.9267 - loss: 0.2871 - val_auc: 0.8009 - val_loss: 0.4194 - learning_rate: 5.0000e-04\n",
      "Epoch 18/50\n",
      "\u001b[1m11/11\u001b[0m \u001b[32m━━━━━━━━━━━━━━━━━━━━\u001b[0m\u001b[37m\u001b[0m \u001b[1m0s\u001b[0m 10ms/step - auc: 0.9363 - loss: 0.2733 - val_auc: 0.8025 - val_loss: 0.4203 - learning_rate: 5.0000e-04\n",
      "Epoch 19/50\n",
      "\u001b[1m11/11\u001b[0m \u001b[32m━━━━━━━━━━━━━━━━━━━━\u001b[0m\u001b[37m\u001b[0m \u001b[1m0s\u001b[0m 10ms/step - auc: 0.9363 - loss: 0.2761 - val_auc: 0.8003 - val_loss: 0.4240 - learning_rate: 5.0000e-04\n",
      "Epoch 20/50\n",
      "\u001b[1m11/11\u001b[0m \u001b[32m━━━━━━━━━━━━━━━━━━━━\u001b[0m\u001b[37m\u001b[0m \u001b[1m0s\u001b[0m 11ms/step - auc: 0.9407 - loss: 0.2590 - val_auc: 0.8036 - val_loss: 0.4195 - learning_rate: 2.5000e-04\n",
      "Epoch 21/50\n",
      "\u001b[1m11/11\u001b[0m \u001b[32m━━━━━━━━━━━━━━━━━━━━\u001b[0m\u001b[37m\u001b[0m \u001b[1m0s\u001b[0m 10ms/step - auc: 0.9485 - loss: 0.2608 - val_auc: 0.8025 - val_loss: 0.4226 - learning_rate: 2.5000e-04\n",
      "Epoch 22/50\n",
      "\u001b[1m11/11\u001b[0m \u001b[32m━━━━━━━━━━━━━━━━━━━━\u001b[0m\u001b[37m\u001b[0m \u001b[1m0s\u001b[0m 10ms/step - auc: 0.9436 - loss: 0.2603 - val_auc: 0.8032 - val_loss: 0.4224 - learning_rate: 2.5000e-04\n",
      "Epoch 23/50\n",
      "\u001b[1m11/11\u001b[0m \u001b[32m━━━━━━━━━━━━━━━━━━━━\u001b[0m\u001b[37m\u001b[0m \u001b[1m0s\u001b[0m 10ms/step - auc: 0.9456 - loss: 0.2556 - val_auc: 0.8030 - val_loss: 0.4224 - learning_rate: 1.2500e-04\n",
      "Epoch 24/50\n",
      "\u001b[1m11/11\u001b[0m \u001b[32m━━━━━━━━━━━━━━━━━━━━\u001b[0m\u001b[37m\u001b[0m \u001b[1m0s\u001b[0m 10ms/step - auc: 0.9455 - loss: 0.2587 - val_auc: 0.8032 - val_loss: 0.4227 - learning_rate: 1.2500e-04\n",
      "Epoch 25/50\n",
      "\u001b[1m11/11\u001b[0m \u001b[32m━━━━━━━━━━━━━━━━━━━━\u001b[0m\u001b[37m\u001b[0m \u001b[1m0s\u001b[0m 10ms/step - auc: 0.9531 - loss: 0.2456 - val_auc: 0.8038 - val_loss: 0.4218 - learning_rate: 1.2500e-04\n",
      "Epoch 26/50\n",
      "\u001b[1m11/11\u001b[0m \u001b[32m━━━━━━━━━━━━━━━━━━━━\u001b[0m\u001b[37m\u001b[0m \u001b[1m0s\u001b[0m 10ms/step - auc: 0.9511 - loss: 0.2456 - val_auc: 0.8037 - val_loss: 0.4229 - learning_rate: 6.2500e-05\n",
      "Final val loss: 0.4172, val AUC: 0.8019\n"
     ]
    },
    {
     "data": {
      "image/png": "[encoded data removed]",
      "text/plain": [
       "<Figure size 600x400 with 1 Axes>"
      ]
     },
     "metadata": {},
     "output_type": "display_data"
    },
    {
     "data": {
      "image/png": "[encoded data removed]",
      "text/plain": [
       "<Figure size 600x400 with 1 Axes>"
      ]
     },
     "metadata": {},
     "output_type": "display_data"
    },
    {
     "name": "stdout",
     "output_type": "stream",
     "text": [
      "\u001b[1m6/6\u001b[0m \u001b[32m━━━━━━━━━━━━━━━━━━━━\u001b[0m\u001b[37m\u001b[0m \u001b[1m0s\u001b[0m 5ms/step \n",
      "Per‐class ROC AUC on validation set:\n",
      "  Class 0               : AUC = 0.759\n",
      "  Class 1               : AUC = 0.816\n",
      "  Class 2               : AUC = 0.739\n",
      "  Class 3               : AUC = 0.709\n",
      "  Class 4               : AUC = 0.742\n",
      "\n",
      "Per‐class Accuracy on validation set:\n",
      "  Class 0               : Accuracy = 0.731\n",
      "  Class 1               : Accuracy = 0.826\n",
      "  Class 2               : Accuracy = 0.850\n",
      "  Class 3               : Accuracy = 0.880\n",
      "  Class 4               : Accuracy = 0.898\n"
     ]
    }
   ],
   "source": [
    "import numpy as np\n",
    "from collections import defaultdict\n",
    "from sklearn.preprocessing import MultiLabelBinarizer\n",
    "from sklearn.model_selection import train_test_split\n",
    "import tensorflow as tf\n",
    "from tensorflow.keras import layers, Model, Input\n",
    "from tensorflow.keras.utils import to_categorical\n",
    "from tensorflow.keras.callbacks import EarlyStopping, ReduceLROnPlateau\n",
    "\n",
    "# --- 1. Load your raw dataset ---\n",
    "# Assume `raw_dataset` is a list of (img_array, species_idx) pairs,\n",
    "# where img_array has shape (10,10,19) and species_idx is an int 0..C-1.\n",
    "# For example, you might have loaded it like:\n",
    "raw = np.load(dataset_path, allow_pickle=True)\n",
    "raw_dataset = [(item[1], item[0]) for item in raw]\n",
    "#\n",
    "# Here we just reference `raw_dataset`.\n",
    "# ----------------------------------------------------------------\n",
    "\n",
    "# --- 2. Group by identical images into sets of species labels ---\n",
    "def hash_image(arr: np.ndarray) -> bytes:\n",
    "    \"\"\"Produce a hashable key for a numpy array of floats.\"\"\"\n",
    "    # We use tostring of bytes; if memory is an issue you can md5 it instead.\n",
    "    return arr.tobytes()\n",
    "import hashlib\n",
    "\n",
    "def hash_image(arr: np.ndarray, decimals: int = 6) -> str:\n",
    "    \"\"\"\n",
    "    Round the array to `decimals` places, then hash via MD5.\n",
    "    This groups “bit-noisy” floats that are equal up to rounding,\n",
    "    and gives a compact string key.\n",
    "    \"\"\"\n",
    "    # 1) Round to reduce spurious bit-noise\n",
    "    rounded = np.round(arr, decimals=decimals)\n",
    "    # 2) Convert to bytes\n",
    "    b = rounded.tobytes()\n",
    "    # 3) MD5 digest (hex string)\n",
    "    return hashlib.md5(b).hexdigest()\n",
    "\n",
    "# Rebuild your “bags” mapping\n",
    "from collections import defaultdict\n",
    "\n",
    "bags = defaultdict(set)\n",
    "image_lookup = {}\n",
    "\n",
    "for img, species in raw_dataset:\n",
    "    key = hash_image(img, decimals=6)\n",
    "    bags[key].add(species)\n",
    "    if key not in image_lookup:\n",
    "        image_lookup[key] = img.copy()   # store one representative\n",
    "\n",
    "# Now reconstruct unique images + multi‐species sets\n",
    "images    = []\n",
    "label_sets = []\n",
    "for key, species_set in bags.items():\n",
    "    images.append(image_lookup[key])\n",
    "    label_sets.append(species_set)\n",
    "images = np.stack(images, axis=0)  # shape (N_unique, 10, 10, 19)\n",
    "\n",
    "# Reconstruct unique arrays + label sets\n",
    "images = []\n",
    "label_sets = []\n",
    "for key, species_set in bags.items():\n",
    "    images.append(image_lookup[key])\n",
    "    label_sets.append(species_set)\n",
    "images = np.stack(images, axis=0)        # shape (N,10,10,19)\n",
    "images_raw = images.copy()\n",
    "\n",
    "# --- 3. Multi-hot encode labels ---\n",
    "all_species = sorted({s for sset in label_sets for s in sset})\n",
    "mlb = MultiLabelBinarizer(classes=all_species)\n",
    "Y = mlb.fit_transform(label_sets)        # shape (N, C), dtype int\n",
    "\n",
    "# --- 4. Filter out fully blank images (all channels NaN) ---\n",
    "# Blank if every pixel in every band is NaN:\n",
    "valid = ~np.all(np.isnan(images).reshape(images.shape[0], -1), axis=1)\n",
    "images = images[valid]\n",
    "Y      = Y[valid]\n",
    "\n",
    "# --- 4b. (Optional) Drop images with > X% blank pixels ---\n",
    "# First, rebuild a per‐image “blankness” mask over the original 19 bands\n",
    "# Note: `images_raw` should be your (N,10,10,19) array *before* you zero‐filled NaNs  \n",
    "# (so you might need to keep that around).\n",
    "\n",
    "# Suppose you still have `images_raw` from step 4, before you do mask/zero‐fill:\n",
    "# images_raw = images.copy()  \n",
    "\n",
    "# Compute a boolean mask: True where *all* bands are NaN\n",
    "blank_pixel_mask = np.all(np.isnan(images_raw), axis=-1)   # shape (N,10,10)\n",
    "\n",
    "# Compute fraction of blank pixels per image\n",
    "blank_frac = blank_pixel_mask.reshape(images_raw.shape[0], -1).mean(axis=1)  \n",
    "# blank_frac[i] is between 0.0 (no blank pixels) and 1.0 (all pixels blank)\n",
    "\n",
    "# Choose your threshold:\n",
    "X = 0.95     # e.g. drop any image with ≥30% completely‐blank pixels\n",
    "\n",
    "# Keep only the “good” images\n",
    "keep = blank_frac < X\n",
    "print(f\"Dropping {np.count_nonzero(~keep)} / {len(keep)} images (≥{X*100:.0f}% blank)\")\n",
    "\n",
    "# Filter both your features and labels:\n",
    "images_raw = images_raw[keep]\n",
    "label_sets  = [ls for ls, k in zip(label_sets, keep) if k]\n",
    "\n",
    "# --- 5. Build a mask channel & replace NaNs with zero ---\n",
    "# mask = 1 where any band is non-NaN; 0 where all NaN\n",
    "mask = np.any(~np.isnan(images), axis=-1, keepdims=True).astype('float32')\n",
    "# zero-fill the 19 bands\n",
    "images = np.nan_to_num(images, nan=0.0).astype('float32')\n",
    "# concatenate mask as 20th channel\n",
    "images = np.concatenate([images, mask], axis=-1)  # (N,10,10,20)\n",
    "\n",
    "# --- 5b. Per-channel normalization of the 19 data bands ---\n",
    "# Compute mean/std only over the original 19 channels\n",
    "means = np.nanmean(images[..., :19], axis=(0,1,2))\n",
    "stds  = np.nanstd( images[..., :19], axis=(0,1,2))\n",
    "# Broadcast and normalize\n",
    "images[..., :19] = (images[..., :19] - means) / (stds + 1e-6)\n",
    "\n",
    "\n",
    "# --- 6. Train/Val split ---\n",
    "X_train, X_val, y_train, y_val = train_test_split(\n",
    "    images, Y, test_size=0.2, random_state=42\n",
    ")\n",
    "\n",
    "# --- 7. Build the MIL CNN model ---\n",
    "num_classes = Y.shape[1]  # C\n",
    "inp = Input(shape=(10,10,20))  # 19 bands + 1 mask\n",
    "\n",
    "# Instance encoder\n",
    "x = layers.Conv2D(32, 3, padding='same', activation='relu')(inp)\n",
    "x = layers.Conv2D(64, 3, padding='same', activation='relu')(x)\n",
    "# Flatten spatial dims into instance dimension\n",
    "instances = layers.Reshape((10*10, 64))(x)          # (batch,100,64)\n",
    "# Per-instance embedding\n",
    "inst_embed = layers.Dense(128, activation='relu')(instances)  # (batch,100,128)\n",
    "# MIL pooling (max over the 100 instances)\n",
    "bag_embed = layers.GlobalMaxPooling1D()(inst_embed)          # (batch,128)\n",
    "# Multi-label output\n",
    "out = layers.Dense(num_classes, activation='sigmoid')(bag_embed)\n",
    "\n",
    "model = Model(inputs=inp, outputs=out)\n",
    "model.compile(\n",
    "    optimizer='adam',\n",
    "    loss='binary_crossentropy',\n",
    "    metrics=[tf.keras.metrics.AUC(name='auc')]\n",
    ")\n",
    "model.summary()\n",
    "\n",
    "# --- 8. Callbacks for training ---\n",
    "callbacks = [\n",
    "    EarlyStopping(monitor='val_loss', patience=10, restore_best_weights=True),\n",
    "    ReduceLROnPlateau(monitor='val_loss', factor=0.5, patience=3, min_lr=1e-6)\n",
    "]\n",
    "\n",
    "# --- 9. Train ---\n",
    "history = model.fit(\n",
    "    X_train, y_train,\n",
    "    validation_data=(X_val, y_val),\n",
    "    epochs=50,\n",
    "    batch_size=64,\n",
    "    callbacks=callbacks\n",
    ")\n",
    "\n",
    "# --- 10. Final evaluation ---\n",
    "val_loss, val_auc = model.evaluate(X_val, y_val, verbose=0)\n",
    "print(f\"Final val loss: {val_loss:.4f}, val AUC: {val_auc:.4f}\")\n",
    "\n",
    "import matplotlib.pyplot as plt\n",
    "from sklearn.metrics import roc_auc_score\n",
    "\n",
    "# 1. Plot training history\n",
    "def plot_history(history):\n",
    "    # Loss\n",
    "    plt.figure(figsize=(6,4))\n",
    "    plt.plot(history.history['loss'], label='train loss')\n",
    "    plt.plot(history.history['val_loss'], label='val loss')\n",
    "    plt.title('Loss')\n",
    "    plt.xlabel('Epoch')\n",
    "    plt.ylabel('Loss')\n",
    "    plt.legend()\n",
    "    plt.tight_layout()\n",
    "    plt.show()\n",
    "    \n",
    "    # Overall AUC (if you logged it)\n",
    "    if 'auc' in history.history:\n",
    "        plt.figure(figsize=(6,4))\n",
    "        plt.plot(history.history['auc'], label='train AUC')\n",
    "        plt.plot(history.history['val_auc'], label='val AUC')\n",
    "        plt.title('Overall AUC')\n",
    "        plt.xlabel('Epoch')\n",
    "        plt.ylabel('AUC')\n",
    "        plt.legend()\n",
    "        plt.tight_layout()\n",
    "        plt.show()\n",
    "\n",
    "# Call this after training:\n",
    "plot_history(history)\n",
    "\n",
    "\n",
    "# 2. Compute per-class AUC on the validation set\n",
    "# ----------------------------------------------------------------------------\n",
    "# You need:\n",
    "#   - X_val, y_val  : your validation features and multi-hot labels\n",
    "#   - model         : your trained Keras model\n",
    "#   - class_names   : a list/array of your class labels, e.g.\n",
    "#                     mlb.classes_ if you used sklearn's MultiLabelBinarizer\n",
    "\n",
    "# Predict probabilities\n",
    "y_pred = model.predict(X_val)    # shape (n_val, C)\n",
    "y_true = y_val                   # shape (n_val, C)\n",
    "class_names = mlb.classes_       # or your own list of length C\n",
    "\n",
    "# Compute and print per‐class ROC-AUC\n",
    "print(\"Per‐class ROC AUC on validation set:\")\n",
    "for i, cls in enumerate(class_names):\n",
    "    # roc_auc_score requires at least one positive & one negative example per class\n",
    "    try:\n",
    "        auc = roc_auc_score(y_true[:, i], y_pred[:, i])\n",
    "        print(f\"  Class {cls:<15} : AUC = {auc:.3f}\")\n",
    "    except ValueError as e:\n",
    "        print(f\"  Class {cls:<15} : could not compute AUC ({e})\")\n",
    "        \n",
    "# --- 2b. Compute per‐class accuracy on the validation set ---\n",
    "# y_pred: numpy array of shape (n_val, C), floats in [0,1]\n",
    "# y_true: numpy array of shape (n_val, C), ints in {0,1}\n",
    "\n",
    "# 1) Binarize predictions at 0.5\n",
    "y_pred_label = (y_pred >= 0.5).astype(int)\n",
    "\n",
    "# 2) Compute accuracy for each class (over all samples)\n",
    "#    accuracy_i = (# correct on class i) / (total samples)\n",
    "per_class_acc = (y_pred_label == y_true).sum(axis=0) / y_true.shape[0]\n",
    "\n",
    "print(\"\\nPer‐class Accuracy on validation set:\")\n",
    "for cls, acc in zip(class_names, per_class_acc):\n",
    "    print(f\"  Class {cls:<15} : Accuracy = {acc:.3f}\")\n"
   ]
  },
  {
   "cell_type": "code",
   "execution_count": 3,
   "id": "87cc17e2-d4d0-4400-bea9-c3ddbbf0c476",
   "metadata": {},
   "outputs": [
    {
     "name": "stdout",
     "output_type": "stream",
     "text": [
      "\n",
      "Subset Accuracy (exact match): 0.407\n"
     ]
    }
   ],
   "source": [
    "subset_acc = np.all(y_pred_label == y_true, axis=1).mean()\n",
    "print(f\"\\nSubset Accuracy (exact match): {subset_acc:.3f}\")\n"
   ]
  },
  {
   "cell_type": "code",
   "execution_count": 4,
   "id": "142e365f-16ee-46b2-8376-be2e9645605a",
   "metadata": {},
   "outputs": [
    {
     "name": "stdout",
     "output_type": "stream",
     "text": [
      "Sample-wise Accuracy (Jaccard): 0.422\n"
     ]
    }
   ],
   "source": [
    "intersection = np.logical_and(y_true, y_pred_label).sum(axis=1)\n",
    "union = np.logical_or(y_true, y_pred_label).sum(axis=1)\n",
    "samplewise_acc = (intersection / np.clip(union, a_min=1, a_max=None)).mean()\n",
    "print(f\"Sample-wise Accuracy (Jaccard): {samplewise_acc:.3f}\")\n"
   ]
  },
  {
   "cell_type": "code",
   "execution_count": 5,
   "id": "bf96b90e-a28d-4f6a-9ea9-d7ae5140cf22",
   "metadata": {},
   "outputs": [
    {
     "name": "stdout",
     "output_type": "stream",
     "text": [
      "  Class 0               : Precision = 0.700, Recall = 0.671, F1 = 0.685\n",
      "  Class 1               : Precision = 0.852, Recall = 0.479, F1 = 0.613\n",
      "  Class 2               : Precision = 1.000, Recall = 0.038, F1 = 0.074\n",
      "  Class 3               : Precision = 0.000, Recall = 0.000, F1 = 0.000\n",
      "  Class 4               : Precision = 0.000, Recall = 0.000, F1 = 0.000\n"
     ]
    }
   ],
   "source": [
    "from sklearn.metrics import precision_score, recall_score, f1_score\n",
    "for i, cls in enumerate(class_names):\n",
    "    p = precision_score(y_true[:, i], y_pred_label[:, i], zero_division=0)\n",
    "    r = recall_score(y_true[:, i], y_pred_label[:, i], zero_division=0)\n",
    "    f1 = f1_score(y_true[:, i], y_pred_label[:, i], zero_division=0)\n",
    "    print(f\"  Class {cls:<15} : Precision = {p:.3f}, Recall = {r:.3f}, F1 = {f1:.3f}\")\n"
   ]
  },
  {
   "cell_type": "code",
   "execution_count": 6,
   "id": "25a59dde-0d11-48bd-bcaa-fdcc77c962d2",
   "metadata": {},
   "outputs": [
    {
     "name": "stdout",
     "output_type": "stream",
     "text": [
      "\n",
      "Macro-Averaged Scores:\n",
      "  Precision = 0.510, Recall = 0.238, F1 = 0.275\n",
      "\n",
      "Micro-Averaged Scores:\n",
      "  Precision = 0.745, Recall = 0.397, F1 = 0.518\n"
     ]
    }
   ],
   "source": [
    "# Macro-average: unweighted mean over classes\n",
    "macro_precision = precision_score(y_true, y_pred_label, average='macro', zero_division=0)\n",
    "macro_recall    = recall_score(y_true, y_pred_label, average='macro', zero_division=0)\n",
    "macro_f1        = f1_score(y_true, y_pred_label, average='macro', zero_division=0)\n",
    "\n",
    "# Micro-average: global TP, FP, FN summed across all labels\n",
    "micro_precision = precision_score(y_true, y_pred_label, average='micro', zero_division=0)\n",
    "micro_recall    = recall_score(y_true, y_pred_label, average='micro', zero_division=0)\n",
    "micro_f1        = f1_score(y_true, y_pred_label, average='micro', zero_division=0)\n",
    "\n",
    "print(f\"\\nMacro-Averaged Scores:\")\n",
    "print(f\"  Precision = {macro_precision:.3f}, Recall = {macro_recall:.3f}, F1 = {macro_f1:.3f}\")\n",
    "\n",
    "print(f\"\\nMicro-Averaged Scores:\")\n",
    "print(f\"  Precision = {micro_precision:.3f}, Recall = {micro_recall:.3f}, F1 = {micro_f1:.3f}\")\n"
   ]
  },
  {
   "cell_type": "code",
   "execution_count": 7,
   "id": "a46c8a21-5e11-4596-8c47-77b3ead2691b",
   "metadata": {},
   "outputs": [
    {
     "data": {
      "text/plain": [
       "array([73, 48, 26, 20, 17])"
      ]
     },
     "execution_count": 7,
     "metadata": {},
     "output_type": "execute_result"
    }
   ],
   "source": [
    "np.sum(y_val, axis=0)\n"
   ]
  },
  {
   "cell_type": "code",
   "execution_count": null,
   "id": "f54cc71b-7c8e-44a4-8889-57396cca5f36",
   "metadata": {},
   "outputs": [],
   "source": []
  }
 ],
 "metadata": {
  "kernelspec": {
   "display_name": "Python 3 (ipykernel)",
   "language": "python",
   "name": "python3"
  },
  "language_info": {
   "codemirror_mode": {
    "name": "ipython",
    "version": 3
   },
   "file_extension": ".py",
   "mimetype": "text/x-python",
   "name": "python",
   "nbconvert_exporter": "python",
   "pygments_lexer": "ipython3",
   "version": "3.11.2"
  }
 },
 "nbformat": 4,
 "nbformat_minor": 5
}
