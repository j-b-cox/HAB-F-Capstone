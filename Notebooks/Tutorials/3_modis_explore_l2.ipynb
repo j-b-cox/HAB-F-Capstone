{
 "cells": [
  {
   "cell_type": "markdown",
   "id": "d793b6c7-6705-464c-ad93-50e81df8dff1",
   "metadata": {},
   "source": [
    "# Explore Level-2 Ocean Color Data from the Moderate Resolution Imaging Spectroradiometer (MODIS)\n",
    "\n",
    "**Authors:** Guoqing Wang (NASA, GSFC), Ian Carroll (NASA, UMBC), Eli Holmes (NOAA), Anna Windle (NASA, GSFC)\n",
    "\n",
    "<div class=\"alert alert-info\" role=\"alert\">\n",
    "\n",
    "An [Earthdata Login][edl] account is required to access data from the NASA Earthdata system, including NASA ocean color data.\n",
    "\n",
    "</div>\n",
    "\n",
    "[edl]: https://urs.earthdata.nasa.gov/\n",
    "\n",
    "## Summary\n",
    "\n",
    "This tutorial demonstrates accessing and analyzing NASA ocean color data using Python from the NASA Ocean Biology Distributed Active Archive Center (OB.DAAC) archives. Currently, there are several ways to find and access ocean color data:\n",
    "\n",
    "1. [NASA's Earthdata Search](https://search.earthdata.nasa.gov/search)\n",
    "1. [NASA's CMR API](https://cmr.earthdata.nasa.gov/search/site/docs/search/api.html)\n",
    "1. [OB.DAAC OPENDAP](https://oceandata.sci.gsfc.nasa.gov/opendap/)\n",
    "1. [OB.DAAC File Search](https://oceandata.sci.gsfc.nasa.gov/api/file_search_help)\n",
    "\n",
    "In this tutorial, we will focus on using `earthaccess` Python module to access MODIS Aqua ocean color data through NASA's Common Metadata Repository (CMR), a metadata system that catalogs Earth Science data and associated metadata records. The level 2 dataset of MODIS Aqua is one of the most popular datasets of OB.DAAC. Here we will use MODIS Aqua L2 Chlorophyll *a* data of the Chesapeake Bay as an example.\n",
    "The standard NASA ocean color Chlorophyll *a* algorithm is described in the [Algorithm Theoretical Basis Document (ATBD)](https://www.earthdata.nasa.gov/apt/documents/chlor-a/v1.0).\n",
    "\n",
    "## Learning Objectives\n",
    "\n",
    "At the end of this notebok you will know:\n",
    "* How to find OB.DAAC ocean color data\n",
    "* How to download files using `earthaccess`\n",
    "* How to create a plot using `xarray`\n",
    "\n",
    "## Contents\n",
    "\n",
    "1. [Setup](#setup)\n",
    "1. [NASA Earthdata Authentication](#auth)\n",
    "1. [Search for Data](#search)\n",
    "1. [Download Data](#download)\n",
    "1. [Plot Data](#plot)\n",
    "\n",
    "<a name=\"setup\"></a>"
   ]
  },
  {
   "cell_type": "markdown",
   "id": "249edd34-91d6-4dfc-a49e-18bbfb215fd9",
   "metadata": {},
   "source": [
    "## 1. Setup\n",
    "\n",
    "We begin by importing all of the packages used in this notebook. If you have created an environment following the [guidance][tutorials] provided with this tutorial, then the imports will be successful.\n",
    "\n",
    "[tutorials]: https://oceancolor.gsfc.nasa.gov/resources/docs/tutorials"
   ]
  },
  {
   "cell_type": "code",
   "execution_count": 1,
   "id": "09e452d6",
   "metadata": {},
   "outputs": [
    {
     "name": "stderr",
     "output_type": "stream",
     "text": [
      "/Users/jessecox/.pyenv/versions/3.11.2/lib/python3.11/site-packages/tqdm/auto.py:21: TqdmWarning: IProgress not found. Please update jupyter and ipywidgets. See https://ipywidgets.readthedocs.io/en/stable/user_install.html\n",
      "  from .autonotebook import tqdm as notebook_tqdm\n"
     ]
    }
   ],
   "source": [
    "from cartopy.mpl.ticker import LongitudeFormatter, LatitudeFormatter\n",
    "from IPython.display import JSON\n",
    "import cartopy\n",
    "import earthaccess\n",
    "import matplotlib.pyplot as plt\n",
    "import numpy as np\n",
    "import xarray as xr"
   ]
  },
  {
   "cell_type": "markdown",
   "id": "6fbbaf1e-3c49-4f7b-93d1-028af33bf570",
   "metadata": {},
   "source": [
    "[back to top](#contents) <a name=\"auth\"></a>"
   ]
  },
  {
   "cell_type": "markdown",
   "id": "2edb7c7b",
   "metadata": {},
   "source": [
    "## 2. NASA Earthdata Authentication\n",
    "\n",
    "Next, we authenticate using our Earthdata Login\n",
    "credentials. Authentication is not needed to search publicaly\n",
    "available collections in Earthdata, but is always needed to access\n",
    "data. We can use the `login` method from the `earthaccess`\n",
    "package. This will create an authenticated session when we provide a\n",
    "valid Earthdata Login username and password. The `earthaccess`\n",
    "package will search for credentials defined by **environmental\n",
    "variables** or within a **.netrc** file saved in the home\n",
    "directory. If credentials are not found, an interactive prompt will\n",
    "allow you to input credentials.\n",
    "\n",
    "<div class=\"alert alert-info\" role=\"alert\">\n",
    "The <code>persist=True</code> argument ensures any discovered credentials are\n",
    "stored in a <code>.netrc</code> file, so the argument is not necessary (but\n",
    "it's also harmless) for subsequent calls to <code>earthaccess.login</code>.\n",
    "</div>"
   ]
  },
  {
   "cell_type": "code",
   "execution_count": 2,
   "id": "ed9806e4",
   "metadata": {},
   "outputs": [],
   "source": [
    "auth = earthaccess.login(persist=True)"
   ]
  },
  {
   "cell_type": "markdown",
   "id": "8e2b8fea-875f-43cc-b53d-aadc6792edbf",
   "metadata": {},
   "source": [
    "[back to top](#contents) <a name=\"search\"></a>"
   ]
  },
  {
   "cell_type": "markdown",
   "id": "db69104e",
   "metadata": {},
   "source": [
    "## 3. Search for Data\n",
    "\n",
    "The MODIS instrument, on board the Aqua satellite, collects ocean color data, processed from Level-1 through Level-4 and distributed by the OB.DAAC. In this example, we will use the standard Chlorophyll a data from Level-2 ocean color files. To find data we will use the `earthaccess` Python library to search on NASA's CMR API.\n",
    "\n",
    "NASA data collections, i.e. a series of related granules, are discoverable with `earthaccess.search_datasets`. Various search parameters can be used to search collections and granules using metadata attributes. See more details [here](https://github.com/nsidc/earthaccess/blob/main/notebooks/Demo.ipynb). Below, CMR Catalog are queried to find collections with **\"L2 ocean color\"** keyword in them, with the **MODIS** instrument. The returned response can be used to retrieve the `ShortName` and `concept-id` for each dataset."
   ]
  },
  {
   "cell_type": "code",
   "execution_count": 3,
   "id": "753259a3",
   "metadata": {},
   "outputs": [],
   "source": [
    "results = earthaccess.search_datasets(\n",
    "    keyword=\"L2 ocean color\",\n",
    "    instrument=\"MODIS\",\n",
    ")"
   ]
  },
  {
   "cell_type": "markdown",
   "id": "148015a8",
   "metadata": {},
   "source": [
    "Each result has a `summary` method with information such as the collection's short-name."
   ]
  },
  {
   "cell_type": "code",
   "execution_count": 4,
   "id": "63d41a6a",
   "metadata": {},
   "outputs": [
    {
     "data": {
      "text/plain": [
       "{'MODISA_L2_IOP',\n",
       " 'MODISA_L2_IOP_NRT',\n",
       " 'MODISA_L2_OC',\n",
       " 'MODISA_L2_OC_NRT',\n",
       " 'MODISA_L2_SST',\n",
       " 'MODISA_L2_SST4',\n",
       " 'MODISA_L2_SST4_NRT',\n",
       " 'MODISA_L2_SST_NRT',\n",
       " 'MODIST_L2_IOP',\n",
       " 'MODIST_L2_IOP_NRT',\n",
       " 'MODIST_L2_OC',\n",
       " 'MODIST_L2_OC_NRT',\n",
       " 'MODIST_L2_SST',\n",
       " 'MODIST_L2_SST4',\n",
       " 'MODIST_L2_SST4_NRT',\n",
       " 'MODIST_L2_SST_NRT'}"
      ]
     },
     "execution_count": 4,
     "metadata": {},
     "output_type": "execute_result"
    }
   ],
   "source": [
    "set((i.summary()[\"short-name\"] for i in results))"
   ]
  },
  {
   "cell_type": "markdown",
   "id": "10c92414",
   "metadata": {},
   "source": [
    "We are interested in the `MODISA_L2_OC` dataset."
   ]
  },
  {
   "cell_type": "markdown",
   "id": "b64da964",
   "metadata": {},
   "source": [
    "We can use spatial and temporal arguments to search for granules covering Chesapeake Bay during the time frame of Oct 15 - 23, 2020. We can also add the cloud_cover parameter to filter out granules with too much cloud coverage.\n",
    "cloud_cover = (0, 50) # max 50% of cloud coverage"
   ]
  },
  {
   "cell_type": "code",
   "execution_count": 5,
   "id": "9b95cc17",
   "metadata": {},
   "outputs": [],
   "source": [
    "tspan = (\"2020-10-15\", \"2020-10-23\")\n",
    "bbox = (-76.75, 36.97, -75.74, 39.01)\n",
    "cc = (0, 50)"
   ]
  },
  {
   "cell_type": "code",
   "execution_count": 12,
   "id": "e8b7cf44",
   "metadata": {},
   "outputs": [],
   "source": [
    "results = earthaccess.search_data(\n",
    "    short_name=\"MODISA_L2_OC\",\n",
    "    temporal=tspan,\n",
    "    bounding_box=bbox,\n",
    "    cloud_cover=cc,\n",
    ")"
   ]
  },
  {
   "cell_type": "markdown",
   "id": "32ba0f3a",
   "metadata": {},
   "source": [
    "Now we can print some info about these granules using the built-in methods. We can see how each result prefers to display itself."
   ]
  },
  {
   "cell_type": "code",
   "execution_count": 7,
   "id": "ccebf46c",
   "metadata": {},
   "outputs": [
    {
     "data": {
      "text/plain": [
       "{\n",
       "  \"meta\": {\n",
       "    \"revision-id\": 3,\n",
       "    \"deleted\": false,\n",
       "    \"format\": \"application/vnd.nasa.cmr.umm+json\",\n",
       "    \"provider-id\": \"OB_CLOUD\",\n",
       "    \"has-combine\": false,\n",
       "    \"user-id\": \"amscott\",\n",
       "    \"has-formats\": true,\n",
       "    \"associations\": {\n",
       "      \"variables\": [\n",
       "        \"V3476959205-OB_CLOUD\",\n",
       "        \"V3476959345-OB_CLOUD\",\n",
       "        \"V3476959054-OB_CLOUD\",\n",
       "        \"V3476959234-OB_CLOUD\",\n",
       "        \"V3476959351-OB_CLOUD\",\n",
       "        \"V3476959221-OB_CLOUD\",\n",
       "        \"V3476959079-OB_CLOUD\",\n",
       "        \"V3476959059-OB_CLOUD\",\n",
       "        \"V3476959108-OB_CLOUD\",\n",
       "        \"V3476959341-OB_CLOUD\",\n",
       "        \"V3476959272-OB_CLOUD\",\n",
       "        \"V3476959092-OB_CLOUD\",\n",
       "        \"V3476959099-OB_CLOUD\",\n",
       "        \"V3476959118-OB_CLOUD\",\n",
       "        \"V3476959126-OB_CLOUD\",\n",
       "        \"V3476959191-OB_CLOUD\",\n",
       "        \"V3476959245-OB_CLOUD\",\n",
       "        \"V3476959347-OB_CLOUD\",\n",
       "        \"V3476959066-OB_CLOUD\",\n",
       "        \"V3476959293-OB_CLOUD\",\n",
       "        \"V3476959264-OB_CLOUD\",\n",
       "        \"V3476959130-OB_CLOUD\",\n",
       "        \"V3476959161-OB_CLOUD\",\n",
       "        \"V3476959071-OB_CLOUD\",\n",
       "        \"V3476959314-OB_CLOUD\",\n",
       "        \"V3476959303-OB_CLOUD\",\n",
       "        \"V3476959279-OB_CLOUD\",\n",
       "        \"V3476959175-OB_CLOUD\",\n",
       "        \"V3476959326-OB_CLOUD\",\n",
       "        \"V3476959087-OB_CLOUD\",\n",
       "        \"V3476959182-OB_CLOUD\",\n",
       "        \"V3476959318-OB_CLOUD\",\n",
       "        \"V3476959334-OB_CLOUD\",\n",
       "        \"V3476959057-OB_CLOUD\",\n",
       "        \"V3476959256-OB_CLOUD\",\n",
       "        \"V3476959214-OB_CLOUD\",\n",
       "        \"V3476959151-OB_CLOUD\",\n",
       "        \"V3476959287-OB_CLOUD\",\n",
       "        \"V3476959051-OB_CLOUD\",\n",
       "        \"V3476959075-OB_CLOUD\",\n",
       "        \"V3476959102-OB_CLOUD\",\n",
       "        \"V3476959251-OB_CLOUD\",\n",
       "        \"V3476959349-OB_CLOUD\",\n",
       "        \"V3476959142-OB_CLOUD\",\n",
       "        \"V3476959310-OB_CLOUD\"\n",
       "      ],\n",
       "      \"services\": [\n",
       "        \"S1962070864-POCLOUD\"\n",
       "      ]\n",
       "    },\n",
       "    \"s3-links\": [\n",
       "      \"s3://ob-cumulus-prod-public/\"\n",
       "    ],\n",
       "    \"has-spatial-subsetting\": true,\n",
       "    \"native-id\": \"MODISA_L2_OC_v2022_0\",\n",
       "    \"has-transforms\": false,\n",
       "    \"association-details\": {\n",
       "      \"variables\": [\n",
       "        {\n",
       "          \"concept-id\": \"V3476959205-OB_CLOUD\"\n",
       "        },\n",
       "        {\n",
       "          \"concept-id\": \"V3476959345-OB_CLOUD\"\n",
       "        },\n",
       "        {\n",
       "          \"concept-id\": \"V3476959054-OB_CLOUD\"\n",
       "        },\n",
       "        {\n",
       "          \"concept-id\": \"V3476959234-OB_CLOUD\"\n",
       "        },\n",
       "        {\n",
       "          \"concept-id\": \"V3476959351-OB_CLOUD\"\n",
       "        },\n",
       "        {\n",
       "          \"concept-id\": \"V3476959221-OB_CLOUD\"\n",
       "        },\n",
       "        {\n",
       "          \"concept-id\": \"V3476959079-OB_CLOUD\"\n",
       "        },\n",
       "        {\n",
       "          \"concept-id\": \"V3476959059-OB_CLOUD\"\n",
       "        },\n",
       "        {\n",
       "          \"concept-id\": \"V3476959108-OB_CLOUD\"\n",
       "        },\n",
       "        {\n",
       "          \"concept-id\": \"V3476959341-OB_CLOUD\"\n",
       "        },\n",
       "        {\n",
       "          \"concept-id\": \"V3476959272-OB_CLOUD\"\n",
       "        },\n",
       "        {\n",
       "          \"concept-id\": \"V3476959092-OB_CLOUD\"\n",
       "        },\n",
       "        {\n",
       "          \"concept-id\": \"V3476959099-OB_CLOUD\"\n",
       "        },\n",
       "        {\n",
       "          \"concept-id\": \"V3476959118-OB_CLOUD\"\n",
       "        },\n",
       "        {\n",
       "          \"concept-id\": \"V3476959126-OB_CLOUD\"\n",
       "        },\n",
       "        {\n",
       "          \"concept-id\": \"V3476959191-OB_CLOUD\"\n",
       "        },\n",
       "        {\n",
       "          \"concept-id\": \"V3476959245-OB_CLOUD\"\n",
       "        },\n",
       "        {\n",
       "          \"concept-id\": \"V3476959347-OB_CLOUD\"\n",
       "        },\n",
       "        {\n",
       "          \"concept-id\": \"V3476959066-OB_CLOUD\"\n",
       "        },\n",
       "        {\n",
       "          \"concept-id\": \"V3476959293-OB_CLOUD\"\n",
       "        },\n",
       "        {\n",
       "          \"concept-id\": \"V3476959264-OB_CLOUD\"\n",
       "        },\n",
       "        {\n",
       "          \"concept-id\": \"V3476959130-OB_CLOUD\"\n",
       "        },\n",
       "        {\n",
       "          \"concept-id\": \"V3476959161-OB_CLOUD\"\n",
       "        },\n",
       "        {\n",
       "          \"concept-id\": \"V3476959071-OB_CLOUD\"\n",
       "        },\n",
       "        {\n",
       "          \"concept-id\": \"V3476959314-OB_CLOUD\"\n",
       "        },\n",
       "        {\n",
       "          \"concept-id\": \"V3476959303-OB_CLOUD\"\n",
       "        },\n",
       "        {\n",
       "          \"concept-id\": \"V3476959279-OB_CLOUD\"\n",
       "        },\n",
       "        {\n",
       "          \"concept-id\": \"V3476959175-OB_CLOUD\"\n",
       "        },\n",
       "        {\n",
       "          \"concept-id\": \"V3476959326-OB_CLOUD\"\n",
       "        },\n",
       "        {\n",
       "          \"concept-id\": \"V3476959087-OB_CLOUD\"\n",
       "        },\n",
       "        {\n",
       "          \"concept-id\": \"V3476959182-OB_CLOUD\"\n",
       "        },\n",
       "        {\n",
       "          \"concept-id\": \"V3476959318-OB_CLOUD\"\n",
       "        },\n",
       "        {\n",
       "          \"concept-id\": \"V3476959334-OB_CLOUD\"\n",
       "        },\n",
       "        {\n",
       "          \"concept-id\": \"V3476959057-OB_CLOUD\"\n",
       "        },\n",
       "        {\n",
       "          \"concept-id\": \"V3476959256-OB_CLOUD\"\n",
       "        },\n",
       "        {\n",
       "          \"concept-id\": \"V3476959214-OB_CLOUD\"\n",
       "        },\n",
       "        {\n",
       "          \"concept-id\": \"V3476959151-OB_CLOUD\"\n",
       "        },\n",
       "        {\n",
       "          \"concept-id\": \"V3476959287-OB_CLOUD\"\n",
       "        },\n",
       "        {\n",
       "          \"concept-id\": \"V3476959051-OB_CLOUD\"\n",
       "        },\n",
       "        {\n",
       "          \"concept-id\": \"V3476959075-OB_CLOUD\"\n",
       "        },\n",
       "        {\n",
       "          \"concept-id\": \"V3476959102-OB_CLOUD\"\n",
       "        },\n",
       "        {\n",
       "          \"concept-id\": \"V3476959251-OB_CLOUD\"\n",
       "        },\n",
       "        {\n",
       "          \"concept-id\": \"V3476959349-OB_CLOUD\"\n",
       "        },\n",
       "        {\n",
       "          \"concept-id\": \"V3476959142-OB_CLOUD\"\n",
       "        },\n",
       "        {\n",
       "          \"concept-id\": \"V3476959310-OB_CLOUD\"\n",
       "        }\n",
       "      ],\n",
       "      \"services\": [\n",
       "        {\n",
       "          \"concept-id\": \"S1962070864-POCLOUD\"\n",
       "        }\n",
       "      ]\n",
       "    },\n",
       "    \"has-variables\": true,\n",
       "    \"concept-id\": \"C3380708980-OB_CLOUD\",\n",
       "    \"revision-date\": \"2025-03-27T15:01:41.804Z\",\n",
       "    \"granule-count\": 1377552,\n",
       "    \"has-temporal-subsetting\": true,\n",
       "    \"concept-type\": \"collection\"\n",
       "  },\n",
       "  \"umm\": {\n",
       "    \"DataLanguage\": \"English\",\n",
       "    \"SpatialExtent\": {\n",
       "      \"SpatialCoverageType\": \"HORIZONTAL\",\n",
       "      \"HorizontalSpatialDomain\": {\n",
       "        \"Geometry\": {\n",
       "          \"CoordinateSystem\": \"CARTESIAN\",\n",
       "          \"BoundingRectangles\": [\n",
       "            {\n",
       "              \"WestBoundingCoordinate\": -180,\n",
       "              \"EastBoundingCoordinate\": 180,\n",
       "              \"SouthBoundingCoordinate\": -90,\n",
       "              \"NorthBoundingCoordinate\": 90\n",
       "            }\n",
       "          ]\n",
       "        }\n",
       "      },\n",
       "      \"GranuleSpatialRepresentation\": \"GEODETIC\"\n",
       "    },\n",
       "    \"CollectionProgress\": \"ACTIVE\",\n",
       "    \"StandardProduct\": true,\n",
       "    \"ScienceKeywords\": [\n",
       "      {\n",
       "        \"Topic\": \"Oceans\",\n",
       "        \"Category\": \"Earth Science\",\n",
       "        \"VariableLevel1\": \"Ocean Color\",\n",
       "        \"Term\": \"Ocean Optics\"\n",
       "      },\n",
       "      {\n",
       "        \"VariableLevel1\": \"Reflectance\",\n",
       "        \"Category\": \"Earth Science\",\n",
       "        \"Topic\": \"Oceans\",\n",
       "        \"Term\": \"Ocean Optics\"\n",
       "      },\n",
       "      {\n",
       "        \"VariableLevel1\": \"Aerosol Optical Depth/Thickness\",\n",
       "        \"Category\": \"Earth Science\",\n",
       "        \"Topic\": \"Atmosphere\",\n",
       "        \"Term\": \"Aerosols\"\n",
       "      },\n",
       "      {\n",
       "        \"VariableLevel1\": \"Aerosol Optical Depth/Thickness\",\n",
       "        \"Topic\": \"Atmosphere\",\n",
       "        \"Category\": \"Earth Science\",\n",
       "        \"Term\": \"Aerosols\",\n",
       "        \"VariableLevel2\": \"Angstrom Exponent\"\n",
       "      },\n",
       "      {\n",
       "        \"VariableLevel1\": \"Chlorophyll\",\n",
       "        \"Topic\": \"Oceans\",\n",
       "        \"Category\": \"Earth Science\",\n",
       "        \"VariableLevel2\": \"Chlorophyll Concentration\",\n",
       "        \"Term\": \"Ocean Optics\"\n",
       "      },\n",
       "      {\n",
       "        \"VariableLevel1\": \"Attenuation/Transmission\",\n",
       "        \"Topic\": \"Oceans\",\n",
       "        \"Category\": \"Earth Science\",\n",
       "        \"Term\": \"Ocean Optics\"\n",
       "      },\n",
       "      {\n",
       "        \"Topic\": \"Oceans\",\n",
       "        \"Category\": \"Earth Science\",\n",
       "        \"VariableLevel1\": \"Organic Carbon\",\n",
       "        \"Term\": \"Ocean Chemistry\"\n",
       "      },\n",
       "      {\n",
       "        \"Term\": \"Ocean Optics\",\n",
       "        \"VariableLevel1\": \"Fluorescence\",\n",
       "        \"Topic\": \"Oceans\",\n",
       "        \"Category\": \"Earth Science\"\n",
       "      },\n",
       "      {\n",
       "        \"Term\": \"Ocean Optics\",\n",
       "        \"Category\": \"Earth Science\",\n",
       "        \"Topic\": \"Oceans\",\n",
       "        \"VariableLevel1\": \"Photosynthetically Active Radiation\"\n",
       "      }\n",
       "    ],\n",
       "    \"TemporalExtents\": [\n",
       "      {\n",
       "        \"RangeDateTimes\": [\n",
       "          {\n",
       "            \"BeginningDateTime\": \"2002-07-04T00:00:00Z\"\n",
       "          }\n",
       "        ],\n",
       "        \"EndsAtPresentFlag\": true\n",
       "      }\n",
       "    ],\n",
       "    \"ProcessingLevel\": {\n",
       "      \"Id\": \"2\"\n",
       "    },\n",
       "    \"DOI\": {\n",
       "      \"Authority\": \"https://doi.org\",\n",
       "      \"DOI\": \"10.5067/AQUA/MODIS/L2/OC/2022.0\"\n",
       "    },\n",
       "    \"ShortName\": \"MODISA_L2_OC\",\n",
       "    \"EntryTitle\": \"Aqua MODIS Level-2 Regional Ocean Color (OC) Data, version 2022.0\",\n",
       "    \"ISOTopicCategories\": [\n",
       "      \"OCEANS\"\n",
       "    ],\n",
       "    \"DirectDistributionInformation\": {\n",
       "      \"S3BucketAndObjectPrefixNames\": [\n",
       "        \"s3://ob-cumulus-prod-public/\"\n",
       "      ],\n",
       "      \"S3CredentialsAPIEndpoint\": \"https://obdaac-tea.earthdatacloud.nasa.gov/s3credentials\",\n",
       "      \"S3CredentialsAPIDocumentationURL\": \"https://obdaac-tea.earthdatacloud.nasa.gov/s3credentialsREADME\",\n",
       "      \"Region\": \"us-west-2\"\n",
       "    },\n",
       "    \"RelatedUrls\": [\n",
       "      {\n",
       "        \"Subtype\": \"DATA TREE\",\n",
       "        \"Type\": \"GET DATA\",\n",
       "        \"Description\": \"NASA Ocean Color Web - Data Distribution Site\",\n",
       "        \"URLContentType\": \"DistributionURL\",\n",
       "        \"URL\": \"https://oceandata.sci.gsfc.nasa.gov/directdataaccess/Level-2/Aqua-MODIS/\"\n",
       "      },\n",
       "      {\n",
       "        \"URL\": \"https://oceancolor.gsfc.nasa.gov/resources/atbd/\",\n",
       "        \"Description\": \"NASA Ocean Color Web - Algorithm Description Documentation\",\n",
       "        \"URLContentType\": \"PublicationURL\",\n",
       "        \"Type\": \"VIEW RELATED INFORMATION\",\n",
       "        \"Subtype\": \"ALGORITHM THEORETICAL BASIS DOCUMENT (ATBD)\"\n",
       "      },\n",
       "      {\n",
       "        \"URL\": \"https://oceancolor.gsfc.nasa.gov/data/reprocessing/\",\n",
       "        \"Subtype\": \"PROCESSING HISTORY\",\n",
       "        \"Type\": \"VIEW RELATED INFORMATION\",\n",
       "        \"Description\": \"NASA Ocean Color Web - Processing History\",\n",
       "        \"URLContentType\": \"PublicationURL\"\n",
       "      },\n",
       "      {\n",
       "        \"Description\": \"NASA Ocean Color Web - Data Citation Guidelines\",\n",
       "        \"URLContentType\": \"PublicationURL\",\n",
       "        \"Subtype\": \"DATA CITATION GUIDELINES\",\n",
       "        \"Type\": \"VIEW RELATED INFORMATION\",\n",
       "        \"URL\": \"https://oceancolor.gsfc.nasa.gov/resources/how-to-cite/\"\n",
       "      }\n",
       "    ],\n",
       "    \"SpatialInformation\": {\n",
       "      \"VerticalCoordinateSystem\": {\n",
       "        \"AltitudeSystemDefinition\": {\n",
       "          \"DatumName\": \"EPSG4326\"\n",
       "        }\n",
       "      },\n",
       "      \"SpatialCoverageType\": \"HORIZONTAL\"\n",
       "    },\n",
       "    \"DataDates\": [\n",
       "      {\n",
       "        \"Date\": \"2025-01-23T00:00:00Z\",\n",
       "        \"Type\": \"CREATE\"\n",
       "      },\n",
       "      {\n",
       "        \"Date\": \"2025-01-23T00:00:00Z\",\n",
       "        \"Type\": \"UPDATE\"\n",
       "      }\n",
       "    ],\n",
       "    \"Abstract\": \"MODIS (or Moderate-Resolution Imaging Spectroradiometer) is a key instrument aboard the Terra (EOS AM) and Aqua (EOS PM) satellites. Terra's orbit around the Earth is timed so that it passes from north to south across the equator in the morning, while Aqua passes south to north over the equator in the afternoon. Terra MODIS and Aqua MODIS are viewing the entire Earth's surface every 1 to 2 days, acquiring data in 36 spectral bands, or groups of wavelengths (see MODIS Technical Specifications). These data will improve our understanding of global dynamics and processes occurring on the land, in the oceans, and in the lower atmosphere. MODIS is playing a vital role in the development of validated, global, interactive Earth system models able to predict global change accurately enough to assist policy makers in making sound decisions concerning the protection of our environment.\",\n",
       "    \"VersionDescription\": \"Reprocessing of Ocean Color (OC) Datasets\",\n",
       "    \"Version\": \"2022.0\",\n",
       "    \"CollectionDataType\": \"SCIENCE_QUALITY\",\n",
       "    \"DataCenters\": [\n",
       "      {\n",
       "        \"Roles\": [\n",
       "          \"PROCESSOR\"\n",
       "        ],\n",
       "        \"LongName\": \"Ocean Biology Processing Group\",\n",
       "        \"ShortName\": \"OBPG\"\n",
       "      },\n",
       "      {\n",
       "        \"ShortName\": \"NASA/GSFC/SED/ESD/GCDC/OB.DAAC\",\n",
       "        \"LongName\": \"Ocean Biology Distributed Active Archive Center (OB.DAAC), Global Change Data Center, Earth Sciences Division, Science and Exploration Directorate, Goddard Space Flight Center, NASA\",\n",
       "        \"Roles\": [\n",
       "          \"DISTRIBUTOR\",\n",
       "          \"ARCHIVER\"\n",
       "        ],\n",
       "        \"ContactInformation\": {\n",
       "          \"ContactMechanisms\": [\n",
       "            {\n",
       "              \"Type\": \"Email\",\n",
       "              \"Value\": \"sdps@oceancolor.gsfc.nasa.gov\"\n",
       "            },\n",
       "            {\n",
       "              \"Type\": \"Fax\",\n",
       "              \"Value\": \"301-286-0268\"\n",
       "            }\n",
       "          ]\n",
       "        }\n",
       "      }\n",
       "    ],\n",
       "    \"Platforms\": [\n",
       "      {\n",
       "        \"LongName\": \"Earth Observing System, Aqua\",\n",
       "        \"Type\": \"Earth Observation Satellites\",\n",
       "        \"ShortName\": \"Aqua\",\n",
       "        \"Instruments\": [\n",
       "          {\n",
       "            \"LongName\": \"Moderate-Resolution Imaging Spectroradiometer\",\n",
       "            \"ShortName\": \"MODIS\"\n",
       "          }\n",
       "        ]\n",
       "      }\n",
       "    ],\n",
       "    \"MetadataSpecification\": {\n",
       "      \"URL\": \"https://cdn.earthdata.nasa.gov/umm/collection/v1.18.4\",\n",
       "      \"Name\": \"UMM-C\",\n",
       "      \"Version\": \"1.18.4\"\n",
       "    },\n",
       "    \"ArchiveAndDistributionInformation\": {\n",
       "      \"FileDistributionInformation\": [\n",
       "        {\n",
       "          \"Format\": \"netCDF-4\"\n",
       "        }\n",
       "      ]\n",
       "    }\n",
       "  }\n",
       "}"
      ]
     },
     "execution_count": 7,
     "metadata": {},
     "output_type": "execute_result"
    }
   ],
   "source": [
    "results[0]"
   ]
  },
  {
   "cell_type": "markdown",
   "id": "0bd13a71",
   "metadata": {},
   "source": [
    "Or we could use the `data_links` and `size` methods provided on each result."
   ]
  },
  {
   "cell_type": "code",
   "execution_count": 13,
   "id": "4ae6315f",
   "metadata": {},
   "outputs": [
    {
     "data": {
      "application/json": [
       {
        "links": [
         "https://obdaac-tea.earthdatacloud.nasa.gov/ob-cumulus-prod-public/AQUA_MODIS.20201016T174500.L2.OC.nc"
        ],
        "size (MB):": 69.7254409790039
       },
       {
        "links": [
         "https://obdaac-tea.earthdatacloud.nasa.gov/ob-cumulus-prod-public/AQUA_MODIS.20201017T183001.L2.OC.nc"
        ],
        "size (MB):": 33.06710910797119
       }
      ],
      "text/plain": [
       "<IPython.core.display.JSON object>"
      ]
     },
     "execution_count": 13,
     "metadata": {
      "application/json": {
       "expanded": true,
       "root": "root"
      }
     },
     "output_type": "execute_result"
    }
   ],
   "source": [
    "data_links = [{\"links\": i.data_links(), \"size (MB):\": i.size()} for i in results]\n",
    "JSON(data_links, expanded=True)"
   ]
  },
  {
   "cell_type": "markdown",
   "id": "f5c7cc7e",
   "metadata": {},
   "source": [
    "Or we can interactively inspect all the fields underlying a result."
   ]
  },
  {
   "cell_type": "code",
   "execution_count": 14,
   "id": "6dc1be94",
   "metadata": {},
   "outputs": [
    {
     "data": {
      "application/json": [
       {
        "meta": {
         "collection-concept-id": "C3380708980-OB_CLOUD",
         "concept-id": "G3501456837-OB_CLOUD",
         "concept-type": "granule",
         "format": "application/vnd.nasa.cmr.umm+json",
         "native-id": "MODISA_L2_OC_AQUA_MODIS.20201016T174500.L2.OC.nc_2022.0",
         "provider-id": "OB_CLOUD",
         "revision-date": "2025-04-20T12:16:06.144Z",
         "revision-id": 1
        },
        "size": 69.7254409790039,
        "umm": {
         "CloudCover": 49.6,
         "CollectionReference": {
          "ShortName": "MODISA_L2_OC",
          "Version": "2022.0"
         },
         "DataGranule": {
          "ArchiveAndDistributionInformation": [
           {
            "Format": "netCDF-4",
            "MimeType": "application/x-netcdf",
            "Name": "AQUA_MODIS.20201016T174500.L2.OC.nc",
            "SizeInBytes": 73112424
           }
          ],
          "DayNightFlag": "Day",
          "Identifiers": [
           {
            "Identifier": "AQUA_MODIS.20201016T174500.L2.OC.nc",
            "IdentifierType": "ProducerGranuleId"
           }
          ],
          "ProductionDateTime": "2022-09-09T07:36:41.180Z"
         },
         "GranuleUR": "MODISA_L2_OC_AQUA_MODIS.20201016T174500.L2.OC.nc_2022.0",
         "MetadataSpecification": {
          "Name": "UMM-G",
          "URL": "https://cdn.earthdata.nasa.gov/umm/granule/v1.6.6",
          "Version": "1.6.6"
         },
         "Platforms": [
          {
           "Instruments": [
            {
             "ShortName": "MODIS"
            }
           ],
           "ShortName": "AQUA"
          }
         ],
         "ProviderDates": [
          {
           "Date": "2025-04-20T11:59:06Z",
           "Type": "Insert"
          },
          {
           "Date": "2025-04-07T11:18:51.260Z",
           "Type": "Update"
          }
         ],
         "RelatedUrls": [
          {
           "Format": "PNG",
           "MimeType": "image/png",
           "Type": "GET RELATED VISUALIZATION",
           "URL": "https://oceandata.sci.gsfc.nasa.gov/browse_images/AQUA_MODIS.20201016T174500.L2.OC.nc.png"
          },
          {
           "Description": "Download AQUA_MODIS.20201016T174500.L2.OC.nc",
           "Type": "GET DATA",
           "URL": "https://obdaac-tea.earthdatacloud.nasa.gov/ob-cumulus-prod-public/AQUA_MODIS.20201016T174500.L2.OC.nc"
          },
          {
           "Description": "This link provides direct download access via S3 to the granule",
           "Type": "GET DATA VIA DIRECT ACCESS",
           "URL": "s3://ob-cumulus-prod-public/AQUA_MODIS.20201016T174500.L2.OC.nc"
          },
          {
           "Description": "api endpoint to retrieve temporary credentials valid for same-region direct s3 access",
           "Type": "VIEW RELATED INFORMATION",
           "URL": "https://obdaac-tea.earthdatacloud.nasa.gov/s3credentials"
          }
         ],
         "SpatialExtent": {
          "HorizontalSpatialDomain": {
           "Geometry": {
            "GPolygons": [
             {
              "Boundary": {
               "Points": [
                {
                 "Latitude": 43.41778,
                 "Longitude": -56.85785
                },
                {
                 "Latitude": 39.47794,
                 "Longitude": -84.44054
                },
                {
                 "Latitude": 22.18118,
                 "Longitude": -77.18175
                },
                {
                 "Latitude": 25.40292,
                 "Longitude": -54.63632
                },
                {
                 "Latitude": 43.41778,
                 "Longitude": -56.85785
                }
               ]
              }
             }
            ]
           }
          }
         },
         "TemporalExtent": {
          "RangeDateTime": {
           "BeginningDateTime": "2020-10-16T17:45:00Z",
           "EndingDateTime": "2020-10-16T17:49:59Z"
          }
         }
        }
       },
       {
        "meta": {
         "collection-concept-id": "C3380708980-OB_CLOUD",
         "concept-id": "G3497480966-OB_CLOUD",
         "concept-type": "granule",
         "format": "application/vnd.nasa.cmr.umm+json",
         "native-id": "MODISA_L2_OC_AQUA_MODIS.20201017T183001.L2.OC.nc_2022.0",
         "provider-id": "OB_CLOUD",
         "revision-date": "2025-04-17T02:21:08.318Z",
         "revision-id": 1
        },
        "size": 33.06710910797119,
        "umm": {
         "CloudCover": 49.9,
         "CollectionReference": {
          "ShortName": "MODISA_L2_OC",
          "Version": "2022.0"
         },
         "DataGranule": {
          "ArchiveAndDistributionInformation": [
           {
            "Format": "netCDF-4",
            "MimeType": "application/x-netcdf",
            "Name": "AQUA_MODIS.20201017T183001.L2.OC.nc",
            "SizeInBytes": 34673377
           }
          ],
          "DayNightFlag": "Day",
          "Identifiers": [
           {
            "Identifier": "AQUA_MODIS.20201017T183001.L2.OC.nc",
            "IdentifierType": "ProducerGranuleId"
           }
          ],
          "ProductionDateTime": "2022-09-09T07:36:00.533Z"
         },
         "GranuleUR": "MODISA_L2_OC_AQUA_MODIS.20201017T183001.L2.OC.nc_2022.0",
         "MetadataSpecification": {
          "Name": "UMM-G",
          "URL": "https://cdn.earthdata.nasa.gov/umm/granule/v1.6.6",
          "Version": "1.6.6"
         },
         "Platforms": [
          {
           "Instruments": [
            {
             "ShortName": "MODIS"
            }
           ],
           "ShortName": "AQUA"
          }
         ],
         "ProviderDates": [
          {
           "Date": "2025-04-17T01:45:56Z",
           "Type": "Insert"
          },
          {
           "Date": "2025-04-07T11:18:56.336Z",
           "Type": "Update"
          }
         ],
         "RelatedUrls": [
          {
           "Format": "PNG",
           "MimeType": "image/png",
           "Type": "GET RELATED VISUALIZATION",
           "URL": "https://oceandata.sci.gsfc.nasa.gov/browse_images/AQUA_MODIS.20201017T183001.L2.OC.nc.png"
          },
          {
           "Description": "Download AQUA_MODIS.20201017T183001.L2.OC.nc",
           "Type": "GET DATA",
           "URL": "https://obdaac-tea.earthdatacloud.nasa.gov/ob-cumulus-prod-public/AQUA_MODIS.20201017T183001.L2.OC.nc"
          },
          {
           "Description": "This link provides direct download access via S3 to the granule",
           "Type": "GET DATA VIA DIRECT ACCESS",
           "URL": "s3://ob-cumulus-prod-public/AQUA_MODIS.20201017T183001.L2.OC.nc"
          },
          {
           "Description": "api endpoint to retrieve temporary credentials valid for same-region direct s3 access",
           "Type": "VIEW RELATED INFORMATION",
           "URL": "https://obdaac-tea.earthdatacloud.nasa.gov/s3credentials"
          }
         ],
         "SpatialExtent": {
          "HorizontalSpatialDomain": {
           "Geometry": {
            "GPolygons": [
             {
              "Boundary": {
               "Points": [
                {
                 "Latitude": 49.73923,
                 "Longitude": -68.20299
                },
                {
                 "Latitude": 45.35789,
                 "Longitude": -98.85613
                },
                {
                 "Latitude": 28.3291,
                 "Longitude": -90.18257
                },
                {
                 "Latitude": 31.73631,
                 "Longitude": -66.33559
                },
                {
                 "Latitude": 49.73923,
                 "Longitude": -68.20299
                }
               ]
              }
             }
            ]
           }
          }
         },
         "TemporalExtent": {
          "RangeDateTime": {
           "BeginningDateTime": "2020-10-17T18:30:01Z",
           "EndingDateTime": "2020-10-17T18:35:00Z"
          }
         }
        }
       }
      ],
      "text/plain": [
       "<IPython.core.display.JSON object>"
      ]
     },
     "execution_count": 14,
     "metadata": {
      "application/json": {
       "expanded": false,
       "root": "root"
      }
     },
     "output_type": "execute_result"
    }
   ],
   "source": [
    "JSON(results)"
   ]
  },
  {
   "cell_type": "markdown",
   "id": "ee212f51-709f-4ea0-861b-d7cbde35272d",
   "metadata": {},
   "source": [
    "[back to top](#contents) <a name=\"download\"></a>"
   ]
  },
  {
   "cell_type": "markdown",
   "id": "f6d78396",
   "metadata": {},
   "source": [
    "## 4. Download Data\n",
    "\n",
    "Since the data are not hosted in the Earthdata Cloud (see output from `results[0]` above), we need to download files. This will download the data in a folder called \"data\" in your working directory."
   ]
  },
  {
   "cell_type": "code",
   "execution_count": 15,
   "id": "07bec39b",
   "metadata": {},
   "outputs": [
    {
     "name": "stderr",
     "output_type": "stream",
     "text": [
      "QUEUEING TASKS | : 100%|█████████████████████████| 2/2 [00:00<00:00, 290.75it/s]\n",
      "PROCESSING TASKS | : 100%|████████████████████████| 2/2 [00:07<00:00,  3.60s/it]\n",
      "COLLECTING RESULTS | : 100%|███████████████████| 2/2 [00:00<00:00, 18893.26it/s]\n"
     ]
    }
   ],
   "source": [
    "paths = earthaccess.download(results, \"data\")"
   ]
  },
  {
   "cell_type": "markdown",
   "id": "97cd4f7d-fcee-4291-bbed-27dace02c23e",
   "metadata": {},
   "source": [
    "[back to top](#contents) <a name=\"plot\"></a>"
   ]
  },
  {
   "cell_type": "markdown",
   "id": "5647af3a",
   "metadata": {},
   "source": [
    "## 5. Plot Data\n",
    "\n",
    "Step-by-step, we'll build a nice map showing the log-transformed chlorophyll a estimate for the first granule we\n",
    "downloaded. The first step is to open some of the \"groups\" present within the NetCDF files to begin preparing\n",
    "a variable to plot."
   ]
  },
  {
   "cell_type": "code",
   "execution_count": 16,
   "id": "874f522b",
   "metadata": {},
   "outputs": [],
   "source": [
    "prod = xr.open_dataset(paths[0])\n",
    "obs = xr.open_dataset(paths[0], group=\"geophysical_data\")\n",
    "nav = xr.open_dataset(paths[0], group=\"navigation_data\")"
   ]
  },
  {
   "cell_type": "markdown",
   "id": "07445d38",
   "metadata": {},
   "source": [
    "The \"navigation_data\" group has geospatial coordinates that we merge into the \"geophysical_data\" group, which has the\n",
    "\"chlor_a\" product."
   ]
  },
  {
   "cell_type": "code",
   "execution_count": 17,
   "id": "22100a36",
   "metadata": {},
   "outputs": [],
   "source": [
    "nav = (\n",
    "    nav\n",
    "    .set_coords((\"longitude\", \"latitude\"))\n",
    "    .rename({\"pixel_control_points\": \"pixels_per_line\"})\n",
    ")\n",
    "dataset = xr.merge((prod, obs, nav.coords))"
   ]
  },
  {
   "cell_type": "markdown",
   "id": "708cfe28",
   "metadata": {},
   "source": [
    "Now, we can pull out and fine-tune the \"chlor_a\" variable for visualization."
   ]
  },
  {
   "cell_type": "code",
   "execution_count": null,
   "id": "ae58ea34",
   "metadata": {},
   "outputs": [],
   "source": [
    "array = np.log10(dataset[\"chlor_a\"])\n",
    "array.attrs.update(\n",
    "    {\n",
    "        \"units\": f'log10({dataset[\"chlor_a\"].attrs[\"units\"]})',\n",
    "    }\n",
    ")"
   ]
  },
  {
   "cell_type": "markdown",
   "id": "f926b41e",
   "metadata": {},
   "source": [
    "The `plot` method from XArray's plotting API is an easy way to take an `xr.Dataset` or `xr.DataArray` to\n",
    "a `matplotlib` figure."
   ]
  },
  {
   "cell_type": "code",
   "execution_count": null,
   "id": "d15026c7",
   "metadata": {},
   "outputs": [],
   "source": [
    "plot = array.plot(\n",
    "    x=\"longitude\", y=\"latitude\", aspect=2, size=4, cmap=\"jet\", robust=True\n",
    ")"
   ]
  },
  {
   "cell_type": "markdown",
   "id": "0a58bddb",
   "metadata": {},
   "source": [
    "We can enrich the visualiation using `matplotlib` and `cartopy`. The coordinates are latitude and longitude, so if we add the \"Plate Carree\" coordinate reference system (CRS) to our axes, we will get an improved map."
   ]
  },
  {
   "cell_type": "code",
   "execution_count": null,
   "id": "d0c561d4",
   "metadata": {},
   "outputs": [],
   "source": [
    "fig = plt.figure(figsize=(10, 7))\n",
    "ax = plt.axes(projection=cartopy.crs.PlateCarree())\n",
    "array.plot(x=\"longitude\", y=\"latitude\", cmap=\"jet\", robust=True, ax=ax)\n",
    "ax.gridlines(draw_labels={\"bottom\": \"x\", \"left\": \"y\"})\n",
    "ax.add_feature(cartopy.feature.STATES, linewidth=0.5)\n",
    "ax.set_title(dataset.attrs[\"product_name\"], loc=\"center\")\n",
    "plt.show()"
   ]
  },
  {
   "cell_type": "markdown",
   "id": "d2047e68",
   "metadata": {},
   "source": [
    "[back to top](#contents)\n",
    "\n",
    "<div class=\"alert alert-info\" role=\"alert\">\n",
    "\n",
    "You have completed the notebook on Aqua/MODIS L2 data exploration.\n",
    "\n",
    "</div>"
   ]
  }
 ],
 "metadata": {
  "kernelspec": {
   "display_name": "Python 3 (ipykernel)",
   "language": "python",
   "name": "python3"
  },
  "language_info": {
   "codemirror_mode": {
    "name": "ipython",
    "version": 3
   },
   "file_extension": ".py",
   "mimetype": "text/x-python",
   "name": "python",
   "nbconvert_exporter": "python",
   "pygments_lexer": "ipython3",
   "version": "3.11.2"
  }
 },
 "nbformat": 4,
 "nbformat_minor": 5
}
