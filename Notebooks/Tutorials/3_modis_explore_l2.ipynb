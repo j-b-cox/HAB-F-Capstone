{
 "cells": [
  {
   "cell_type": "markdown",
   "id": "d793b6c7-6705-464c-ad93-50e81df8dff1",
   "metadata": {},
   "source": [
    "# Explore Level-2 Ocean Color Data from the Moderate Resolution Imaging Spectroradiometer (MODIS)\n",
    "\n",
    "**Authors:** Guoqing Wang (NASA, GSFC), Ian Carroll (NASA, UMBC), Eli Holmes (NOAA), Anna Windle (NASA, GSFC)\n",
    "\n",
    "<div class=\"alert alert-info\" role=\"alert\">\n",
    "\n",
    "An [Earthdata Login][edl] account is required to access data from the NASA Earthdata system, including NASA ocean color data.\n",
    "\n",
    "</div>\n",
    "\n",
    "[edl]: https://urs.earthdata.nasa.gov/\n",
    "\n",
    "## Summary\n",
    "\n",
    "This tutorial demonstrates accessing and analyzing NASA ocean color data using Python from the NASA Ocean Biology Distributed Active Archive Center (OB.DAAC) archives. Currently, there are several ways to find and access ocean color data:\n",
    "\n",
    "1. [NASA's Earthdata Search](https://search.earthdata.nasa.gov/search)\n",
    "1. [NASA's CMR API](https://cmr.earthdata.nasa.gov/search/site/docs/search/api.html)\n",
    "1. [OB.DAAC OPENDAP](https://oceandata.sci.gsfc.nasa.gov/opendap/)\n",
    "1. [OB.DAAC File Search](https://oceandata.sci.gsfc.nasa.gov/api/file_search_help)\n",
    "\n",
    "In this tutorial, we will focus on using `earthaccess` Python module to access MODIS Aqua ocean color data through NASA's Common Metadata Repository (CMR), a metadata system that catalogs Earth Science data and associated metadata records. The level 2 dataset of MODIS Aqua is one of the most popular datasets of OB.DAAC. Here we will use MODIS Aqua L2 Chlorophyll *a* data of the Chesapeake Bay as an example.\n",
    "The standard NASA ocean color Chlorophyll *a* algorithm is described in the [Algorithm Theoretical Basis Document (ATBD)](https://www.earthdata.nasa.gov/apt/documents/chlor-a/v1.0).\n",
    "\n",
    "## Learning Objectives\n",
    "\n",
    "At the end of this notebok you will know:\n",
    "* How to find OB.DAAC ocean color data\n",
    "* How to download files using `earthaccess`\n",
    "* How to create a plot using `xarray`\n",
    "\n",
    "## Contents\n",
    "\n",
    "1. [Setup](#setup)\n",
    "1. [NASA Earthdata Authentication](#auth)\n",
    "1. [Search for Data](#search)\n",
    "1. [Download Data](#download)\n",
    "1. [Plot Data](#plot)\n",
    "\n",
    "<a name=\"setup\"></a>"
   ]
  },
  {
   "cell_type": "markdown",
   "id": "249edd34-91d6-4dfc-a49e-18bbfb215fd9",
   "metadata": {},
   "source": [
    "## 1. Setup\n",
    "\n",
    "We begin by importing all of the packages used in this notebook. If you have created an environment following the [guidance][tutorials] provided with this tutorial, then the imports will be successful.\n",
    "\n",
    "[tutorials]: https://oceancolor.gsfc.nasa.gov/resources/docs/tutorials"
   ]
  },
  {
   "cell_type": "code",
   "execution_count": 1,
   "id": "09e452d6",
   "metadata": {},
   "outputs": [
    {
     "name": "stderr",
     "output_type": "stream",
     "text": [
      "/Users/jessecox/.pyenv/versions/3.11.2/lib/python3.11/site-packages/tqdm/auto.py:21: TqdmWarning: IProgress not found. Please update jupyter and ipywidgets. See https://ipywidgets.readthedocs.io/en/stable/user_install.html\n",
      "  from .autonotebook import tqdm as notebook_tqdm\n"
     ]
    }
   ],
   "source": [
    "from cartopy.mpl.ticker import LongitudeFormatter, LatitudeFormatter\n",
    "from IPython.display import JSON\n",
    "import cartopy\n",
    "import cartopy.crs as ccrs\n",
    "import cartopy.feature as cfeature\n",
    "import earthaccess\n",
    "import matplotlib.pyplot as plt\n",
    "import numpy as np\n",
    "import xarray as xr\n",
    "import pyresample\n",
    "from pyresample import geometry, kd_tree"
   ]
  },
  {
   "cell_type": "markdown",
   "id": "6fbbaf1e-3c49-4f7b-93d1-028af33bf570",
   "metadata": {},
   "source": [
    "[back to top](#contents) <a name=\"auth\"></a>"
   ]
  },
  {
   "cell_type": "markdown",
   "id": "2edb7c7b",
   "metadata": {},
   "source": [
    "## 2. NASA Earthdata Authentication\n",
    "\n",
    "Next, we authenticate using our Earthdata Login\n",
    "credentials. Authentication is not needed to search publicaly\n",
    "available collections in Earthdata, but is always needed to access\n",
    "data. We can use the `login` method from the `earthaccess`\n",
    "package. This will create an authenticated session when we provide a\n",
    "valid Earthdata Login username and password. The `earthaccess`\n",
    "package will search for credentials defined by **environmental\n",
    "variables** or within a **.netrc** file saved in the home\n",
    "directory. If credentials are not found, an interactive prompt will\n",
    "allow you to input credentials.\n",
    "\n",
    "<div class=\"alert alert-info\" role=\"alert\">\n",
    "The <code>persist=True</code> argument ensures any discovered credentials are\n",
    "stored in a <code>.netrc</code> file, so the argument is not necessary (but\n",
    "it's also harmless) for subsequent calls to <code>earthaccess.login</code>.\n",
    "</div>"
   ]
  },
  {
   "cell_type": "code",
   "execution_count": 2,
   "id": "ed9806e4",
   "metadata": {},
   "outputs": [],
   "source": [
    "auth = earthaccess.login(persist=True)"
   ]
  },
  {
   "cell_type": "markdown",
   "id": "8e2b8fea-875f-43cc-b53d-aadc6792edbf",
   "metadata": {},
   "source": [
    "[back to top](#contents) <a name=\"search\"></a>"
   ]
  },
  {
   "cell_type": "markdown",
   "id": "db69104e",
   "metadata": {},
   "source": [
    "## 3. Search for Data\n",
    "\n",
    "The MODIS instrument, on board the Aqua satellite, collects ocean color data, processed from Level-1 through Level-4 and distributed by the OB.DAAC. In this example, we will use the standard Chlorophyll a data from Level-2 ocean color files. To find data we will use the `earthaccess` Python library to search on NASA's CMR API.\n",
    "\n",
    "NASA data collections, i.e. a series of related granules, are discoverable with `earthaccess.search_datasets`. Various search parameters can be used to search collections and granules using metadata attributes. See more details [here](https://github.com/nsidc/earthaccess/blob/main/notebooks/Demo.ipynb). Below, CMR Catalog are queried to find collections with **\"L2 ocean color\"** keyword in them, with the **MODIS** instrument. The returned response can be used to retrieve the `ShortName` and `concept-id` for each dataset."
   ]
  },
  {
   "cell_type": "code",
   "execution_count": 3,
   "id": "753259a3",
   "metadata": {},
   "outputs": [],
   "source": [
    "results = earthaccess.search_datasets(\n",
    "    keyword=\"L2 ocean color\",\n",
    "    instrument=\"MODIS\",\n",
    ")"
   ]
  },
  {
   "cell_type": "markdown",
   "id": "148015a8",
   "metadata": {},
   "source": [
    "Each result has a `summary` method with information such as the collection's short-name."
   ]
  },
  {
   "cell_type": "code",
   "execution_count": 4,
   "id": "63d41a6a",
   "metadata": {},
   "outputs": [
    {
     "data": {
      "text/plain": [
       "{'MODISA_L2_IOP',\n",
       " 'MODISA_L2_IOP_NRT',\n",
       " 'MODISA_L2_OC',\n",
       " 'MODISA_L2_OC_NRT',\n",
       " 'MODISA_L2_SST',\n",
       " 'MODISA_L2_SST4',\n",
       " 'MODISA_L2_SST4_NRT',\n",
       " 'MODISA_L2_SST_NRT',\n",
       " 'MODIST_L2_IOP',\n",
       " 'MODIST_L2_IOP_NRT',\n",
       " 'MODIST_L2_OC',\n",
       " 'MODIST_L2_OC_NRT',\n",
       " 'MODIST_L2_SST',\n",
       " 'MODIST_L2_SST4',\n",
       " 'MODIST_L2_SST4_NRT',\n",
       " 'MODIST_L2_SST_NRT'}"
      ]
     },
     "execution_count": 4,
     "metadata": {},
     "output_type": "execute_result"
    }
   ],
   "source": [
    "set((i.summary()[\"short-name\"] for i in results))"
   ]
  },
  {
   "cell_type": "markdown",
   "id": "10c92414",
   "metadata": {},
   "source": [
    "We are interested in the `MODISA_L2_OC` dataset."
   ]
  },
  {
   "cell_type": "markdown",
   "id": "b64da964",
   "metadata": {},
   "source": [
    "We can use spatial and temporal arguments to search for granules covering Chesapeake Bay during the time frame of Oct 15 - 23, 2020. We can also add the cloud_cover parameter to filter out granules with too much cloud coverage.\n",
    "cloud_cover = (0, 50) # max 50% of cloud coverage"
   ]
  },
  {
   "cell_type": "code",
   "execution_count": 5,
   "id": "9b95cc17",
   "metadata": {},
   "outputs": [],
   "source": [
    "tspan = (\"2020-10-15\", \"2020-10-23\")\n",
    "bbox = (-83.5, 41.3, -82.3, 42.2)\n",
    "cc = (0, 50)"
   ]
  },
  {
   "cell_type": "code",
   "execution_count": 6,
   "id": "e8b7cf44",
   "metadata": {},
   "outputs": [],
   "source": [
    "results = earthaccess.search_data(\n",
    "    short_name=\"MODISA_L2_OC\",\n",
    "    temporal=tspan,\n",
    "    bounding_box=bbox,\n",
    "    cloud_cover=cc,\n",
    ")"
   ]
  },
  {
   "cell_type": "markdown",
   "id": "32ba0f3a",
   "metadata": {},
   "source": [
    "Now we can print some info about these granules using the built-in methods. We can see how each result prefers to display itself."
   ]
  },
  {
   "cell_type": "code",
   "execution_count": 7,
   "id": "ccebf46c",
   "metadata": {},
   "outputs": [
    {
     "data": {
      "text/html": [
       "\n",
       "    <div id=\"3527a38a-4d40-4e21-bd60-709a2dd3f33c\" style=\"height: 0px; display: none\">\n",
       "            <style>.bootstrap{font-family:sans-serif;line-height:1;-ms-text-size-adjust:100%;-webkit-text-size-adjust:100%}.bootstrap{margin:0;font-size:10px;}.bootstrap article,.bootstrap aside,.bootstrap footer,.bootstrap header,.bootstrap nav,.bootstrap section{display:block}.bootstrap h1{font-size:2em;margin:0.67em 0}.bootstrap figcaption,.bootstrap figure,.bootstrap main{display:block}.bootstrap figure{margin:1em 40px}.bootstrap hr{-webkit-box-sizing:content-box;box-sizing:content-box;height:0;overflow:visible}.bootstrap pre{font-family:monospace,monospace;font-size:1em}.bootstrap a{background-color:transparent;-webkit-text-decoration-skip:objects}.bootstrap a:active,.bootstrap a:hover{outline-width:0}.bootstrap abbr[title]{border-bottom:none;text-decoration:underline;text-decoration:underline dotted}.bootstrap b,.bootstrap strong{font-weight:inherit}.bootstrap b,.bootstrap strong{font-weight:bolder}.bootstrap code,.bootstrap kbd,.bootstrap samp{font-family:monospace,monospace;font-size:1em}.bootstrap dfn{font-style:italic}.bootstrap mark{background-color:#ff0;color:#000}.bootstrap small{font-size:80%}.bootstrap sub,.bootstrap sup{font-size:75%;line-height:0;position:relative;vertical-align:baseline}.bootstrap sub{bottom:-0.25em}.bootstrap sup{top:-0.5em}.bootstrap audio,.bootstrap video{display:inline-block}.bootstrap audio:not([controls]){display:none;height:0}.bootstrap img{border-style:none}.bootstrap svg:not(:root){overflow:hidden}.bootstrap button,.bootstrap input,.bootstrap optgroup,.bootstrap select,.bootstrap textarea{font-family:sans-serif;font-size:100%;line-height:1.15;margin:0}.bootstrap button,.bootstrap input{overflow:visible}.bootstrap button,.bootstrap select{text-transform:none}.bootstrap [type=reset],.bootstrap [type=submit],.bootstrap button,.bootstrap [type=button]{-webkit-appearance:button}.bootstrap [type=button]::-moz-focus-inner,.bootstrap [type=reset]::-moz-focus-inner,.bootstrap [type=submit]::-moz-focus-inner,.bootstrap button::-moz-focus-inner{border-style:none;padding:0}.bootstrap [type=button]:-moz-focusring,.bootstrap [type=reset]:-moz-focusring,.bootstrap [type=submit]:-moz-focusring,.bootstrap button:-moz-focusring{outline:1px dotted ButtonText}.bootstrap fieldset{border:1px solid silver;margin:0 2px;padding:0.35em 0.625em 0.75em}.bootstrap legend{-webkit-box-sizing:border-box;box-sizing:border-box;color:inherit;display:table;max-width:100%;padding:0;white-space:normal}.bootstrap progress{display:inline-block;vertical-align:baseline}.bootstrap textarea{overflow:auto}.bootstrap [type=checkbox],.bootstrap [type=radio]{-webkit-box-sizing:border-box;box-sizing:border-box;padding:0}.bootstrap [type=number]::-webkit-inner-spin-button,.bootstrap [type=number]::-webkit-outer-spin-button{height:auto}.bootstrap [type=search]{-webkit-appearance:textfield;outline-offset:-2px}.bootstrap [type=search]::-webkit-search-cancel-button,.bootstrap [type=search]::-webkit-search-decoration{-webkit-appearance:none}.bootstrap ::-webkit-file-upload-button{-webkit-appearance:button;font:inherit}.bootstrap details,.bootstrap menu{display:block}.bootstrap summary{display:list-item}.bootstrap canvas{display:inline-block}.bootstrap template{display:none}.bootstrap [hidden]{display:none}@media print{.bootstrap *,.bootstrap ::after,.bootstrap ::before,.bootstrap blockquote::first-letter,.bootstrap blockquote::first-line,.bootstrap div::first-letter,.bootstrap div::first-line,.bootstrap li::first-letter,.bootstrap li::first-line,.bootstrap p::first-letter,.bootstrap p::first-line{text-shadow:none !important;-webkit-box-shadow:none !important;box-shadow:none !important}.bootstrap a,.bootstrap a:visited{text-decoration:underline}.bootstrap abbr[title]::after{content:\" (\" attr(title) \")\"}.bootstrap pre{white-space:pre-wrap !important}.bootstrap blockquote,.bootstrap pre{border:1px solid #999;page-break-inside:avoid}.bootstrap thead{display:table-header-group}.bootstrap img,.bootstrap tr{page-break-inside:avoid}.bootstrap h2,.bootstrap h3,.bootstrap p{orphans:3;widows:3}.bootstrap h2,.bootstrap h3{page-break-after:avoid}.bootstrap .navbar{display:none}.bootstrap .badge{border:1px solid #000}.bootstrap .table{border-collapse:collapse !important}.bootstrap .table td,.bootstrap .table th{background-color:#fff !important}.bootstrap .table-bordered td,.bootstrap .table-bordered th{border:1px solid #ddd !important}}.bootstrap{-webkit-box-sizing:border-box;box-sizing:border-box}.bootstrap *,.bootstrap ::after,.bootstrap ::before{-webkit-box-sizing:inherit;box-sizing:inherit}@-ms-viewport{width:device-width}.bootstrap{-ms-overflow-style:scrollbar;-webkit-tap-highlight-color:transparent}.bootstrap{font-family:-apple-system, system-ui, BlinkMacSystemFont, \"Segoe UI\", Roboto, \"Helvetica Neue\", Arial, sans-serif;font-size:0.8rem;font-weight:400;line-height:1.5;color:#292b2c;background-color:#fff}.bootstrap [tabindex=\"-1\"]:focus{outline:0 !important}.bootstrap h1,.bootstrap h2,.bootstrap h3,.bootstrap h4,.bootstrap h5,.bootstrap h6{margin-top:0;margin-bottom:0.5rem}.bootstrap p{margin-top:0;margin-bottom:1rem}.bootstrap abbr[data-original-title],.bootstrap abbr[title]{cursor:help}.bootstrap address{margin-bottom:1rem;font-style:normal;line-height:inherit}.bootstrap dl,.bootstrap ol,.bootstrap ul{margin-top:0;margin-bottom:1rem}.bootstrap ol ol,.bootstrap ol ul,.bootstrap ul ol,.bootstrap ul ul{margin-bottom:0}.bootstrap dt{font-weight:700}.bootstrap dd{margin-bottom:.5rem;margin-left:0}.bootstrap blockquote{margin:0 0 1rem}.bootstrap a{color:#0275d8;text-decoration:none}.bootstrap a:focus,.bootstrap a:hover{color:#014c8c;text-decoration:underline}.bootstrap a:not([href]):not([tabindex]){color:inherit;text-decoration:none}.bootstrap a:not([href]):not([tabindex]):focus,.bootstrap a:not([href]):not([tabindex]):hover{color:inherit;text-decoration:none}.bootstrap a:not([href]):not([tabindex]):focus{outline:0}.bootstrap pre{margin-top:0;margin-bottom:1rem;overflow:auto}.bootstrap figure{margin:0 0 1rem}.bootstrap img{vertical-align:middle}.bootstrap [role=button]{cursor:pointer}.bootstrap [role=button],.bootstrap a,.bootstrap area,.bootstrap button,.bootstrap input,.bootstrap label,.bootstrap select,.bootstrap summary,.bootstrap textarea{-ms-touch-action:manipulation;touch-action:manipulation}.bootstrap table{border-collapse:collapse;background-color:transparent}.bootstrap caption{padding-top:.75rem;padding-bottom:.75rem;color:#636c72;text-align:left;caption-side:bottom}.bootstrap th{text-align:left}.bootstrap label{display:inline-block;margin-bottom:0.5rem}.bootstrap button:focus{outline:1px dotted;outline:5px auto -webkit-focus-ring-color}.bootstrap button,.bootstrap input,.bootstrap select,.bootstrap textarea{line-height:inherit}.bootstrap input[type=checkbox]:disabled,.bootstrap input[type=radio]:disabled{cursor:not-allowed}.bootstrap input[type=date],.bootstrap input[type=time],.bootstrap input[type=datetime-local],.bootstrap input[type=month]{-webkit-appearance:listbox}.bootstrap textarea{resize:vertical}.bootstrap fieldset{min-width:0;padding:0;margin:0;border:0}.bootstrap legend{display:block;width:100%;padding:0;margin-bottom:.5rem;font-size:1.5rem;line-height:inherit}.bootstrap input[type=search]{-webkit-appearance:none}.bootstrap output{display:inline-block}.bootstrap [hidden]{display:none !important}.bootstrap .h1,.bootstrap .h2,.bootstrap .h3,.bootstrap .h4,.bootstrap .h5,.bootstrap .h6,.bootstrap h1,.bootstrap h2,.bootstrap h3,.bootstrap h4,.bootstrap h5,.bootstrap h6{margin-bottom:.5rem;font-family:inherit;font-weight:500;line-height:1.1;color:inherit}.bootstrap .h1,.bootstrap h1{font-size:2.5rem}.bootstrap .h2,.bootstrap h2{font-size:2rem}.bootstrap .h3,.bootstrap h3{font-size:1.75rem}.bootstrap .h4,.bootstrap h4{font-size:1.5rem}.bootstrap .h5,.bootstrap h5{font-size:1.25rem}.bootstrap .h6,.bootstrap h6{font-size:1rem}.bootstrap .lead{font-size:1.25rem;font-weight:300}.bootstrap .display-1{font-size:6rem;font-weight:300;line-height:1.1}.bootstrap .display-2{font-size:5.5rem;font-weight:300;line-height:1.1}.bootstrap .display-3{font-size:4.5rem;font-weight:300;line-height:1.1}.bootstrap .display-4{font-size:3.5rem;font-weight:300;line-height:1.1}.bootstrap hr{margin-top:1rem;margin-bottom:1rem;border:0;border-top:1px solid rgba(0, 0, 0, 0.1)}.bootstrap .small,.bootstrap small{font-size:80%;font-weight:400}.bootstrap .mark,.bootstrap mark{padding:.2em;background-color:#fcf8e3}.bootstrap .list-unstyled{padding-left:0;list-style:none}.bootstrap .list-inline{padding-left:0;list-style:none}.bootstrap .list-inline-item{display:inline-block}.bootstrap .list-inline-item:not(:last-child){margin-right:5px}.bootstrap .initialism{font-size:90%;text-transform:uppercase}.bootstrap .blockquote{padding:.5rem 1rem;margin-bottom:1rem;font-size:1.25rem;border-left:0.25rem solid #eceeef}.bootstrap .blockquote-footer{display:block;font-size:80%;color:#636c72}.bootstrap .blockquote-footer::before{content:\"\\2014 \\00A0\"}.bootstrap .blockquote-reverse{padding-right:1rem;padding-left:0;text-align:right;border-right:.25rem solid #eceeef;border-left:0}.bootstrap .blockquote-reverse .blockquote-footer::before{content:\"\"}.bootstrap .blockquote-reverse .blockquote-footer::after{content:\"\\00A0 \\2014\"}.bootstrap .img-fluid{max-width:100%;height:auto}.bootstrap .img-thumbnail{padding:.25rem;background-color:#fff;border:1px solid #ddd;border-radius:.25rem;-webkit-transition:all 0.2s ease-in-out;-o-transition:all 0.2s ease-in-out;transition:all 0.2s ease-in-out;max-width:100%;height:auto}.bootstrap .figure{display:inline-block}.bootstrap .figure-img{margin-bottom:.5rem;line-height:1}.bootstrap .figure-caption{font-size:90%;color:#636c72}.bootstrap code,.bootstrap kbd,.bootstrap pre,.bootstrap samp{font-family:Menlo, Monaco, Consolas, \"Liberation Mono\", \"Courier New\", monospace}.bootstrap code{padding:.2rem .4rem;font-size:90%;color:#bd4147;background-color:#f7f7f9;border-radius:0.25rem}.bootstrap a > code{padding:0;color:inherit;background-color:inherit}.bootstrap kbd{padding:.2rem .4rem;font-size:90%;color:#fff;background-color:#292b2c;border-radius:0.2rem}.bootstrap kbd kbd{padding:0;font-size:100%;font-weight:700}.bootstrap pre{display:block;margin-top:0;margin-bottom:1rem;font-size:90%;color:#292b2c}.bootstrap pre code{padding:0;font-size:inherit;color:inherit;background-color:transparent;border-radius:0}.bootstrap .pre-scrollable{max-height:340px;overflow-y:scroll}.bootstrap .container{position:relative;margin-left:auto;margin-right:auto;padding-right:15px;padding-left:15px}@media (min-width: 576px){.bootstrap .container{padding-right:15px;padding-left:15px}}@media (min-width: 768px){.bootstrap .container{padding-right:15px;padding-left:15px}}@media (min-width: 992px){.bootstrap .container{padding-right:15px;padding-left:15px}}@media (min-width: 1200px){.bootstrap .container{padding-right:15px;padding-left:15px}}@media (min-width: 576px){.bootstrap .container{width:540px;max-width:100%}}@media (min-width: 768px){.bootstrap .container{width:720px;max-width:100%}}@media (min-width: 992px){.bootstrap .container{width:960px;max-width:100%}}@media (min-width: 1200px){.bootstrap .container{width:1140px;max-width:100%}}.bootstrap .container-fluid{position:relative;margin-left:auto;margin-right:auto;padding-right:15px;padding-left:15px}@media (min-width: 576px){.bootstrap .container-fluid{padding-right:15px;padding-left:15px}}@media (min-width: 768px){.bootstrap .container-fluid{padding-right:15px;padding-left:15px}}@media (min-width: 992px){.bootstrap .container-fluid{padding-right:15px;padding-left:15px}}@media (min-width: 1200px){.bootstrap .container-fluid{padding-right:15px;padding-left:15px}}.bootstrap .row{display:-webkit-box;display:-webkit-flex;display:-ms-flexbox;display:flex;-webkit-flex-wrap:wrap;-ms-flex-wrap:wrap;flex-wrap:wrap;margin-right:-15px;margin-left:-15px}@media (min-width: 576px){.bootstrap .row{margin-right:-15px;margin-left:-15px}}@media (min-width: 768px){.bootstrap .row{margin-right:-15px;margin-left:-15px}}@media (min-width: 992px){.bootstrap .row{margin-right:-15px;margin-left:-15px}}@media (min-width: 1200px){.bootstrap .row{margin-right:-15px;margin-left:-15px}}.bootstrap .no-gutters{margin-right:0;margin-left:0}.bootstrap .no-gutters > .col,.bootstrap .no-gutters > [class*=col-]{padding-right:0;padding-left:0}.bootstrap .col,.bootstrap .col-1,.bootstrap .col-10,.bootstrap .col-11,.bootstrap .col-12,.bootstrap .col-2,.bootstrap .col-3,.bootstrap .col-4,.bootstrap .col-5,.bootstrap .col-6,.bootstrap .col-7,.bootstrap .col-8,.bootstrap .col-9,.bootstrap .col-lg,.bootstrap .col-lg-1,.bootstrap .col-lg-10,.bootstrap .col-lg-11,.bootstrap .col-lg-12,.bootstrap .col-lg-2,.bootstrap .col-lg-3,.bootstrap .col-lg-4,.bootstrap .col-lg-5,.bootstrap .col-lg-6,.bootstrap .col-lg-7,.bootstrap .col-lg-8,.bootstrap .col-lg-9,.bootstrap .col-md,.bootstrap .col-md-1,.bootstrap .col-md-10,.bootstrap .col-md-11,.bootstrap .col-md-12,.bootstrap .col-md-2,.bootstrap .col-md-3,.bootstrap .col-md-4,.bootstrap .col-md-5,.bootstrap .col-md-6,.bootstrap .col-md-7,.bootstrap .col-md-8,.bootstrap .col-md-9,.bootstrap .col-sm,.bootstrap .col-sm-1,.bootstrap .col-sm-10,.bootstrap .col-sm-11,.bootstrap .col-sm-12,.bootstrap .col-sm-2,.bootstrap .col-sm-3,.bootstrap .col-sm-4,.bootstrap .col-sm-5,.bootstrap .col-sm-6,.bootstrap .col-sm-7,.bootstrap .col-sm-8,.bootstrap .col-sm-9,.bootstrap .col-xl,.bootstrap .col-xl-1,.bootstrap .col-xl-10,.bootstrap .col-xl-11,.bootstrap .col-xl-12,.bootstrap .col-xl-2,.bootstrap .col-xl-3,.bootstrap .col-xl-4,.bootstrap .col-xl-5,.bootstrap .col-xl-6,.bootstrap .col-xl-7,.bootstrap .col-xl-8,.bootstrap .col-xl-9{position:relative;width:100%;min-height:1px;padding-right:15px;padding-left:15px}@media (min-width: 576px){.bootstrap .col,.bootstrap .col-1,.bootstrap .col-10,.bootstrap .col-11,.bootstrap .col-12,.bootstrap .col-2,.bootstrap .col-3,.bootstrap .col-4,.bootstrap .col-5,.bootstrap .col-6,.bootstrap .col-7,.bootstrap .col-8,.bootstrap .col-9,.bootstrap .col-lg,.bootstrap .col-lg-1,.bootstrap .col-lg-10,.bootstrap .col-lg-11,.bootstrap .col-lg-12,.bootstrap .col-lg-2,.bootstrap .col-lg-3,.bootstrap .col-lg-4,.bootstrap .col-lg-5,.bootstrap .col-lg-6,.bootstrap .col-lg-7,.bootstrap .col-lg-8,.bootstrap .col-lg-9,.bootstrap .col-md,.bootstrap .col-md-1,.bootstrap .col-md-10,.bootstrap .col-md-11,.bootstrap .col-md-12,.bootstrap .col-md-2,.bootstrap .col-md-3,.bootstrap .col-md-4,.bootstrap .col-md-5,.bootstrap .col-md-6,.bootstrap .col-md-7,.bootstrap .col-md-8,.bootstrap .col-md-9,.bootstrap .col-sm,.bootstrap .col-sm-1,.bootstrap .col-sm-10,.bootstrap .col-sm-11,.bootstrap .col-sm-12,.bootstrap .col-sm-2,.bootstrap .col-sm-3,.bootstrap .col-sm-4,.bootstrap .col-sm-5,.bootstrap .col-sm-6,.bootstrap .col-sm-7,.bootstrap .col-sm-8,.bootstrap .col-sm-9,.bootstrap .col-xl,.bootstrap .col-xl-1,.bootstrap .col-xl-10,.bootstrap .col-xl-11,.bootstrap .col-xl-12,.bootstrap .col-xl-2,.bootstrap .col-xl-3,.bootstrap .col-xl-4,.bootstrap .col-xl-5,.bootstrap .col-xl-6,.bootstrap .col-xl-7,.bootstrap .col-xl-8,.bootstrap .col-xl-9{padding-right:15px;padding-left:15px}}@media (min-width: 768px){.bootstrap .col,.bootstrap .col-1,.bootstrap .col-10,.bootstrap .col-11,.bootstrap .col-12,.bootstrap .col-2,.bootstrap .col-3,.bootstrap .col-4,.bootstrap .col-5,.bootstrap .col-6,.bootstrap .col-7,.bootstrap .col-8,.bootstrap .col-9,.bootstrap .col-lg,.bootstrap .col-lg-1,.bootstrap .col-lg-10,.bootstrap .col-lg-11,.bootstrap .col-lg-12,.bootstrap .col-lg-2,.bootstrap .col-lg-3,.bootstrap .col-lg-4,.bootstrap .col-lg-5,.bootstrap .col-lg-6,.bootstrap .col-lg-7,.bootstrap .col-lg-8,.bootstrap .col-lg-9,.bootstrap .col-md,.bootstrap .col-md-1,.bootstrap .col-md-10,.bootstrap .col-md-11,.bootstrap .col-md-12,.bootstrap .col-md-2,.bootstrap .col-md-3,.bootstrap .col-md-4,.bootstrap .col-md-5,.bootstrap .col-md-6,.bootstrap .col-md-7,.bootstrap .col-md-8,.bootstrap .col-md-9,.bootstrap .col-sm,.bootstrap .col-sm-1,.bootstrap .col-sm-10,.bootstrap .col-sm-11,.bootstrap .col-sm-12,.bootstrap .col-sm-2,.bootstrap .col-sm-3,.bootstrap .col-sm-4,.bootstrap .col-sm-5,.bootstrap .col-sm-6,.bootstrap .col-sm-7,.bootstrap .col-sm-8,.bootstrap .col-sm-9,.bootstrap .col-xl,.bootstrap .col-xl-1,.bootstrap .col-xl-10,.bootstrap .col-xl-11,.bootstrap .col-xl-12,.bootstrap .col-xl-2,.bootstrap .col-xl-3,.bootstrap .col-xl-4,.bootstrap .col-xl-5,.bootstrap .col-xl-6,.bootstrap .col-xl-7,.bootstrap .col-xl-8,.bootstrap .col-xl-9{padding-right:15px;padding-left:15px}}@media (min-width: 992px){.bootstrap .col,.bootstrap .col-1,.bootstrap .col-10,.bootstrap .col-11,.bootstrap .col-12,.bootstrap .col-2,.bootstrap .col-3,.bootstrap .col-4,.bootstrap .col-5,.bootstrap .col-6,.bootstrap .col-7,.bootstrap .col-8,.bootstrap .col-9,.bootstrap .col-lg,.bootstrap .col-lg-1,.bootstrap .col-lg-10,.bootstrap .col-lg-11,.bootstrap .col-lg-12,.bootstrap .col-lg-2,.bootstrap .col-lg-3,.bootstrap .col-lg-4,.bootstrap .col-lg-5,.bootstrap .col-lg-6,.bootstrap .col-lg-7,.bootstrap .col-lg-8,.bootstrap .col-lg-9,.bootstrap .col-md,.bootstrap .col-md-1,.bootstrap .col-md-10,.bootstrap .col-md-11,.bootstrap .col-md-12,.bootstrap .col-md-2,.bootstrap .col-md-3,.bootstrap .col-md-4,.bootstrap .col-md-5,.bootstrap .col-md-6,.bootstrap .col-md-7,.bootstrap .col-md-8,.bootstrap .col-md-9,.bootstrap .col-sm,.bootstrap .col-sm-1,.bootstrap .col-sm-10,.bootstrap .col-sm-11,.bootstrap .col-sm-12,.bootstrap .col-sm-2,.bootstrap .col-sm-3,.bootstrap .col-sm-4,.bootstrap .col-sm-5,.bootstrap .col-sm-6,.bootstrap .col-sm-7,.bootstrap .col-sm-8,.bootstrap .col-sm-9,.bootstrap .col-xl,.bootstrap .col-xl-1,.bootstrap .col-xl-10,.bootstrap .col-xl-11,.bootstrap .col-xl-12,.bootstrap .col-xl-2,.bootstrap .col-xl-3,.bootstrap .col-xl-4,.bootstrap .col-xl-5,.bootstrap .col-xl-6,.bootstrap .col-xl-7,.bootstrap .col-xl-8,.bootstrap .col-xl-9{padding-right:15px;padding-left:15px}}@media (min-width: 1200px){.bootstrap .col,.bootstrap .col-1,.bootstrap .col-10,.bootstrap .col-11,.bootstrap .col-12,.bootstrap .col-2,.bootstrap .col-3,.bootstrap .col-4,.bootstrap .col-5,.bootstrap .col-6,.bootstrap .col-7,.bootstrap .col-8,.bootstrap .col-9,.bootstrap .col-lg,.bootstrap .col-lg-1,.bootstrap .col-lg-10,.bootstrap .col-lg-11,.bootstrap .col-lg-12,.bootstrap .col-lg-2,.bootstrap .col-lg-3,.bootstrap .col-lg-4,.bootstrap .col-lg-5,.bootstrap .col-lg-6,.bootstrap .col-lg-7,.bootstrap .col-lg-8,.bootstrap .col-lg-9,.bootstrap .col-md,.bootstrap .col-md-1,.bootstrap .col-md-10,.bootstrap .col-md-11,.bootstrap .col-md-12,.bootstrap .col-md-2,.bootstrap .col-md-3,.bootstrap .col-md-4,.bootstrap .col-md-5,.bootstrap .col-md-6,.bootstrap .col-md-7,.bootstrap .col-md-8,.bootstrap .col-md-9,.bootstrap .col-sm,.bootstrap .col-sm-1,.bootstrap .col-sm-10,.bootstrap .col-sm-11,.bootstrap .col-sm-12,.bootstrap .col-sm-2,.bootstrap .col-sm-3,.bootstrap .col-sm-4,.bootstrap .col-sm-5,.bootstrap .col-sm-6,.bootstrap .col-sm-7,.bootstrap .col-sm-8,.bootstrap .col-sm-9,.bootstrap .col-xl,.bootstrap .col-xl-1,.bootstrap .col-xl-10,.bootstrap .col-xl-11,.bootstrap .col-xl-12,.bootstrap .col-xl-2,.bootstrap .col-xl-3,.bootstrap .col-xl-4,.bootstrap .col-xl-5,.bootstrap .col-xl-6,.bootstrap .col-xl-7,.bootstrap .col-xl-8,.bootstrap .col-xl-9{padding-right:15px;padding-left:15px}}.bootstrap .col{-webkit-flex-basis:0;-ms-flex-preferred-size:0;flex-basis:0;-webkit-box-flex:1;-webkit-flex-grow:1;-ms-flex-positive:1;flex-grow:1;max-width:100%}.bootstrap .col-auto{-webkit-box-flex:0;-webkit-flex:0 0 auto;-ms-flex:0 0 auto;flex:0 0 auto;width:auto}.bootstrap .col-1{-webkit-box-flex:0;-webkit-flex:0 0 8.333333%;-ms-flex:0 0 8.333333%;flex:0 0 8.333333%;max-width:8.333333%}.bootstrap .col-2{-webkit-box-flex:0;-webkit-flex:0 0 16.666667%;-ms-flex:0 0 16.666667%;flex:0 0 16.666667%;max-width:16.666667%}.bootstrap .col-3{-webkit-box-flex:0;-webkit-flex:0 0 25%;-ms-flex:0 0 25%;flex:0 0 25%;max-width:25%}.bootstrap .col-4{-webkit-box-flex:0;-webkit-flex:0 0 33.333333%;-ms-flex:0 0 33.333333%;flex:0 0 33.333333%;max-width:33.333333%}.bootstrap .col-5{-webkit-box-flex:0;-webkit-flex:0 0 41.666667%;-ms-flex:0 0 41.666667%;flex:0 0 41.666667%;max-width:41.666667%}.bootstrap .col-6{-webkit-box-flex:0;-webkit-flex:0 0 50%;-ms-flex:0 0 50%;flex:0 0 50%;max-width:50%}.bootstrap .col-7{-webkit-box-flex:0;-webkit-flex:0 0 58.333333%;-ms-flex:0 0 58.333333%;flex:0 0 58.333333%;max-width:58.333333%}.bootstrap .col-8{-webkit-box-flex:0;-webkit-flex:0 0 66.666667%;-ms-flex:0 0 66.666667%;flex:0 0 66.666667%;max-width:66.666667%}.bootstrap .col-9{-webkit-box-flex:0;-webkit-flex:0 0 75%;-ms-flex:0 0 75%;flex:0 0 75%;max-width:75%}.bootstrap .col-10{-webkit-box-flex:0;-webkit-flex:0 0 83.333333%;-ms-flex:0 0 83.333333%;flex:0 0 83.333333%;max-width:83.333333%}.bootstrap .col-11{-webkit-box-flex:0;-webkit-flex:0 0 91.666667%;-ms-flex:0 0 91.666667%;flex:0 0 91.666667%;max-width:91.666667%}.bootstrap .col-12{-webkit-box-flex:0;-webkit-flex:0 0 100%;-ms-flex:0 0 100%;flex:0 0 100%;max-width:100%}.bootstrap .pull-0{right:auto}.bootstrap .pull-1{right:8.333333%}.bootstrap .pull-2{right:16.666667%}.bootstrap .pull-3{right:25%}.bootstrap .pull-4{right:33.333333%}.bootstrap .pull-5{right:41.666667%}.bootstrap .pull-6{right:50%}.bootstrap .pull-7{right:58.333333%}.bootstrap .pull-8{right:66.666667%}.bootstrap .pull-9{right:75%}.bootstrap .pull-10{right:83.333333%}.bootstrap .pull-11{right:91.666667%}.bootstrap .pull-12{right:100%}.bootstrap .push-0{left:auto}.bootstrap .push-1{left:8.333333%}.bootstrap .push-2{left:16.666667%}.bootstrap .push-3{left:25%}.bootstrap .push-4{left:33.333333%}.bootstrap .push-5{left:41.666667%}.bootstrap .push-6{left:50%}.bootstrap .push-7{left:58.333333%}.bootstrap .push-8{left:66.666667%}.bootstrap .push-9{left:75%}.bootstrap .push-10{left:83.333333%}.bootstrap .push-11{left:91.666667%}.bootstrap .push-12{left:100%}.bootstrap .offset-1{margin-left:8.333333%}.bootstrap .offset-2{margin-left:16.666667%}.bootstrap .offset-3{margin-left:25%}.bootstrap .offset-4{margin-left:33.333333%}.bootstrap .offset-5{margin-left:41.666667%}.bootstrap .offset-6{margin-left:50%}.bootstrap .offset-7{margin-left:58.333333%}.bootstrap .offset-8{margin-left:66.666667%}.bootstrap .offset-9{margin-left:75%}.bootstrap .offset-10{margin-left:83.333333%}.bootstrap .offset-11{margin-left:91.666667%}@media (min-width: 576px){.bootstrap .col-sm{-webkit-flex-basis:0;-ms-flex-preferred-size:0;flex-basis:0;-webkit-box-flex:1;-webkit-flex-grow:1;-ms-flex-positive:1;flex-grow:1;max-width:100%}.bootstrap .col-sm-auto{-webkit-box-flex:0;-webkit-flex:0 0 auto;-ms-flex:0 0 auto;flex:0 0 auto;width:auto}.bootstrap .col-sm-1{-webkit-box-flex:0;-webkit-flex:0 0 8.333333%;-ms-flex:0 0 8.333333%;flex:0 0 8.333333%;max-width:8.333333%}.bootstrap .col-sm-2{-webkit-box-flex:0;-webkit-flex:0 0 16.666667%;-ms-flex:0 0 16.666667%;flex:0 0 16.666667%;max-width:16.666667%}.bootstrap .col-sm-3{-webkit-box-flex:0;-webkit-flex:0 0 25%;-ms-flex:0 0 25%;flex:0 0 25%;max-width:25%}.bootstrap .col-sm-4{-webkit-box-flex:0;-webkit-flex:0 0 33.333333%;-ms-flex:0 0 33.333333%;flex:0 0 33.333333%;max-width:33.333333%}.bootstrap .col-sm-5{-webkit-box-flex:0;-webkit-flex:0 0 41.666667%;-ms-flex:0 0 41.666667%;flex:0 0 41.666667%;max-width:41.666667%}.bootstrap .col-sm-6{-webkit-box-flex:0;-webkit-flex:0 0 50%;-ms-flex:0 0 50%;flex:0 0 50%;max-width:50%}.bootstrap .col-sm-7{-webkit-box-flex:0;-webkit-flex:0 0 58.333333%;-ms-flex:0 0 58.333333%;flex:0 0 58.333333%;max-width:58.333333%}.bootstrap .col-sm-8{-webkit-box-flex:0;-webkit-flex:0 0 66.666667%;-ms-flex:0 0 66.666667%;flex:0 0 66.666667%;max-width:66.666667%}.bootstrap .col-sm-9{-webkit-box-flex:0;-webkit-flex:0 0 75%;-ms-flex:0 0 75%;flex:0 0 75%;max-width:75%}.bootstrap .col-sm-10{-webkit-box-flex:0;-webkit-flex:0 0 83.333333%;-ms-flex:0 0 83.333333%;flex:0 0 83.333333%;max-width:83.333333%}.bootstrap .col-sm-11{-webkit-box-flex:0;-webkit-flex:0 0 91.666667%;-ms-flex:0 0 91.666667%;flex:0 0 91.666667%;max-width:91.666667%}.bootstrap .col-sm-12{-webkit-box-flex:0;-webkit-flex:0 0 100%;-ms-flex:0 0 100%;flex:0 0 100%;max-width:100%}.bootstrap .pull-sm-0{right:auto}.bootstrap .pull-sm-1{right:8.333333%}.bootstrap .pull-sm-2{right:16.666667%}.bootstrap .pull-sm-3{right:25%}.bootstrap .pull-sm-4{right:33.333333%}.bootstrap .pull-sm-5{right:41.666667%}.bootstrap .pull-sm-6{right:50%}.bootstrap .pull-sm-7{right:58.333333%}.bootstrap .pull-sm-8{right:66.666667%}.bootstrap .pull-sm-9{right:75%}.bootstrap .pull-sm-10{right:83.333333%}.bootstrap .pull-sm-11{right:91.666667%}.bootstrap .pull-sm-12{right:100%}.bootstrap .push-sm-0{left:auto}.bootstrap .push-sm-1{left:8.333333%}.bootstrap .push-sm-2{left:16.666667%}.bootstrap .push-sm-3{left:25%}.bootstrap .push-sm-4{left:33.333333%}.bootstrap .push-sm-5{left:41.666667%}.bootstrap .push-sm-6{left:50%}.bootstrap .push-sm-7{left:58.333333%}.bootstrap .push-sm-8{left:66.666667%}.bootstrap .push-sm-9{left:75%}.bootstrap .push-sm-10{left:83.333333%}.bootstrap .push-sm-11{left:91.666667%}.bootstrap .push-sm-12{left:100%}.bootstrap .offset-sm-0{margin-left:0}.bootstrap .offset-sm-1{margin-left:8.333333%}.bootstrap .offset-sm-2{margin-left:16.666667%}.bootstrap .offset-sm-3{margin-left:25%}.bootstrap .offset-sm-4{margin-left:33.333333%}.bootstrap .offset-sm-5{margin-left:41.666667%}.bootstrap .offset-sm-6{margin-left:50%}.bootstrap .offset-sm-7{margin-left:58.333333%}.bootstrap .offset-sm-8{margin-left:66.666667%}.bootstrap .offset-sm-9{margin-left:75%}.bootstrap .offset-sm-10{margin-left:83.333333%}.bootstrap .offset-sm-11{margin-left:91.666667%}}@media (min-width: 768px){.bootstrap .col-md{-webkit-flex-basis:0;-ms-flex-preferred-size:0;flex-basis:0;-webkit-box-flex:1;-webkit-flex-grow:1;-ms-flex-positive:1;flex-grow:1;max-width:100%}.bootstrap .col-md-auto{-webkit-box-flex:0;-webkit-flex:0 0 auto;-ms-flex:0 0 auto;flex:0 0 auto;width:auto}.bootstrap .col-md-1{-webkit-box-flex:0;-webkit-flex:0 0 8.333333%;-ms-flex:0 0 8.333333%;flex:0 0 8.333333%;max-width:8.333333%}.bootstrap .col-md-2{-webkit-box-flex:0;-webkit-flex:0 0 16.666667%;-ms-flex:0 0 16.666667%;flex:0 0 16.666667%;max-width:16.666667%}.bootstrap .col-md-3{-webkit-box-flex:0;-webkit-flex:0 0 25%;-ms-flex:0 0 25%;flex:0 0 25%;max-width:25%}.bootstrap .col-md-4{-webkit-box-flex:0;-webkit-flex:0 0 33.333333%;-ms-flex:0 0 33.333333%;flex:0 0 33.333333%;max-width:33.333333%}.bootstrap .col-md-5{-webkit-box-flex:0;-webkit-flex:0 0 41.666667%;-ms-flex:0 0 41.666667%;flex:0 0 41.666667%;max-width:41.666667%}.bootstrap .col-md-6{-webkit-box-flex:0;-webkit-flex:0 0 50%;-ms-flex:0 0 50%;flex:0 0 50%;max-width:50%}.bootstrap .col-md-7{-webkit-box-flex:0;-webkit-flex:0 0 58.333333%;-ms-flex:0 0 58.333333%;flex:0 0 58.333333%;max-width:58.333333%}.bootstrap .col-md-8{-webkit-box-flex:0;-webkit-flex:0 0 66.666667%;-ms-flex:0 0 66.666667%;flex:0 0 66.666667%;max-width:66.666667%}.bootstrap .col-md-9{-webkit-box-flex:0;-webkit-flex:0 0 75%;-ms-flex:0 0 75%;flex:0 0 75%;max-width:75%}.bootstrap .col-md-10{-webkit-box-flex:0;-webkit-flex:0 0 83.333333%;-ms-flex:0 0 83.333333%;flex:0 0 83.333333%;max-width:83.333333%}.bootstrap .col-md-11{-webkit-box-flex:0;-webkit-flex:0 0 91.666667%;-ms-flex:0 0 91.666667%;flex:0 0 91.666667%;max-width:91.666667%}.bootstrap .col-md-12{-webkit-box-flex:0;-webkit-flex:0 0 100%;-ms-flex:0 0 100%;flex:0 0 100%;max-width:100%}.bootstrap .pull-md-0{right:auto}.bootstrap .pull-md-1{right:8.333333%}.bootstrap .pull-md-2{right:16.666667%}.bootstrap .pull-md-3{right:25%}.bootstrap .pull-md-4{right:33.333333%}.bootstrap .pull-md-5{right:41.666667%}.bootstrap .pull-md-6{right:50%}.bootstrap .pull-md-7{right:58.333333%}.bootstrap .pull-md-8{right:66.666667%}.bootstrap .pull-md-9{right:75%}.bootstrap .pull-md-10{right:83.333333%}.bootstrap .pull-md-11{right:91.666667%}.bootstrap .pull-md-12{right:100%}.bootstrap .push-md-0{left:auto}.bootstrap .push-md-1{left:8.333333%}.bootstrap .push-md-2{left:16.666667%}.bootstrap .push-md-3{left:25%}.bootstrap .push-md-4{left:33.333333%}.bootstrap .push-md-5{left:41.666667%}.bootstrap .push-md-6{left:50%}.bootstrap .push-md-7{left:58.333333%}.bootstrap .push-md-8{left:66.666667%}.bootstrap .push-md-9{left:75%}.bootstrap .push-md-10{left:83.333333%}.bootstrap .push-md-11{left:91.666667%}.bootstrap .push-md-12{left:100%}.bootstrap .offset-md-0{margin-left:0}.bootstrap .offset-md-1{margin-left:8.333333%}.bootstrap .offset-md-2{margin-left:16.666667%}.bootstrap .offset-md-3{margin-left:25%}.bootstrap .offset-md-4{margin-left:33.333333%}.bootstrap .offset-md-5{margin-left:41.666667%}.bootstrap .offset-md-6{margin-left:50%}.bootstrap .offset-md-7{margin-left:58.333333%}.bootstrap .offset-md-8{margin-left:66.666667%}.bootstrap .offset-md-9{margin-left:75%}.bootstrap .offset-md-10{margin-left:83.333333%}.bootstrap .offset-md-11{margin-left:91.666667%}}@media (min-width: 992px){.bootstrap .col-lg{-webkit-flex-basis:0;-ms-flex-preferred-size:0;flex-basis:0;-webkit-box-flex:1;-webkit-flex-grow:1;-ms-flex-positive:1;flex-grow:1;max-width:100%}.bootstrap .col-lg-auto{-webkit-box-flex:0;-webkit-flex:0 0 auto;-ms-flex:0 0 auto;flex:0 0 auto;width:auto}.bootstrap .col-lg-1{-webkit-box-flex:0;-webkit-flex:0 0 8.333333%;-ms-flex:0 0 8.333333%;flex:0 0 8.333333%;max-width:8.333333%}.bootstrap .col-lg-2{-webkit-box-flex:0;-webkit-flex:0 0 16.666667%;-ms-flex:0 0 16.666667%;flex:0 0 16.666667%;max-width:16.666667%}.bootstrap .col-lg-3{-webkit-box-flex:0;-webkit-flex:0 0 25%;-ms-flex:0 0 25%;flex:0 0 25%;max-width:25%}.bootstrap .col-lg-4{-webkit-box-flex:0;-webkit-flex:0 0 33.333333%;-ms-flex:0 0 33.333333%;flex:0 0 33.333333%;max-width:33.333333%}.bootstrap .col-lg-5{-webkit-box-flex:0;-webkit-flex:0 0 41.666667%;-ms-flex:0 0 41.666667%;flex:0 0 41.666667%;max-width:41.666667%}.bootstrap .col-lg-6{-webkit-box-flex:0;-webkit-flex:0 0 50%;-ms-flex:0 0 50%;flex:0 0 50%;max-width:50%}.bootstrap .col-lg-7{-webkit-box-flex:0;-webkit-flex:0 0 58.333333%;-ms-flex:0 0 58.333333%;flex:0 0 58.333333%;max-width:58.333333%}.bootstrap .col-lg-8{-webkit-box-flex:0;-webkit-flex:0 0 66.666667%;-ms-flex:0 0 66.666667%;flex:0 0 66.666667%;max-width:66.666667%}.bootstrap .col-lg-9{-webkit-box-flex:0;-webkit-flex:0 0 75%;-ms-flex:0 0 75%;flex:0 0 75%;max-width:75%}.bootstrap .col-lg-10{-webkit-box-flex:0;-webkit-flex:0 0 83.333333%;-ms-flex:0 0 83.333333%;flex:0 0 83.333333%;max-width:83.333333%}.bootstrap .col-lg-11{-webkit-box-flex:0;-webkit-flex:0 0 91.666667%;-ms-flex:0 0 91.666667%;flex:0 0 91.666667%;max-width:91.666667%}.bootstrap .col-lg-12{-webkit-box-flex:0;-webkit-flex:0 0 100%;-ms-flex:0 0 100%;flex:0 0 100%;max-width:100%}.bootstrap .pull-lg-0{right:auto}.bootstrap .pull-lg-1{right:8.333333%}.bootstrap .pull-lg-2{right:16.666667%}.bootstrap .pull-lg-3{right:25%}.bootstrap .pull-lg-4{right:33.333333%}.bootstrap .pull-lg-5{right:41.666667%}.bootstrap .pull-lg-6{right:50%}.bootstrap .pull-lg-7{right:58.333333%}.bootstrap .pull-lg-8{right:66.666667%}.bootstrap .pull-lg-9{right:75%}.bootstrap .pull-lg-10{right:83.333333%}.bootstrap .pull-lg-11{right:91.666667%}.bootstrap .pull-lg-12{right:100%}.bootstrap .push-lg-0{left:auto}.bootstrap .push-lg-1{left:8.333333%}.bootstrap .push-lg-2{left:16.666667%}.bootstrap .push-lg-3{left:25%}.bootstrap .push-lg-4{left:33.333333%}.bootstrap .push-lg-5{left:41.666667%}.bootstrap .push-lg-6{left:50%}.bootstrap .push-lg-7{left:58.333333%}.bootstrap .push-lg-8{left:66.666667%}.bootstrap .push-lg-9{left:75%}.bootstrap .push-lg-10{left:83.333333%}.bootstrap .push-lg-11{left:91.666667%}.bootstrap .push-lg-12{left:100%}.bootstrap .offset-lg-0{margin-left:0}.bootstrap .offset-lg-1{margin-left:8.333333%}.bootstrap .offset-lg-2{margin-left:16.666667%}.bootstrap .offset-lg-3{margin-left:25%}.bootstrap .offset-lg-4{margin-left:33.333333%}.bootstrap .offset-lg-5{margin-left:41.666667%}.bootstrap .offset-lg-6{margin-left:50%}.bootstrap .offset-lg-7{margin-left:58.333333%}.bootstrap .offset-lg-8{margin-left:66.666667%}.bootstrap .offset-lg-9{margin-left:75%}.bootstrap .offset-lg-10{margin-left:83.333333%}.bootstrap .offset-lg-11{margin-left:91.666667%}}@media (min-width: 1200px){.bootstrap .col-xl{-webkit-flex-basis:0;-ms-flex-preferred-size:0;flex-basis:0;-webkit-box-flex:1;-webkit-flex-grow:1;-ms-flex-positive:1;flex-grow:1;max-width:100%}.bootstrap .col-xl-auto{-webkit-box-flex:0;-webkit-flex:0 0 auto;-ms-flex:0 0 auto;flex:0 0 auto;width:auto}.bootstrap .col-xl-1{-webkit-box-flex:0;-webkit-flex:0 0 8.333333%;-ms-flex:0 0 8.333333%;flex:0 0 8.333333%;max-width:8.333333%}.bootstrap .col-xl-2{-webkit-box-flex:0;-webkit-flex:0 0 16.666667%;-ms-flex:0 0 16.666667%;flex:0 0 16.666667%;max-width:16.666667%}.bootstrap .col-xl-3{-webkit-box-flex:0;-webkit-flex:0 0 25%;-ms-flex:0 0 25%;flex:0 0 25%;max-width:25%}.bootstrap .col-xl-4{-webkit-box-flex:0;-webkit-flex:0 0 33.333333%;-ms-flex:0 0 33.333333%;flex:0 0 33.333333%;max-width:33.333333%}.bootstrap .col-xl-5{-webkit-box-flex:0;-webkit-flex:0 0 41.666667%;-ms-flex:0 0 41.666667%;flex:0 0 41.666667%;max-width:41.666667%}.bootstrap .col-xl-6{-webkit-box-flex:0;-webkit-flex:0 0 50%;-ms-flex:0 0 50%;flex:0 0 50%;max-width:50%}.bootstrap .col-xl-7{-webkit-box-flex:0;-webkit-flex:0 0 58.333333%;-ms-flex:0 0 58.333333%;flex:0 0 58.333333%;max-width:58.333333%}.bootstrap .col-xl-8{-webkit-box-flex:0;-webkit-flex:0 0 66.666667%;-ms-flex:0 0 66.666667%;flex:0 0 66.666667%;max-width:66.666667%}.bootstrap .col-xl-9{-webkit-box-flex:0;-webkit-flex:0 0 75%;-ms-flex:0 0 75%;flex:0 0 75%;max-width:75%}.bootstrap .col-xl-10{-webkit-box-flex:0;-webkit-flex:0 0 83.333333%;-ms-flex:0 0 83.333333%;flex:0 0 83.333333%;max-width:83.333333%}.bootstrap .col-xl-11{-webkit-box-flex:0;-webkit-flex:0 0 91.666667%;-ms-flex:0 0 91.666667%;flex:0 0 91.666667%;max-width:91.666667%}.bootstrap .col-xl-12{-webkit-box-flex:0;-webkit-flex:0 0 100%;-ms-flex:0 0 100%;flex:0 0 100%;max-width:100%}.bootstrap .pull-xl-0{right:auto}.bootstrap .pull-xl-1{right:8.333333%}.bootstrap .pull-xl-2{right:16.666667%}.bootstrap .pull-xl-3{right:25%}.bootstrap .pull-xl-4{right:33.333333%}.bootstrap .pull-xl-5{right:41.666667%}.bootstrap .pull-xl-6{right:50%}.bootstrap .pull-xl-7{right:58.333333%}.bootstrap .pull-xl-8{right:66.666667%}.bootstrap .pull-xl-9{right:75%}.bootstrap .pull-xl-10{right:83.333333%}.bootstrap .pull-xl-11{right:91.666667%}.bootstrap .pull-xl-12{right:100%}.bootstrap .push-xl-0{left:auto}.bootstrap .push-xl-1{left:8.333333%}.bootstrap .push-xl-2{left:16.666667%}.bootstrap .push-xl-3{left:25%}.bootstrap .push-xl-4{left:33.333333%}.bootstrap .push-xl-5{left:41.666667%}.bootstrap .push-xl-6{left:50%}.bootstrap .push-xl-7{left:58.333333%}.bootstrap .push-xl-8{left:66.666667%}.bootstrap .push-xl-9{left:75%}.bootstrap .push-xl-10{left:83.333333%}.bootstrap .push-xl-11{left:91.666667%}.bootstrap .push-xl-12{left:100%}.bootstrap .offset-xl-0{margin-left:0}.bootstrap .offset-xl-1{margin-left:8.333333%}.bootstrap .offset-xl-2{margin-left:16.666667%}.bootstrap .offset-xl-3{margin-left:25%}.bootstrap .offset-xl-4{margin-left:33.333333%}.bootstrap .offset-xl-5{margin-left:41.666667%}.bootstrap .offset-xl-6{margin-left:50%}.bootstrap .offset-xl-7{margin-left:58.333333%}.bootstrap .offset-xl-8{margin-left:66.666667%}.bootstrap .offset-xl-9{margin-left:75%}.bootstrap .offset-xl-10{margin-left:83.333333%}.bootstrap .offset-xl-11{margin-left:91.666667%}}.bootstrap .table{width:100%;max-width:100%;margin-bottom:1rem}.bootstrap .table td,.bootstrap .table th{padding:.75rem;vertical-align:top;border-top:1px solid #eceeef}.bootstrap .table thead th{vertical-align:bottom;border-bottom:2px solid #eceeef}.bootstrap .table tbody + tbody{border-top:2px solid #eceeef}.bootstrap .table .table{background-color:#fff}.bootstrap .table-sm td,.bootstrap .table-sm th{padding:0.3rem}.bootstrap .table-bordered{border:1px solid #eceeef}.bootstrap .table-bordered td,.bootstrap .table-bordered th{border:1px solid #eceeef}.bootstrap .table-bordered thead td,.bootstrap .table-bordered thead th{border-bottom-width:2px}.bootstrap .table-striped tbody tr:nth-of-type(odd){background-color:rgba(0, 0, 0, 0.05)}.bootstrap .table-hover tbody tr:hover{background-color:rgba(0, 0, 0, 0.075)}.bootstrap .table-active,.bootstrap .table-active > td,.bootstrap .table-active > th{background-color:rgba(0, 0, 0, 0.075)}.bootstrap .table-hover .table-active:hover{background-color:rgba(0, 0, 0, 0.075)}.bootstrap .table-hover .table-active:hover > td,.bootstrap .table-hover .table-active:hover > th{background-color:rgba(0, 0, 0, 0.075)}.bootstrap .table-success,.bootstrap .table-success > td,.bootstrap .table-success > th{background-color:#dff0d8}.bootstrap .table-hover .table-success:hover{background-color:#d0e9c6}.bootstrap .table-hover .table-success:hover > td,.bootstrap .table-hover .table-success:hover > th{background-color:#d0e9c6}.bootstrap .table-info,.bootstrap .table-info > td,.bootstrap .table-info > th{background-color:#d9edf7}.bootstrap .table-hover .table-info:hover{background-color:#c4e3f3}.bootstrap .table-hover .table-info:hover > td,.bootstrap .table-hover .table-info:hover > th{background-color:#c4e3f3}.bootstrap .table-warning,.bootstrap .table-warning > td,.bootstrap .table-warning > th{background-color:#fcf8e3}.bootstrap .table-hover .table-warning:hover{background-color:#faf2cc}.bootstrap .table-hover .table-warning:hover > td,.bootstrap .table-hover .table-warning:hover > th{background-color:#faf2cc}.bootstrap .table-danger,.bootstrap .table-danger > td,.bootstrap .table-danger > th{background-color:#f2dede}.bootstrap .table-hover .table-danger:hover{background-color:#ebcccc}.bootstrap .table-hover .table-danger:hover > td,.bootstrap .table-hover .table-danger:hover > th{background-color:#ebcccc}.bootstrap .thead-inverse th{color:#fff;background-color:#292b2c}.bootstrap .thead-default th{color:#464a4c;background-color:#eceeef}.bootstrap .table-inverse{color:#fff;background-color:#292b2c}.bootstrap .table-inverse td,.bootstrap .table-inverse th,.bootstrap .table-inverse thead th{border-color:#fff}.bootstrap .table-inverse.table-bordered{border:0}.bootstrap .table-responsive{display:block;width:100%;overflow-x:auto;-ms-overflow-style:-ms-autohiding-scrollbar}.bootstrap .table-responsive.table-bordered{border:0}.bootstrap .form-control{display:block;width:100%;padding:.5rem .75rem;font-size:1rem;line-height:1.25;color:#464a4c;background-color:#fff;background-image:none;-webkit-background-clip:padding-box;background-clip:padding-box;border:1px solid rgba(0, 0, 0, 0.15);border-radius:.25rem;-webkit-transition:border-color ease-in-out 0.15s, -webkit-box-shadow ease-in-out 0.15s;transition:border-color ease-in-out 0.15s, -webkit-box-shadow ease-in-out 0.15s;-o-transition:border-color ease-in-out 0.15s, box-shadow ease-in-out 0.15s;transition:border-color ease-in-out 0.15s, box-shadow ease-in-out 0.15s;transition:border-color ease-in-out 0.15s, box-shadow ease-in-out 0.15s, -webkit-box-shadow ease-in-out 0.15s}.bootstrap .form-control::-ms-expand{background-color:transparent;border:0}.bootstrap .form-control:focus{color:#464a4c;background-color:#fff;border-color:#5cb3fd;outline:0}.bootstrap .form-control::-webkit-input-placeholder{color:#636c72;opacity:1}.bootstrap .form-control::-moz-placeholder{color:#636c72;opacity:1}.bootstrap .form-control:-ms-input-placeholder{color:#636c72;opacity:1}.bootstrap .form-control::placeholder{color:#636c72;opacity:1}.bootstrap .form-control:disabled,.bootstrap .form-control[readonly]{background-color:#eceeef;opacity:1}.bootstrap .form-control:disabled{cursor:not-allowed}.bootstrap select.form-control:not([size]):not([multiple]){height:calc(4.25rem)}.bootstrap select.form-control:focus::-ms-value{color:#464a4c;background-color:#fff}.bootstrap .form-control-file,.bootstrap .form-control-range{display:block}.bootstrap .col-form-label{padding-top:calc(-1.5rem);padding-bottom:calc(-1.5rem);margin-bottom:0}.bootstrap .col-form-label-lg{padding-top:calc(-1.25rem);padding-bottom:calc(-1.25rem);font-size:1.25rem}.bootstrap .col-form-label-sm{padding-top:calc(-1.75rem);padding-bottom:calc(-1.75rem);font-size:0.875rem}.bootstrap .col-form-legend{padding-top:.5rem;padding-bottom:.5rem;margin-bottom:0;font-size:1rem}.bootstrap .form-control-static{padding-top:.5rem;padding-bottom:.5rem;margin-bottom:0;line-height:1.25;border:solid transparent;border-width:1px 0}.bootstrap .form-control-static.form-control-lg,.bootstrap .form-control-static.form-control-sm,.bootstrap .input-group-lg > .form-control-static.form-control,.bootstrap .input-group-lg > .form-control-static.input-group-addon,.bootstrap .input-group-lg > .input-group-btn > .form-control-static.btn,.bootstrap .input-group-sm > .form-control-static.form-control,.bootstrap .input-group-sm > .form-control-static.input-group-addon,.bootstrap .input-group-sm > .input-group-btn > .form-control-static.btn{padding-right:0;padding-left:0}.bootstrap .form-control-sm,.bootstrap .input-group-sm > .form-control,.bootstrap .input-group-sm > .input-group-addon,.bootstrap .input-group-sm > .input-group-btn > .btn{padding:.25rem .5rem;font-size:.875rem;border-radius:0.2rem}.bootstrap .input-group-sm > .input-group-btn > select.btn:not([size]):not([multiple]),.bootstrap .input-group-sm > select.form-control:not([size]):not([multiple]),.bootstrap .input-group-sm > select.input-group-addon:not([size]):not([multiple]),.bootstrap select.form-control-sm:not([size]):not([multiple]){height:1.8125rem}.bootstrap .form-control-lg,.bootstrap .input-group-lg > .form-control,.bootstrap .input-group-lg > .input-group-addon,.bootstrap .input-group-lg > .input-group-btn > .btn{padding:.75rem 1.5rem;font-size:1.25rem;border-radius:0.3rem}.bootstrap .input-group-lg > .input-group-btn > select.btn:not([size]):not([multiple]),.bootstrap .input-group-lg > select.form-control:not([size]):not([multiple]),.bootstrap .input-group-lg > select.input-group-addon:not([size]):not([multiple]),.bootstrap select.form-control-lg:not([size]):not([multiple]){height:3.166667rem}.bootstrap .form-group{margin-bottom:1rem}.bootstrap .form-text{display:block;margin-top:0.25rem}.bootstrap .form-check{position:relative;display:block;margin-bottom:0.5rem}.bootstrap .form-check.disabled .form-check-label{color:#636c72;cursor:not-allowed}.bootstrap .form-check-label{padding-left:1.25rem;margin-bottom:0;cursor:pointer}.bootstrap .form-check-input{position:absolute;margin-top:.25rem;margin-left:-1.25rem}.bootstrap .form-check-input:only-child{position:static}.bootstrap .form-check-inline{display:inline-block}.bootstrap .form-check-inline .form-check-label{vertical-align:middle}.bootstrap .form-check-inline + .form-check-inline{margin-left:0.75rem}.bootstrap .form-control-feedback{margin-top:0.25rem}.bootstrap .form-control-danger,.bootstrap .form-control-success,.bootstrap .form-control-warning{padding-right:2.25rem;background-repeat:no-repeat;background-position:center right .5625rem;-webkit-background-size:1.125rem 1.125rem;background-size:1.125rem 1.125rem}.bootstrap .has-success .col-form-label,.bootstrap .has-success .custom-control,.bootstrap .has-success .form-check-label,.bootstrap .has-success .form-control-feedback,.bootstrap .has-success .form-control-label{color:#5cb85c}.bootstrap .has-success .form-control{border-color:#5cb85c}.bootstrap .has-success .input-group-addon{color:#5cb85c;border-color:#5cb85c;background-color:#eaf6ea}.bootstrap .has-success .form-control-success{background-image:url(\"data:image/svg+xml;charset=utf8,%3Csvg xmlns='http://www.w3.org/2000/svg' viewBox='0 0 8 8'%3E%3Cpath fill='%235cb85c' d='M2.3 6.73L.6 4.53c-.4-1.04.46-1.4 1.1-.8l1.1 1.4 3.4-3.8c.6-.63 1.6-.27 1.2.7l-4 4.6c-.43.5-.8.4-1.1.1z'/%3E%3C/svg%3E\")}.bootstrap .has-warning .col-form-label,.bootstrap .has-warning .custom-control,.bootstrap .has-warning .form-check-label,.bootstrap .has-warning .form-control-feedback,.bootstrap .has-warning .form-control-label{color:#f0ad4e}.bootstrap .has-warning .form-control{border-color:#f0ad4e}.bootstrap .has-warning .input-group-addon{color:#f0ad4e;border-color:#f0ad4e;background-color:#fff}.bootstrap .has-warning .form-control-warning{background-image:url(\"data:image/svg+xml;charset=utf8,%3Csvg xmlns='http://www.w3.org/2000/svg' viewBox='0 0 8 8'%3E%3Cpath fill='%23f0ad4e' d='M4.4 5.324h-.8v-2.46h.8zm0 1.42h-.8V5.89h.8zM3.76.63L.04 7.075c-.115.2.016.425.26.426h7.397c.242 0 .372-.226.258-.426C6.726 4.924 5.47 2.79 4.253.63c-.113-.174-.39-.174-.494 0z'/%3E%3C/svg%3E\")}.bootstrap .has-danger .col-form-label,.bootstrap .has-danger .custom-control,.bootstrap .has-danger .form-check-label,.bootstrap .has-danger .form-control-feedback,.bootstrap .has-danger .form-control-label{color:#d9534f}.bootstrap .has-danger .form-control{border-color:#d9534f}.bootstrap .has-danger .input-group-addon{color:#d9534f;border-color:#d9534f;background-color:#fdf7f7}.bootstrap .has-danger .form-control-danger{background-image:url(\"data:image/svg+xml;charset=utf8,%3Csvg xmlns='http://www.w3.org/2000/svg' fill='%23d9534f' viewBox='-2 -2 7 7'%3E%3Cpath stroke='%23d9534f' d='M0 0l3 3m0-3L0 3'/%3E%3Ccircle r='.5'/%3E%3Ccircle cx='3' r='.5'/%3E%3Ccircle cy='3' r='.5'/%3E%3Ccircle cx='3' cy='3' r='.5'/%3E%3C/svg%3E\")}.bootstrap .form-inline{display:-webkit-box;display:-webkit-flex;display:-ms-flexbox;display:flex;-webkit-flex-flow:row wrap;-ms-flex-flow:row wrap;flex-flow:row wrap;-webkit-box-align:center;-webkit-align-items:center;-ms-flex-align:center;align-items:center}.bootstrap .form-inline .form-check{width:100%}@media (min-width: 576px){.bootstrap .form-inline label{display:-webkit-box;display:-webkit-flex;display:-ms-flexbox;display:flex;-webkit-box-align:center;-webkit-align-items:center;-ms-flex-align:center;align-items:center;-webkit-box-pack:center;-webkit-justify-content:center;-ms-flex-pack:center;justify-content:center;margin-bottom:0}.bootstrap .form-inline .form-group{display:-webkit-box;display:-webkit-flex;display:-ms-flexbox;display:flex;-webkit-box-flex:0;-webkit-flex:0 0 auto;-ms-flex:0 0 auto;flex:0 0 auto;-webkit-flex-flow:row wrap;-ms-flex-flow:row wrap;flex-flow:row wrap;-webkit-box-align:center;-webkit-align-items:center;-ms-flex-align:center;align-items:center;margin-bottom:0}.bootstrap .form-inline .form-control{display:inline-block;width:auto;vertical-align:middle}.bootstrap .form-inline .form-control-static{display:inline-block}.bootstrap .form-inline .input-group{width:auto}.bootstrap .form-inline .form-control-label{margin-bottom:0;vertical-align:middle}.bootstrap .form-inline .form-check{display:-webkit-box;display:-webkit-flex;display:-ms-flexbox;display:flex;-webkit-box-align:center;-webkit-align-items:center;-ms-flex-align:center;align-items:center;-webkit-box-pack:center;-webkit-justify-content:center;-ms-flex-pack:center;justify-content:center;width:auto;margin-top:0;margin-bottom:0}.bootstrap .form-inline .form-check-label{padding-left:0}.bootstrap .form-inline .form-check-input{position:relative;margin-top:0;margin-right:.25rem;margin-left:0}.bootstrap .form-inline .custom-control{display:-webkit-box;display:-webkit-flex;display:-ms-flexbox;display:flex;-webkit-box-align:center;-webkit-align-items:center;-ms-flex-align:center;align-items:center;-webkit-box-pack:center;-webkit-justify-content:center;-ms-flex-pack:center;justify-content:center;padding-left:0}.bootstrap .form-inline .custom-control-indicator{position:static;display:inline-block;margin-right:.25rem;vertical-align:text-bottom}.bootstrap .form-inline .has-feedback .form-control-feedback{top:0}}.bootstrap .btn{display:inline-block;font-weight:400;line-height:1.25;text-align:center;white-space:nowrap;vertical-align:middle;-webkit-user-select:none;-moz-user-select:none;-ms-user-select:none;user-select:none;border:1px solid transparent;padding:.5rem 1rem;font-size:1rem;border-radius:.25rem;-webkit-transition:all 0.2s ease-in-out;-o-transition:all 0.2s ease-in-out;transition:all 0.2s ease-in-out}.bootstrap .btn:focus,.bootstrap .btn:hover{text-decoration:none}.bootstrap .btn.focus,.bootstrap .btn:focus{outline:0;-webkit-box-shadow:0 0 0 2px rgba(2, 117, 216, 0.25);box-shadow:0 0 0 2px rgba(2, 117, 216, 0.25)}.bootstrap .btn.disabled,.bootstrap .btn:disabled{cursor:not-allowed;opacity:0.65}.bootstrap .btn.active,.bootstrap .btn:active{background-image:none}.bootstrap a.btn.disabled,.bootstrap fieldset[disabled] a.btn{pointer-events:none}.bootstrap .btn-primary{color:#fff;background-color:#0275d8;border-color:#0275d8}.bootstrap .btn-primary:hover{color:#fff;background-color:#025aa5;border-color:#01549b}.bootstrap .btn-primary.focus,.bootstrap .btn-primary:focus{-webkit-box-shadow:0 0 0 2px rgba(2, 117, 216, 0.5);box-shadow:0 0 0 2px rgba(2, 117, 216, 0.5)}.bootstrap .btn-primary.disabled,.bootstrap .btn-primary:disabled{background-color:#0275d8;border-color:#0275d8}.bootstrap .btn-primary.active,.bootstrap .btn-primary:active,.bootstrap .show > .btn-primary.dropdown-toggle{color:#fff;background-color:#025aa5;background-image:none;border-color:#01549b}.bootstrap .btn-secondary{color:#292b2c;background-color:#fff;border-color:#ccc}.bootstrap .btn-secondary:hover{color:#292b2c;background-color:#e6e6e6;border-color:#adadad}.bootstrap .btn-secondary.focus,.bootstrap .btn-secondary:focus{-webkit-box-shadow:0 0 0 2px rgba(204, 204, 204, 0.5);box-shadow:0 0 0 2px rgba(204, 204, 204, 0.5)}.bootstrap .btn-secondary.disabled,.bootstrap .btn-secondary:disabled{background-color:#fff;border-color:#ccc}.bootstrap .btn-secondary.active,.bootstrap .btn-secondary:active,.bootstrap .show > .btn-secondary.dropdown-toggle{color:#292b2c;background-color:#e6e6e6;background-image:none;border-color:#adadad}.bootstrap .btn-info{color:#fff;background-color:#5bc0de;border-color:#5bc0de}.bootstrap .btn-info:hover{color:#fff;background-color:#31b0d5;border-color:#2aabd2}.bootstrap .btn-info.focus,.bootstrap .btn-info:focus{-webkit-box-shadow:0 0 0 2px rgba(91, 192, 222, 0.5);box-shadow:0 0 0 2px rgba(91, 192, 222, 0.5)}.bootstrap .btn-info.disabled,.bootstrap .btn-info:disabled{background-color:#5bc0de;border-color:#5bc0de}.bootstrap .btn-info.active,.bootstrap .btn-info:active,.bootstrap .show > .btn-info.dropdown-toggle{color:#fff;background-color:#31b0d5;background-image:none;border-color:#2aabd2}.bootstrap .btn-success{color:#fff;background-color:#5cb85c;border-color:#5cb85c}.bootstrap .btn-success:hover{color:#fff;background-color:#449d44;border-color:#419641}.bootstrap .btn-success.focus,.bootstrap .btn-success:focus{-webkit-box-shadow:0 0 0 2px rgba(92, 184, 92, 0.5);box-shadow:0 0 0 2px rgba(92, 184, 92, 0.5)}.bootstrap .btn-success.disabled,.bootstrap .btn-success:disabled{background-color:#5cb85c;border-color:#5cb85c}.bootstrap .btn-success.active,.bootstrap .btn-success:active,.bootstrap .show > .btn-success.dropdown-toggle{color:#fff;background-color:#449d44;background-image:none;border-color:#419641}.bootstrap .btn-warning{color:#fff;background-color:#f0ad4e;border-color:#f0ad4e}.bootstrap .btn-warning:hover{color:#fff;background-color:#ec971f;border-color:#eb9316}.bootstrap .btn-warning.focus,.bootstrap .btn-warning:focus{-webkit-box-shadow:0 0 0 2px rgba(240, 173, 78, 0.5);box-shadow:0 0 0 2px rgba(240, 173, 78, 0.5)}.bootstrap .btn-warning.disabled,.bootstrap .btn-warning:disabled{background-color:#f0ad4e;border-color:#f0ad4e}.bootstrap .btn-warning.active,.bootstrap .btn-warning:active,.bootstrap .show > .btn-warning.dropdown-toggle{color:#fff;background-color:#ec971f;background-image:none;border-color:#eb9316}.bootstrap .btn-danger{color:#fff;background-color:#d9534f;border-color:#d9534f}.bootstrap .btn-danger:hover{color:#fff;background-color:#c9302c;border-color:#c12e2a}.bootstrap .btn-danger.focus,.bootstrap .btn-danger:focus{-webkit-box-shadow:0 0 0 2px rgba(217, 83, 79, 0.5);box-shadow:0 0 0 2px rgba(217, 83, 79, 0.5)}.bootstrap .btn-danger.disabled,.bootstrap .btn-danger:disabled{background-color:#d9534f;border-color:#d9534f}.bootstrap .btn-danger.active,.bootstrap .btn-danger:active,.bootstrap .show > .btn-danger.dropdown-toggle{color:#fff;background-color:#c9302c;background-image:none;border-color:#c12e2a}.bootstrap .btn-outline-primary{color:#0275d8;background-image:none;background-color:transparent;border-color:#0275d8}.bootstrap .btn-outline-primary:hover{color:#fff;background-color:#0275d8;border-color:#0275d8}.bootstrap .btn-outline-primary.focus,.bootstrap .btn-outline-primary:focus{-webkit-box-shadow:0 0 0 2px rgba(2, 117, 216, 0.5);box-shadow:0 0 0 2px rgba(2, 117, 216, 0.5)}.bootstrap .btn-outline-primary.disabled,.bootstrap .btn-outline-primary:disabled{color:#0275d8;background-color:transparent}.bootstrap .btn-outline-primary.active,.bootstrap .btn-outline-primary:active,.bootstrap .show > .btn-outline-primary.dropdown-toggle{color:#fff;background-color:#0275d8;border-color:#0275d8}.bootstrap .btn-outline-secondary{color:#ccc;background-image:none;background-color:transparent;border-color:#ccc}.bootstrap .btn-outline-secondary:hover{color:#fff;background-color:#ccc;border-color:#ccc}.bootstrap .btn-outline-secondary.focus,.bootstrap .btn-outline-secondary:focus{-webkit-box-shadow:0 0 0 2px rgba(204, 204, 204, 0.5);box-shadow:0 0 0 2px rgba(204, 204, 204, 0.5)}.bootstrap .btn-outline-secondary.disabled,.bootstrap .btn-outline-secondary:disabled{color:#ccc;background-color:transparent}.bootstrap .btn-outline-secondary.active,.bootstrap .btn-outline-secondary:active,.bootstrap .show > .btn-outline-secondary.dropdown-toggle{color:#fff;background-color:#ccc;border-color:#ccc}.bootstrap .btn-outline-info{color:#5bc0de;background-image:none;background-color:transparent;border-color:#5bc0de}.bootstrap .btn-outline-info:hover{color:#fff;background-color:#5bc0de;border-color:#5bc0de}.bootstrap .btn-outline-info.focus,.bootstrap .btn-outline-info:focus{-webkit-box-shadow:0 0 0 2px rgba(91, 192, 222, 0.5);box-shadow:0 0 0 2px rgba(91, 192, 222, 0.5)}.bootstrap .btn-outline-info.disabled,.bootstrap .btn-outline-info:disabled{color:#5bc0de;background-color:transparent}.bootstrap .btn-outline-info.active,.bootstrap .btn-outline-info:active,.bootstrap .show > .btn-outline-info.dropdown-toggle{color:#fff;background-color:#5bc0de;border-color:#5bc0de}.bootstrap .btn-outline-success{color:#5cb85c;background-image:none;background-color:transparent;border-color:#5cb85c}.bootstrap .btn-outline-success:hover{color:#fff;background-color:#5cb85c;border-color:#5cb85c}.bootstrap .btn-outline-success.focus,.bootstrap .btn-outline-success:focus{-webkit-box-shadow:0 0 0 2px rgba(92, 184, 92, 0.5);box-shadow:0 0 0 2px rgba(92, 184, 92, 0.5)}.bootstrap .btn-outline-success.disabled,.bootstrap .btn-outline-success:disabled{color:#5cb85c;background-color:transparent}.bootstrap .btn-outline-success.active,.bootstrap .btn-outline-success:active,.bootstrap .show > .btn-outline-success.dropdown-toggle{color:#fff;background-color:#5cb85c;border-color:#5cb85c}.bootstrap .btn-outline-warning{color:#f0ad4e;background-image:none;background-color:transparent;border-color:#f0ad4e}.bootstrap .btn-outline-warning:hover{color:#fff;background-color:#f0ad4e;border-color:#f0ad4e}.bootstrap .btn-outline-warning.focus,.bootstrap .btn-outline-warning:focus{-webkit-box-shadow:0 0 0 2px rgba(240, 173, 78, 0.5);box-shadow:0 0 0 2px rgba(240, 173, 78, 0.5)}.bootstrap .btn-outline-warning.disabled,.bootstrap .btn-outline-warning:disabled{color:#f0ad4e;background-color:transparent}.bootstrap .btn-outline-warning.active,.bootstrap .btn-outline-warning:active,.bootstrap .show > .btn-outline-warning.dropdown-toggle{color:#fff;background-color:#f0ad4e;border-color:#f0ad4e}.bootstrap .btn-outline-danger{color:#d9534f;background-image:none;background-color:transparent;border-color:#d9534f}.bootstrap .btn-outline-danger:hover{color:#fff;background-color:#d9534f;border-color:#d9534f}.bootstrap .btn-outline-danger.focus,.bootstrap .btn-outline-danger:focus{-webkit-box-shadow:0 0 0 2px rgba(217, 83, 79, 0.5);box-shadow:0 0 0 2px rgba(217, 83, 79, 0.5)}.bootstrap .btn-outline-danger.disabled,.bootstrap .btn-outline-danger:disabled{color:#d9534f;background-color:transparent}.bootstrap .btn-outline-danger.active,.bootstrap .btn-outline-danger:active,.bootstrap .show > .btn-outline-danger.dropdown-toggle{color:#fff;background-color:#d9534f;border-color:#d9534f}.bootstrap .btn-link{font-weight:400;color:#0275d8;border-radius:0}.bootstrap .btn-link,.bootstrap .btn-link.active,.bootstrap .btn-link:active,.bootstrap .btn-link:disabled{background-color:transparent}.bootstrap .btn-link,.bootstrap .btn-link:active,.bootstrap .btn-link:focus{border-color:transparent}.bootstrap .btn-link:hover{border-color:transparent}.bootstrap .btn-link:focus,.bootstrap .btn-link:hover{color:#014c8c;text-decoration:underline;background-color:transparent}.bootstrap .btn-link:disabled{color:#636c72}.bootstrap .btn-link:disabled:focus,.bootstrap .btn-link:disabled:hover{text-decoration:none}.bootstrap .btn-group-lg > .btn,.bootstrap .btn-lg{padding:.75rem 1.5rem;font-size:1.25rem;border-radius:0.3rem}.bootstrap .btn-group-sm > .btn,.bootstrap .btn-sm{padding:.25rem .5rem;font-size:.875rem;border-radius:0.2rem}.bootstrap .btn-block{display:block;width:100%}.bootstrap .btn-block + .btn-block{margin-top:0.5rem}.bootstrap input[type=button].btn-block,.bootstrap input[type=reset].btn-block,.bootstrap input[type=submit].btn-block{width:100%}.bootstrap .fade{opacity:0;-webkit-transition:opacity .15s linear;-o-transition:opacity .15s linear;transition:opacity 0.15s linear}.bootstrap .fade.show{opacity:1}.bootstrap .collapse{display:none}.bootstrap .collapse.show{display:block}.bootstrap tr.collapse.show{display:table-row}.bootstrap tbody.collapse.show{display:table-row-group}.bootstrap .collapsing{position:relative;height:0;overflow:hidden;-webkit-transition:height .35s ease;-o-transition:height .35s ease;transition:height 0.35s ease}.bootstrap .dropdown,.bootstrap .dropup{position:relative}.bootstrap .dropdown-toggle::after{display:inline-block;width:0;height:0;margin-left:.3em;vertical-align:middle;content:\"\";border-top:.3em solid;border-right:.3em solid transparent;border-left:0.3em solid transparent}.bootstrap .dropdown-toggle:focus{outline:0}.bootstrap .dropup .dropdown-toggle::after{border-top:0;border-bottom:0.3em solid}.bootstrap .dropdown-menu{position:absolute;top:100%;left:0;z-index:1000;display:none;float:left;min-width:10rem;padding:.5rem 0;margin:.125rem 0 0;font-size:1rem;color:#292b2c;text-align:left;list-style:none;background-color:#fff;-webkit-background-clip:padding-box;background-clip:padding-box;border:1px solid rgba(0, 0, 0, 0.15);border-radius:0.25rem}.bootstrap .dropdown-divider{height:1px;margin:.5rem 0;overflow:hidden;background-color:#eceeef}.bootstrap .dropdown-item{display:block;width:100%;padding:3px 1.5rem;clear:both;font-weight:400;color:#292b2c;text-align:inherit;white-space:nowrap;background:0 0;border:0}.bootstrap .dropdown-item:focus,.bootstrap .dropdown-item:hover{color:#1d1e1f;text-decoration:none;background-color:#f7f7f9}.bootstrap .dropdown-item.active,.bootstrap .dropdown-item:active{color:#fff;text-decoration:none;background-color:#0275d8}.bootstrap .dropdown-item.disabled,.bootstrap .dropdown-item:disabled{color:#636c72;cursor:not-allowed;background-color:transparent}.bootstrap .show > .dropdown-menu{display:block}.bootstrap .show > a{outline:0}.bootstrap .dropdown-menu-right{right:0;left:auto}.bootstrap .dropdown-menu-left{right:auto;left:0}.bootstrap .dropdown-header{display:block;padding:.5rem 1.5rem;margin-bottom:0;font-size:.875rem;color:#636c72;white-space:nowrap}.bootstrap .dropdown-backdrop{position:fixed;top:0;right:0;bottom:0;left:0;z-index:990}.bootstrap .dropup .dropdown-menu{top:auto;bottom:100%;margin-bottom:0.125rem}.bootstrap .btn-group,.bootstrap .btn-group-vertical{position:relative;display:-webkit-inline-box;display:-webkit-inline-flex;display:-ms-inline-flexbox;display:inline-flex;vertical-align:middle}.bootstrap .btn-group-vertical > .btn,.bootstrap .btn-group > .btn{position:relative;-webkit-box-flex:0;-webkit-flex:0 1 auto;-ms-flex:0 1 auto;flex:0 1 auto}.bootstrap .btn-group-vertical > .btn:hover,.bootstrap .btn-group > .btn:hover{z-index:2}.bootstrap .btn-group-vertical > .btn.active,.bootstrap .btn-group-vertical > .btn:active,.bootstrap .btn-group-vertical > .btn:focus,.bootstrap .btn-group > .btn.active,.bootstrap .btn-group > .btn:active,.bootstrap .btn-group > .btn:focus{z-index:2}.bootstrap .btn-group .btn + .btn,.bootstrap .btn-group .btn + .btn-group,.bootstrap .btn-group .btn-group + .btn,.bootstrap .btn-group .btn-group + .btn-group,.bootstrap .btn-group-vertical .btn + .btn,.bootstrap .btn-group-vertical .btn + .btn-group,.bootstrap .btn-group-vertical .btn-group + .btn,.bootstrap .btn-group-vertical .btn-group + .btn-group{margin-left:-1px}.bootstrap .btn-toolbar{display:-webkit-box;display:-webkit-flex;display:-ms-flexbox;display:flex;-webkit-box-pack:start;-webkit-justify-content:flex-start;-ms-flex-pack:start;justify-content:flex-start}.bootstrap .btn-toolbar .input-group{width:auto}.bootstrap .btn-group > .btn:not(:first-child):not(:last-child):not(.dropdown-toggle){border-radius:0}.bootstrap .btn-group > .btn:first-child{margin-left:0}.bootstrap .btn-group > .btn:first-child:not(:last-child):not(.dropdown-toggle){border-bottom-right-radius:0;border-top-right-radius:0}.bootstrap .btn-group > .btn:last-child:not(:first-child),.bootstrap .btn-group > .dropdown-toggle:not(:first-child){border-bottom-left-radius:0;border-top-left-radius:0}.bootstrap .btn-group > .btn-group{float:left}.bootstrap .btn-group > .btn-group:not(:first-child):not(:last-child) > .btn{border-radius:0}.bootstrap .btn-group > .btn-group:first-child:not(:last-child) > .btn:last-child,.bootstrap .btn-group > .btn-group:first-child:not(:last-child) > .dropdown-toggle{border-bottom-right-radius:0;border-top-right-radius:0}.bootstrap .btn-group > .btn-group:last-child:not(:first-child) > .btn:first-child{border-bottom-left-radius:0;border-top-left-radius:0}.bootstrap .btn-group .dropdown-toggle:active,.bootstrap .btn-group.open .dropdown-toggle{outline:0}.bootstrap .btn + .dropdown-toggle-split{padding-right:.75rem;padding-left:0.75rem}.bootstrap .btn + .dropdown-toggle-split::after{margin-left:0}.bootstrap .btn-group-sm > .btn + .dropdown-toggle-split,.bootstrap .btn-sm + .dropdown-toggle-split{padding-right:.375rem;padding-left:0.375rem}.bootstrap .btn-group-lg > .btn + .dropdown-toggle-split,.bootstrap .btn-lg + .dropdown-toggle-split{padding-right:1.125rem;padding-left:1.125rem}.bootstrap .btn-group-vertical{display:-webkit-inline-box;display:-webkit-inline-flex;display:-ms-inline-flexbox;display:inline-flex;-webkit-box-orient:vertical;-webkit-box-direction:normal;-webkit-flex-direction:column;-ms-flex-direction:column;flex-direction:column;-webkit-box-align:start;-webkit-align-items:flex-start;-ms-flex-align:start;align-items:flex-start;-webkit-box-pack:center;-webkit-justify-content:center;-ms-flex-pack:center;justify-content:center}.bootstrap .btn-group-vertical .btn,.bootstrap .btn-group-vertical .btn-group{width:100%}.bootstrap .btn-group-vertical > .btn + .btn,.bootstrap .btn-group-vertical > .btn + .btn-group,.bootstrap .btn-group-vertical > .btn-group + .btn,.bootstrap .btn-group-vertical > .btn-group + .btn-group{margin-top:-1px;margin-left:0}.bootstrap .btn-group-vertical > .btn:not(:first-child):not(:last-child){border-radius:0}.bootstrap .btn-group-vertical > .btn:first-child:not(:last-child){border-bottom-right-radius:0;border-bottom-left-radius:0}.bootstrap .btn-group-vertical > .btn:last-child:not(:first-child){border-top-right-radius:0;border-top-left-radius:0}.bootstrap .btn-group-vertical > .btn-group:not(:first-child):not(:last-child) > .btn{border-radius:0}.bootstrap .btn-group-vertical > .btn-group:first-child:not(:last-child) > .btn:last-child,.bootstrap .btn-group-vertical > .btn-group:first-child:not(:last-child) > .dropdown-toggle{border-bottom-right-radius:0;border-bottom-left-radius:0}.bootstrap .btn-group-vertical > .btn-group:last-child:not(:first-child) > .btn:first-child{border-top-right-radius:0;border-top-left-radius:0}.bootstrap [data-toggle=buttons] > .btn input[type=checkbox],.bootstrap [data-toggle=buttons] > .btn input[type=radio],.bootstrap [data-toggle=buttons] > .btn-group > .btn input[type=checkbox],.bootstrap [data-toggle=buttons] > .btn-group > .btn input[type=radio]{position:absolute;clip:rect(0, 0, 0, 0);pointer-events:none}.bootstrap .input-group{position:relative;display:-webkit-box;display:-webkit-flex;display:-ms-flexbox;display:flex;width:100%}.bootstrap .input-group .form-control{position:relative;z-index:2;-webkit-box-flex:1;-webkit-flex:1 1 auto;-ms-flex:1 1 auto;flex:1 1 auto;width:1%;margin-bottom:0}.bootstrap .input-group .form-control:active,.bootstrap .input-group .form-control:focus,.bootstrap .input-group .form-control:hover{z-index:3}.bootstrap .input-group .form-control,.bootstrap .input-group-addon,.bootstrap .input-group-btn{display:-webkit-box;display:-webkit-flex;display:-ms-flexbox;display:flex;-webkit-box-orient:vertical;-webkit-box-direction:normal;-webkit-flex-direction:column;-ms-flex-direction:column;flex-direction:column;-webkit-box-pack:center;-webkit-justify-content:center;-ms-flex-pack:center;justify-content:center}.bootstrap .input-group .form-control:not(:first-child):not(:last-child),.bootstrap .input-group-addon:not(:first-child):not(:last-child),.bootstrap .input-group-btn:not(:first-child):not(:last-child){border-radius:0}.bootstrap .input-group-addon,.bootstrap .input-group-btn{white-space:nowrap;vertical-align:middle}.bootstrap .input-group-addon{padding:.5rem .75rem;margin-bottom:0;font-size:1rem;font-weight:400;line-height:1.25;color:#464a4c;text-align:center;background-color:#eceeef;border:1px solid rgba(0, 0, 0, 0.15);border-radius:0.25rem}.bootstrap .input-group-addon.form-control-sm,.bootstrap .input-group-sm > .input-group-addon,.bootstrap .input-group-sm > .input-group-btn > .input-group-addon.btn{padding:.25rem .5rem;font-size:.875rem;border-radius:0.2rem}.bootstrap .input-group-addon.form-control-lg,.bootstrap .input-group-lg > .input-group-addon,.bootstrap .input-group-lg > .input-group-btn > .input-group-addon.btn{padding:.75rem 1.5rem;font-size:1.25rem;border-radius:0.3rem}.bootstrap .input-group-addon input[type=checkbox],.bootstrap .input-group-addon input[type=radio]{margin-top:0}.bootstrap .input-group .form-control:not(:last-child),.bootstrap .input-group-addon:not(:last-child),.bootstrap .input-group-btn:not(:first-child) > .btn-group:not(:last-child) > .btn,.bootstrap .input-group-btn:not(:first-child) > .btn:not(:last-child):not(.dropdown-toggle),.bootstrap .input-group-btn:not(:last-child) > .btn,.bootstrap .input-group-btn:not(:last-child) > .btn-group > .btn,.bootstrap .input-group-btn:not(:last-child) > .dropdown-toggle{border-bottom-right-radius:0;border-top-right-radius:0}.bootstrap .input-group-addon:not(:last-child){border-right:0}.bootstrap .input-group .form-control:not(:first-child),.bootstrap .input-group-addon:not(:first-child),.bootstrap .input-group-btn:not(:first-child) > .btn,.bootstrap .input-group-btn:not(:first-child) > .btn-group > .btn,.bootstrap .input-group-btn:not(:first-child) > .dropdown-toggle,.bootstrap .input-group-btn:not(:last-child) > .btn-group:not(:first-child) > .btn,.bootstrap .input-group-btn:not(:last-child) > .btn:not(:first-child){border-bottom-left-radius:0;border-top-left-radius:0}.bootstrap .form-control + .input-group-addon:not(:first-child){border-left:0}.bootstrap .input-group-btn{position:relative;font-size:0;white-space:nowrap}.bootstrap .input-group-btn > .btn{position:relative;-webkit-box-flex:1;-webkit-flex:1 1 0%;-ms-flex:1 1 0%;flex:1 1 0%}.bootstrap .input-group-btn > .btn + .btn{margin-left:-1px}.bootstrap .input-group-btn > .btn:active,.bootstrap .input-group-btn > .btn:focus,.bootstrap .input-group-btn > .btn:hover{z-index:3}.bootstrap .input-group-btn:not(:last-child) > .btn,.bootstrap .input-group-btn:not(:last-child) > .btn-group{margin-right:-1px}.bootstrap .input-group-btn:not(:first-child) > .btn,.bootstrap .input-group-btn:not(:first-child) > .btn-group{z-index:2;margin-left:-1px}.bootstrap .input-group-btn:not(:first-child) > .btn-group:active,.bootstrap .input-group-btn:not(:first-child) > .btn-group:focus,.bootstrap .input-group-btn:not(:first-child) > .btn-group:hover,.bootstrap .input-group-btn:not(:first-child) > .btn:active,.bootstrap .input-group-btn:not(:first-child) > .btn:focus,.bootstrap .input-group-btn:not(:first-child) > .btn:hover{z-index:3}.bootstrap .custom-control{position:relative;display:-webkit-inline-box;display:-webkit-inline-flex;display:-ms-inline-flexbox;display:inline-flex;min-height:1.5rem;padding-left:1.5rem;margin-right:1rem;cursor:pointer}.bootstrap .custom-control-input{position:absolute;z-index:-1;opacity:0}.bootstrap .custom-control-input:checked ~ .custom-control-indicator{color:#fff;background-color:#0275d8}.bootstrap .custom-control-input:focus ~ .custom-control-indicator{-webkit-box-shadow:0 0 0 1px #fff,0 0 0 3px #0275d8;box-shadow:0 0 0 1px #fff, 0 0 0 3px #0275d8}.bootstrap .custom-control-input:active ~ .custom-control-indicator{color:#fff;background-color:#8fcafe}.bootstrap .custom-control-input:disabled ~ .custom-control-indicator{cursor:not-allowed;background-color:#eceeef}.bootstrap .custom-control-input:disabled ~ .custom-control-description{color:#636c72;cursor:not-allowed}.bootstrap .custom-control-indicator{position:absolute;top:.25rem;left:0;display:block;width:1rem;height:1rem;pointer-events:none;-webkit-user-select:none;-moz-user-select:none;-ms-user-select:none;user-select:none;background-color:#ddd;background-repeat:no-repeat;background-position:center center;-webkit-background-size:50% 50%;background-size:50% 50%}.bootstrap .custom-checkbox .custom-control-indicator{border-radius:0.25rem}.bootstrap .custom-checkbox .custom-control-input:checked ~ .custom-control-indicator{background-image:url(\"data:image/svg+xml;charset=utf8,%3Csvg xmlns='http://www.w3.org/2000/svg' viewBox='0 0 8 8'%3E%3Cpath fill='%23fff' d='M6.564.75l-3.59 3.612-1.538-1.55L0 4.26 2.974 7.25 8 2.193z'/%3E%3C/svg%3E\")}.bootstrap .custom-checkbox .custom-control-input:indeterminate ~ .custom-control-indicator{background-color:#0275d8;background-image:url(\"data:image/svg+xml;charset=utf8,%3Csvg xmlns='http://www.w3.org/2000/svg' viewBox='0 0 4 4'%3E%3Cpath stroke='%23fff' d='M0 2h4'/%3E%3C/svg%3E\")}.bootstrap .custom-radio .custom-control-indicator{border-radius:50%}.bootstrap .custom-radio .custom-control-input:checked ~ .custom-control-indicator{background-image:url(\"data:image/svg+xml;charset=utf8,%3Csvg xmlns='http://www.w3.org/2000/svg' viewBox='-4 -4 8 8'%3E%3Ccircle r='3' fill='%23fff'/%3E%3C/svg%3E\")}.bootstrap .custom-controls-stacked{display:-webkit-box;display:-webkit-flex;display:-ms-flexbox;display:flex;-webkit-box-orient:vertical;-webkit-box-direction:normal;-webkit-flex-direction:column;-ms-flex-direction:column;flex-direction:column}.bootstrap .custom-controls-stacked .custom-control{margin-bottom:0.25rem}.bootstrap .custom-controls-stacked .custom-control + .custom-control{margin-left:0}.bootstrap .custom-select{display:inline-block;max-width:100%;height:calc(4.25rem);padding:.375rem 1.75rem .375rem .75rem;line-height:1.25;color:#464a4c;vertical-align:middle;background:#fff url(\"data:image/svg+xml;charset=utf8,%3Csvg xmlns='http://www.w3.org/2000/svg' viewBox='0 0 4 5'%3E%3Cpath fill='%23333' d='M2 0L0 2h4zm0 5L0 3h4z'/%3E%3C/svg%3E\") no-repeat right 0.75rem center;-webkit-background-size:8px 10px;background-size:8px 10px;border:1px solid rgba(0, 0, 0, 0.15);border-radius:.25rem;-moz-appearance:none;-webkit-appearance:none}.bootstrap .custom-select:focus{border-color:#5cb3fd;outline:0}.bootstrap .custom-select:focus::-ms-value{color:#464a4c;background-color:#fff}.bootstrap .custom-select:disabled{color:#636c72;cursor:not-allowed;background-color:#eceeef}.bootstrap .custom-select::-ms-expand{opacity:0}.bootstrap .custom-select-sm{padding-top:.375rem;padding-bottom:.375rem;font-size:75%}.bootstrap .custom-file{position:relative;display:inline-block;max-width:100%;height:2.5rem;margin-bottom:0;cursor:pointer}.bootstrap .custom-file-input{min-width:14rem;max-width:100%;height:2.5rem;margin:0;filter:alpha(opacity=0);opacity:0}.bootstrap .custom-file-control{position:absolute;top:0;right:0;left:0;z-index:5;height:2.5rem;padding:.5rem 1rem;line-height:1.5;color:#464a4c;pointer-events:none;-webkit-user-select:none;-moz-user-select:none;-ms-user-select:none;user-select:none;background-color:#fff;border:1px solid rgba(0, 0, 0, 0.15);border-radius:0.25rem}.bootstrap .custom-file-control:lang(en)::after{content:\"Choose file...\"}.bootstrap .custom-file-control::before{position:absolute;top:-1px;right:-1px;bottom:-1px;z-index:6;display:block;height:2.5rem;padding:.5rem 1rem;line-height:1.5;color:#464a4c;background-color:#eceeef;border:1px solid rgba(0, 0, 0, 0.15);border-radius:0 0.25rem 0.25rem 0}.bootstrap .custom-file-control:lang(en)::before{content:\"Browse\"}.bootstrap .nav{display:-webkit-box;display:-webkit-flex;display:-ms-flexbox;display:flex;padding-left:0;margin-bottom:0;list-style:none}.bootstrap .nav-link{display:block;padding:0.5em 1em}.bootstrap .nav-link:focus,.bootstrap .nav-link:hover{text-decoration:none}.bootstrap .nav-link.disabled{color:#636c72;cursor:not-allowed}.bootstrap .nav-tabs{border-bottom:1px solid #ddd}.bootstrap .nav-tabs .nav-item{margin-bottom:-1px}.bootstrap .nav-tabs .nav-link{border:1px solid transparent;border-top-right-radius:.25rem;border-top-left-radius:0.25rem}.bootstrap .nav-tabs .nav-link:focus,.bootstrap .nav-tabs .nav-link:hover{border-color:#eceeef #eceeef #ddd}.bootstrap .nav-tabs .nav-link.disabled{color:#636c72;background-color:transparent;border-color:transparent}.bootstrap .nav-tabs .nav-item.show .nav-link,.bootstrap .nav-tabs .nav-link.active{color:#464a4c;background-color:#fff;border-color:#ddd #ddd #fff}.bootstrap .nav-tabs .dropdown-menu{margin-top:-1px;border-top-right-radius:0;border-top-left-radius:0}.bootstrap .nav-pills .nav-link{border-radius:0.25rem}.bootstrap .nav-pills .nav-item.show .nav-link,.bootstrap .nav-pills .nav-link.active{color:#fff;cursor:default;background-color:#0275d8}.bootstrap .nav-fill .nav-item{-webkit-box-flex:1;-webkit-flex:1 1 auto;-ms-flex:1 1 auto;flex:1 1 auto;text-align:center}.bootstrap .nav-justified .nav-item{-webkit-box-flex:1;-webkit-flex:1 1 100%;-ms-flex:1 1 100%;flex:1 1 100%;text-align:center}.bootstrap .tab-content > .tab-pane{display:none}.bootstrap .tab-content > .active{display:block}.bootstrap .navbar{position:relative;display:-webkit-box;display:-webkit-flex;display:-ms-flexbox;display:flex;-webkit-box-orient:vertical;-webkit-box-direction:normal;-webkit-flex-direction:column;-ms-flex-direction:column;flex-direction:column;padding:0.5rem 1rem}.bootstrap .navbar-brand{display:inline-block;padding-top:.25rem;padding-bottom:.25rem;margin-right:1rem;font-size:1.25rem;line-height:inherit;white-space:nowrap}.bootstrap .navbar-brand:focus,.bootstrap .navbar-brand:hover{text-decoration:none}.bootstrap .navbar-nav{display:-webkit-box;display:-webkit-flex;display:-ms-flexbox;display:flex;-webkit-box-orient:vertical;-webkit-box-direction:normal;-webkit-flex-direction:column;-ms-flex-direction:column;flex-direction:column;padding-left:0;margin-bottom:0;list-style:none}.bootstrap .navbar-nav .nav-link{padding-right:0;padding-left:0}.bootstrap .navbar-text{display:inline-block;padding-top:.425rem;padding-bottom:0.425rem}.bootstrap .navbar-toggler{-webkit-align-self:flex-start;-ms-flex-item-align:start;align-self:flex-start;padding:.25rem .75rem;font-size:1.25rem;line-height:1;background:0 0;border:1px solid transparent;border-radius:0.25rem}.bootstrap .navbar-toggler:focus,.bootstrap .navbar-toggler:hover{text-decoration:none}.bootstrap .navbar-toggler-icon{display:inline-block;width:1.5em;height:1.5em;vertical-align:middle;content:\"\";background:no-repeat center center;-webkit-background-size:100% 100%;background-size:100% 100%}.bootstrap .navbar-toggler-left{position:absolute;left:1rem}.bootstrap .navbar-toggler-right{position:absolute;right:1rem}@media (max-width: 575px){.bootstrap .navbar-toggleable .navbar-nav .dropdown-menu{position:static;float:none}.bootstrap .navbar-toggleable > .container{padding-right:0;padding-left:0}}@media (min-width: 576px){.bootstrap .navbar-toggleable{-webkit-box-orient:horizontal;-webkit-box-direction:normal;-webkit-flex-direction:row;-ms-flex-direction:row;flex-direction:row;-webkit-flex-wrap:nowrap;-ms-flex-wrap:nowrap;flex-wrap:nowrap;-webkit-box-align:center;-webkit-align-items:center;-ms-flex-align:center;align-items:center}.bootstrap .navbar-toggleable .navbar-nav{-webkit-box-orient:horizontal;-webkit-box-direction:normal;-webkit-flex-direction:row;-ms-flex-direction:row;flex-direction:row}.bootstrap .navbar-toggleable .navbar-nav .nav-link{padding-right:.5rem;padding-left:0.5rem}.bootstrap .navbar-toggleable > .container{display:-webkit-box;display:-webkit-flex;display:-ms-flexbox;display:flex;-webkit-flex-wrap:nowrap;-ms-flex-wrap:nowrap;flex-wrap:nowrap;-webkit-box-align:center;-webkit-align-items:center;-ms-flex-align:center;align-items:center}.bootstrap .navbar-toggleable .navbar-collapse{display:-webkit-box !important;display:-webkit-flex !important;display:-ms-flexbox !important;display:flex !important;width:100%}.bootstrap .navbar-toggleable .navbar-toggler{display:none}}@media (max-width: 767px){.bootstrap .navbar-toggleable-sm .navbar-nav .dropdown-menu{position:static;float:none}.bootstrap .navbar-toggleable-sm > .container{padding-right:0;padding-left:0}}@media (min-width: 768px){.bootstrap .navbar-toggleable-sm{-webkit-box-orient:horizontal;-webkit-box-direction:normal;-webkit-flex-direction:row;-ms-flex-direction:row;flex-direction:row;-webkit-flex-wrap:nowrap;-ms-flex-wrap:nowrap;flex-wrap:nowrap;-webkit-box-align:center;-webkit-align-items:center;-ms-flex-align:center;align-items:center}.bootstrap .navbar-toggleable-sm .navbar-nav{-webkit-box-orient:horizontal;-webkit-box-direction:normal;-webkit-flex-direction:row;-ms-flex-direction:row;flex-direction:row}.bootstrap .navbar-toggleable-sm .navbar-nav .nav-link{padding-right:.5rem;padding-left:0.5rem}.bootstrap .navbar-toggleable-sm > .container{display:-webkit-box;display:-webkit-flex;display:-ms-flexbox;display:flex;-webkit-flex-wrap:nowrap;-ms-flex-wrap:nowrap;flex-wrap:nowrap;-webkit-box-align:center;-webkit-align-items:center;-ms-flex-align:center;align-items:center}.bootstrap .navbar-toggleable-sm .navbar-collapse{display:-webkit-box !important;display:-webkit-flex !important;display:-ms-flexbox !important;display:flex !important;width:100%}.bootstrap .navbar-toggleable-sm .navbar-toggler{display:none}}@media (max-width: 991px){.bootstrap .navbar-toggleable-md .navbar-nav .dropdown-menu{position:static;float:none}.bootstrap .navbar-toggleable-md > .container{padding-right:0;padding-left:0}}@media (min-width: 992px){.bootstrap .navbar-toggleable-md{-webkit-box-orient:horizontal;-webkit-box-direction:normal;-webkit-flex-direction:row;-ms-flex-direction:row;flex-direction:row;-webkit-flex-wrap:nowrap;-ms-flex-wrap:nowrap;flex-wrap:nowrap;-webkit-box-align:center;-webkit-align-items:center;-ms-flex-align:center;align-items:center}.bootstrap .navbar-toggleable-md .navbar-nav{-webkit-box-orient:horizontal;-webkit-box-direction:normal;-webkit-flex-direction:row;-ms-flex-direction:row;flex-direction:row}.bootstrap .navbar-toggleable-md .navbar-nav .nav-link{padding-right:.5rem;padding-left:0.5rem}.bootstrap .navbar-toggleable-md > .container{display:-webkit-box;display:-webkit-flex;display:-ms-flexbox;display:flex;-webkit-flex-wrap:nowrap;-ms-flex-wrap:nowrap;flex-wrap:nowrap;-webkit-box-align:center;-webkit-align-items:center;-ms-flex-align:center;align-items:center}.bootstrap .navbar-toggleable-md .navbar-collapse{display:-webkit-box !important;display:-webkit-flex !important;display:-ms-flexbox !important;display:flex !important;width:100%}.bootstrap .navbar-toggleable-md .navbar-toggler{display:none}}@media (max-width: 1199px){.bootstrap .navbar-toggleable-lg .navbar-nav .dropdown-menu{position:static;float:none}.bootstrap .navbar-toggleable-lg > .container{padding-right:0;padding-left:0}}@media (min-width: 1200px){.bootstrap .navbar-toggleable-lg{-webkit-box-orient:horizontal;-webkit-box-direction:normal;-webkit-flex-direction:row;-ms-flex-direction:row;flex-direction:row;-webkit-flex-wrap:nowrap;-ms-flex-wrap:nowrap;flex-wrap:nowrap;-webkit-box-align:center;-webkit-align-items:center;-ms-flex-align:center;align-items:center}.bootstrap .navbar-toggleable-lg .navbar-nav{-webkit-box-orient:horizontal;-webkit-box-direction:normal;-webkit-flex-direction:row;-ms-flex-direction:row;flex-direction:row}.bootstrap .navbar-toggleable-lg .navbar-nav .nav-link{padding-right:.5rem;padding-left:0.5rem}.bootstrap .navbar-toggleable-lg > .container{display:-webkit-box;display:-webkit-flex;display:-ms-flexbox;display:flex;-webkit-flex-wrap:nowrap;-ms-flex-wrap:nowrap;flex-wrap:nowrap;-webkit-box-align:center;-webkit-align-items:center;-ms-flex-align:center;align-items:center}.bootstrap .navbar-toggleable-lg .navbar-collapse{display:-webkit-box !important;display:-webkit-flex !important;display:-ms-flexbox !important;display:flex !important;width:100%}.bootstrap .navbar-toggleable-lg .navbar-toggler{display:none}}.bootstrap .navbar-toggleable-xl{-webkit-box-orient:horizontal;-webkit-box-direction:normal;-webkit-flex-direction:row;-ms-flex-direction:row;flex-direction:row;-webkit-flex-wrap:nowrap;-ms-flex-wrap:nowrap;flex-wrap:nowrap;-webkit-box-align:center;-webkit-align-items:center;-ms-flex-align:center;align-items:center}.bootstrap .navbar-toggleable-xl .navbar-nav .dropdown-menu{position:static;float:none}.bootstrap .navbar-toggleable-xl > .container{padding-right:0;padding-left:0}.bootstrap .navbar-toggleable-xl .navbar-nav{-webkit-box-orient:horizontal;-webkit-box-direction:normal;-webkit-flex-direction:row;-ms-flex-direction:row;flex-direction:row}.bootstrap .navbar-toggleable-xl .navbar-nav .nav-link{padding-right:.5rem;padding-left:0.5rem}.bootstrap .navbar-toggleable-xl > .container{display:-webkit-box;display:-webkit-flex;display:-ms-flexbox;display:flex;-webkit-flex-wrap:nowrap;-ms-flex-wrap:nowrap;flex-wrap:nowrap;-webkit-box-align:center;-webkit-align-items:center;-ms-flex-align:center;align-items:center}.bootstrap .navbar-toggleable-xl .navbar-collapse{display:-webkit-box !important;display:-webkit-flex !important;display:-ms-flexbox !important;display:flex !important;width:100%}.bootstrap .navbar-toggleable-xl .navbar-toggler{display:none}.bootstrap .navbar-light .navbar-brand,.bootstrap .navbar-light .navbar-toggler{color:rgba(0, 0, 0, 0.9)}.bootstrap .navbar-light .navbar-brand:focus,.bootstrap .navbar-light .navbar-brand:hover,.bootstrap .navbar-light .navbar-toggler:focus,.bootstrap .navbar-light .navbar-toggler:hover{color:rgba(0, 0, 0, 0.9)}.bootstrap .navbar-light .navbar-nav .nav-link{color:rgba(0, 0, 0, 0.5)}.bootstrap .navbar-light .navbar-nav .nav-link:focus,.bootstrap .navbar-light .navbar-nav .nav-link:hover{color:rgba(0, 0, 0, 0.7)}.bootstrap .navbar-light .navbar-nav .nav-link.disabled{color:rgba(0, 0, 0, 0.3)}.bootstrap .navbar-light .navbar-nav .active > .nav-link,.bootstrap .navbar-light .navbar-nav .nav-link.active,.bootstrap .navbar-light .navbar-nav .nav-link.open,.bootstrap .navbar-light .navbar-nav .open > .nav-link{color:rgba(0, 0, 0, 0.9)}.bootstrap .navbar-light .navbar-toggler{border-color:rgba(0, 0, 0, 0.1)}.bootstrap .navbar-light .navbar-toggler-icon{background-image:url(\"data:image/svg+xml;charset=utf8,%3Csvg viewBox='0 0 32 32' xmlns='http://www.w3.org/2000/svg'%3E%3Cpath stroke='rgba(0, 0, 0, 0.5)' stroke-width='2' stroke-linecap='round' stroke-miterlimit='10' d='M4 8h24M4 16h24M4 24h24'/%3E%3C/svg%3E\");'}.bootstrap .navbar-light .navbar-text{color:rgba(0, 0, 0, 0.5)}.bootstrap .navbar-inverse .navbar-brand,.bootstrap .navbar-inverse .navbar-toggler{color:#fff}.bootstrap .navbar-inverse .navbar-brand:focus,.bootstrap .navbar-inverse .navbar-brand:hover,.bootstrap .navbar-inverse .navbar-toggler:focus,.bootstrap .navbar-inverse .navbar-toggler:hover{color:#fff}.bootstrap .navbar-inverse .navbar-nav .nav-link{color:rgba(255, 255, 255, 0.5)}.bootstrap .navbar-inverse .navbar-nav .nav-link:focus,.bootstrap .navbar-inverse .navbar-nav .nav-link:hover{color:rgba(255, 255, 255, 0.75)}.bootstrap .navbar-inverse .navbar-nav .nav-link.disabled{color:rgba(255, 255, 255, 0.25)}.bootstrap .navbar-inverse .navbar-nav .active > .nav-link,.bootstrap .navbar-inverse .navbar-nav .nav-link.active,.bootstrap .navbar-inverse .navbar-nav .nav-link.open,.bootstrap .navbar-inverse .navbar-nav .open > .nav-link{color:#fff}.bootstrap .navbar-inverse .navbar-toggler{border-color:rgba(255, 255, 255, 0.1)}.bootstrap .navbar-inverse .navbar-toggler-icon{background-image:url(\"data:image/svg+xml;charset=utf8,%3Csvg viewBox='0 0 32 32' xmlns='http://www.w3.org/2000/svg'%3E%3Cpath stroke='rgba(255, 255, 255, 0.5)' stroke-width='2' stroke-linecap='round' stroke-miterlimit='10' d='M4 8h24M4 16h24M4 24h24'/%3E%3C/svg%3E\");'}.bootstrap .navbar-inverse .navbar-text{color:rgba(255, 255, 255, 0.5)}.bootstrap .card{position:relative;display:-webkit-box;display:-webkit-flex;display:-ms-flexbox;display:flex;-webkit-box-orient:vertical;-webkit-box-direction:normal;-webkit-flex-direction:column;-ms-flex-direction:column;flex-direction:column;background-color:#fff;border:1px solid rgba(0, 0, 0, 0.125);border-radius:0.25rem}.bootstrap .card-block{-webkit-box-flex:1;-webkit-flex:1 1 auto;-ms-flex:1 1 auto;flex:1 1 auto;padding:1.25rem}.bootstrap .card-title{margin-bottom:0.75rem}.bootstrap .card-subtitle{margin-top:-0.375rem;margin-bottom:0}.bootstrap .card-text:last-child{margin-bottom:0}.bootstrap .card-link:hover{text-decoration:none}.bootstrap .card-link + .card-link{margin-left:1.25rem}.bootstrap .card > .list-group:first-child .list-group-item:first-child{border-top-right-radius:.25rem;border-top-left-radius:0.25rem}.bootstrap .card > .list-group:last-child .list-group-item:last-child{border-bottom-right-radius:.25rem;border-bottom-left-radius:0.25rem}.bootstrap .card-header{padding:.75rem 1.25rem;margin-bottom:0;background-color:#f7f7f9;border-bottom:1px solid rgba(0, 0, 0, 0.125)}.bootstrap .card-header:first-child{border-radius:calc(-0.75rem) calc(-0.75rem) 0 0}.bootstrap .card-footer{padding:.75rem 1.25rem;background-color:#f7f7f9;border-top:1px solid rgba(0, 0, 0, 0.125)}.bootstrap .card-footer:last-child{border-radius:0 0 calc(-0.75rem) calc(-0.75rem)}.bootstrap .card-header-tabs{margin-right:-0.625rem;margin-bottom:-0.75rem;margin-left:-0.625rem;border-bottom:0}.bootstrap .card-header-pills{margin-right:-0.625rem;margin-left:-0.625rem}.bootstrap .card-primary{background-color:#0275d8;border-color:#0275d8}.bootstrap .card-primary .card-footer,.bootstrap .card-primary .card-header{background-color:transparent}.bootstrap .card-success{background-color:#5cb85c;border-color:#5cb85c}.bootstrap .card-success .card-footer,.bootstrap .card-success .card-header{background-color:transparent}.bootstrap .card-info{background-color:#5bc0de;border-color:#5bc0de}.bootstrap .card-info .card-footer,.bootstrap .card-info .card-header{background-color:transparent}.bootstrap .card-warning{background-color:#f0ad4e;border-color:#f0ad4e}.bootstrap .card-warning .card-footer,.bootstrap .card-warning .card-header{background-color:transparent}.bootstrap .card-danger{background-color:#d9534f;border-color:#d9534f}.bootstrap .card-danger .card-footer,.bootstrap .card-danger .card-header{background-color:transparent}.bootstrap .card-outline-primary{background-color:transparent;border-color:#0275d8}.bootstrap .card-outline-secondary{background-color:transparent;border-color:#ccc}.bootstrap .card-outline-info{background-color:transparent;border-color:#5bc0de}.bootstrap .card-outline-success{background-color:transparent;border-color:#5cb85c}.bootstrap .card-outline-warning{background-color:transparent;border-color:#f0ad4e}.bootstrap .card-outline-danger{background-color:transparent;border-color:#d9534f}.bootstrap .card-inverse{color:rgba(255, 255, 255, 0.65)}.bootstrap .card-inverse .card-footer,.bootstrap .card-inverse .card-header{background-color:transparent;border-color:rgba(255, 255, 255, 0.2)}.bootstrap .card-inverse .card-blockquote,.bootstrap .card-inverse .card-footer,.bootstrap .card-inverse .card-header,.bootstrap .card-inverse .card-title{color:#fff}.bootstrap .card-inverse .card-blockquote .blockquote-footer,.bootstrap .card-inverse .card-link,.bootstrap .card-inverse .card-subtitle,.bootstrap .card-inverse .card-text{color:rgba(255, 255, 255, 0.65)}.bootstrap .card-inverse .card-link:focus,.bootstrap .card-inverse .card-link:hover{color:#fff}.bootstrap .card-blockquote{padding:0;margin-bottom:0;border-left:0}.bootstrap .card-img{border-radius:calc(-0.75rem)}.bootstrap .card-img-overlay{position:absolute;top:0;right:0;bottom:0;left:0;padding:1.25rem}.bootstrap .card-img-top{border-top-right-radius:calc(-0.75rem);border-top-left-radius:calc(-0.75rem)}.bootstrap .card-img-bottom{border-bottom-right-radius:calc(-0.75rem);border-bottom-left-radius:calc(-0.75rem)}@media (min-width: 576px){.bootstrap .card-deck{display:-webkit-box;display:-webkit-flex;display:-ms-flexbox;display:flex;-webkit-flex-flow:row wrap;-ms-flex-flow:row wrap;flex-flow:row wrap}.bootstrap .card-deck .card{display:-webkit-box;display:-webkit-flex;display:-ms-flexbox;display:flex;-webkit-box-flex:1;-webkit-flex:1 0 0%;-ms-flex:1 0 0%;flex:1 0 0%;-webkit-box-orient:vertical;-webkit-box-direction:normal;-webkit-flex-direction:column;-ms-flex-direction:column;flex-direction:column}.bootstrap .card-deck .card:not(:first-child){margin-left:15px}.bootstrap .card-deck .card:not(:last-child){margin-right:15px}}@media (min-width: 576px){.bootstrap .card-group{display:-webkit-box;display:-webkit-flex;display:-ms-flexbox;display:flex;-webkit-flex-flow:row wrap;-ms-flex-flow:row wrap;flex-flow:row wrap}.bootstrap .card-group .card{-webkit-box-flex:1;-webkit-flex:1 0 0%;-ms-flex:1 0 0%;flex:1 0 0%}.bootstrap .card-group .card + .card{margin-left:0;border-left:0}.bootstrap .card-group .card:first-child{border-bottom-right-radius:0;border-top-right-radius:0}.bootstrap .card-group .card:first-child .card-img-top{border-top-right-radius:0}.bootstrap .card-group .card:first-child .card-img-bottom{border-bottom-right-radius:0}.bootstrap .card-group .card:last-child{border-bottom-left-radius:0;border-top-left-radius:0}.bootstrap .card-group .card:last-child .card-img-top{border-top-left-radius:0}.bootstrap .card-group .card:last-child .card-img-bottom{border-bottom-left-radius:0}.bootstrap .card-group .card:not(:first-child):not(:last-child){border-radius:0}.bootstrap .card-group .card:not(:first-child):not(:last-child) .card-img-bottom,.bootstrap .card-group .card:not(:first-child):not(:last-child) .card-img-top{border-radius:0}}@media (min-width: 576px){.bootstrap .card-columns{-webkit-column-count:3;-moz-column-count:3;column-count:3;-webkit-column-gap:1.25rem;-moz-column-gap:1.25rem;column-gap:1.25rem}.bootstrap .card-columns .card{display:inline-block;width:100%;margin-bottom:0.75rem}}.bootstrap .breadcrumb{padding:.75rem 1rem;margin-bottom:1rem;list-style:none;background-color:#eceeef;border-radius:0.25rem}.bootstrap .breadcrumb::after{display:block;content:\"\";clear:both}.bootstrap .breadcrumb-item{float:left}.bootstrap .breadcrumb-item + .breadcrumb-item::before{display:inline-block;padding-right:.5rem;padding-left:.5rem;color:#636c72;content:\"/\"}.bootstrap .breadcrumb-item + .breadcrumb-item:hover::before{text-decoration:underline}.bootstrap .breadcrumb-item + .breadcrumb-item:hover::before{text-decoration:none}.bootstrap .breadcrumb-item.active{color:#636c72}.bootstrap .pagination{display:-webkit-box;display:-webkit-flex;display:-ms-flexbox;display:flex;padding-left:0;list-style:none;border-radius:0.25rem}.bootstrap .page-item:first-child .page-link{margin-left:0;border-bottom-left-radius:.25rem;border-top-left-radius:0.25rem}.bootstrap .page-item:last-child .page-link{border-bottom-right-radius:.25rem;border-top-right-radius:0.25rem}.bootstrap .page-item.active .page-link{z-index:2;color:#fff;background-color:#0275d8;border-color:#0275d8}.bootstrap .page-item.disabled .page-link{color:#636c72;pointer-events:none;cursor:not-allowed;background-color:#fff;border-color:#ddd}.bootstrap .page-link{position:relative;display:block;padding:.5rem .75rem;margin-left:-1px;line-height:1.25;color:#0275d8;background-color:#fff;border:1px solid #ddd}.bootstrap .page-link:focus,.bootstrap .page-link:hover{color:#014c8c;text-decoration:none;background-color:#eceeef;border-color:#ddd}.bootstrap .pagination-lg .page-link{padding:.75rem 1.5rem;font-size:1.25rem}.bootstrap .pagination-lg .page-item:first-child .page-link{border-bottom-left-radius:.3rem;border-top-left-radius:0.3rem}.bootstrap .pagination-lg .page-item:last-child .page-link{border-bottom-right-radius:.3rem;border-top-right-radius:0.3rem}.bootstrap .pagination-sm .page-link{padding:.25rem .5rem;font-size:0.875rem}.bootstrap .pagination-sm .page-item:first-child .page-link{border-bottom-left-radius:.2rem;border-top-left-radius:0.2rem}.bootstrap .pagination-sm .page-item:last-child .page-link{border-bottom-right-radius:.2rem;border-top-right-radius:0.2rem}.bootstrap .badge{display:inline-block;padding:.25em .4em;font-size:75%;font-weight:700;line-height:1;color:#fff;text-align:center;white-space:nowrap;vertical-align:baseline;border-radius:0.25rem}.bootstrap .badge:empty{display:none}.bootstrap .btn .badge{position:relative;top:-1px}.bootstrap a.badge:focus,.bootstrap a.badge:hover{color:#fff;text-decoration:none;cursor:pointer}.bootstrap .badge-pill{padding-right:.6em;padding-left:.6em;border-radius:10rem}.bootstrap .badge-default{background-color:#636c72}.bootstrap .badge-default[href]:focus,.bootstrap .badge-default[href]:hover{background-color:#4b5257}.bootstrap .badge-primary{background-color:#0275d8}.bootstrap .badge-primary[href]:focus,.bootstrap .badge-primary[href]:hover{background-color:#025aa5}.bootstrap .badge-success{background-color:#5cb85c}.bootstrap .badge-success[href]:focus,.bootstrap .badge-success[href]:hover{background-color:#449d44}.bootstrap .badge-info{background-color:#5bc0de}.bootstrap .badge-info[href]:focus,.bootstrap .badge-info[href]:hover{background-color:#31b0d5}.bootstrap .badge-warning{background-color:#f0ad4e}.bootstrap .badge-warning[href]:focus,.bootstrap .badge-warning[href]:hover{background-color:#ec971f}.bootstrap .badge-danger{background-color:#d9534f}.bootstrap .badge-danger[href]:focus,.bootstrap .badge-danger[href]:hover{background-color:#c9302c}.bootstrap .jumbotron{padding:2rem 1rem;margin-bottom:2rem;background-color:#eceeef;border-radius:0.3rem}@media (min-width: 576px){.bootstrap .jumbotron{padding:4rem 2rem}}.bootstrap .jumbotron-hr{border-top-color:#d0d5d8}.bootstrap .jumbotron-fluid{padding-right:0;padding-left:0;border-radius:0}.bootstrap .alert{padding:.75rem 1.25rem;margin-bottom:1rem;border:1px solid transparent;border-radius:0.25rem}.bootstrap .alert-heading{color:inherit}.bootstrap .alert-link{font-weight:700}.bootstrap .alert-dismissible .close{position:relative;top:-0.75rem;right:-1.25rem;padding:.75rem 1.25rem;color:inherit}.bootstrap .alert-success{background-color:#dff0d8;border-color:#d0e9c6;color:#3c763d}.bootstrap .alert-success hr{border-top-color:#c1e2b3}.bootstrap .alert-success .alert-link{color:#2b542c}.bootstrap .alert-info{background-color:#d9edf7;border-color:#bcdff1;color:#31708f}.bootstrap .alert-info hr{border-top-color:#a6d5ec}.bootstrap .alert-info .alert-link{color:#245269}.bootstrap .alert-warning{background-color:#fcf8e3;border-color:#faf2cc;color:#8a6d3b}.bootstrap .alert-warning hr{border-top-color:#f7ecb5}.bootstrap .alert-warning .alert-link{color:#66512c}.bootstrap .alert-danger{background-color:#f2dede;border-color:#ebcccc;color:#a94442}.bootstrap .alert-danger hr{border-top-color:#e4b9b9}.bootstrap .alert-danger .alert-link{color:#843534}@-webkit-keyframes \"progress-bar-stripes\"{from{background-position:1rem 0;}to{background-position:0 0;}}@-o-keyframes progress-bar-stripes{from { background-position:1rem 0}to{background-position:0 0}@keyframes \"progress-bar-stripes\"{from{background-position:1rem 0;}to{background-position:0 0;}}.bootstrap .progress{display:-webkit-box;display:-webkit-flex;display:-ms-flexbox;display:flex;overflow:hidden;font-size:.75rem;line-height:1rem;text-align:center;background-color:#eceeef;border-radius:0.25rem}.bootstrap .progress-bar{height:1rem;color:#fff;background-color:#0275d8}.bootstrap .progress-bar-striped{background-image:-webkit-linear-gradient(45deg, rgba(255, 255, 255, 0.15) 25%, transparent 25%, transparent 50%, rgba(255, 255, 255, 0.15) 50%, rgba(255, 255, 255, 0.15) 75%, transparent 75%, transparent);background-image:-o-linear-gradient(45deg, rgba(255, 255, 255, 0.15) 25%, transparent 25%, transparent 50%, rgba(255, 255, 255, 0.15) 50%, rgba(255, 255, 255, 0.15) 75%, transparent 75%, transparent);background-image:linear-gradient(45deg, rgba(255, 255, 255, 0.15) 25%, transparent 25%, transparent 50%, rgba(255, 255, 255, 0.15) 50%, rgba(255, 255, 255, 0.15) 75%, transparent 75%, transparent);-webkit-background-size:1rem 1rem;background-size:1rem 1rem}.bootstrap .progress-bar-animated{-webkit-animation:progress-bar-stripes 1s linear infinite;-o-animation:progress-bar-stripes 1s linear infinite;animation:progress-bar-stripes 1s linear infinite}.bootstrap .media{display:-webkit-box;display:-webkit-flex;display:-ms-flexbox;display:flex;-webkit-box-align:start;-webkit-align-items:flex-start;-ms-flex-align:start;align-items:flex-start}.bootstrap .media-body{-webkit-box-flex:1;-webkit-flex:1 1 0%;-ms-flex:1 1 0%;flex:1 1 0%}.bootstrap .list-group{display:-webkit-box;display:-webkit-flex;display:-ms-flexbox;display:flex;-webkit-box-orient:vertical;-webkit-box-direction:normal;-webkit-flex-direction:column;-ms-flex-direction:column;flex-direction:column;padding-left:0;margin-bottom:0}.bootstrap .list-group-item-action{width:100%;color:#464a4c;text-align:inherit}.bootstrap .list-group-item-action .list-group-item-heading{color:#292b2c}.bootstrap .list-group-item-action:focus,.bootstrap .list-group-item-action:hover{color:#464a4c;text-decoration:none;background-color:#f7f7f9}.bootstrap .list-group-item-action:active{color:#292b2c;background-color:#eceeef}.bootstrap .list-group-item{position:relative;display:-webkit-box;display:-webkit-flex;display:-ms-flexbox;display:flex;-webkit-flex-flow:row wrap;-ms-flex-flow:row wrap;flex-flow:row wrap;-webkit-box-align:center;-webkit-align-items:center;-ms-flex-align:center;align-items:center;padding:.75rem 1.25rem;margin-bottom:-1px;background-color:#fff;border:1px solid rgba(0, 0, 0, 0.125)}.bootstrap .list-group-item:first-child{border-top-right-radius:.25rem;border-top-left-radius:0.25rem}.bootstrap .list-group-item:last-child{margin-bottom:0;border-bottom-right-radius:.25rem;border-bottom-left-radius:0.25rem}.bootstrap .list-group-item:focus,.bootstrap .list-group-item:hover{text-decoration:none}.bootstrap .list-group-item.disabled,.bootstrap .list-group-item:disabled{color:#636c72;cursor:not-allowed;background-color:#fff}.bootstrap .list-group-item.disabled .list-group-item-heading,.bootstrap .list-group-item:disabled .list-group-item-heading{color:inherit}.bootstrap .list-group-item.disabled .list-group-item-text,.bootstrap .list-group-item:disabled .list-group-item-text{color:#636c72}.bootstrap .list-group-item.active{z-index:2;color:#fff;background-color:#0275d8;border-color:#0275d8}.bootstrap .list-group-item.active .list-group-item-heading,.bootstrap .list-group-item.active .list-group-item-heading > .small,.bootstrap .list-group-item.active .list-group-item-heading > small{color:inherit}.bootstrap .list-group-item.active .list-group-item-text{color:#daeeff}.bootstrap .list-group-flush .list-group-item{border-right:0;border-left:0;border-radius:0}.bootstrap .list-group-flush:first-child .list-group-item:first-child{border-top:0}.bootstrap .list-group-flush:last-child .list-group-item:last-child{border-bottom:0}.bootstrap .list-group-item-success{color:#3c763d;background-color:#dff0d8}.bootstrap a.list-group-item-success,.bootstrap button.list-group-item-success{color:#3c763d}.bootstrap a.list-group-item-success .list-group-item-heading,.bootstrap button.list-group-item-success .list-group-item-heading{color:inherit}.bootstrap a.list-group-item-success:focus,.bootstrap a.list-group-item-success:hover,.bootstrap button.list-group-item-success:focus,.bootstrap button.list-group-item-success:hover{color:#3c763d;background-color:#d0e9c6}.bootstrap a.list-group-item-success.active,.bootstrap button.list-group-item-success.active{color:#fff;background-color:#3c763d;border-color:#3c763d}.bootstrap .list-group-item-info{color:#31708f;background-color:#d9edf7}.bootstrap a.list-group-item-info,.bootstrap button.list-group-item-info{color:#31708f}.bootstrap a.list-group-item-info .list-group-item-heading,.bootstrap button.list-group-item-info .list-group-item-heading{color:inherit}.bootstrap a.list-group-item-info:focus,.bootstrap a.list-group-item-info:hover,.bootstrap button.list-group-item-info:focus,.bootstrap button.list-group-item-info:hover{color:#31708f;background-color:#c4e3f3}.bootstrap a.list-group-item-info.active,.bootstrap button.list-group-item-info.active{color:#fff;background-color:#31708f;border-color:#31708f}.bootstrap .list-group-item-warning{color:#8a6d3b;background-color:#fcf8e3}.bootstrap a.list-group-item-warning,.bootstrap button.list-group-item-warning{color:#8a6d3b}.bootstrap a.list-group-item-warning .list-group-item-heading,.bootstrap button.list-group-item-warning .list-group-item-heading{color:inherit}.bootstrap a.list-group-item-warning:focus,.bootstrap a.list-group-item-warning:hover,.bootstrap button.list-group-item-warning:focus,.bootstrap button.list-group-item-warning:hover{color:#8a6d3b;background-color:#faf2cc}.bootstrap a.list-group-item-warning.active,.bootstrap button.list-group-item-warning.active{color:#fff;background-color:#8a6d3b;border-color:#8a6d3b}.bootstrap .list-group-item-danger{color:#a94442;background-color:#f2dede}.bootstrap a.list-group-item-danger,.bootstrap button.list-group-item-danger{color:#a94442}.bootstrap a.list-group-item-danger .list-group-item-heading,.bootstrap button.list-group-item-danger .list-group-item-heading{color:inherit}.bootstrap a.list-group-item-danger:focus,.bootstrap a.list-group-item-danger:hover,.bootstrap button.list-group-item-danger:focus,.bootstrap button.list-group-item-danger:hover{color:#a94442;background-color:#ebcccc}.bootstrap a.list-group-item-danger.active,.bootstrap button.list-group-item-danger.active{color:#fff;background-color:#a94442;border-color:#a94442}.bootstrap .embed-responsive{position:relative;display:block;width:100%;padding:0;overflow:hidden}.bootstrap .embed-responsive::before{display:block;content:\"\"}.bootstrap .embed-responsive .embed-responsive-item,.bootstrap .embed-responsive embed,.bootstrap .embed-responsive iframe,.bootstrap .embed-responsive object,.bootstrap .embed-responsive video{position:absolute;top:0;bottom:0;left:0;width:100%;height:100%;border:0}.bootstrap .embed-responsive-21by9::before{padding-top:42.857143%}.bootstrap .embed-responsive-16by9::before{padding-top:56.25%}.bootstrap .embed-responsive-4by3::before{padding-top:75%}.bootstrap .embed-responsive-1by1::before{padding-top:100%}.bootstrap .close{float:right;font-size:1.5rem;font-weight:700;line-height:1;color:#000;text-shadow:0 1px 0 #fff;opacity:0.5}.bootstrap .close:focus,.bootstrap .close:hover{color:#000;text-decoration:none;cursor:pointer;opacity:0.75}.bootstrap button.close{padding:0;cursor:pointer;background:0 0;border:0;-webkit-appearance:none}.bootstrap .modal-open{overflow:hidden}.bootstrap .modal{position:fixed;top:0;right:0;bottom:0;left:0;z-index:1050;display:none;overflow:hidden;outline:0}.bootstrap .modal.fade .modal-dialog{-webkit-transition:-webkit-transform 0.3s ease-out;transition:-webkit-transform 0.3s ease-out;-o-transition:-o-transform 0.3s ease-out;transition:transform 0.3s ease-out;transition:transform 0.3s ease-out, -webkit-transform 0.3s ease-out, -o-transform 0.3s ease-out;-webkit-transform:translate(0, -25%);-o-transform:translate(0, -25%);transform:translate(0, -25%)}.bootstrap .modal.show .modal-dialog{-webkit-transform:translate(0, 0);-o-transform:translate(0, 0);transform:translate(0, 0)}.bootstrap .modal-open .modal{overflow-x:hidden;overflow-y:auto}.bootstrap .modal-dialog{position:relative;width:auto;margin:10px}.bootstrap .modal-content{position:relative;display:-webkit-box;display:-webkit-flex;display:-ms-flexbox;display:flex;-webkit-box-orient:vertical;-webkit-box-direction:normal;-webkit-flex-direction:column;-ms-flex-direction:column;flex-direction:column;background-color:#fff;-webkit-background-clip:padding-box;background-clip:padding-box;border:1px solid rgba(0, 0, 0, 0.2);border-radius:.3rem;outline:0}.bootstrap .modal-backdrop{position:fixed;top:0;right:0;bottom:0;left:0;z-index:1040;background-color:#000}.bootstrap .modal-backdrop.fade{opacity:0}.bootstrap .modal-backdrop.show{opacity:0.5}.bootstrap .modal-header{display:-webkit-box;display:-webkit-flex;display:-ms-flexbox;display:flex;-webkit-box-align:center;-webkit-align-items:center;-ms-flex-align:center;align-items:center;-webkit-box-pack:justify;-webkit-justify-content:space-between;-ms-flex-pack:justify;justify-content:space-between;padding:15px;border-bottom:1px solid #eceeef}.bootstrap .modal-title{margin-bottom:0;line-height:1.5}.bootstrap .modal-body{position:relative;-webkit-box-flex:1;-webkit-flex:1 1 auto;-ms-flex:1 1 auto;flex:1 1 auto;padding:15px}.bootstrap .modal-footer{display:-webkit-box;display:-webkit-flex;display:-ms-flexbox;display:flex;-webkit-box-align:center;-webkit-align-items:center;-ms-flex-align:center;align-items:center;-webkit-box-pack:end;-webkit-justify-content:flex-end;-ms-flex-pack:end;justify-content:flex-end;padding:15px;border-top:1px solid #eceeef}.bootstrap .modal-footer > :not(:first-child){margin-left:0.25rem}.bootstrap .modal-footer > :not(:last-child){margin-right:0.25rem}.bootstrap .modal-scrollbar-measure{position:absolute;top:-9999px;width:50px;height:50px;overflow:scroll}@media (min-width: 576px){.bootstrap .modal-dialog{max-width:500px;margin:30px auto}.bootstrap .modal-sm{max-width:300px}}@media (min-width: 992px){.bootstrap .modal-lg{max-width:800px}}.bootstrap .tooltip{position:absolute;z-index:1070;display:block;font-family:-apple-system, system-ui, BlinkMacSystemFont, \"Segoe UI\", Roboto, \"Helvetica Neue\", Arial, sans-serif;font-style:normal;font-weight:400;letter-spacing:normal;line-break:auto;line-height:1.5;text-align:left;text-align:start;text-decoration:none;text-shadow:none;text-transform:none;white-space:normal;word-break:normal;word-spacing:normal;font-size:.875rem;word-wrap:break-word;opacity:0}.bootstrap .tooltip.show{opacity:0.9}.bootstrap .tooltip.bs-tether-element-attached-bottom,.bootstrap .tooltip.tooltip-top{padding:5px 0;margin-top:-3px}.bootstrap .tooltip.bs-tether-element-attached-bottom .tooltip-inner::before,.bootstrap .tooltip.tooltip-top .tooltip-inner::before{bottom:0;left:50%;margin-left:-5px;content:\"\";border-width:5px 5px 0;border-top-color:#000}.bootstrap .tooltip.bs-tether-element-attached-left,.bootstrap .tooltip.tooltip-right{padding:0 5px;margin-left:3px}.bootstrap .tooltip.bs-tether-element-attached-left .tooltip-inner::before,.bootstrap .tooltip.tooltip-right .tooltip-inner::before{top:50%;left:0;margin-top:-5px;content:\"\";border-width:5px 5px 5px 0;border-right-color:#000}.bootstrap .tooltip.bs-tether-element-attached-top,.bootstrap .tooltip.tooltip-bottom{padding:5px 0;margin-top:3px}.bootstrap .tooltip.bs-tether-element-attached-top .tooltip-inner::before,.bootstrap .tooltip.tooltip-bottom .tooltip-inner::before{top:0;left:50%;margin-left:-5px;content:\"\";border-width:0 5px 5px;border-bottom-color:#000}.bootstrap .tooltip.bs-tether-element-attached-right,.bootstrap .tooltip.tooltip-left{padding:0 5px;margin-left:-3px}.bootstrap .tooltip.bs-tether-element-attached-right .tooltip-inner::before,.bootstrap .tooltip.tooltip-left .tooltip-inner::before{top:50%;right:0;margin-top:-5px;content:\"\";border-width:5px 0 5px 5px;border-left-color:#000}.bootstrap .tooltip-inner{max-width:200px;padding:3px 8px;color:#fff;text-align:center;background-color:#000;border-radius:0.25rem}.bootstrap .tooltip-inner::before{position:absolute;width:0;height:0;border-color:transparent;border-style:solid}.bootstrap .popover{position:absolute;top:0;left:0;z-index:1060;display:block;max-width:276px;padding:1px;font-family:-apple-system, system-ui, BlinkMacSystemFont, \"Segoe UI\", Roboto, \"Helvetica Neue\", Arial, sans-serif;font-style:normal;font-weight:400;letter-spacing:normal;line-break:auto;line-height:1.5;text-align:left;text-align:start;text-decoration:none;text-shadow:none;text-transform:none;white-space:normal;word-break:normal;word-spacing:normal;font-size:.875rem;word-wrap:break-word;background-color:#fff;-webkit-background-clip:padding-box;background-clip:padding-box;border:1px solid rgba(0, 0, 0, 0.2);border-radius:0.3rem}.bootstrap .popover.bs-tether-element-attached-bottom,.bootstrap .popover.popover-top{margin-top:-10px}.bootstrap .popover.bs-tether-element-attached-bottom::after,.bootstrap .popover.bs-tether-element-attached-bottom::before,.bootstrap .popover.popover-top::after,.bootstrap .popover.popover-top::before{left:50%;border-bottom-width:0}.bootstrap .popover.bs-tether-element-attached-bottom::before,.bootstrap .popover.popover-top::before{bottom:-11px;margin-left:-11px;border-top-color:rgba(0, 0, 0, 0.25)}.bootstrap .popover.bs-tether-element-attached-bottom::after,.bootstrap .popover.popover-top::after{bottom:-10px;margin-left:-10px;border-top-color:#fff}.bootstrap .popover.bs-tether-element-attached-left,.bootstrap .popover.popover-right{margin-left:10px}.bootstrap .popover.bs-tether-element-attached-left::after,.bootstrap .popover.bs-tether-element-attached-left::before,.bootstrap .popover.popover-right::after,.bootstrap .popover.popover-right::before{top:50%;border-left-width:0}.bootstrap .popover.bs-tether-element-attached-left::before,.bootstrap .popover.popover-right::before{left:-11px;margin-top:-11px;border-right-color:rgba(0, 0, 0, 0.25)}.bootstrap .popover.bs-tether-element-attached-left::after,.bootstrap .popover.popover-right::after{left:-10px;margin-top:-10px;border-right-color:#fff}.bootstrap .popover.bs-tether-element-attached-top,.bootstrap .popover.popover-bottom{margin-top:10px}.bootstrap .popover.bs-tether-element-attached-top::after,.bootstrap .popover.bs-tether-element-attached-top::before,.bootstrap .popover.popover-bottom::after,.bootstrap .popover.popover-bottom::before{left:50%;border-top-width:0}.bootstrap .popover.bs-tether-element-attached-top::before,.bootstrap .popover.popover-bottom::before{top:-11px;margin-left:-11px;border-bottom-color:rgba(0, 0, 0, 0.25)}.bootstrap .popover.bs-tether-element-attached-top::after,.bootstrap .popover.popover-bottom::after{top:-10px;margin-left:-10px;border-bottom-color:#f7f7f7}.bootstrap .popover.bs-tether-element-attached-top .popover-title::before,.bootstrap .popover.popover-bottom .popover-title::before{position:absolute;top:0;left:50%;display:block;width:20px;margin-left:-10px;content:\"\";border-bottom:1px solid #f7f7f7}.bootstrap .popover.bs-tether-element-attached-right,.bootstrap .popover.popover-left{margin-left:-10px}.bootstrap .popover.bs-tether-element-attached-right::after,.bootstrap .popover.bs-tether-element-attached-right::before,.bootstrap .popover.popover-left::after,.bootstrap .popover.popover-left::before{top:50%;border-right-width:0}.bootstrap .popover.bs-tether-element-attached-right::before,.bootstrap .popover.popover-left::before{right:-11px;margin-top:-11px;border-left-color:rgba(0, 0, 0, 0.25)}.bootstrap .popover.bs-tether-element-attached-right::after,.bootstrap .popover.popover-left::after{right:-10px;margin-top:-10px;border-left-color:#fff}.bootstrap .popover-title{padding:8px 14px;margin-bottom:0;font-size:1rem;background-color:#f7f7f7;border-bottom:1px solid #ebebeb;border-top-right-radius:calc(-0.7rem);border-top-left-radius:calc(-0.7rem)}.bootstrap .popover-title:empty{display:none}.bootstrap .popover-content{padding:9px 14px}.bootstrap .popover::after,.bootstrap .popover::before{position:absolute;display:block;width:0;height:0;border-color:transparent;border-style:solid}.bootstrap .popover::before{content:\"\";border-width:11px}.bootstrap .popover::after{content:\"\";border-width:10px}.bootstrap .carousel{position:relative}.bootstrap .carousel-inner{position:relative;width:100%;overflow:hidden}.bootstrap .carousel-item{position:relative;display:none;width:100%}@media (-webkit-transform-3d){.bootstrap .carousel-item{-webkit-transition:-webkit-transform 0.6s ease-in-out;transition:-webkit-transform 0.6s ease-in-out;-o-transition:-o-transform 0.6s ease-in-out;transition:transform 0.6s ease-in-out;transition:transform 0.6s ease-in-out, -webkit-transform 0.6s ease-in-out, -o-transform 0.6s ease-in-out;-webkit-backface-visibility:hidden;backface-visibility:hidden;-webkit-perspective:1000px;perspective:1000px}}@supports ((-webkit-transform:translate3d(0,0,0)) or (transform:translate3d(0,0,0))){.bootstrap .carousel-item { -webkit-transition:-webkit-transform 0.6s ease-in-out;transition:-webkit-transform 0.6s ease-in-out;-o-transition:-o-transform 0.6s ease-in-out;transition:transform 0.6s ease-in-out;transition:transform 0.6s ease-in-out, -webkit-transform 0.6s ease-in-out, -o-transform 0.6s ease-in-out;-webkit-backface-visibility:hidden;backface-visibility:hidden;-webkit-perspective:1000px;perspective:1000px}} .bootstrap .carousel-item-next,.bootstrap .carousel-item-prev,.bootstrap .carousel-item.active{display:-webkit-box;display:-webkit-flex;display:-ms-flexbox;display:flex}.bootstrap .carousel-item-next,.bootstrap .carousel-item-prev{position:absolute;top:0}@media (-webkit-transform-3d){.bootstrap .carousel-item-next.carousel-item-left,.bootstrap .carousel-item-prev.carousel-item-right{-webkit-transform:translate3d(0, 0, 0);transform:translate3d(0, 0, 0)}.bootstrap .active.carousel-item-right,.bootstrap .carousel-item-next{-webkit-transform:translate3d(100%, 0, 0);transform:translate3d(100%, 0, 0)}.bootstrap .active.carousel-item-left,.bootstrap .carousel-item-prev{-webkit-transform:translate3d(-100%, 0, 0);transform:translate3d(-100%, 0, 0)}}@supports ((-webkit-transform:translate3d(0,0,0)) or (transform:translate3d(0,0,0))){.bootstrap .carousel-item-next.carousel-item-left, .bootstrap .carousel-item-prev.carousel-item-right { -webkit-transform:translate3d(0, 0, 0);transform:translate3d(0, 0, 0)}.bootstrap .active.carousel-item-right,.bootstrap .carousel-item-next{-webkit-transform:translate3d(100%, 0, 0);transform:translate3d(100%, 0, 0)}.bootstrap .active.carousel-item-left,.bootstrap .carousel-item-prev{-webkit-transform:translate3d(-100%, 0, 0);transform:translate3d(-100%, 0, 0)}} .bootstrap .carousel-control-next,.bootstrap .carousel-control-prev{position:absolute;top:0;bottom:0;display:-webkit-box;display:-webkit-flex;display:-ms-flexbox;display:flex;-webkit-box-align:center;-webkit-align-items:center;-ms-flex-align:center;align-items:center;-webkit-box-pack:center;-webkit-justify-content:center;-ms-flex-pack:center;justify-content:center;width:15%;color:#fff;text-align:center;opacity:0.5}.bootstrap .carousel-control-next:focus,.bootstrap .carousel-control-next:hover,.bootstrap .carousel-control-prev:focus,.bootstrap .carousel-control-prev:hover{color:#fff;text-decoration:none;outline:0;opacity:0.9}.bootstrap .carousel-control-prev{left:0}.bootstrap .carousel-control-next{right:0}.bootstrap .carousel-control-next-icon,.bootstrap .carousel-control-prev-icon{display:inline-block;width:20px;height:20px;background:transparent no-repeat center center;-webkit-background-size:100% 100%;background-size:100% 100%}.bootstrap .carousel-control-prev-icon{background-image:url(\"data:image/svg+xml;charset=utf8,%3Csvg xmlns='http://www.w3.org/2000/svg' fill='%23fff' viewBox='0 0 8 8'%3E%3Cpath d='M4 0l-4 4 4 4 1.5-1.5-2.5-2.5 2.5-2.5-1.5-1.5z'/%3E%3C/svg%3E\")}.bootstrap .carousel-control-next-icon{background-image:url(\"data:image/svg+xml;charset=utf8,%3Csvg xmlns='http://www.w3.org/2000/svg' fill='%23fff' viewBox='0 0 8 8'%3E%3Cpath d='M1.5 0l-1.5 1.5 2.5 2.5-2.5 2.5 1.5 1.5 4-4-4-4z'/%3E%3C/svg%3E\")}.bootstrap .carousel-indicators{position:absolute;right:0;bottom:10px;left:0;z-index:15;display:-webkit-box;display:-webkit-flex;display:-ms-flexbox;display:flex;-webkit-box-pack:center;-webkit-justify-content:center;-ms-flex-pack:center;justify-content:center;padding-left:0;margin-right:15%;margin-left:15%;list-style:none}.bootstrap .carousel-indicators li{position:relative;-webkit-box-flex:1;-webkit-flex:1 0 auto;-ms-flex:1 0 auto;flex:1 0 auto;max-width:30px;height:3px;margin-right:3px;margin-left:3px;text-indent:-999px;cursor:pointer;background-color:rgba(255, 255, 255, 0.5)}.bootstrap .carousel-indicators li::before{position:absolute;top:-10px;left:0;display:inline-block;width:100%;height:10px;content:\"\"}.bootstrap .carousel-indicators li::after{position:absolute;bottom:-10px;left:0;display:inline-block;width:100%;height:10px;content:\"\"}.bootstrap .carousel-indicators .active{background-color:#fff}.bootstrap .carousel-caption{position:absolute;right:15%;bottom:20px;left:15%;z-index:10;padding-top:20px;padding-bottom:20px;color:#fff;text-align:center}.bootstrap .align-baseline{vertical-align:baseline !important}.bootstrap .align-top{vertical-align:top !important}.bootstrap .align-middle{vertical-align:middle !important}.bootstrap .align-bottom{vertical-align:bottom !important}.bootstrap .align-text-bottom{vertical-align:text-bottom !important}.bootstrap .align-text-top{vertical-align:text-top !important}.bootstrap .bg-faded{background-color:#f7f7f7}.bootstrap .bg-primary{background-color:#0275d8 !important}.bootstrap a.bg-primary:focus,.bootstrap a.bg-primary:hover{background-color:#025aa5 !important}.bootstrap .bg-success{background-color:#5cb85c !important}.bootstrap a.bg-success:focus,.bootstrap a.bg-success:hover{background-color:#449d44 !important}.bootstrap .bg-info{background-color:#5bc0de !important}.bootstrap a.bg-info:focus,.bootstrap a.bg-info:hover{background-color:#31b0d5 !important}.bootstrap .bg-warning{background-color:#f0ad4e !important}.bootstrap a.bg-warning:focus,.bootstrap a.bg-warning:hover{background-color:#ec971f !important}.bootstrap .bg-danger{background-color:#d9534f !important}.bootstrap a.bg-danger:focus,.bootstrap a.bg-danger:hover{background-color:#c9302c !important}.bootstrap .bg-inverse{background-color:#292b2c !important}.bootstrap a.bg-inverse:focus,.bootstrap a.bg-inverse:hover{background-color:#101112 !important}.bootstrap .border-0{border:0 !important}.bootstrap .border-top-0{border-top:0 !important}.bootstrap .border-right-0{border-right:0 !important}.bootstrap .border-bottom-0{border-bottom:0 !important}.bootstrap .border-left-0{border-left:0 !important}.bootstrap .rounded{border-radius:0.25rem}.bootstrap .rounded-top{border-top-right-radius:.25rem;border-top-left-radius:0.25rem}.bootstrap .rounded-right{border-bottom-right-radius:.25rem;border-top-right-radius:0.25rem}.bootstrap .rounded-bottom{border-bottom-right-radius:.25rem;border-bottom-left-radius:0.25rem}.bootstrap .rounded-left{border-bottom-left-radius:.25rem;border-top-left-radius:0.25rem}.bootstrap .rounded-circle{border-radius:50%}.bootstrap .rounded-0{border-radius:0}.bootstrap .clearfix::after{display:block;content:\"\";clear:both}.bootstrap .d-none{display:none !important}.bootstrap .d-inline{display:inline !important}.bootstrap .d-inline-block{display:inline-block !important}.bootstrap .d-block{display:block !important}.bootstrap .d-table{display:table !important}.bootstrap .d-table-cell{display:table-cell !important}.bootstrap .d-flex{display:-webkit-box !important;display:-webkit-flex !important;display:-ms-flexbox !important;display:flex !important}.bootstrap .d-inline-flex{display:-webkit-inline-box !important;display:-webkit-inline-flex !important;display:-ms-inline-flexbox !important;display:inline-flex !important}@media (min-width: 576px){.bootstrap .d-sm-none{display:none !important}.bootstrap .d-sm-inline{display:inline !important}.bootstrap .d-sm-inline-block{display:inline-block !important}.bootstrap .d-sm-block{display:block !important}.bootstrap .d-sm-table{display:table !important}.bootstrap .d-sm-table-cell{display:table-cell !important}.bootstrap .d-sm-flex{display:-webkit-box !important;display:-webkit-flex !important;display:-ms-flexbox !important;display:flex !important}.bootstrap .d-sm-inline-flex{display:-webkit-inline-box !important;display:-webkit-inline-flex !important;display:-ms-inline-flexbox !important;display:inline-flex !important}}@media (min-width: 768px){.bootstrap .d-md-none{display:none !important}.bootstrap .d-md-inline{display:inline !important}.bootstrap .d-md-inline-block{display:inline-block !important}.bootstrap .d-md-block{display:block !important}.bootstrap .d-md-table{display:table !important}.bootstrap .d-md-table-cell{display:table-cell !important}.bootstrap .d-md-flex{display:-webkit-box !important;display:-webkit-flex !important;display:-ms-flexbox !important;display:flex !important}.bootstrap .d-md-inline-flex{display:-webkit-inline-box !important;display:-webkit-inline-flex !important;display:-ms-inline-flexbox !important;display:inline-flex !important}}@media (min-width: 992px){.bootstrap .d-lg-none{display:none !important}.bootstrap .d-lg-inline{display:inline !important}.bootstrap .d-lg-inline-block{display:inline-block !important}.bootstrap .d-lg-block{display:block !important}.bootstrap .d-lg-table{display:table !important}.bootstrap .d-lg-table-cell{display:table-cell !important}.bootstrap .d-lg-flex{display:-webkit-box !important;display:-webkit-flex !important;display:-ms-flexbox !important;display:flex !important}.bootstrap .d-lg-inline-flex{display:-webkit-inline-box !important;display:-webkit-inline-flex !important;display:-ms-inline-flexbox !important;display:inline-flex !important}}@media (min-width: 1200px){.bootstrap .d-xl-none{display:none !important}.bootstrap .d-xl-inline{display:inline !important}.bootstrap .d-xl-inline-block{display:inline-block !important}.bootstrap .d-xl-block{display:block !important}.bootstrap .d-xl-table{display:table !important}.bootstrap .d-xl-table-cell{display:table-cell !important}.bootstrap .d-xl-flex{display:-webkit-box !important;display:-webkit-flex !important;display:-ms-flexbox !important;display:flex !important}.bootstrap .d-xl-inline-flex{display:-webkit-inline-box !important;display:-webkit-inline-flex !important;display:-ms-inline-flexbox !important;display:inline-flex !important}}.bootstrap .flex-first{-webkit-box-ordinal-group:0;-webkit-order:-1;-ms-flex-order:-1;order:-1}.bootstrap .flex-last{-webkit-box-ordinal-group:2;-webkit-order:1;-ms-flex-order:1;order:1}.bootstrap .flex-unordered{-webkit-box-ordinal-group:1;-webkit-order:0;-ms-flex-order:0;order:0}.bootstrap .flex-row{-webkit-box-orient:horizontal !important;-webkit-box-direction:normal !important;-webkit-flex-direction:row !important;-ms-flex-direction:row !important;flex-direction:row !important}.bootstrap .flex-column{-webkit-box-orient:vertical !important;-webkit-box-direction:normal !important;-webkit-flex-direction:column !important;-ms-flex-direction:column !important;flex-direction:column !important}.bootstrap .flex-row-reverse{-webkit-box-orient:horizontal !important;-webkit-box-direction:reverse !important;-webkit-flex-direction:row-reverse !important;-ms-flex-direction:row-reverse !important;flex-direction:row-reverse !important}.bootstrap .flex-column-reverse{-webkit-box-orient:vertical !important;-webkit-box-direction:reverse !important;-webkit-flex-direction:column-reverse !important;-ms-flex-direction:column-reverse !important;flex-direction:column-reverse !important}.bootstrap .flex-wrap{-webkit-flex-wrap:wrap !important;-ms-flex-wrap:wrap !important;flex-wrap:wrap !important}.bootstrap .flex-nowrap{-webkit-flex-wrap:nowrap !important;-ms-flex-wrap:nowrap !important;flex-wrap:nowrap !important}.bootstrap .flex-wrap-reverse{-webkit-flex-wrap:wrap-reverse !important;-ms-flex-wrap:wrap-reverse !important;flex-wrap:wrap-reverse !important}.bootstrap .justify-content-start{-webkit-box-pack:start !important;-webkit-justify-content:flex-start !important;-ms-flex-pack:start !important;justify-content:flex-start !important}.bootstrap .justify-content-end{-webkit-box-pack:end !important;-webkit-justify-content:flex-end !important;-ms-flex-pack:end !important;justify-content:flex-end !important}.bootstrap .justify-content-center{-webkit-box-pack:center !important;-webkit-justify-content:center !important;-ms-flex-pack:center !important;justify-content:center !important}.bootstrap .justify-content-between{-webkit-box-pack:justify !important;-webkit-justify-content:space-between !important;-ms-flex-pack:justify !important;justify-content:space-between !important}.bootstrap .justify-content-around{-webkit-justify-content:space-around !important;-ms-flex-pack:distribute !important;justify-content:space-around !important}.bootstrap .align-items-start{-webkit-box-align:start !important;-webkit-align-items:flex-start !important;-ms-flex-align:start !important;align-items:flex-start !important}.bootstrap .align-items-end{-webkit-box-align:end !important;-webkit-align-items:flex-end !important;-ms-flex-align:end !important;align-items:flex-end !important}.bootstrap .align-items-center{-webkit-box-align:center !important;-webkit-align-items:center !important;-ms-flex-align:center !important;align-items:center !important}.bootstrap .align-items-baseline{-webkit-box-align:baseline !important;-webkit-align-items:baseline !important;-ms-flex-align:baseline !important;align-items:baseline !important}.bootstrap .align-items-stretch{-webkit-box-align:stretch !important;-webkit-align-items:stretch !important;-ms-flex-align:stretch !important;align-items:stretch !important}.bootstrap .align-content-start{-webkit-align-content:flex-start !important;-ms-flex-line-pack:start !important;align-content:flex-start !important}.bootstrap .align-content-end{-webkit-align-content:flex-end !important;-ms-flex-line-pack:end !important;align-content:flex-end !important}.bootstrap .align-content-center{-webkit-align-content:center !important;-ms-flex-line-pack:center !important;align-content:center !important}.bootstrap .align-content-between{-webkit-align-content:space-between !important;-ms-flex-line-pack:justify !important;align-content:space-between !important}.bootstrap .align-content-around{-webkit-align-content:space-around !important;-ms-flex-line-pack:distribute !important;align-content:space-around !important}.bootstrap .align-content-stretch{-webkit-align-content:stretch !important;-ms-flex-line-pack:stretch !important;align-content:stretch !important}.bootstrap .align-self-auto{-webkit-align-self:auto !important;-ms-flex-item-align:auto !important;-ms-grid-row-align:auto !important;align-self:auto !important}.bootstrap .align-self-start{-webkit-align-self:flex-start !important;-ms-flex-item-align:start !important;align-self:flex-start !important}.bootstrap .align-self-end{-webkit-align-self:flex-end !important;-ms-flex-item-align:end !important;align-self:flex-end !important}.bootstrap .align-self-center{-webkit-align-self:center !important;-ms-flex-item-align:center !important;-ms-grid-row-align:center !important;align-self:center !important}.bootstrap .align-self-baseline{-webkit-align-self:baseline !important;-ms-flex-item-align:baseline !important;align-self:baseline !important}.bootstrap .align-self-stretch{-webkit-align-self:stretch !important;-ms-flex-item-align:stretch !important;-ms-grid-row-align:stretch !important;align-self:stretch !important}@media (min-width: 576px){.bootstrap .flex-sm-first{-webkit-box-ordinal-group:0;-webkit-order:-1;-ms-flex-order:-1;order:-1}.bootstrap .flex-sm-last{-webkit-box-ordinal-group:2;-webkit-order:1;-ms-flex-order:1;order:1}.bootstrap .flex-sm-unordered{-webkit-box-ordinal-group:1;-webkit-order:0;-ms-flex-order:0;order:0}.bootstrap .flex-sm-row{-webkit-box-orient:horizontal !important;-webkit-box-direction:normal !important;-webkit-flex-direction:row !important;-ms-flex-direction:row !important;flex-direction:row !important}.bootstrap .flex-sm-column{-webkit-box-orient:vertical !important;-webkit-box-direction:normal !important;-webkit-flex-direction:column !important;-ms-flex-direction:column !important;flex-direction:column !important}.bootstrap .flex-sm-row-reverse{-webkit-box-orient:horizontal !important;-webkit-box-direction:reverse !important;-webkit-flex-direction:row-reverse !important;-ms-flex-direction:row-reverse !important;flex-direction:row-reverse !important}.bootstrap .flex-sm-column-reverse{-webkit-box-orient:vertical !important;-webkit-box-direction:reverse !important;-webkit-flex-direction:column-reverse !important;-ms-flex-direction:column-reverse !important;flex-direction:column-reverse !important}.bootstrap .flex-sm-wrap{-webkit-flex-wrap:wrap !important;-ms-flex-wrap:wrap !important;flex-wrap:wrap !important}.bootstrap .flex-sm-nowrap{-webkit-flex-wrap:nowrap !important;-ms-flex-wrap:nowrap !important;flex-wrap:nowrap !important}.bootstrap .flex-sm-wrap-reverse{-webkit-flex-wrap:wrap-reverse !important;-ms-flex-wrap:wrap-reverse !important;flex-wrap:wrap-reverse !important}.bootstrap .justify-content-sm-start{-webkit-box-pack:start !important;-webkit-justify-content:flex-start !important;-ms-flex-pack:start !important;justify-content:flex-start !important}.bootstrap .justify-content-sm-end{-webkit-box-pack:end !important;-webkit-justify-content:flex-end !important;-ms-flex-pack:end !important;justify-content:flex-end !important}.bootstrap .justify-content-sm-center{-webkit-box-pack:center !important;-webkit-justify-content:center !important;-ms-flex-pack:center !important;justify-content:center !important}.bootstrap .justify-content-sm-between{-webkit-box-pack:justify !important;-webkit-justify-content:space-between !important;-ms-flex-pack:justify !important;justify-content:space-between !important}.bootstrap .justify-content-sm-around{-webkit-justify-content:space-around !important;-ms-flex-pack:distribute !important;justify-content:space-around !important}.bootstrap .align-items-sm-start{-webkit-box-align:start !important;-webkit-align-items:flex-start !important;-ms-flex-align:start !important;align-items:flex-start !important}.bootstrap .align-items-sm-end{-webkit-box-align:end !important;-webkit-align-items:flex-end !important;-ms-flex-align:end !important;align-items:flex-end !important}.bootstrap .align-items-sm-center{-webkit-box-align:center !important;-webkit-align-items:center !important;-ms-flex-align:center !important;align-items:center !important}.bootstrap .align-items-sm-baseline{-webkit-box-align:baseline !important;-webkit-align-items:baseline !important;-ms-flex-align:baseline !important;align-items:baseline !important}.bootstrap .align-items-sm-stretch{-webkit-box-align:stretch !important;-webkit-align-items:stretch !important;-ms-flex-align:stretch !important;align-items:stretch !important}.bootstrap .align-content-sm-start{-webkit-align-content:flex-start !important;-ms-flex-line-pack:start !important;align-content:flex-start !important}.bootstrap .align-content-sm-end{-webkit-align-content:flex-end !important;-ms-flex-line-pack:end !important;align-content:flex-end !important}.bootstrap .align-content-sm-center{-webkit-align-content:center !important;-ms-flex-line-pack:center !important;align-content:center !important}.bootstrap .align-content-sm-between{-webkit-align-content:space-between !important;-ms-flex-line-pack:justify !important;align-content:space-between !important}.bootstrap .align-content-sm-around{-webkit-align-content:space-around !important;-ms-flex-line-pack:distribute !important;align-content:space-around !important}.bootstrap .align-content-sm-stretch{-webkit-align-content:stretch !important;-ms-flex-line-pack:stretch !important;align-content:stretch !important}.bootstrap .align-self-sm-auto{-webkit-align-self:auto !important;-ms-flex-item-align:auto !important;-ms-grid-row-align:auto !important;align-self:auto !important}.bootstrap .align-self-sm-start{-webkit-align-self:flex-start !important;-ms-flex-item-align:start !important;align-self:flex-start !important}.bootstrap .align-self-sm-end{-webkit-align-self:flex-end !important;-ms-flex-item-align:end !important;align-self:flex-end !important}.bootstrap .align-self-sm-center{-webkit-align-self:center !important;-ms-flex-item-align:center !important;-ms-grid-row-align:center !important;align-self:center !important}.bootstrap .align-self-sm-baseline{-webkit-align-self:baseline !important;-ms-flex-item-align:baseline !important;align-self:baseline !important}.bootstrap .align-self-sm-stretch{-webkit-align-self:stretch !important;-ms-flex-item-align:stretch !important;-ms-grid-row-align:stretch !important;align-self:stretch !important}}@media (min-width: 768px){.bootstrap .flex-md-first{-webkit-box-ordinal-group:0;-webkit-order:-1;-ms-flex-order:-1;order:-1}.bootstrap .flex-md-last{-webkit-box-ordinal-group:2;-webkit-order:1;-ms-flex-order:1;order:1}.bootstrap .flex-md-unordered{-webkit-box-ordinal-group:1;-webkit-order:0;-ms-flex-order:0;order:0}.bootstrap .flex-md-row{-webkit-box-orient:horizontal !important;-webkit-box-direction:normal !important;-webkit-flex-direction:row !important;-ms-flex-direction:row !important;flex-direction:row !important}.bootstrap .flex-md-column{-webkit-box-orient:vertical !important;-webkit-box-direction:normal !important;-webkit-flex-direction:column !important;-ms-flex-direction:column !important;flex-direction:column !important}.bootstrap .flex-md-row-reverse{-webkit-box-orient:horizontal !important;-webkit-box-direction:reverse !important;-webkit-flex-direction:row-reverse !important;-ms-flex-direction:row-reverse !important;flex-direction:row-reverse !important}.bootstrap .flex-md-column-reverse{-webkit-box-orient:vertical !important;-webkit-box-direction:reverse !important;-webkit-flex-direction:column-reverse !important;-ms-flex-direction:column-reverse !important;flex-direction:column-reverse !important}.bootstrap .flex-md-wrap{-webkit-flex-wrap:wrap !important;-ms-flex-wrap:wrap !important;flex-wrap:wrap !important}.bootstrap .flex-md-nowrap{-webkit-flex-wrap:nowrap !important;-ms-flex-wrap:nowrap !important;flex-wrap:nowrap !important}.bootstrap .flex-md-wrap-reverse{-webkit-flex-wrap:wrap-reverse !important;-ms-flex-wrap:wrap-reverse !important;flex-wrap:wrap-reverse !important}.bootstrap .justify-content-md-start{-webkit-box-pack:start !important;-webkit-justify-content:flex-start !important;-ms-flex-pack:start !important;justify-content:flex-start !important}.bootstrap .justify-content-md-end{-webkit-box-pack:end !important;-webkit-justify-content:flex-end !important;-ms-flex-pack:end !important;justify-content:flex-end !important}.bootstrap .justify-content-md-center{-webkit-box-pack:center !important;-webkit-justify-content:center !important;-ms-flex-pack:center !important;justify-content:center !important}.bootstrap .justify-content-md-between{-webkit-box-pack:justify !important;-webkit-justify-content:space-between !important;-ms-flex-pack:justify !important;justify-content:space-between !important}.bootstrap .justify-content-md-around{-webkit-justify-content:space-around !important;-ms-flex-pack:distribute !important;justify-content:space-around !important}.bootstrap .align-items-md-start{-webkit-box-align:start !important;-webkit-align-items:flex-start !important;-ms-flex-align:start !important;align-items:flex-start !important}.bootstrap .align-items-md-end{-webkit-box-align:end !important;-webkit-align-items:flex-end !important;-ms-flex-align:end !important;align-items:flex-end !important}.bootstrap .align-items-md-center{-webkit-box-align:center !important;-webkit-align-items:center !important;-ms-flex-align:center !important;align-items:center !important}.bootstrap .align-items-md-baseline{-webkit-box-align:baseline !important;-webkit-align-items:baseline !important;-ms-flex-align:baseline !important;align-items:baseline !important}.bootstrap .align-items-md-stretch{-webkit-box-align:stretch !important;-webkit-align-items:stretch !important;-ms-flex-align:stretch !important;align-items:stretch !important}.bootstrap .align-content-md-start{-webkit-align-content:flex-start !important;-ms-flex-line-pack:start !important;align-content:flex-start !important}.bootstrap .align-content-md-end{-webkit-align-content:flex-end !important;-ms-flex-line-pack:end !important;align-content:flex-end !important}.bootstrap .align-content-md-center{-webkit-align-content:center !important;-ms-flex-line-pack:center !important;align-content:center !important}.bootstrap .align-content-md-between{-webkit-align-content:space-between !important;-ms-flex-line-pack:justify !important;align-content:space-between !important}.bootstrap .align-content-md-around{-webkit-align-content:space-around !important;-ms-flex-line-pack:distribute !important;align-content:space-around !important}.bootstrap .align-content-md-stretch{-webkit-align-content:stretch !important;-ms-flex-line-pack:stretch !important;align-content:stretch !important}.bootstrap .align-self-md-auto{-webkit-align-self:auto !important;-ms-flex-item-align:auto !important;-ms-grid-row-align:auto !important;align-self:auto !important}.bootstrap .align-self-md-start{-webkit-align-self:flex-start !important;-ms-flex-item-align:start !important;align-self:flex-start !important}.bootstrap .align-self-md-end{-webkit-align-self:flex-end !important;-ms-flex-item-align:end !important;align-self:flex-end !important}.bootstrap .align-self-md-center{-webkit-align-self:center !important;-ms-flex-item-align:center !important;-ms-grid-row-align:center !important;align-self:center !important}.bootstrap .align-self-md-baseline{-webkit-align-self:baseline !important;-ms-flex-item-align:baseline !important;align-self:baseline !important}.bootstrap .align-self-md-stretch{-webkit-align-self:stretch !important;-ms-flex-item-align:stretch !important;-ms-grid-row-align:stretch !important;align-self:stretch !important}}@media (min-width: 992px){.bootstrap .flex-lg-first{-webkit-box-ordinal-group:0;-webkit-order:-1;-ms-flex-order:-1;order:-1}.bootstrap .flex-lg-last{-webkit-box-ordinal-group:2;-webkit-order:1;-ms-flex-order:1;order:1}.bootstrap .flex-lg-unordered{-webkit-box-ordinal-group:1;-webkit-order:0;-ms-flex-order:0;order:0}.bootstrap .flex-lg-row{-webkit-box-orient:horizontal !important;-webkit-box-direction:normal !important;-webkit-flex-direction:row !important;-ms-flex-direction:row !important;flex-direction:row !important}.bootstrap .flex-lg-column{-webkit-box-orient:vertical !important;-webkit-box-direction:normal !important;-webkit-flex-direction:column !important;-ms-flex-direction:column !important;flex-direction:column !important}.bootstrap .flex-lg-row-reverse{-webkit-box-orient:horizontal !important;-webkit-box-direction:reverse !important;-webkit-flex-direction:row-reverse !important;-ms-flex-direction:row-reverse !important;flex-direction:row-reverse !important}.bootstrap .flex-lg-column-reverse{-webkit-box-orient:vertical !important;-webkit-box-direction:reverse !important;-webkit-flex-direction:column-reverse !important;-ms-flex-direction:column-reverse !important;flex-direction:column-reverse !important}.bootstrap .flex-lg-wrap{-webkit-flex-wrap:wrap !important;-ms-flex-wrap:wrap !important;flex-wrap:wrap !important}.bootstrap .flex-lg-nowrap{-webkit-flex-wrap:nowrap !important;-ms-flex-wrap:nowrap !important;flex-wrap:nowrap !important}.bootstrap .flex-lg-wrap-reverse{-webkit-flex-wrap:wrap-reverse !important;-ms-flex-wrap:wrap-reverse !important;flex-wrap:wrap-reverse !important}.bootstrap .justify-content-lg-start{-webkit-box-pack:start !important;-webkit-justify-content:flex-start !important;-ms-flex-pack:start !important;justify-content:flex-start !important}.bootstrap .justify-content-lg-end{-webkit-box-pack:end !important;-webkit-justify-content:flex-end !important;-ms-flex-pack:end !important;justify-content:flex-end !important}.bootstrap .justify-content-lg-center{-webkit-box-pack:center !important;-webkit-justify-content:center !important;-ms-flex-pack:center !important;justify-content:center !important}.bootstrap .justify-content-lg-between{-webkit-box-pack:justify !important;-webkit-justify-content:space-between !important;-ms-flex-pack:justify !important;justify-content:space-between !important}.bootstrap .justify-content-lg-around{-webkit-justify-content:space-around !important;-ms-flex-pack:distribute !important;justify-content:space-around !important}.bootstrap .align-items-lg-start{-webkit-box-align:start !important;-webkit-align-items:flex-start !important;-ms-flex-align:start !important;align-items:flex-start !important}.bootstrap .align-items-lg-end{-webkit-box-align:end !important;-webkit-align-items:flex-end !important;-ms-flex-align:end !important;align-items:flex-end !important}.bootstrap .align-items-lg-center{-webkit-box-align:center !important;-webkit-align-items:center !important;-ms-flex-align:center !important;align-items:center !important}.bootstrap .align-items-lg-baseline{-webkit-box-align:baseline !important;-webkit-align-items:baseline !important;-ms-flex-align:baseline !important;align-items:baseline !important}.bootstrap .align-items-lg-stretch{-webkit-box-align:stretch !important;-webkit-align-items:stretch !important;-ms-flex-align:stretch !important;align-items:stretch !important}.bootstrap .align-content-lg-start{-webkit-align-content:flex-start !important;-ms-flex-line-pack:start !important;align-content:flex-start !important}.bootstrap .align-content-lg-end{-webkit-align-content:flex-end !important;-ms-flex-line-pack:end !important;align-content:flex-end !important}.bootstrap .align-content-lg-center{-webkit-align-content:center !important;-ms-flex-line-pack:center !important;align-content:center !important}.bootstrap .align-content-lg-between{-webkit-align-content:space-between !important;-ms-flex-line-pack:justify !important;align-content:space-between !important}.bootstrap .align-content-lg-around{-webkit-align-content:space-around !important;-ms-flex-line-pack:distribute !important;align-content:space-around !important}.bootstrap .align-content-lg-stretch{-webkit-align-content:stretch !important;-ms-flex-line-pack:stretch !important;align-content:stretch !important}.bootstrap .align-self-lg-auto{-webkit-align-self:auto !important;-ms-flex-item-align:auto !important;-ms-grid-row-align:auto !important;align-self:auto !important}.bootstrap .align-self-lg-start{-webkit-align-self:flex-start !important;-ms-flex-item-align:start !important;align-self:flex-start !important}.bootstrap .align-self-lg-end{-webkit-align-self:flex-end !important;-ms-flex-item-align:end !important;align-self:flex-end !important}.bootstrap .align-self-lg-center{-webkit-align-self:center !important;-ms-flex-item-align:center !important;-ms-grid-row-align:center !important;align-self:center !important}.bootstrap .align-self-lg-baseline{-webkit-align-self:baseline !important;-ms-flex-item-align:baseline !important;align-self:baseline !important}.bootstrap .align-self-lg-stretch{-webkit-align-self:stretch !important;-ms-flex-item-align:stretch !important;-ms-grid-row-align:stretch !important;align-self:stretch !important}}@media (min-width: 1200px){.bootstrap .flex-xl-first{-webkit-box-ordinal-group:0;-webkit-order:-1;-ms-flex-order:-1;order:-1}.bootstrap .flex-xl-last{-webkit-box-ordinal-group:2;-webkit-order:1;-ms-flex-order:1;order:1}.bootstrap .flex-xl-unordered{-webkit-box-ordinal-group:1;-webkit-order:0;-ms-flex-order:0;order:0}.bootstrap .flex-xl-row{-webkit-box-orient:horizontal !important;-webkit-box-direction:normal !important;-webkit-flex-direction:row !important;-ms-flex-direction:row !important;flex-direction:row !important}.bootstrap .flex-xl-column{-webkit-box-orient:vertical !important;-webkit-box-direction:normal !important;-webkit-flex-direction:column !important;-ms-flex-direction:column !important;flex-direction:column !important}.bootstrap .flex-xl-row-reverse{-webkit-box-orient:horizontal !important;-webkit-box-direction:reverse !important;-webkit-flex-direction:row-reverse !important;-ms-flex-direction:row-reverse !important;flex-direction:row-reverse !important}.bootstrap .flex-xl-column-reverse{-webkit-box-orient:vertical !important;-webkit-box-direction:reverse !important;-webkit-flex-direction:column-reverse !important;-ms-flex-direction:column-reverse !important;flex-direction:column-reverse !important}.bootstrap .flex-xl-wrap{-webkit-flex-wrap:wrap !important;-ms-flex-wrap:wrap !important;flex-wrap:wrap !important}.bootstrap .flex-xl-nowrap{-webkit-flex-wrap:nowrap !important;-ms-flex-wrap:nowrap !important;flex-wrap:nowrap !important}.bootstrap .flex-xl-wrap-reverse{-webkit-flex-wrap:wrap-reverse !important;-ms-flex-wrap:wrap-reverse !important;flex-wrap:wrap-reverse !important}.bootstrap .justify-content-xl-start{-webkit-box-pack:start !important;-webkit-justify-content:flex-start !important;-ms-flex-pack:start !important;justify-content:flex-start !important}.bootstrap .justify-content-xl-end{-webkit-box-pack:end !important;-webkit-justify-content:flex-end !important;-ms-flex-pack:end !important;justify-content:flex-end !important}.bootstrap .justify-content-xl-center{-webkit-box-pack:center !important;-webkit-justify-content:center !important;-ms-flex-pack:center !important;justify-content:center !important}.bootstrap .justify-content-xl-between{-webkit-box-pack:justify !important;-webkit-justify-content:space-between !important;-ms-flex-pack:justify !important;justify-content:space-between !important}.bootstrap .justify-content-xl-around{-webkit-justify-content:space-around !important;-ms-flex-pack:distribute !important;justify-content:space-around !important}.bootstrap .align-items-xl-start{-webkit-box-align:start !important;-webkit-align-items:flex-start !important;-ms-flex-align:start !important;align-items:flex-start !important}.bootstrap .align-items-xl-end{-webkit-box-align:end !important;-webkit-align-items:flex-end !important;-ms-flex-align:end !important;align-items:flex-end !important}.bootstrap .align-items-xl-center{-webkit-box-align:center !important;-webkit-align-items:center !important;-ms-flex-align:center !important;align-items:center !important}.bootstrap .align-items-xl-baseline{-webkit-box-align:baseline !important;-webkit-align-items:baseline !important;-ms-flex-align:baseline !important;align-items:baseline !important}.bootstrap .align-items-xl-stretch{-webkit-box-align:stretch !important;-webkit-align-items:stretch !important;-ms-flex-align:stretch !important;align-items:stretch !important}.bootstrap .align-content-xl-start{-webkit-align-content:flex-start !important;-ms-flex-line-pack:start !important;align-content:flex-start !important}.bootstrap .align-content-xl-end{-webkit-align-content:flex-end !important;-ms-flex-line-pack:end !important;align-content:flex-end !important}.bootstrap .align-content-xl-center{-webkit-align-content:center !important;-ms-flex-line-pack:center !important;align-content:center !important}.bootstrap .align-content-xl-between{-webkit-align-content:space-between !important;-ms-flex-line-pack:justify !important;align-content:space-between !important}.bootstrap .align-content-xl-around{-webkit-align-content:space-around !important;-ms-flex-line-pack:distribute !important;align-content:space-around !important}.bootstrap .align-content-xl-stretch{-webkit-align-content:stretch !important;-ms-flex-line-pack:stretch !important;align-content:stretch !important}.bootstrap .align-self-xl-auto{-webkit-align-self:auto !important;-ms-flex-item-align:auto !important;-ms-grid-row-align:auto !important;align-self:auto !important}.bootstrap .align-self-xl-start{-webkit-align-self:flex-start !important;-ms-flex-item-align:start !important;align-self:flex-start !important}.bootstrap .align-self-xl-end{-webkit-align-self:flex-end !important;-ms-flex-item-align:end !important;align-self:flex-end !important}.bootstrap .align-self-xl-center{-webkit-align-self:center !important;-ms-flex-item-align:center !important;-ms-grid-row-align:center !important;align-self:center !important}.bootstrap .align-self-xl-baseline{-webkit-align-self:baseline !important;-ms-flex-item-align:baseline !important;align-self:baseline !important}.bootstrap .align-self-xl-stretch{-webkit-align-self:stretch !important;-ms-flex-item-align:stretch !important;-ms-grid-row-align:stretch !important;align-self:stretch !important}}.bootstrap .float-left{float:left !important}.bootstrap .float-right{float:right !important}.bootstrap .float-none{float:none !important}@media (min-width: 576px){.bootstrap .float-sm-left{float:left !important}.bootstrap .float-sm-right{float:right !important}.bootstrap .float-sm-none{float:none !important}}@media (min-width: 768px){.bootstrap .float-md-left{float:left !important}.bootstrap .float-md-right{float:right !important}.bootstrap .float-md-none{float:none !important}}@media (min-width: 992px){.bootstrap .float-lg-left{float:left !important}.bootstrap .float-lg-right{float:right !important}.bootstrap .float-lg-none{float:none !important}}@media (min-width: 1200px){.bootstrap .float-xl-left{float:left !important}.bootstrap .float-xl-right{float:right !important}.bootstrap .float-xl-none{float:none !important}}.bootstrap .fixed-top{position:fixed;top:0;right:0;left:0;z-index:1030}.bootstrap .fixed-bottom{position:fixed;right:0;bottom:0;left:0;z-index:1030}.bootstrap .sticky-top{position:-webkit-sticky;position:sticky;top:0;z-index:1030}.bootstrap .sr-only{position:absolute;width:1px;height:1px;padding:0;margin:-1px;overflow:hidden;clip:rect(0, 0, 0, 0);border:0}.bootstrap .sr-only-focusable:active,.bootstrap .sr-only-focusable:focus{position:static;width:auto;height:auto;margin:0;overflow:visible;clip:auto}.bootstrap .w-25{width:25% !important}.bootstrap .w-50{width:50% !important}.bootstrap .w-75{width:75% !important}.bootstrap .w-100{width:100% !important}.bootstrap .h-25{height:25% !important}.bootstrap .h-50{height:50% !important}.bootstrap .h-75{height:75% !important}.bootstrap .h-100{height:100% !important}.bootstrap .mw-100{max-width:100% !important}.bootstrap .mh-100{max-height:100% !important}.bootstrap .m-0{margin:0 0 !important}.bootstrap .mt-0{margin-top:0 !important}.bootstrap .mr-0{margin-right:0 !important}.bootstrap .mb-0{margin-bottom:0 !important}.bootstrap .ml-0{margin-left:0 !important}.bootstrap .mx-0{margin-right:0 !important;margin-left:0 !important}.bootstrap .my-0{margin-top:0 !important;margin-bottom:0 !important}.bootstrap .m-1{margin:0.25rem 0.25rem !important}.bootstrap .mt-1{margin-top:0.25rem !important}.bootstrap .mr-1{margin-right:0.25rem !important}.bootstrap .mb-1{margin-bottom:0.25rem !important}.bootstrap .ml-1{margin-left:0.25rem !important}.bootstrap .mx-1{margin-right:.25rem !important;margin-left:0.25rem !important}.bootstrap .my-1{margin-top:.25rem !important;margin-bottom:0.25rem !important}.bootstrap .m-2{margin:0.5rem 0.5rem !important}.bootstrap .mt-2{margin-top:0.5rem !important}.bootstrap .mr-2{margin-right:0.5rem !important}.bootstrap .mb-2{margin-bottom:0.5rem !important}.bootstrap .ml-2{margin-left:0.5rem !important}.bootstrap .mx-2{margin-right:.5rem !important;margin-left:0.5rem !important}.bootstrap .my-2{margin-top:.5rem !important;margin-bottom:0.5rem !important}.bootstrap .m-3{margin:1rem 1rem !important}.bootstrap .mt-3{margin-top:1rem !important}.bootstrap .mr-3{margin-right:1rem !important}.bootstrap .mb-3{margin-bottom:1rem !important}.bootstrap .ml-3{margin-left:1rem !important}.bootstrap .mx-3{margin-right:1rem !important;margin-left:1rem !important}.bootstrap .my-3{margin-top:1rem !important;margin-bottom:1rem !important}.bootstrap .m-4{margin:1.5rem 1.5rem !important}.bootstrap .mt-4{margin-top:1.5rem !important}.bootstrap .mr-4{margin-right:1.5rem !important}.bootstrap .mb-4{margin-bottom:1.5rem !important}.bootstrap .ml-4{margin-left:1.5rem !important}.bootstrap .mx-4{margin-right:1.5rem !important;margin-left:1.5rem !important}.bootstrap .my-4{margin-top:1.5rem !important;margin-bottom:1.5rem !important}.bootstrap .m-5{margin:3rem 3rem !important}.bootstrap .mt-5{margin-top:3rem !important}.bootstrap .mr-5{margin-right:3rem !important}.bootstrap .mb-5{margin-bottom:3rem !important}.bootstrap .ml-5{margin-left:3rem !important}.bootstrap .mx-5{margin-right:3rem !important;margin-left:3rem !important}.bootstrap .my-5{margin-top:3rem !important;margin-bottom:3rem !important}.bootstrap .p-0{padding:0 0 !important}.bootstrap .pt-0{padding-top:0 !important}.bootstrap .pr-0{padding-right:0 !important}.bootstrap .pb-0{padding-bottom:0 !important}.bootstrap .pl-0{padding-left:0 !important}.bootstrap .px-0{padding-right:0 !important;padding-left:0 !important}.bootstrap .py-0{padding-top:0 !important;padding-bottom:0 !important}.bootstrap .p-1{padding:0.25rem 0.25rem !important}.bootstrap .pt-1{padding-top:0.25rem !important}.bootstrap .pr-1{padding-right:0.25rem !important}.bootstrap .pb-1{padding-bottom:0.25rem !important}.bootstrap .pl-1{padding-left:0.25rem !important}.bootstrap .px-1{padding-right:.25rem !important;padding-left:0.25rem !important}.bootstrap .py-1{padding-top:.25rem !important;padding-bottom:0.25rem !important}.bootstrap .p-2{padding:0.5rem 0.5rem !important}.bootstrap .pt-2{padding-top:0.5rem !important}.bootstrap .pr-2{padding-right:0.5rem !important}.bootstrap .pb-2{padding-bottom:0.5rem !important}.bootstrap .pl-2{padding-left:0.5rem !important}.bootstrap .px-2{padding-right:.5rem !important;padding-left:0.5rem !important}.bootstrap .py-2{padding-top:.5rem !important;padding-bottom:0.5rem !important}.bootstrap .p-3{padding:1rem 1rem !important}.bootstrap .pt-3{padding-top:1rem !important}.bootstrap .pr-3{padding-right:1rem !important}.bootstrap .pb-3{padding-bottom:1rem !important}.bootstrap .pl-3{padding-left:1rem !important}.bootstrap .px-3{padding-right:1rem !important;padding-left:1rem !important}.bootstrap .py-3{padding-top:1rem !important;padding-bottom:1rem !important}.bootstrap .p-4{padding:1.5rem 1.5rem !important}.bootstrap .pt-4{padding-top:1.5rem !important}.bootstrap .pr-4{padding-right:1.5rem !important}.bootstrap .pb-4{padding-bottom:1.5rem !important}.bootstrap .pl-4{padding-left:1.5rem !important}.bootstrap .px-4{padding-right:1.5rem !important;padding-left:1.5rem !important}.bootstrap .py-4{padding-top:1.5rem !important;padding-bottom:1.5rem !important}.bootstrap .p-5{padding:3rem 3rem !important}.bootstrap .pt-5{padding-top:3rem !important}.bootstrap .pr-5{padding-right:3rem !important}.bootstrap .pb-5{padding-bottom:3rem !important}.bootstrap .pl-5{padding-left:3rem !important}.bootstrap .px-5{padding-right:3rem !important;padding-left:3rem !important}.bootstrap .py-5{padding-top:3rem !important;padding-bottom:3rem !important}.bootstrap .m-auto{margin:auto !important}.bootstrap .mt-auto{margin-top:auto !important}.bootstrap .mr-auto{margin-right:auto !important}.bootstrap .mb-auto{margin-bottom:auto !important}.bootstrap .ml-auto{margin-left:auto !important}.bootstrap .mx-auto{margin-right:auto !important;margin-left:auto !important}.bootstrap .my-auto{margin-top:auto !important;margin-bottom:auto !important}@media (min-width: 576px){.bootstrap .m-sm-0{margin:0 0 !important}.bootstrap .mt-sm-0{margin-top:0 !important}.bootstrap .mr-sm-0{margin-right:0 !important}.bootstrap .mb-sm-0{margin-bottom:0 !important}.bootstrap .ml-sm-0{margin-left:0 !important}.bootstrap .mx-sm-0{margin-right:0 !important;margin-left:0 !important}.bootstrap .my-sm-0{margin-top:0 !important;margin-bottom:0 !important}.bootstrap .m-sm-1{margin:0.25rem 0.25rem !important}.bootstrap .mt-sm-1{margin-top:0.25rem !important}.bootstrap .mr-sm-1{margin-right:0.25rem !important}.bootstrap .mb-sm-1{margin-bottom:0.25rem !important}.bootstrap .ml-sm-1{margin-left:0.25rem !important}.bootstrap .mx-sm-1{margin-right:.25rem !important;margin-left:0.25rem !important}.bootstrap .my-sm-1{margin-top:.25rem !important;margin-bottom:0.25rem !important}.bootstrap .m-sm-2{margin:0.5rem 0.5rem !important}.bootstrap .mt-sm-2{margin-top:0.5rem !important}.bootstrap .mr-sm-2{margin-right:0.5rem !important}.bootstrap .mb-sm-2{margin-bottom:0.5rem !important}.bootstrap .ml-sm-2{margin-left:0.5rem !important}.bootstrap .mx-sm-2{margin-right:.5rem !important;margin-left:0.5rem !important}.bootstrap .my-sm-2{margin-top:.5rem !important;margin-bottom:0.5rem !important}.bootstrap .m-sm-3{margin:1rem 1rem !important}.bootstrap .mt-sm-3{margin-top:1rem !important}.bootstrap .mr-sm-3{margin-right:1rem !important}.bootstrap .mb-sm-3{margin-bottom:1rem !important}.bootstrap .ml-sm-3{margin-left:1rem !important}.bootstrap .mx-sm-3{margin-right:1rem !important;margin-left:1rem !important}.bootstrap .my-sm-3{margin-top:1rem !important;margin-bottom:1rem !important}.bootstrap .m-sm-4{margin:1.5rem 1.5rem !important}.bootstrap .mt-sm-4{margin-top:1.5rem !important}.bootstrap .mr-sm-4{margin-right:1.5rem !important}.bootstrap .mb-sm-4{margin-bottom:1.5rem !important}.bootstrap .ml-sm-4{margin-left:1.5rem !important}.bootstrap .mx-sm-4{margin-right:1.5rem !important;margin-left:1.5rem !important}.bootstrap .my-sm-4{margin-top:1.5rem !important;margin-bottom:1.5rem !important}.bootstrap .m-sm-5{margin:3rem 3rem !important}.bootstrap .mt-sm-5{margin-top:3rem !important}.bootstrap .mr-sm-5{margin-right:3rem !important}.bootstrap .mb-sm-5{margin-bottom:3rem !important}.bootstrap .ml-sm-5{margin-left:3rem !important}.bootstrap .mx-sm-5{margin-right:3rem !important;margin-left:3rem !important}.bootstrap .my-sm-5{margin-top:3rem !important;margin-bottom:3rem !important}.bootstrap .p-sm-0{padding:0 0 !important}.bootstrap .pt-sm-0{padding-top:0 !important}.bootstrap .pr-sm-0{padding-right:0 !important}.bootstrap .pb-sm-0{padding-bottom:0 !important}.bootstrap .pl-sm-0{padding-left:0 !important}.bootstrap .px-sm-0{padding-right:0 !important;padding-left:0 !important}.bootstrap .py-sm-0{padding-top:0 !important;padding-bottom:0 !important}.bootstrap .p-sm-1{padding:0.25rem 0.25rem !important}.bootstrap .pt-sm-1{padding-top:0.25rem !important}.bootstrap .pr-sm-1{padding-right:0.25rem !important}.bootstrap .pb-sm-1{padding-bottom:0.25rem !important}.bootstrap .pl-sm-1{padding-left:0.25rem !important}.bootstrap .px-sm-1{padding-right:.25rem !important;padding-left:0.25rem !important}.bootstrap .py-sm-1{padding-top:.25rem !important;padding-bottom:0.25rem !important}.bootstrap .p-sm-2{padding:0.5rem 0.5rem !important}.bootstrap .pt-sm-2{padding-top:0.5rem !important}.bootstrap .pr-sm-2{padding-right:0.5rem !important}.bootstrap .pb-sm-2{padding-bottom:0.5rem !important}.bootstrap .pl-sm-2{padding-left:0.5rem !important}.bootstrap .px-sm-2{padding-right:.5rem !important;padding-left:0.5rem !important}.bootstrap .py-sm-2{padding-top:.5rem !important;padding-bottom:0.5rem !important}.bootstrap .p-sm-3{padding:1rem 1rem !important}.bootstrap .pt-sm-3{padding-top:1rem !important}.bootstrap .pr-sm-3{padding-right:1rem !important}.bootstrap .pb-sm-3{padding-bottom:1rem !important}.bootstrap .pl-sm-3{padding-left:1rem !important}.bootstrap .px-sm-3{padding-right:1rem !important;padding-left:1rem !important}.bootstrap .py-sm-3{padding-top:1rem !important;padding-bottom:1rem !important}.bootstrap .p-sm-4{padding:1.5rem 1.5rem !important}.bootstrap .pt-sm-4{padding-top:1.5rem !important}.bootstrap .pr-sm-4{padding-right:1.5rem !important}.bootstrap .pb-sm-4{padding-bottom:1.5rem !important}.bootstrap .pl-sm-4{padding-left:1.5rem !important}.bootstrap .px-sm-4{padding-right:1.5rem !important;padding-left:1.5rem !important}.bootstrap .py-sm-4{padding-top:1.5rem !important;padding-bottom:1.5rem !important}.bootstrap .p-sm-5{padding:3rem 3rem !important}.bootstrap .pt-sm-5{padding-top:3rem !important}.bootstrap .pr-sm-5{padding-right:3rem !important}.bootstrap .pb-sm-5{padding-bottom:3rem !important}.bootstrap .pl-sm-5{padding-left:3rem !important}.bootstrap .px-sm-5{padding-right:3rem !important;padding-left:3rem !important}.bootstrap .py-sm-5{padding-top:3rem !important;padding-bottom:3rem !important}.bootstrap .m-sm-auto{margin:auto !important}.bootstrap .mt-sm-auto{margin-top:auto !important}.bootstrap .mr-sm-auto{margin-right:auto !important}.bootstrap .mb-sm-auto{margin-bottom:auto !important}.bootstrap .ml-sm-auto{margin-left:auto !important}.bootstrap .mx-sm-auto{margin-right:auto !important;margin-left:auto !important}.bootstrap .my-sm-auto{margin-top:auto !important;margin-bottom:auto !important}}@media (min-width: 768px){.bootstrap .m-md-0{margin:0 0 !important}.bootstrap .mt-md-0{margin-top:0 !important}.bootstrap .mr-md-0{margin-right:0 !important}.bootstrap .mb-md-0{margin-bottom:0 !important}.bootstrap .ml-md-0{margin-left:0 !important}.bootstrap .mx-md-0{margin-right:0 !important;margin-left:0 !important}.bootstrap .my-md-0{margin-top:0 !important;margin-bottom:0 !important}.bootstrap .m-md-1{margin:0.25rem 0.25rem !important}.bootstrap .mt-md-1{margin-top:0.25rem !important}.bootstrap .mr-md-1{margin-right:0.25rem !important}.bootstrap .mb-md-1{margin-bottom:0.25rem !important}.bootstrap .ml-md-1{margin-left:0.25rem !important}.bootstrap .mx-md-1{margin-right:.25rem !important;margin-left:0.25rem !important}.bootstrap .my-md-1{margin-top:.25rem !important;margin-bottom:0.25rem !important}.bootstrap .m-md-2{margin:0.5rem 0.5rem !important}.bootstrap .mt-md-2{margin-top:0.5rem !important}.bootstrap .mr-md-2{margin-right:0.5rem !important}.bootstrap .mb-md-2{margin-bottom:0.5rem !important}.bootstrap .ml-md-2{margin-left:0.5rem !important}.bootstrap .mx-md-2{margin-right:.5rem !important;margin-left:0.5rem !important}.bootstrap .my-md-2{margin-top:.5rem !important;margin-bottom:0.5rem !important}.bootstrap .m-md-3{margin:1rem 1rem !important}.bootstrap .mt-md-3{margin-top:1rem !important}.bootstrap .mr-md-3{margin-right:1rem !important}.bootstrap .mb-md-3{margin-bottom:1rem !important}.bootstrap .ml-md-3{margin-left:1rem !important}.bootstrap .mx-md-3{margin-right:1rem !important;margin-left:1rem !important}.bootstrap .my-md-3{margin-top:1rem !important;margin-bottom:1rem !important}.bootstrap .m-md-4{margin:1.5rem 1.5rem !important}.bootstrap .mt-md-4{margin-top:1.5rem !important}.bootstrap .mr-md-4{margin-right:1.5rem !important}.bootstrap .mb-md-4{margin-bottom:1.5rem !important}.bootstrap .ml-md-4{margin-left:1.5rem !important}.bootstrap .mx-md-4{margin-right:1.5rem !important;margin-left:1.5rem !important}.bootstrap .my-md-4{margin-top:1.5rem !important;margin-bottom:1.5rem !important}.bootstrap .m-md-5{margin:3rem 3rem !important}.bootstrap .mt-md-5{margin-top:3rem !important}.bootstrap .mr-md-5{margin-right:3rem !important}.bootstrap .mb-md-5{margin-bottom:3rem !important}.bootstrap .ml-md-5{margin-left:3rem !important}.bootstrap .mx-md-5{margin-right:3rem !important;margin-left:3rem !important}.bootstrap .my-md-5{margin-top:3rem !important;margin-bottom:3rem !important}.bootstrap .p-md-0{padding:0 0 !important}.bootstrap .pt-md-0{padding-top:0 !important}.bootstrap .pr-md-0{padding-right:0 !important}.bootstrap .pb-md-0{padding-bottom:0 !important}.bootstrap .pl-md-0{padding-left:0 !important}.bootstrap .px-md-0{padding-right:0 !important;padding-left:0 !important}.bootstrap .py-md-0{padding-top:0 !important;padding-bottom:0 !important}.bootstrap .p-md-1{padding:0.25rem 0.25rem !important}.bootstrap .pt-md-1{padding-top:0.25rem !important}.bootstrap .pr-md-1{padding-right:0.25rem !important}.bootstrap .pb-md-1{padding-bottom:0.25rem !important}.bootstrap .pl-md-1{padding-left:0.25rem !important}.bootstrap .px-md-1{padding-right:.25rem !important;padding-left:0.25rem !important}.bootstrap .py-md-1{padding-top:.25rem !important;padding-bottom:0.25rem !important}.bootstrap .p-md-2{padding:0.5rem 0.5rem !important}.bootstrap .pt-md-2{padding-top:0.5rem !important}.bootstrap .pr-md-2{padding-right:0.5rem !important}.bootstrap .pb-md-2{padding-bottom:0.5rem !important}.bootstrap .pl-md-2{padding-left:0.5rem !important}.bootstrap .px-md-2{padding-right:.5rem !important;padding-left:0.5rem !important}.bootstrap .py-md-2{padding-top:.5rem !important;padding-bottom:0.5rem !important}.bootstrap .p-md-3{padding:1rem 1rem !important}.bootstrap .pt-md-3{padding-top:1rem !important}.bootstrap .pr-md-3{padding-right:1rem !important}.bootstrap .pb-md-3{padding-bottom:1rem !important}.bootstrap .pl-md-3{padding-left:1rem !important}.bootstrap .px-md-3{padding-right:1rem !important;padding-left:1rem !important}.bootstrap .py-md-3{padding-top:1rem !important;padding-bottom:1rem !important}.bootstrap .p-md-4{padding:1.5rem 1.5rem !important}.bootstrap .pt-md-4{padding-top:1.5rem !important}.bootstrap .pr-md-4{padding-right:1.5rem !important}.bootstrap .pb-md-4{padding-bottom:1.5rem !important}.bootstrap .pl-md-4{padding-left:1.5rem !important}.bootstrap .px-md-4{padding-right:1.5rem !important;padding-left:1.5rem !important}.bootstrap .py-md-4{padding-top:1.5rem !important;padding-bottom:1.5rem !important}.bootstrap .p-md-5{padding:3rem 3rem !important}.bootstrap .pt-md-5{padding-top:3rem !important}.bootstrap .pr-md-5{padding-right:3rem !important}.bootstrap .pb-md-5{padding-bottom:3rem !important}.bootstrap .pl-md-5{padding-left:3rem !important}.bootstrap .px-md-5{padding-right:3rem !important;padding-left:3rem !important}.bootstrap .py-md-5{padding-top:3rem !important;padding-bottom:3rem !important}.bootstrap .m-md-auto{margin:auto !important}.bootstrap .mt-md-auto{margin-top:auto !important}.bootstrap .mr-md-auto{margin-right:auto !important}.bootstrap .mb-md-auto{margin-bottom:auto !important}.bootstrap .ml-md-auto{margin-left:auto !important}.bootstrap .mx-md-auto{margin-right:auto !important;margin-left:auto !important}.bootstrap .my-md-auto{margin-top:auto !important;margin-bottom:auto !important}}@media (min-width: 992px){.bootstrap .m-lg-0{margin:0 0 !important}.bootstrap .mt-lg-0{margin-top:0 !important}.bootstrap .mr-lg-0{margin-right:0 !important}.bootstrap .mb-lg-0{margin-bottom:0 !important}.bootstrap .ml-lg-0{margin-left:0 !important}.bootstrap .mx-lg-0{margin-right:0 !important;margin-left:0 !important}.bootstrap .my-lg-0{margin-top:0 !important;margin-bottom:0 !important}.bootstrap .m-lg-1{margin:0.25rem 0.25rem !important}.bootstrap .mt-lg-1{margin-top:0.25rem !important}.bootstrap .mr-lg-1{margin-right:0.25rem !important}.bootstrap .mb-lg-1{margin-bottom:0.25rem !important}.bootstrap .ml-lg-1{margin-left:0.25rem !important}.bootstrap .mx-lg-1{margin-right:.25rem !important;margin-left:0.25rem !important}.bootstrap .my-lg-1{margin-top:.25rem !important;margin-bottom:0.25rem !important}.bootstrap .m-lg-2{margin:0.5rem 0.5rem !important}.bootstrap .mt-lg-2{margin-top:0.5rem !important}.bootstrap .mr-lg-2{margin-right:0.5rem !important}.bootstrap .mb-lg-2{margin-bottom:0.5rem !important}.bootstrap .ml-lg-2{margin-left:0.5rem !important}.bootstrap .mx-lg-2{margin-right:.5rem !important;margin-left:0.5rem !important}.bootstrap .my-lg-2{margin-top:.5rem !important;margin-bottom:0.5rem !important}.bootstrap .m-lg-3{margin:1rem 1rem !important}.bootstrap .mt-lg-3{margin-top:1rem !important}.bootstrap .mr-lg-3{margin-right:1rem !important}.bootstrap .mb-lg-3{margin-bottom:1rem !important}.bootstrap .ml-lg-3{margin-left:1rem !important}.bootstrap .mx-lg-3{margin-right:1rem !important;margin-left:1rem !important}.bootstrap .my-lg-3{margin-top:1rem !important;margin-bottom:1rem !important}.bootstrap .m-lg-4{margin:1.5rem 1.5rem !important}.bootstrap .mt-lg-4{margin-top:1.5rem !important}.bootstrap .mr-lg-4{margin-right:1.5rem !important}.bootstrap .mb-lg-4{margin-bottom:1.5rem !important}.bootstrap .ml-lg-4{margin-left:1.5rem !important}.bootstrap .mx-lg-4{margin-right:1.5rem !important;margin-left:1.5rem !important}.bootstrap .my-lg-4{margin-top:1.5rem !important;margin-bottom:1.5rem !important}.bootstrap .m-lg-5{margin:3rem 3rem !important}.bootstrap .mt-lg-5{margin-top:3rem !important}.bootstrap .mr-lg-5{margin-right:3rem !important}.bootstrap .mb-lg-5{margin-bottom:3rem !important}.bootstrap .ml-lg-5{margin-left:3rem !important}.bootstrap .mx-lg-5{margin-right:3rem !important;margin-left:3rem !important}.bootstrap .my-lg-5{margin-top:3rem !important;margin-bottom:3rem !important}.bootstrap .p-lg-0{padding:0 0 !important}.bootstrap .pt-lg-0{padding-top:0 !important}.bootstrap .pr-lg-0{padding-right:0 !important}.bootstrap .pb-lg-0{padding-bottom:0 !important}.bootstrap .pl-lg-0{padding-left:0 !important}.bootstrap .px-lg-0{padding-right:0 !important;padding-left:0 !important}.bootstrap .py-lg-0{padding-top:0 !important;padding-bottom:0 !important}.bootstrap .p-lg-1{padding:0.25rem 0.25rem !important}.bootstrap .pt-lg-1{padding-top:0.25rem !important}.bootstrap .pr-lg-1{padding-right:0.25rem !important}.bootstrap .pb-lg-1{padding-bottom:0.25rem !important}.bootstrap .pl-lg-1{padding-left:0.25rem !important}.bootstrap .px-lg-1{padding-right:.25rem !important;padding-left:0.25rem !important}.bootstrap .py-lg-1{padding-top:.25rem !important;padding-bottom:0.25rem !important}.bootstrap .p-lg-2{padding:0.5rem 0.5rem !important}.bootstrap .pt-lg-2{padding-top:0.5rem !important}.bootstrap .pr-lg-2{padding-right:0.5rem !important}.bootstrap .pb-lg-2{padding-bottom:0.5rem !important}.bootstrap .pl-lg-2{padding-left:0.5rem !important}.bootstrap .px-lg-2{padding-right:.5rem !important;padding-left:0.5rem !important}.bootstrap .py-lg-2{padding-top:.5rem !important;padding-bottom:0.5rem !important}.bootstrap .p-lg-3{padding:1rem 1rem !important}.bootstrap .pt-lg-3{padding-top:1rem !important}.bootstrap .pr-lg-3{padding-right:1rem !important}.bootstrap .pb-lg-3{padding-bottom:1rem !important}.bootstrap .pl-lg-3{padding-left:1rem !important}.bootstrap .px-lg-3{padding-right:1rem !important;padding-left:1rem !important}.bootstrap .py-lg-3{padding-top:1rem !important;padding-bottom:1rem !important}.bootstrap .p-lg-4{padding:1.5rem 1.5rem !important}.bootstrap .pt-lg-4{padding-top:1.5rem !important}.bootstrap .pr-lg-4{padding-right:1.5rem !important}.bootstrap .pb-lg-4{padding-bottom:1.5rem !important}.bootstrap .pl-lg-4{padding-left:1.5rem !important}.bootstrap .px-lg-4{padding-right:1.5rem !important;padding-left:1.5rem !important}.bootstrap .py-lg-4{padding-top:1.5rem !important;padding-bottom:1.5rem !important}.bootstrap .p-lg-5{padding:3rem 3rem !important}.bootstrap .pt-lg-5{padding-top:3rem !important}.bootstrap .pr-lg-5{padding-right:3rem !important}.bootstrap .pb-lg-5{padding-bottom:3rem !important}.bootstrap .pl-lg-5{padding-left:3rem !important}.bootstrap .px-lg-5{padding-right:3rem !important;padding-left:3rem !important}.bootstrap .py-lg-5{padding-top:3rem !important;padding-bottom:3rem !important}.bootstrap .m-lg-auto{margin:auto !important}.bootstrap .mt-lg-auto{margin-top:auto !important}.bootstrap .mr-lg-auto{margin-right:auto !important}.bootstrap .mb-lg-auto{margin-bottom:auto !important}.bootstrap .ml-lg-auto{margin-left:auto !important}.bootstrap .mx-lg-auto{margin-right:auto !important;margin-left:auto !important}.bootstrap .my-lg-auto{margin-top:auto !important;margin-bottom:auto !important}}@media (min-width: 1200px){.bootstrap .m-xl-0{margin:0 0 !important}.bootstrap .mt-xl-0{margin-top:0 !important}.bootstrap .mr-xl-0{margin-right:0 !important}.bootstrap .mb-xl-0{margin-bottom:0 !important}.bootstrap .ml-xl-0{margin-left:0 !important}.bootstrap .mx-xl-0{margin-right:0 !important;margin-left:0 !important}.bootstrap .my-xl-0{margin-top:0 !important;margin-bottom:0 !important}.bootstrap .m-xl-1{margin:0.25rem 0.25rem !important}.bootstrap .mt-xl-1{margin-top:0.25rem !important}.bootstrap .mr-xl-1{margin-right:0.25rem !important}.bootstrap .mb-xl-1{margin-bottom:0.25rem !important}.bootstrap .ml-xl-1{margin-left:0.25rem !important}.bootstrap .mx-xl-1{margin-right:.25rem !important;margin-left:0.25rem !important}.bootstrap .my-xl-1{margin-top:.25rem !important;margin-bottom:0.25rem !important}.bootstrap .m-xl-2{margin:0.5rem 0.5rem !important}.bootstrap .mt-xl-2{margin-top:0.5rem !important}.bootstrap .mr-xl-2{margin-right:0.5rem !important}.bootstrap .mb-xl-2{margin-bottom:0.5rem !important}.bootstrap .ml-xl-2{margin-left:0.5rem !important}.bootstrap .mx-xl-2{margin-right:.5rem !important;margin-left:0.5rem !important}.bootstrap .my-xl-2{margin-top:.5rem !important;margin-bottom:0.5rem !important}.bootstrap .m-xl-3{margin:1rem 1rem !important}.bootstrap .mt-xl-3{margin-top:1rem !important}.bootstrap .mr-xl-3{margin-right:1rem !important}.bootstrap .mb-xl-3{margin-bottom:1rem !important}.bootstrap .ml-xl-3{margin-left:1rem !important}.bootstrap .mx-xl-3{margin-right:1rem !important;margin-left:1rem !important}.bootstrap .my-xl-3{margin-top:1rem !important;margin-bottom:1rem !important}.bootstrap .m-xl-4{margin:1.5rem 1.5rem !important}.bootstrap .mt-xl-4{margin-top:1.5rem !important}.bootstrap .mr-xl-4{margin-right:1.5rem !important}.bootstrap .mb-xl-4{margin-bottom:1.5rem !important}.bootstrap .ml-xl-4{margin-left:1.5rem !important}.bootstrap .mx-xl-4{margin-right:1.5rem !important;margin-left:1.5rem !important}.bootstrap .my-xl-4{margin-top:1.5rem !important;margin-bottom:1.5rem !important}.bootstrap .m-xl-5{margin:3rem 3rem !important}.bootstrap .mt-xl-5{margin-top:3rem !important}.bootstrap .mr-xl-5{margin-right:3rem !important}.bootstrap .mb-xl-5{margin-bottom:3rem !important}.bootstrap .ml-xl-5{margin-left:3rem !important}.bootstrap .mx-xl-5{margin-right:3rem !important;margin-left:3rem !important}.bootstrap .my-xl-5{margin-top:3rem !important;margin-bottom:3rem !important}.bootstrap .p-xl-0{padding:0 0 !important}.bootstrap .pt-xl-0{padding-top:0 !important}.bootstrap .pr-xl-0{padding-right:0 !important}.bootstrap .pb-xl-0{padding-bottom:0 !important}.bootstrap .pl-xl-0{padding-left:0 !important}.bootstrap .px-xl-0{padding-right:0 !important;padding-left:0 !important}.bootstrap .py-xl-0{padding-top:0 !important;padding-bottom:0 !important}.bootstrap .p-xl-1{padding:0.25rem 0.25rem !important}.bootstrap .pt-xl-1{padding-top:0.25rem !important}.bootstrap .pr-xl-1{padding-right:0.25rem !important}.bootstrap .pb-xl-1{padding-bottom:0.25rem !important}.bootstrap .pl-xl-1{padding-left:0.25rem !important}.bootstrap .px-xl-1{padding-right:.25rem !important;padding-left:0.25rem !important}.bootstrap .py-xl-1{padding-top:.25rem !important;padding-bottom:0.25rem !important}.bootstrap .p-xl-2{padding:0.5rem 0.5rem !important}.bootstrap .pt-xl-2{padding-top:0.5rem !important}.bootstrap .pr-xl-2{padding-right:0.5rem !important}.bootstrap .pb-xl-2{padding-bottom:0.5rem !important}.bootstrap .pl-xl-2{padding-left:0.5rem !important}.bootstrap .px-xl-2{padding-right:.5rem !important;padding-left:0.5rem !important}.bootstrap .py-xl-2{padding-top:.5rem !important;padding-bottom:0.5rem !important}.bootstrap .p-xl-3{padding:1rem 1rem !important}.bootstrap .pt-xl-3{padding-top:1rem !important}.bootstrap .pr-xl-3{padding-right:1rem !important}.bootstrap .pb-xl-3{padding-bottom:1rem !important}.bootstrap .pl-xl-3{padding-left:1rem !important}.bootstrap .px-xl-3{padding-right:1rem !important;padding-left:1rem !important}.bootstrap .py-xl-3{padding-top:1rem !important;padding-bottom:1rem !important}.bootstrap .p-xl-4{padding:1.5rem 1.5rem !important}.bootstrap .pt-xl-4{padding-top:1.5rem !important}.bootstrap .pr-xl-4{padding-right:1.5rem !important}.bootstrap .pb-xl-4{padding-bottom:1.5rem !important}.bootstrap .pl-xl-4{padding-left:1.5rem !important}.bootstrap .px-xl-4{padding-right:1.5rem !important;padding-left:1.5rem !important}.bootstrap .py-xl-4{padding-top:1.5rem !important;padding-bottom:1.5rem !important}.bootstrap .p-xl-5{padding:3rem 3rem !important}.bootstrap .pt-xl-5{padding-top:3rem !important}.bootstrap .pr-xl-5{padding-right:3rem !important}.bootstrap .pb-xl-5{padding-bottom:3rem !important}.bootstrap .pl-xl-5{padding-left:3rem !important}.bootstrap .px-xl-5{padding-right:3rem !important;padding-left:3rem !important}.bootstrap .py-xl-5{padding-top:3rem !important;padding-bottom:3rem !important}.bootstrap .m-xl-auto{margin:auto !important}.bootstrap .mt-xl-auto{margin-top:auto !important}.bootstrap .mr-xl-auto{margin-right:auto !important}.bootstrap .mb-xl-auto{margin-bottom:auto !important}.bootstrap .ml-xl-auto{margin-left:auto !important}.bootstrap .mx-xl-auto{margin-right:auto !important;margin-left:auto !important}.bootstrap .my-xl-auto{margin-top:auto !important;margin-bottom:auto !important}}.bootstrap .text-justify{text-align:justify !important}.bootstrap .text-nowrap{white-space:nowrap !important}.bootstrap .text-truncate{overflow:hidden;text-overflow:ellipsis;white-space:nowrap}.bootstrap .text-left{text-align:left !important}.bootstrap .text-right{text-align:right !important}.bootstrap .text-center{text-align:center !important}@media (min-width: 576px){.bootstrap .text-sm-left{text-align:left !important}.bootstrap .text-sm-right{text-align:right !important}.bootstrap .text-sm-center{text-align:center !important}}@media (min-width: 768px){.bootstrap .text-md-left{text-align:left !important}.bootstrap .text-md-right{text-align:right !important}.bootstrap .text-md-center{text-align:center !important}}@media (min-width: 992px){.bootstrap .text-lg-left{text-align:left !important}.bootstrap .text-lg-right{text-align:right !important}.bootstrap .text-lg-center{text-align:center !important}}@media (min-width: 1200px){.bootstrap .text-xl-left{text-align:left !important}.bootstrap .text-xl-right{text-align:right !important}.bootstrap .text-xl-center{text-align:center !important}}.bootstrap .text-lowercase{text-transform:lowercase !important}.bootstrap .text-uppercase{text-transform:uppercase !important}.bootstrap .text-capitalize{text-transform:capitalize !important}.bootstrap .font-weight-normal{font-weight:400}.bootstrap .font-weight-bold{font-weight:700}.bootstrap .font-italic{font-style:italic}.bootstrap .text-white{color:#fff !important}.bootstrap .text-muted{color:#636c72 !important}.bootstrap a.text-muted:focus,.bootstrap a.text-muted:hover{color:#4b5257 !important}.bootstrap .text-primary{color:#0275d8 !important}.bootstrap a.text-primary:focus,.bootstrap a.text-primary:hover{color:#025aa5 !important}.bootstrap .text-success{color:#5cb85c !important}.bootstrap a.text-success:focus,.bootstrap a.text-success:hover{color:#449d44 !important}.bootstrap .text-info{color:#5bc0de !important}.bootstrap a.text-info:focus,.bootstrap a.text-info:hover{color:#31b0d5 !important}.bootstrap .text-warning{color:#f0ad4e !important}.bootstrap a.text-warning:focus,.bootstrap a.text-warning:hover{color:#ec971f !important}.bootstrap .text-danger{color:#d9534f !important}.bootstrap a.text-danger:focus,.bootstrap a.text-danger:hover{color:#c9302c !important}.bootstrap .text-gray-dark{color:#292b2c !important}.bootstrap a.text-gray-dark:focus,.bootstrap a.text-gray-dark:hover{color:#101112 !important}.bootstrap .text-hide{font:0/0 a;color:transparent;text-shadow:none;background-color:transparent;border:0}.bootstrap .invisible{visibility:hidden !important}.bootstrap .hidden-xs-up{display:none !important}@media (max-width: 575px){.bootstrap .hidden-xs-down{display:none !important}}@media (min-width: 576px){.bootstrap .hidden-sm-up{display:none !important}}@media (max-width: 767px){.bootstrap .hidden-sm-down{display:none !important}}@media (min-width: 768px){.bootstrap .hidden-md-up{display:none !important}}@media (max-width: 991px){.bootstrap .hidden-md-down{display:none !important}}@media (min-width: 992px){.bootstrap .hidden-lg-up{display:none !important}}@media (max-width: 1199px){.bootstrap .hidden-lg-down{display:none !important}}@media (min-width: 1200px){.bootstrap .hidden-xl-up{display:none !important}}.bootstrap .hidden-xl-down{display:none !important}.bootstrap .visible-print-block{display:none !important}@media print{.bootstrap .visible-print-block{display:block !important}}.bootstrap .visible-print-inline{display:none !important}@media print{.bootstrap .visible-print-inline{display:inline !important}}.bootstrap .visible-print-inline-block{display:none !important}@media print{.bootstrap .visible-print-inline-block{display:inline-block !important}}@media print{.bootstrap .hidden-print{display:none !important}}.bootstrap .btn-default,.bootstrap .btn-primary,.bootstrap .btn-success,.bootstrap .btn-info,.bootstrap .btn-warning,.bootstrap .btn-danger{text-shadow:0 -1px 0 rgba(0, 0, 0, 0.2);-webkit-box-shadow:inset 0 1px 0 rgba(255, 255, 255, 0.15), 0 1px 1px rgba(0, 0, 0, 0.075);box-shadow:inset 0 1px 0 rgba(255, 255, 255, 0.15), 0 1px 1px rgba(0, 0, 0, 0.075)}.bootstrap .btn-default:active,.bootstrap .btn-primary:active,.bootstrap .btn-success:active,.bootstrap .btn-info:active,.bootstrap .btn-warning:active,.bootstrap .btn-danger:active,.bootstrap .btn-default.active,.bootstrap .btn-primary.active,.bootstrap .btn-success.active,.bootstrap .btn-info.active,.bootstrap .btn-warning.active,.bootstrap .btn-danger.active{-webkit-box-shadow:inset 0 3px 5px rgba(0, 0, 0, 0.125);box-shadow:inset 0 3px 5px rgba(0, 0, 0, 0.125)}.bootstrap .btn-default.disabled,.bootstrap .btn-primary.disabled,.bootstrap .btn-success.disabled,.bootstrap .btn-info.disabled,.bootstrap .btn-warning.disabled,.bootstrap .btn-danger.disabled,.bootstrap .btn-default[disabled],.bootstrap .btn-primary[disabled],.bootstrap .btn-success[disabled],.bootstrap .btn-info[disabled],.bootstrap .btn-warning[disabled],.bootstrap .btn-danger[disabled],.bootstrap fieldset[disabled] .btn-default,.bootstrap fieldset[disabled] .btn-primary,.bootstrap fieldset[disabled] .btn-success,.bootstrap fieldset[disabled] .btn-info,.bootstrap fieldset[disabled] .btn-warning,.bootstrap fieldset[disabled] .btn-danger{-webkit-box-shadow:none;box-shadow:none}.bootstrap .btn-default .badge,.bootstrap .btn-primary .badge,.bootstrap .btn-success .badge,.bootstrap .btn-info .badge,.bootstrap .btn-warning .badge,.bootstrap .btn-danger .badge{text-shadow:none}.bootstrap .btn:active,.bootstrap .btn.active{background-image:none}.bootstrap .btn-default{background-image:-webkit-linear-gradient(top, #fff 0, #e0e0e0 100%);background-image:-o-linear-gradient(top, #fff 0, #e0e0e0 100%);background-image:-webkit-gradient(linear, left top, left bottom, color-stop(0, #fff), to(#e0e0e0));background-image:linear-gradient(to bottom, #fff 0, #e0e0e0 100%);filter:progid:DXImageTransform.Microsoft.gradient(startColorstr='#ffffffff', endColorstr='#ffe0e0e0', GradientType=0);filter:progid:DXImageTransform.Microsoft.gradient(enabled=false);background-repeat:repeat-x;border-color:#dbdbdb;text-shadow:0 1px 0 #fff;border-color:#ccc}.bootstrap .btn-default:hover,.bootstrap .btn-default:focus{background-color:#e0e0e0;background-position:0 -15px}.bootstrap .btn-default:active,.bootstrap .btn-default.active{background-color:#e0e0e0;border-color:#dbdbdb}.bootstrap .btn-default.disabled,.bootstrap .btn-default[disabled],.bootstrap fieldset[disabled] .btn-default,.bootstrap .btn-default.disabled:hover,.bootstrap .btn-default[disabled]:hover,.bootstrap fieldset[disabled] .btn-default:hover,.bootstrap .btn-default.disabled:focus,.bootstrap .btn-default[disabled]:focus,.bootstrap fieldset[disabled] .btn-default:focus,.bootstrap .btn-default.disabled.focus,.bootstrap .btn-default[disabled].focus,.bootstrap fieldset[disabled] .btn-default.focus,.bootstrap .btn-default.disabled:active,.bootstrap .btn-default[disabled]:active,.bootstrap fieldset[disabled] .btn-default:active,.bootstrap .btn-default.disabled.active,.bootstrap .btn-default[disabled].active,.bootstrap fieldset[disabled] .btn-default.active{background-color:#e0e0e0;background-image:none}.bootstrap .btn-primary{background-image:-webkit-linear-gradient(top, #337ab7 0, #265a88 100%);background-image:-o-linear-gradient(top, #337ab7 0, #265a88 100%);background-image:-webkit-gradient(linear, left top, left bottom, color-stop(0, #337ab7), to(#265a88));background-image:linear-gradient(to bottom, #337ab7 0, #265a88 100%);filter:progid:DXImageTransform.Microsoft.gradient(startColorstr='#ff337ab7', endColorstr='#ff265a88', GradientType=0);filter:progid:DXImageTransform.Microsoft.gradient(enabled=false);background-repeat:repeat-x;border-color:#245580}.bootstrap .btn-primary:hover,.bootstrap .btn-primary:focus{background-color:#265a88;background-position:0 -15px}.bootstrap .btn-primary:active,.bootstrap .btn-primary.active{background-color:#265a88;border-color:#245580}.bootstrap .btn-primary.disabled,.bootstrap .btn-primary[disabled],.bootstrap fieldset[disabled] .btn-primary,.bootstrap .btn-primary.disabled:hover,.bootstrap .btn-primary[disabled]:hover,.bootstrap fieldset[disabled] .btn-primary:hover,.bootstrap .btn-primary.disabled:focus,.bootstrap .btn-primary[disabled]:focus,.bootstrap fieldset[disabled] .btn-primary:focus,.bootstrap .btn-primary.disabled.focus,.bootstrap .btn-primary[disabled].focus,.bootstrap fieldset[disabled] .btn-primary.focus,.bootstrap .btn-primary.disabled:active,.bootstrap .btn-primary[disabled]:active,.bootstrap fieldset[disabled] .btn-primary:active,.bootstrap .btn-primary.disabled.active,.bootstrap .btn-primary[disabled].active,.bootstrap fieldset[disabled] .btn-primary.active{background-color:#265a88;background-image:none}.bootstrap .btn-success{background-image:-webkit-linear-gradient(top, #5cb85c 0, #419641 100%);background-image:-o-linear-gradient(top, #5cb85c 0, #419641 100%);background-image:-webkit-gradient(linear, left top, left bottom, color-stop(0, #5cb85c), to(#419641));background-image:linear-gradient(to bottom, #5cb85c 0, #419641 100%);filter:progid:DXImageTransform.Microsoft.gradient(startColorstr='#ff5cb85c', endColorstr='#ff419641', GradientType=0);filter:progid:DXImageTransform.Microsoft.gradient(enabled=false);background-repeat:repeat-x;border-color:#3e8f3e}.bootstrap .btn-success:hover,.bootstrap .btn-success:focus{background-color:#419641;background-position:0 -15px}.bootstrap .btn-success:active,.bootstrap .btn-success.active{background-color:#419641;border-color:#3e8f3e}.bootstrap .btn-success.disabled,.bootstrap .btn-success[disabled],.bootstrap fieldset[disabled] .btn-success,.bootstrap .btn-success.disabled:hover,.bootstrap .btn-success[disabled]:hover,.bootstrap fieldset[disabled] .btn-success:hover,.bootstrap .btn-success.disabled:focus,.bootstrap .btn-success[disabled]:focus,.bootstrap fieldset[disabled] .btn-success:focus,.bootstrap .btn-success.disabled.focus,.bootstrap .btn-success[disabled].focus,.bootstrap fieldset[disabled] .btn-success.focus,.bootstrap .btn-success.disabled:active,.bootstrap .btn-success[disabled]:active,.bootstrap fieldset[disabled] .btn-success:active,.bootstrap .btn-success.disabled.active,.bootstrap .btn-success[disabled].active,.bootstrap fieldset[disabled] .btn-success.active{background-color:#419641;background-image:none}.bootstrap .btn-info{background-image:-webkit-linear-gradient(top, #5bc0de 0, #2aabd2 100%);background-image:-o-linear-gradient(top, #5bc0de 0, #2aabd2 100%);background-image:-webkit-gradient(linear, left top, left bottom, color-stop(0, #5bc0de), to(#2aabd2));background-image:linear-gradient(to bottom, #5bc0de 0, #2aabd2 100%);filter:progid:DXImageTransform.Microsoft.gradient(startColorstr='#ff5bc0de', endColorstr='#ff2aabd2', GradientType=0);filter:progid:DXImageTransform.Microsoft.gradient(enabled=false);background-repeat:repeat-x;border-color:#28a4c9}.bootstrap .btn-info:hover,.bootstrap .btn-info:focus{background-color:#2aabd2;background-position:0 -15px}.bootstrap .btn-info:active,.bootstrap .btn-info.active{background-color:#2aabd2;border-color:#28a4c9}.bootstrap .btn-info.disabled,.bootstrap .btn-info[disabled],.bootstrap fieldset[disabled] .btn-info,.bootstrap .btn-info.disabled:hover,.bootstrap .btn-info[disabled]:hover,.bootstrap fieldset[disabled] .btn-info:hover,.bootstrap .btn-info.disabled:focus,.bootstrap .btn-info[disabled]:focus,.bootstrap fieldset[disabled] .btn-info:focus,.bootstrap .btn-info.disabled.focus,.bootstrap .btn-info[disabled].focus,.bootstrap fieldset[disabled] .btn-info.focus,.bootstrap .btn-info.disabled:active,.bootstrap .btn-info[disabled]:active,.bootstrap fieldset[disabled] .btn-info:active,.bootstrap .btn-info.disabled.active,.bootstrap .btn-info[disabled].active,.bootstrap fieldset[disabled] .btn-info.active{background-color:#2aabd2;background-image:none}.bootstrap .btn-warning{background-image:-webkit-linear-gradient(top, #f0ad4e 0, #eb9316 100%);background-image:-o-linear-gradient(top, #f0ad4e 0, #eb9316 100%);background-image:-webkit-gradient(linear, left top, left bottom, color-stop(0, #f0ad4e), to(#eb9316));background-image:linear-gradient(to bottom, #f0ad4e 0, #eb9316 100%);filter:progid:DXImageTransform.Microsoft.gradient(startColorstr='#fff0ad4e', endColorstr='#ffeb9316', GradientType=0);filter:progid:DXImageTransform.Microsoft.gradient(enabled=false);background-repeat:repeat-x;border-color:#e38d13}.bootstrap .btn-warning:hover,.bootstrap .btn-warning:focus{background-color:#eb9316;background-position:0 -15px}.bootstrap .btn-warning:active,.bootstrap .btn-warning.active{background-color:#eb9316;border-color:#e38d13}.bootstrap .btn-warning.disabled,.bootstrap .btn-warning[disabled],.bootstrap fieldset[disabled] .btn-warning,.bootstrap .btn-warning.disabled:hover,.bootstrap .btn-warning[disabled]:hover,.bootstrap fieldset[disabled] .btn-warning:hover,.bootstrap .btn-warning.disabled:focus,.bootstrap .btn-warning[disabled]:focus,.bootstrap fieldset[disabled] .btn-warning:focus,.bootstrap .btn-warning.disabled.focus,.bootstrap .btn-warning[disabled].focus,.bootstrap fieldset[disabled] .btn-warning.focus,.bootstrap .btn-warning.disabled:active,.bootstrap .btn-warning[disabled]:active,.bootstrap fieldset[disabled] .btn-warning:active,.bootstrap .btn-warning.disabled.active,.bootstrap .btn-warning[disabled].active,.bootstrap fieldset[disabled] .btn-warning.active{background-color:#eb9316;background-image:none}.bootstrap .btn-danger{background-image:-webkit-linear-gradient(top, #d9534f 0, #c12e2a 100%);background-image:-o-linear-gradient(top, #d9534f 0, #c12e2a 100%);background-image:-webkit-gradient(linear, left top, left bottom, color-stop(0, #d9534f), to(#c12e2a));background-image:linear-gradient(to bottom, #d9534f 0, #c12e2a 100%);filter:progid:DXImageTransform.Microsoft.gradient(startColorstr='#ffd9534f', endColorstr='#ffc12e2a', GradientType=0);filter:progid:DXImageTransform.Microsoft.gradient(enabled=false);background-repeat:repeat-x;border-color:#b92c28}.bootstrap .btn-danger:hover,.bootstrap .btn-danger:focus{background-color:#c12e2a;background-position:0 -15px}.bootstrap .btn-danger:active,.bootstrap .btn-danger.active{background-color:#c12e2a;border-color:#b92c28}.bootstrap .btn-danger.disabled,.bootstrap .btn-danger[disabled],.bootstrap fieldset[disabled] .btn-danger,.bootstrap .btn-danger.disabled:hover,.bootstrap .btn-danger[disabled]:hover,.bootstrap fieldset[disabled] .btn-danger:hover,.bootstrap .btn-danger.disabled:focus,.bootstrap .btn-danger[disabled]:focus,.bootstrap fieldset[disabled] .btn-danger:focus,.bootstrap .btn-danger.disabled.focus,.bootstrap .btn-danger[disabled].focus,.bootstrap fieldset[disabled] .btn-danger.focus,.bootstrap .btn-danger.disabled:active,.bootstrap .btn-danger[disabled]:active,.bootstrap fieldset[disabled] .btn-danger:active,.bootstrap .btn-danger.disabled.active,.bootstrap .btn-danger[disabled].active,.bootstrap fieldset[disabled] .btn-danger.active{background-color:#c12e2a;background-image:none}.bootstrap .thumbnail,.bootstrap .img-thumbnail{-webkit-box-shadow:0 1px 2px rgba(0, 0, 0, 0.075);box-shadow:0 1px 2px rgba(0, 0, 0, 0.075)}.bootstrap .dropdown-menu > li > a:hover,.bootstrap .dropdown-menu > li > a:focus{background-image:-webkit-linear-gradient(top, #f5f5f5 0, #e8e8e8 100%);background-image:-o-linear-gradient(top, #f5f5f5 0, #e8e8e8 100%);background-image:-webkit-gradient(linear, left top, left bottom, color-stop(0, #f5f5f5), to(#e8e8e8));background-image:linear-gradient(to bottom, #f5f5f5 0, #e8e8e8 100%);background-repeat:repeat-x;filter:progid:DXImageTransform.Microsoft.gradient(startColorstr='#fff5f5f5', endColorstr='#ffe8e8e8', GradientType=0);background-color:#e8e8e8}.bootstrap .dropdown-menu > .active > a,.bootstrap .dropdown-menu > .active > a:hover,.bootstrap .dropdown-menu > .active > a:focus{background-image:-webkit-linear-gradient(top, #337ab7 0, #2e6da4 100%);background-image:-o-linear-gradient(top, #337ab7 0, #2e6da4 100%);background-image:-webkit-gradient(linear, left top, left bottom, color-stop(0, #337ab7), to(#2e6da4));background-image:linear-gradient(to bottom, #337ab7 0, #2e6da4 100%);background-repeat:repeat-x;filter:progid:DXImageTransform.Microsoft.gradient(startColorstr='#ff337ab7', endColorstr='#ff2e6da4', GradientType=0);background-color:#2e6da4}.bootstrap .navbar-default{background-image:-webkit-linear-gradient(top, #fff 0, #f8f8f8 100%);background-image:-o-linear-gradient(top, #fff 0, #f8f8f8 100%);background-image:-webkit-gradient(linear, left top, left bottom, color-stop(0, #fff), to(#f8f8f8));background-image:linear-gradient(to bottom, #fff 0, #f8f8f8 100%);background-repeat:repeat-x;filter:progid:DXImageTransform.Microsoft.gradient(startColorstr='#ffffffff', endColorstr='#fff8f8f8', GradientType=0);filter:progid:DXImageTransform.Microsoft.gradient(enabled=false);border-radius:4px;-webkit-box-shadow:inset 0 1px 0 rgba(255, 255, 255, 0.15), 0 1px 5px rgba(0, 0, 0, 0.075);box-shadow:inset 0 1px 0 rgba(255, 255, 255, 0.15), 0 1px 5px rgba(0, 0, 0, 0.075)}.bootstrap .navbar-default .navbar-nav > .open > a,.bootstrap .navbar-default .navbar-nav > .active > a{background-image:-webkit-linear-gradient(top, #dbdbdb 0, #e2e2e2 100%);background-image:-o-linear-gradient(top, #dbdbdb 0, #e2e2e2 100%);background-image:-webkit-gradient(linear, left top, left bottom, color-stop(0, #dbdbdb), to(#e2e2e2));background-image:linear-gradient(to bottom, #dbdbdb 0, #e2e2e2 100%);background-repeat:repeat-x;filter:progid:DXImageTransform.Microsoft.gradient(startColorstr='#ffdbdbdb', endColorstr='#ffe2e2e2', GradientType=0);-webkit-box-shadow:inset 0 3px 9px rgba(0, 0, 0, 0.075);box-shadow:inset 0 3px 9px rgba(0, 0, 0, 0.075)}.bootstrap .navbar-brand,.bootstrap .navbar-nav > li > a{text-shadow:0 1px 0 rgba(255, 255, 255, 0.25)}.bootstrap .navbar-inverse{background-image:-webkit-linear-gradient(top, #3c3c3c 0, #222 100%);background-image:-o-linear-gradient(top, #3c3c3c 0, #222 100%);background-image:-webkit-gradient(linear, left top, left bottom, color-stop(0, #3c3c3c), to(#222));background-image:linear-gradient(to bottom, #3c3c3c 0, #222 100%);background-repeat:repeat-x;filter:progid:DXImageTransform.Microsoft.gradient(startColorstr='#ff3c3c3c', endColorstr='#ff222222', GradientType=0);filter:progid:DXImageTransform.Microsoft.gradient(enabled=false);border-radius:4px}.bootstrap .navbar-inverse .navbar-nav > .open > a,.bootstrap .navbar-inverse .navbar-nav > .active > a{background-image:-webkit-linear-gradient(top, #080808 0, #0f0f0f 100%);background-image:-o-linear-gradient(top, #080808 0, #0f0f0f 100%);background-image:-webkit-gradient(linear, left top, left bottom, color-stop(0, #080808), to(#0f0f0f));background-image:linear-gradient(to bottom, #080808 0, #0f0f0f 100%);background-repeat:repeat-x;filter:progid:DXImageTransform.Microsoft.gradient(startColorstr='#ff080808', endColorstr='#ff0f0f0f', GradientType=0);-webkit-box-shadow:inset 0 3px 9px rgba(0, 0, 0, 0.25);box-shadow:inset 0 3px 9px rgba(0, 0, 0, 0.25)}.bootstrap .navbar-inverse .navbar-brand,.bootstrap .navbar-inverse .navbar-nav > li > a{text-shadow:0 -1px 0 rgba(0, 0, 0, 0.25)}.bootstrap .navbar-static-top,.bootstrap .navbar-fixed-top,.bootstrap .navbar-fixed-bottom{border-radius:0}@media (max-width: 767px){.bootstrap .navbar .navbar-nav .open .dropdown-menu > .active > a,.bootstrap .navbar .navbar-nav .open .dropdown-menu > .active > a:hover,.bootstrap .navbar .navbar-nav .open .dropdown-menu > .active > a:focus{color:#fff;background-image:-webkit-linear-gradient(top, #337ab7 0, #2e6da4 100%);background-image:-o-linear-gradient(top, #337ab7 0, #2e6da4 100%);background-image:-webkit-gradient(linear, left top, left bottom, color-stop(0, #337ab7), to(#2e6da4));background-image:linear-gradient(to bottom, #337ab7 0, #2e6da4 100%);background-repeat:repeat-x;filter:progid:DXImageTransform.Microsoft.gradient(startColorstr='#ff337ab7', endColorstr='#ff2e6da4', GradientType=0)}}.bootstrap .alert{text-shadow:0 1px 0 rgba(255, 255, 255, 0.2);-webkit-box-shadow:inset 0 1px 0 rgba(255, 255, 255, 0.25), 0 1px 2px rgba(0, 0, 0, 0.05);box-shadow:inset 0 1px 0 rgba(255, 255, 255, 0.25), 0 1px 2px rgba(0, 0, 0, 0.05)}.bootstrap .alert-success{background-image:-webkit-linear-gradient(top, #dff0d8 0, #c8e5bc 100%);background-image:-o-linear-gradient(top, #dff0d8 0, #c8e5bc 100%);background-image:-webkit-gradient(linear, left top, left bottom, color-stop(0, #dff0d8), to(#c8e5bc));background-image:linear-gradient(to bottom, #dff0d8 0, #c8e5bc 100%);background-repeat:repeat-x;filter:progid:DXImageTransform.Microsoft.gradient(startColorstr='#ffdff0d8', endColorstr='#ffc8e5bc', GradientType=0);border-color:#b2dba1}.bootstrap .alert-info{background-image:-webkit-linear-gradient(top, #d9edf7 0, #b9def0 100%);background-image:-o-linear-gradient(top, #d9edf7 0, #b9def0 100%);background-image:-webkit-gradient(linear, left top, left bottom, color-stop(0, #d9edf7), to(#b9def0));background-image:linear-gradient(to bottom, #d9edf7 0, #b9def0 100%);background-repeat:repeat-x;filter:progid:DXImageTransform.Microsoft.gradient(startColorstr='#ffd9edf7', endColorstr='#ffb9def0', GradientType=0);border-color:#9acfea}.bootstrap .alert-warning{background-image:-webkit-linear-gradient(top, #fcf8e3 0, #f8efc0 100%);background-image:-o-linear-gradient(top, #fcf8e3 0, #f8efc0 100%);background-image:-webkit-gradient(linear, left top, left bottom, color-stop(0, #fcf8e3), to(#f8efc0));background-image:linear-gradient(to bottom, #fcf8e3 0, #f8efc0 100%);background-repeat:repeat-x;filter:progid:DXImageTransform.Microsoft.gradient(startColorstr='#fffcf8e3', endColorstr='#fff8efc0', GradientType=0);border-color:#f5e79e}.bootstrap .alert-danger{background-image:-webkit-linear-gradient(top, #f2dede 0, #e7c3c3 100%);background-image:-o-linear-gradient(top, #f2dede 0, #e7c3c3 100%);background-image:-webkit-gradient(linear, left top, left bottom, color-stop(0, #f2dede), to(#e7c3c3));background-image:linear-gradient(to bottom, #f2dede 0, #e7c3c3 100%);background-repeat:repeat-x;filter:progid:DXImageTransform.Microsoft.gradient(startColorstr='#fff2dede', endColorstr='#ffe7c3c3', GradientType=0);border-color:#dca7a7}.bootstrap .progress{background-image:-webkit-linear-gradient(top, #ebebeb 0, #f5f5f5 100%);background-image:-o-linear-gradient(top, #ebebeb 0, #f5f5f5 100%);background-image:-webkit-gradient(linear, left top, left bottom, color-stop(0, #ebebeb), to(#f5f5f5));background-image:linear-gradient(to bottom, #ebebeb 0, #f5f5f5 100%);background-repeat:repeat-x;filter:progid:DXImageTransform.Microsoft.gradient(startColorstr='#ffebebeb', endColorstr='#fff5f5f5', GradientType=0)}.bootstrap .progress-bar{background-image:-webkit-linear-gradient(top, #337ab7 0, #286090 100%);background-image:-o-linear-gradient(top, #337ab7 0, #286090 100%);background-image:-webkit-gradient(linear, left top, left bottom, color-stop(0, #337ab7), to(#286090));background-image:linear-gradient(to bottom, #337ab7 0, #286090 100%);background-repeat:repeat-x;filter:progid:DXImageTransform.Microsoft.gradient(startColorstr='#ff337ab7', endColorstr='#ff286090', GradientType=0)}.bootstrap .progress-bar-success{background-image:-webkit-linear-gradient(top, #5cb85c 0, #449d44 100%);background-image:-o-linear-gradient(top, #5cb85c 0, #449d44 100%);background-image:-webkit-gradient(linear, left top, left bottom, color-stop(0, #5cb85c), to(#449d44));background-image:linear-gradient(to bottom, #5cb85c 0, #449d44 100%);background-repeat:repeat-x;filter:progid:DXImageTransform.Microsoft.gradient(startColorstr='#ff5cb85c', endColorstr='#ff449d44', GradientType=0)}.bootstrap .progress-bar-info{background-image:-webkit-linear-gradient(top, #5bc0de 0, #31b0d5 100%);background-image:-o-linear-gradient(top, #5bc0de 0, #31b0d5 100%);background-image:-webkit-gradient(linear, left top, left bottom, color-stop(0, #5bc0de), to(#31b0d5));background-image:linear-gradient(to bottom, #5bc0de 0, #31b0d5 100%);background-repeat:repeat-x;filter:progid:DXImageTransform.Microsoft.gradient(startColorstr='#ff5bc0de', endColorstr='#ff31b0d5', GradientType=0)}.bootstrap .progress-bar-warning{background-image:-webkit-linear-gradient(top, #f0ad4e 0, #ec971f 100%);background-image:-o-linear-gradient(top, #f0ad4e 0, #ec971f 100%);background-image:-webkit-gradient(linear, left top, left bottom, color-stop(0, #f0ad4e), to(#ec971f));background-image:linear-gradient(to bottom, #f0ad4e 0, #ec971f 100%);background-repeat:repeat-x;filter:progid:DXImageTransform.Microsoft.gradient(startColorstr='#fff0ad4e', endColorstr='#ffec971f', GradientType=0)}.bootstrap .progress-bar-danger{background-image:-webkit-linear-gradient(top, #d9534f 0, #c9302c 100%);background-image:-o-linear-gradient(top, #d9534f 0, #c9302c 100%);background-image:-webkit-gradient(linear, left top, left bottom, color-stop(0, #d9534f), to(#c9302c));background-image:linear-gradient(to bottom, #d9534f 0, #c9302c 100%);background-repeat:repeat-x;filter:progid:DXImageTransform.Microsoft.gradient(startColorstr='#ffd9534f', endColorstr='#ffc9302c', GradientType=0)}.bootstrap .progress-bar-striped{background-image:-webkit-linear-gradient(45deg, rgba(255, 255, 255, 0.15) 25%, transparent 25%, transparent 50%, rgba(255, 255, 255, 0.15) 50%, rgba(255, 255, 255, 0.15) 75%, transparent 75%, transparent);background-image:-o-linear-gradient(45deg, rgba(255, 255, 255, 0.15) 25%, transparent 25%, transparent 50%, rgba(255, 255, 255, 0.15) 50%, rgba(255, 255, 255, 0.15) 75%, transparent 75%, transparent);background-image:linear-gradient(45deg, rgba(255, 255, 255, 0.15) 25%, transparent 25%, transparent 50%, rgba(255, 255, 255, 0.15) 50%, rgba(255, 255, 255, 0.15) 75%, transparent 75%, transparent)}.bootstrap .list-group{border-radius:4px;-webkit-box-shadow:0 1px 2px rgba(0, 0, 0, 0.075);box-shadow:0 1px 2px rgba(0, 0, 0, 0.075)}.bootstrap .list-group-item.active,.bootstrap .list-group-item.active:hover,.bootstrap .list-group-item.active:focus{text-shadow:0 -1px 0 #286090;background-image:-webkit-linear-gradient(top, #337ab7 0, #2b669a 100%);background-image:-o-linear-gradient(top, #337ab7 0, #2b669a 100%);background-image:-webkit-gradient(linear, left top, left bottom, color-stop(0, #337ab7), to(#2b669a));background-image:linear-gradient(to bottom, #337ab7 0, #2b669a 100%);background-repeat:repeat-x;filter:progid:DXImageTransform.Microsoft.gradient(startColorstr='#ff337ab7', endColorstr='#ff2b669a', GradientType=0);border-color:#2b669a}.bootstrap .list-group-item.active .badge,.bootstrap .list-group-item.active:hover .badge,.bootstrap .list-group-item.active:focus .badge{text-shadow:none}.bootstrap .panel{-webkit-box-shadow:0 1px 2px rgba(0, 0, 0, 0.05);box-shadow:0 1px 2px rgba(0, 0, 0, 0.05)}.bootstrap .panel-default > .panel-heading{background-image:-webkit-linear-gradient(top, #f5f5f5 0, #e8e8e8 100%);background-image:-o-linear-gradient(top, #f5f5f5 0, #e8e8e8 100%);background-image:-webkit-gradient(linear, left top, left bottom, color-stop(0, #f5f5f5), to(#e8e8e8));background-image:linear-gradient(to bottom, #f5f5f5 0, #e8e8e8 100%);background-repeat:repeat-x;filter:progid:DXImageTransform.Microsoft.gradient(startColorstr='#fff5f5f5', endColorstr='#ffe8e8e8', GradientType=0)}.bootstrap .panel-primary > .panel-heading{background-image:-webkit-linear-gradient(top, #337ab7 0, #2e6da4 100%);background-image:-o-linear-gradient(top, #337ab7 0, #2e6da4 100%);background-image:-webkit-gradient(linear, left top, left bottom, color-stop(0, #337ab7), to(#2e6da4));background-image:linear-gradient(to bottom, #337ab7 0, #2e6da4 100%);background-repeat:repeat-x;filter:progid:DXImageTransform.Microsoft.gradient(startColorstr='#ff337ab7', endColorstr='#ff2e6da4', GradientType=0)}.bootstrap .panel-success > .panel-heading{background-image:-webkit-linear-gradient(top, #dff0d8 0, #d0e9c6 100%);background-image:-o-linear-gradient(top, #dff0d8 0, #d0e9c6 100%);background-image:-webkit-gradient(linear, left top, left bottom, color-stop(0, #dff0d8), to(#d0e9c6));background-image:linear-gradient(to bottom, #dff0d8 0, #d0e9c6 100%);background-repeat:repeat-x;filter:progid:DXImageTransform.Microsoft.gradient(startColorstr='#ffdff0d8', endColorstr='#ffd0e9c6', GradientType=0)}.bootstrap .panel-info > .panel-heading{background-image:-webkit-linear-gradient(top, #d9edf7 0, #c4e3f3 100%);background-image:-o-linear-gradient(top, #d9edf7 0, #c4e3f3 100%);background-image:-webkit-gradient(linear, left top, left bottom, color-stop(0, #d9edf7), to(#c4e3f3));background-image:linear-gradient(to bottom, #d9edf7 0, #c4e3f3 100%);background-repeat:repeat-x;filter:progid:DXImageTransform.Microsoft.gradient(startColorstr='#ffd9edf7', endColorstr='#ffc4e3f3', GradientType=0)}.bootstrap .panel-warning > .panel-heading{background-image:-webkit-linear-gradient(top, #fcf8e3 0, #faf2cc 100%);background-image:-o-linear-gradient(top, #fcf8e3 0, #faf2cc 100%);background-image:-webkit-gradient(linear, left top, left bottom, color-stop(0, #fcf8e3), to(#faf2cc));background-image:linear-gradient(to bottom, #fcf8e3 0, #faf2cc 100%);background-repeat:repeat-x;filter:progid:DXImageTransform.Microsoft.gradient(startColorstr='#fffcf8e3', endColorstr='#fffaf2cc', GradientType=0)}.bootstrap .panel-danger > .panel-heading{background-image:-webkit-linear-gradient(top, #f2dede 0, #ebcccc 100%);background-image:-o-linear-gradient(top, #f2dede 0, #ebcccc 100%);background-image:-webkit-gradient(linear, left top, left bottom, color-stop(0, #f2dede), to(#ebcccc));background-image:linear-gradient(to bottom, #f2dede 0, #ebcccc 100%);background-repeat:repeat-x;filter:progid:DXImageTransform.Microsoft.gradient(startColorstr='#fff2dede', endColorstr='#ffebcccc', GradientType=0)}.bootstrap .well{background-image:-webkit-linear-gradient(top, #e8e8e8 0, #f5f5f5 100%);background-image:-o-linear-gradient(top, #e8e8e8 0, #f5f5f5 100%);background-image:-webkit-gradient(linear, left top, left bottom, color-stop(0, #e8e8e8), to(#f5f5f5));background-image:linear-gradient(to bottom, #e8e8e8 0, #f5f5f5 100%);background-repeat:repeat-x;filter:progid:DXImageTransform.Microsoft.gradient(startColorstr='#ffe8e8e8', endColorstr='#fff5f5f5', GradientType=0);border-color:#dcdcdc;-webkit-box-shadow:inset 0 1px 3px rgba(0, 0, 0, 0.05), 0 1px 0 rgba(255, 255, 255, 0.1);box-shadow:inset 0 1px 3px rgba(0, 0, 0, 0.05), 0 1px 0 rgba(255, 255, 255, 0.1)}\n",
       "</style><style>/*\n",
       " CSS to override bootstrap or define custom styles\n",
       "*/\n",
       "\n",
       ".bootstrap .p {\n",
       " font-size: 18px;\n",
       "}\n",
       "\n",
       ".bootstrap .pull-right {\n",
       "    @extend .float-right;\n",
       "}\n",
       ".bootstrap .pull-left {\n",
       "    @extend .float-left;\n",
       "}\n",
       "</style>\n",
       "            </div>\n",
       "    <div class=\"bootstrap\">\n",
       "      <div class=\"container-fluid border\">\n",
       "        <div class=\"row border\">\n",
       "          <div class=\"col-6\">\n",
       "            <p><b>Data</b>: <a href=\"https://obdaac-tea.earthdatacloud.nasa.gov/ob-cumulus-prod-public/AQUA_MODIS.20201016T192500.L2.OC.nc\" target=\"_blank\" class=\"btn btn-secondary btn-sm\">AQUA_MODIS.20201016T192500.L2.OC.nc</a><p/>\n",
       "            <p><b>Size</b>: 26.07 MB</p>\n",
       "            <p><b>Cloud Hosted</b>: <span>True</span></p>\n",
       "          </div>\n",
       "          <div class=\"col-2 offset-sm-3 pull-right\">\n",
       "            <a href=\"https://oceandata.sci.gsfc.nasa.gov/browse_images/AQUA_MODIS.20201016T192500.L2.OC.nc.png\"><img style=\"max-height: 120px;\" src=\"https://oceandata.sci.gsfc.nasa.gov/browse_images/AQUA_MODIS.20201016T192500.L2.OC.nc.png\" alt=\"Data Preview\"/></a>\n",
       "          </div>\n",
       "        </div>\n",
       "      </div>\n",
       "    </div>\n",
       "    "
      ],
      "text/plain": [
       "Collection: {'Version': '2022.0', 'ShortName': 'MODISA_L2_OC'}\n",
       "Spatial coverage: {'HorizontalSpatialDomain': {'Geometry': {'GPolygons': [{'Boundary': {'Points': [{'Latitude': 47.42275, 'Longitude': -81.93353}, {'Latitude': 43.2218, 'Longitude': -111.34791}, {'Latitude': 26.0838, 'Longitude': -103.24541}, {'Latitude': 29.41412, 'Longitude': -79.92866}, {'Latitude': 47.42275, 'Longitude': -81.93353}]}}]}}}\n",
       "Temporal coverage: {'RangeDateTime': {'BeginningDateTime': '2020-10-16T19:25:00Z', 'EndingDateTime': '2020-10-16T19:29:59Z'}}\n",
       "Size(MB): 26.07148551940918\n",
       "Data: ['https://obdaac-tea.earthdatacloud.nasa.gov/ob-cumulus-prod-public/AQUA_MODIS.20201016T192500.L2.OC.nc']"
      ]
     },
     "execution_count": 7,
     "metadata": {},
     "output_type": "execute_result"
    }
   ],
   "source": [
    "results[0]"
   ]
  },
  {
   "cell_type": "markdown",
   "id": "0bd13a71",
   "metadata": {},
   "source": [
    "Or we could use the `data_links` and `size` methods provided on each result."
   ]
  },
  {
   "cell_type": "code",
   "execution_count": 8,
   "id": "4ae6315f",
   "metadata": {},
   "outputs": [
    {
     "data": {
      "application/json": [
       {
        "links": [
         "https://obdaac-tea.earthdatacloud.nasa.gov/ob-cumulus-prod-public/AQUA_MODIS.20201016T192500.L2.OC.nc"
        ],
        "size (MB):": 26.07148551940918
       },
       {
        "links": [
         "https://obdaac-tea.earthdatacloud.nasa.gov/ob-cumulus-prod-public/AQUA_MODIS.20201017T183001.L2.OC.nc"
        ],
        "size (MB):": 33.06710910797119
       }
      ],
      "text/plain": [
       "<IPython.core.display.JSON object>"
      ]
     },
     "execution_count": 8,
     "metadata": {
      "application/json": {
       "expanded": true,
       "root": "root"
      }
     },
     "output_type": "execute_result"
    }
   ],
   "source": [
    "data_links = [{\"links\": i.data_links(), \"size (MB):\": i.size()} for i in results]\n",
    "JSON(data_links, expanded=True)"
   ]
  },
  {
   "cell_type": "markdown",
   "id": "f5c7cc7e",
   "metadata": {},
   "source": [
    "Or we can interactively inspect all the fields underlying a result."
   ]
  },
  {
   "cell_type": "code",
   "execution_count": 9,
   "id": "6dc1be94",
   "metadata": {},
   "outputs": [
    {
     "data": {
      "application/json": [
       {
        "meta": {
         "collection-concept-id": "C3380708980-OB_CLOUD",
         "concept-id": "G3486027968-OB_CLOUD",
         "concept-type": "granule",
         "format": "application/vnd.nasa.cmr.umm+json",
         "native-id": "MODISA_L2_OC_AQUA_MODIS.20201016T192500.L2.OC.nc_2022.0",
         "provider-id": "OB_CLOUD",
         "revision-date": "2025-04-08T17:45:39.817Z",
         "revision-id": 1
        },
        "size": 26.07148551940918,
        "umm": {
         "CloudCover": 40.2,
         "CollectionReference": {
          "ShortName": "MODISA_L2_OC",
          "Version": "2022.0"
         },
         "DataGranule": {
          "ArchiveAndDistributionInformation": [
           {
            "Format": "netCDF-4",
            "MimeType": "application/x-netcdf",
            "Name": "AQUA_MODIS.20201016T192500.L2.OC.nc",
            "SizeInBytes": 27337934
           }
          ],
          "DayNightFlag": "Day",
          "Identifiers": [
           {
            "Identifier": "AQUA_MODIS.20201016T192500.L2.OC.nc",
            "IdentifierType": "ProducerGranuleId"
           }
          ],
          "ProductionDateTime": "2022-09-09T07:34:02.166Z"
         },
         "GranuleUR": "MODISA_L2_OC_AQUA_MODIS.20201016T192500.L2.OC.nc_2022.0",
         "MetadataSpecification": {
          "Name": "UMM-G",
          "URL": "https://cdn.earthdata.nasa.gov/umm/granule/v1.6.6",
          "Version": "1.6.6"
         },
         "Platforms": [
          {
           "Instruments": [
            {
             "ShortName": "MODIS"
            }
           ],
           "ShortName": "AQUA"
          }
         ],
         "ProviderDates": [
          {
           "Date": "2025-04-08T08:36:07Z",
           "Type": "Insert"
          },
          {
           "Date": "2025-04-07T11:18:51.650Z",
           "Type": "Update"
          }
         ],
         "RelatedUrls": [
          {
           "Format": "PNG",
           "MimeType": "image/png",
           "Type": "GET RELATED VISUALIZATION",
           "URL": "https://oceandata.sci.gsfc.nasa.gov/browse_images/AQUA_MODIS.20201016T192500.L2.OC.nc.png"
          },
          {
           "Description": "Download AQUA_MODIS.20201016T192500.L2.OC.nc",
           "Type": "GET DATA",
           "URL": "https://obdaac-tea.earthdatacloud.nasa.gov/ob-cumulus-prod-public/AQUA_MODIS.20201016T192500.L2.OC.nc"
          },
          {
           "Description": "This link provides direct download access via S3 to the granule",
           "Type": "GET DATA VIA DIRECT ACCESS",
           "URL": "s3://ob-cumulus-prod-public/AQUA_MODIS.20201016T192500.L2.OC.nc"
          },
          {
           "Description": "api endpoint to retrieve temporary credentials valid for same-region direct s3 access",
           "Type": "VIEW RELATED INFORMATION",
           "URL": "https://obdaac-tea.earthdatacloud.nasa.gov/s3credentials"
          }
         ],
         "SpatialExtent": {
          "HorizontalSpatialDomain": {
           "Geometry": {
            "GPolygons": [
             {
              "Boundary": {
               "Points": [
                {
                 "Latitude": 47.42275,
                 "Longitude": -81.93353
                },
                {
                 "Latitude": 43.2218,
                 "Longitude": -111.34791
                },
                {
                 "Latitude": 26.0838,
                 "Longitude": -103.24541
                },
                {
                 "Latitude": 29.41412,
                 "Longitude": -79.92866
                },
                {
                 "Latitude": 47.42275,
                 "Longitude": -81.93353
                }
               ]
              }
             }
            ]
           }
          }
         },
         "TemporalExtent": {
          "RangeDateTime": {
           "BeginningDateTime": "2020-10-16T19:25:00Z",
           "EndingDateTime": "2020-10-16T19:29:59Z"
          }
         }
        }
       },
       {
        "meta": {
         "collection-concept-id": "C3380708980-OB_CLOUD",
         "concept-id": "G3497480966-OB_CLOUD",
         "concept-type": "granule",
         "format": "application/vnd.nasa.cmr.umm+json",
         "native-id": "MODISA_L2_OC_AQUA_MODIS.20201017T183001.L2.OC.nc_2022.0",
         "provider-id": "OB_CLOUD",
         "revision-date": "2025-04-17T02:21:08.318Z",
         "revision-id": 1
        },
        "size": 33.06710910797119,
        "umm": {
         "CloudCover": 49.9,
         "CollectionReference": {
          "ShortName": "MODISA_L2_OC",
          "Version": "2022.0"
         },
         "DataGranule": {
          "ArchiveAndDistributionInformation": [
           {
            "Format": "netCDF-4",
            "MimeType": "application/x-netcdf",
            "Name": "AQUA_MODIS.20201017T183001.L2.OC.nc",
            "SizeInBytes": 34673377
           }
          ],
          "DayNightFlag": "Day",
          "Identifiers": [
           {
            "Identifier": "AQUA_MODIS.20201017T183001.L2.OC.nc",
            "IdentifierType": "ProducerGranuleId"
           }
          ],
          "ProductionDateTime": "2022-09-09T07:36:00.533Z"
         },
         "GranuleUR": "MODISA_L2_OC_AQUA_MODIS.20201017T183001.L2.OC.nc_2022.0",
         "MetadataSpecification": {
          "Name": "UMM-G",
          "URL": "https://cdn.earthdata.nasa.gov/umm/granule/v1.6.6",
          "Version": "1.6.6"
         },
         "Platforms": [
          {
           "Instruments": [
            {
             "ShortName": "MODIS"
            }
           ],
           "ShortName": "AQUA"
          }
         ],
         "ProviderDates": [
          {
           "Date": "2025-04-17T01:45:56Z",
           "Type": "Insert"
          },
          {
           "Date": "2025-04-07T11:18:56.336Z",
           "Type": "Update"
          }
         ],
         "RelatedUrls": [
          {
           "Format": "PNG",
           "MimeType": "image/png",
           "Type": "GET RELATED VISUALIZATION",
           "URL": "https://oceandata.sci.gsfc.nasa.gov/browse_images/AQUA_MODIS.20201017T183001.L2.OC.nc.png"
          },
          {
           "Description": "Download AQUA_MODIS.20201017T183001.L2.OC.nc",
           "Type": "GET DATA",
           "URL": "https://obdaac-tea.earthdatacloud.nasa.gov/ob-cumulus-prod-public/AQUA_MODIS.20201017T183001.L2.OC.nc"
          },
          {
           "Description": "This link provides direct download access via S3 to the granule",
           "Type": "GET DATA VIA DIRECT ACCESS",
           "URL": "s3://ob-cumulus-prod-public/AQUA_MODIS.20201017T183001.L2.OC.nc"
          },
          {
           "Description": "api endpoint to retrieve temporary credentials valid for same-region direct s3 access",
           "Type": "VIEW RELATED INFORMATION",
           "URL": "https://obdaac-tea.earthdatacloud.nasa.gov/s3credentials"
          }
         ],
         "SpatialExtent": {
          "HorizontalSpatialDomain": {
           "Geometry": {
            "GPolygons": [
             {
              "Boundary": {
               "Points": [
                {
                 "Latitude": 49.73923,
                 "Longitude": -68.20299
                },
                {
                 "Latitude": 45.35789,
                 "Longitude": -98.85613
                },
                {
                 "Latitude": 28.3291,
                 "Longitude": -90.18257
                },
                {
                 "Latitude": 31.73631,
                 "Longitude": -66.33559
                },
                {
                 "Latitude": 49.73923,
                 "Longitude": -68.20299
                }
               ]
              }
             }
            ]
           }
          }
         },
         "TemporalExtent": {
          "RangeDateTime": {
           "BeginningDateTime": "2020-10-17T18:30:01Z",
           "EndingDateTime": "2020-10-17T18:35:00Z"
          }
         }
        }
       }
      ],
      "text/plain": [
       "<IPython.core.display.JSON object>"
      ]
     },
     "execution_count": 9,
     "metadata": {
      "application/json": {
       "expanded": false,
       "root": "root"
      }
     },
     "output_type": "execute_result"
    }
   ],
   "source": [
    "JSON(results)"
   ]
  },
  {
   "cell_type": "markdown",
   "id": "ee212f51-709f-4ea0-861b-d7cbde35272d",
   "metadata": {},
   "source": [
    "[back to top](#contents) <a name=\"download\"></a>"
   ]
  },
  {
   "cell_type": "markdown",
   "id": "f6d78396",
   "metadata": {},
   "source": [
    "## 4. Download Data\n",
    "\n",
    "Since the data are not hosted in the Earthdata Cloud (see output from `results[0]` above), we need to download files. This will download the data in a folder called \"data\" in your working directory."
   ]
  },
  {
   "cell_type": "code",
   "execution_count": 10,
   "id": "07bec39b",
   "metadata": {},
   "outputs": [
    {
     "name": "stderr",
     "output_type": "stream",
     "text": [
      "QUEUEING TASKS | : 100%|████████████████████████| 2/2 [00:00<00:00, 5074.78it/s]\n",
      "PROCESSING TASKS | : 100%|█████████████████████| 2/2 [00:00<00:00, 20360.70it/s]\n",
      "COLLECTING RESULTS | : 100%|███████████████████| 2/2 [00:00<00:00, 41734.37it/s]\n"
     ]
    }
   ],
   "source": [
    "paths = earthaccess.download(results, \"data\")"
   ]
  },
  {
   "cell_type": "markdown",
   "id": "97cd4f7d-fcee-4291-bbed-27dace02c23e",
   "metadata": {},
   "source": [
    "[back to top](#contents) <a name=\"plot\"></a>"
   ]
  },
  {
   "cell_type": "markdown",
   "id": "5647af3a",
   "metadata": {},
   "source": [
    "## 5. Plot Data\n",
    "\n",
    "Step-by-step, we'll build a nice map showing the log-transformed chlorophyll a estimate for the first granule we\n",
    "downloaded. The first step is to open some of the \"groups\" present within the NetCDF files to begin preparing\n",
    "a variable to plot."
   ]
  },
  {
   "cell_type": "code",
   "execution_count": 11,
   "id": "874f522b",
   "metadata": {},
   "outputs": [],
   "source": [
    "prod = xr.open_dataset(paths[0])\n",
    "obs = xr.open_dataset(paths[0], group=\"geophysical_data\")\n",
    "nav = xr.open_dataset(paths[0], group=\"navigation_data\")"
   ]
  },
  {
   "cell_type": "markdown",
   "id": "07445d38",
   "metadata": {},
   "source": [
    "The \"navigation_data\" group has geospatial coordinates that we merge into the \"geophysical_data\" group, which has the\n",
    "\"chlor_a\" product."
   ]
  },
  {
   "cell_type": "code",
   "execution_count": 12,
   "id": "22100a36",
   "metadata": {},
   "outputs": [],
   "source": [
    "nav = (\n",
    "    nav\n",
    "    .set_coords((\"longitude\", \"latitude\"))\n",
    "    .rename({\"pixel_control_points\": \"pixels_per_line\"})\n",
    ")\n",
    "dataset = xr.merge((prod, obs, nav.coords))"
   ]
  },
  {
   "cell_type": "code",
   "execution_count": 22,
   "id": "4cc5a6bb-a861-4771-8c72-f92a2c252286",
   "metadata": {},
   "outputs": [
    {
     "data": {
      "text/html": [
       "<div><svg style=\"position: absolute; width: 0; height: 0; overflow: hidden\">\n",
       "<defs>\n",
       "<symbol id=\"icon-database\" viewBox=\"0 0 32 32\">\n",
       "<path d=\"M16 0c-8.837 0-16 2.239-16 5v4c0 2.761 7.163 5 16 5s16-2.239 16-5v-4c0-2.761-7.163-5-16-5z\"></path>\n",
       "<path d=\"M16 17c-8.837 0-16-2.239-16-5v6c0 2.761 7.163 5 16 5s16-2.239 16-5v-6c0 2.761-7.163 5-16 5z\"></path>\n",
       "<path d=\"M16 26c-8.837 0-16-2.239-16-5v6c0 2.761 7.163 5 16 5s16-2.239 16-5v-6c0 2.761-7.163 5-16 5z\"></path>\n",
       "</symbol>\n",
       "<symbol id=\"icon-file-text2\" viewBox=\"0 0 32 32\">\n",
       "<path d=\"M28.681 7.159c-0.694-0.947-1.662-2.053-2.724-3.116s-2.169-2.030-3.116-2.724c-1.612-1.182-2.393-1.319-2.841-1.319h-15.5c-1.378 0-2.5 1.121-2.5 2.5v27c0 1.378 1.122 2.5 2.5 2.5h23c1.378 0 2.5-1.122 2.5-2.5v-19.5c0-0.448-0.137-1.23-1.319-2.841zM24.543 5.457c0.959 0.959 1.712 1.825 2.268 2.543h-4.811v-4.811c0.718 0.556 1.584 1.309 2.543 2.268zM28 29.5c0 0.271-0.229 0.5-0.5 0.5h-23c-0.271 0-0.5-0.229-0.5-0.5v-27c0-0.271 0.229-0.5 0.5-0.5 0 0 15.499-0 15.5 0v7c0 0.552 0.448 1 1 1h7v19.5z\"></path>\n",
       "<path d=\"M23 26h-14c-0.552 0-1-0.448-1-1s0.448-1 1-1h14c0.552 0 1 0.448 1 1s-0.448 1-1 1z\"></path>\n",
       "<path d=\"M23 22h-14c-0.552 0-1-0.448-1-1s0.448-1 1-1h14c0.552 0 1 0.448 1 1s-0.448 1-1 1z\"></path>\n",
       "<path d=\"M23 18h-14c-0.552 0-1-0.448-1-1s0.448-1 1-1h14c0.552 0 1 0.448 1 1s-0.448 1-1 1z\"></path>\n",
       "</symbol>\n",
       "</defs>\n",
       "</svg>\n",
       "<style>/* CSS stylesheet for displaying xarray objects in jupyterlab.\n",
       " *\n",
       " */\n",
       "\n",
       ":root {\n",
       "  --xr-font-color0: var(\n",
       "    --jp-content-font-color0,\n",
       "    var(--pst-color-text-base rgba(0, 0, 0, 1))\n",
       "  );\n",
       "  --xr-font-color2: var(\n",
       "    --jp-content-font-color2,\n",
       "    var(--pst-color-text-base, rgba(0, 0, 0, 0.54))\n",
       "  );\n",
       "  --xr-font-color3: var(\n",
       "    --jp-content-font-color3,\n",
       "    var(--pst-color-text-base, rgba(0, 0, 0, 0.38))\n",
       "  );\n",
       "  --xr-border-color: var(\n",
       "    --jp-border-color2,\n",
       "    hsl(from var(--pst-color-on-background, white) h s calc(l - 10))\n",
       "  );\n",
       "  --xr-disabled-color: var(\n",
       "    --jp-layout-color3,\n",
       "    hsl(from var(--pst-color-on-background, white) h s calc(l - 40))\n",
       "  );\n",
       "  --xr-background-color: var(\n",
       "    --jp-layout-color0,\n",
       "    var(--pst-color-on-background, white)\n",
       "  );\n",
       "  --xr-background-color-row-even: var(\n",
       "    --jp-layout-color1,\n",
       "    hsl(from var(--pst-color-on-background, white) h s calc(l - 5))\n",
       "  );\n",
       "  --xr-background-color-row-odd: var(\n",
       "    --jp-layout-color2,\n",
       "    hsl(from var(--pst-color-on-background, white) h s calc(l - 15))\n",
       "  );\n",
       "}\n",
       "\n",
       "html[theme=\"dark\"],\n",
       "html[data-theme=\"dark\"],\n",
       "body[data-theme=\"dark\"],\n",
       "body.vscode-dark {\n",
       "  --xr-font-color0: var(\n",
       "    --jp-content-font-color0,\n",
       "    var(--pst-color-text-base, rgba(255, 255, 255, 1))\n",
       "  );\n",
       "  --xr-font-color2: var(\n",
       "    --jp-content-font-color2,\n",
       "    var(--pst-color-text-base, rgba(255, 255, 255, 0.54))\n",
       "  );\n",
       "  --xr-font-color3: var(\n",
       "    --jp-content-font-color3,\n",
       "    var(--pst-color-text-base, rgba(255, 255, 255, 0.38))\n",
       "  );\n",
       "  --xr-border-color: var(\n",
       "    --jp-border-color2,\n",
       "    hsl(from var(--pst-color-on-background, #111111) h s calc(l + 10))\n",
       "  );\n",
       "  --xr-disabled-color: var(\n",
       "    --jp-layout-color3,\n",
       "    hsl(from var(--pst-color-on-background, #111111) h s calc(l + 40))\n",
       "  );\n",
       "  --xr-background-color: var(\n",
       "    --jp-layout-color0,\n",
       "    var(--pst-color-on-background, #111111)\n",
       "  );\n",
       "  --xr-background-color-row-even: var(\n",
       "    --jp-layout-color1,\n",
       "    hsl(from var(--pst-color-on-background, #111111) h s calc(l + 5))\n",
       "  );\n",
       "  --xr-background-color-row-odd: var(\n",
       "    --jp-layout-color2,\n",
       "    hsl(from var(--pst-color-on-background, #111111) h s calc(l + 15))\n",
       "  );\n",
       "}\n",
       "\n",
       ".xr-wrap {\n",
       "  display: block !important;\n",
       "  min-width: 300px;\n",
       "  max-width: 700px;\n",
       "}\n",
       "\n",
       ".xr-text-repr-fallback {\n",
       "  /* fallback to plain text repr when CSS is not injected (untrusted notebook) */\n",
       "  display: none;\n",
       "}\n",
       "\n",
       ".xr-header {\n",
       "  padding-top: 6px;\n",
       "  padding-bottom: 6px;\n",
       "  margin-bottom: 4px;\n",
       "  border-bottom: solid 1px var(--xr-border-color);\n",
       "}\n",
       "\n",
       ".xr-header > div,\n",
       ".xr-header > ul {\n",
       "  display: inline;\n",
       "  margin-top: 0;\n",
       "  margin-bottom: 0;\n",
       "}\n",
       "\n",
       ".xr-obj-type,\n",
       ".xr-array-name {\n",
       "  margin-left: 2px;\n",
       "  margin-right: 10px;\n",
       "}\n",
       "\n",
       ".xr-obj-type {\n",
       "  color: var(--xr-font-color2);\n",
       "}\n",
       "\n",
       ".xr-sections {\n",
       "  padding-left: 0 !important;\n",
       "  display: grid;\n",
       "  grid-template-columns: 150px auto auto 1fr 0 20px 0 20px;\n",
       "}\n",
       "\n",
       ".xr-section-item {\n",
       "  display: contents;\n",
       "}\n",
       "\n",
       ".xr-section-item input {\n",
       "  display: inline-block;\n",
       "  opacity: 0;\n",
       "  height: 0;\n",
       "}\n",
       "\n",
       ".xr-section-item input + label {\n",
       "  color: var(--xr-disabled-color);\n",
       "  border: 2px solid transparent !important;\n",
       "}\n",
       "\n",
       ".xr-section-item input:enabled + label {\n",
       "  cursor: pointer;\n",
       "  color: var(--xr-font-color2);\n",
       "}\n",
       "\n",
       ".xr-section-item input:focus + label {\n",
       "  border: 2px solid var(--xr-font-color0) !important;\n",
       "}\n",
       "\n",
       ".xr-section-item input:enabled + label:hover {\n",
       "  color: var(--xr-font-color0);\n",
       "}\n",
       "\n",
       ".xr-section-summary {\n",
       "  grid-column: 1;\n",
       "  color: var(--xr-font-color2);\n",
       "  font-weight: 500;\n",
       "}\n",
       "\n",
       ".xr-section-summary > span {\n",
       "  display: inline-block;\n",
       "  padding-left: 0.5em;\n",
       "}\n",
       "\n",
       ".xr-section-summary-in:disabled + label {\n",
       "  color: var(--xr-font-color2);\n",
       "}\n",
       "\n",
       ".xr-section-summary-in + label:before {\n",
       "  display: inline-block;\n",
       "  content: \"►\";\n",
       "  font-size: 11px;\n",
       "  width: 15px;\n",
       "  text-align: center;\n",
       "}\n",
       "\n",
       ".xr-section-summary-in:disabled + label:before {\n",
       "  color: var(--xr-disabled-color);\n",
       "}\n",
       "\n",
       ".xr-section-summary-in:checked + label:before {\n",
       "  content: \"▼\";\n",
       "}\n",
       "\n",
       ".xr-section-summary-in:checked + label > span {\n",
       "  display: none;\n",
       "}\n",
       "\n",
       ".xr-section-summary,\n",
       ".xr-section-inline-details {\n",
       "  padding-top: 4px;\n",
       "  padding-bottom: 4px;\n",
       "}\n",
       "\n",
       ".xr-section-inline-details {\n",
       "  grid-column: 2 / -1;\n",
       "}\n",
       "\n",
       ".xr-section-details {\n",
       "  display: none;\n",
       "  grid-column: 1 / -1;\n",
       "  margin-bottom: 5px;\n",
       "}\n",
       "\n",
       ".xr-section-summary-in:checked ~ .xr-section-details {\n",
       "  display: contents;\n",
       "}\n",
       "\n",
       ".xr-array-wrap {\n",
       "  grid-column: 1 / -1;\n",
       "  display: grid;\n",
       "  grid-template-columns: 20px auto;\n",
       "}\n",
       "\n",
       ".xr-array-wrap > label {\n",
       "  grid-column: 1;\n",
       "  vertical-align: top;\n",
       "}\n",
       "\n",
       ".xr-preview {\n",
       "  color: var(--xr-font-color3);\n",
       "}\n",
       "\n",
       ".xr-array-preview,\n",
       ".xr-array-data {\n",
       "  padding: 0 5px !important;\n",
       "  grid-column: 2;\n",
       "}\n",
       "\n",
       ".xr-array-data,\n",
       ".xr-array-in:checked ~ .xr-array-preview {\n",
       "  display: none;\n",
       "}\n",
       "\n",
       ".xr-array-in:checked ~ .xr-array-data,\n",
       ".xr-array-preview {\n",
       "  display: inline-block;\n",
       "}\n",
       "\n",
       ".xr-dim-list {\n",
       "  display: inline-block !important;\n",
       "  list-style: none;\n",
       "  padding: 0 !important;\n",
       "  margin: 0;\n",
       "}\n",
       "\n",
       ".xr-dim-list li {\n",
       "  display: inline-block;\n",
       "  padding: 0;\n",
       "  margin: 0;\n",
       "}\n",
       "\n",
       ".xr-dim-list:before {\n",
       "  content: \"(\";\n",
       "}\n",
       "\n",
       ".xr-dim-list:after {\n",
       "  content: \")\";\n",
       "}\n",
       "\n",
       ".xr-dim-list li:not(:last-child):after {\n",
       "  content: \",\";\n",
       "  padding-right: 5px;\n",
       "}\n",
       "\n",
       ".xr-has-index {\n",
       "  font-weight: bold;\n",
       "}\n",
       "\n",
       ".xr-var-list,\n",
       ".xr-var-item {\n",
       "  display: contents;\n",
       "}\n",
       "\n",
       ".xr-var-item > div,\n",
       ".xr-var-item label,\n",
       ".xr-var-item > .xr-var-name span {\n",
       "  background-color: var(--xr-background-color-row-even);\n",
       "  border-color: var(--xr-background-color-row-odd);\n",
       "  margin-bottom: 0;\n",
       "  padding-top: 2px;\n",
       "}\n",
       "\n",
       ".xr-var-item > .xr-var-name:hover span {\n",
       "  padding-right: 5px;\n",
       "}\n",
       "\n",
       ".xr-var-list > li:nth-child(odd) > div,\n",
       ".xr-var-list > li:nth-child(odd) > label,\n",
       ".xr-var-list > li:nth-child(odd) > .xr-var-name span {\n",
       "  background-color: var(--xr-background-color-row-odd);\n",
       "  border-color: var(--xr-background-color-row-even);\n",
       "}\n",
       "\n",
       ".xr-var-name {\n",
       "  grid-column: 1;\n",
       "}\n",
       "\n",
       ".xr-var-dims {\n",
       "  grid-column: 2;\n",
       "}\n",
       "\n",
       ".xr-var-dtype {\n",
       "  grid-column: 3;\n",
       "  text-align: right;\n",
       "  color: var(--xr-font-color2);\n",
       "}\n",
       "\n",
       ".xr-var-preview {\n",
       "  grid-column: 4;\n",
       "}\n",
       "\n",
       ".xr-index-preview {\n",
       "  grid-column: 2 / 5;\n",
       "  color: var(--xr-font-color2);\n",
       "}\n",
       "\n",
       ".xr-var-name,\n",
       ".xr-var-dims,\n",
       ".xr-var-dtype,\n",
       ".xr-preview,\n",
       ".xr-attrs dt {\n",
       "  white-space: nowrap;\n",
       "  overflow: hidden;\n",
       "  text-overflow: ellipsis;\n",
       "  padding-right: 10px;\n",
       "}\n",
       "\n",
       ".xr-var-name:hover,\n",
       ".xr-var-dims:hover,\n",
       ".xr-var-dtype:hover,\n",
       ".xr-attrs dt:hover {\n",
       "  overflow: visible;\n",
       "  width: auto;\n",
       "  z-index: 1;\n",
       "}\n",
       "\n",
       ".xr-var-attrs,\n",
       ".xr-var-data,\n",
       ".xr-index-data {\n",
       "  display: none;\n",
       "  border-top: 2px dotted var(--xr-background-color);\n",
       "  padding-bottom: 20px !important;\n",
       "  padding-top: 10px !important;\n",
       "}\n",
       "\n",
       ".xr-var-attrs-in + label,\n",
       ".xr-var-data-in + label,\n",
       ".xr-index-data-in + label {\n",
       "  padding: 0 1px;\n",
       "}\n",
       "\n",
       ".xr-var-attrs-in:checked ~ .xr-var-attrs,\n",
       ".xr-var-data-in:checked ~ .xr-var-data,\n",
       ".xr-index-data-in:checked ~ .xr-index-data {\n",
       "  display: block;\n",
       "}\n",
       "\n",
       ".xr-var-data > table {\n",
       "  float: right;\n",
       "}\n",
       "\n",
       ".xr-var-data > pre,\n",
       ".xr-index-data > pre,\n",
       ".xr-var-data > table > tbody > tr {\n",
       "  background-color: transparent !important;\n",
       "}\n",
       "\n",
       ".xr-var-name span,\n",
       ".xr-var-data,\n",
       ".xr-index-name div,\n",
       ".xr-index-data,\n",
       ".xr-attrs {\n",
       "  padding-left: 25px !important;\n",
       "}\n",
       "\n",
       ".xr-attrs,\n",
       ".xr-var-attrs,\n",
       ".xr-var-data,\n",
       ".xr-index-data {\n",
       "  grid-column: 1 / -1;\n",
       "}\n",
       "\n",
       "dl.xr-attrs {\n",
       "  padding: 0;\n",
       "  margin: 0;\n",
       "  display: grid;\n",
       "  grid-template-columns: 125px auto;\n",
       "}\n",
       "\n",
       ".xr-attrs dt,\n",
       ".xr-attrs dd {\n",
       "  padding: 0;\n",
       "  margin: 0;\n",
       "  float: left;\n",
       "  padding-right: 10px;\n",
       "  width: auto;\n",
       "}\n",
       "\n",
       ".xr-attrs dt {\n",
       "  font-weight: normal;\n",
       "  grid-column: 1;\n",
       "}\n",
       "\n",
       ".xr-attrs dt:hover span {\n",
       "  display: inline-block;\n",
       "  background: var(--xr-background-color);\n",
       "  padding-right: 10px;\n",
       "}\n",
       "\n",
       ".xr-attrs dd {\n",
       "  grid-column: 2;\n",
       "  white-space: pre-wrap;\n",
       "  word-break: break-all;\n",
       "}\n",
       "\n",
       ".xr-icon-database,\n",
       ".xr-icon-file-text2,\n",
       ".xr-no-icon {\n",
       "  display: inline-block;\n",
       "  vertical-align: middle;\n",
       "  width: 1em;\n",
       "  height: 1.5em !important;\n",
       "  stroke-width: 0;\n",
       "  stroke: currentColor;\n",
       "  fill: currentColor;\n",
       "}\n",
       "\n",
       ".xr-var-attrs-in:checked + label > .xr-icon-file-text2,\n",
       ".xr-var-data-in:checked + label > .xr-icon-database,\n",
       ".xr-index-data-in:checked + label > .xr-icon-database {\n",
       "  color: var(--xr-font-color0);\n",
       "  filter: drop-shadow(1px 1px 5px var(--xr-font-color2));\n",
       "  stroke-width: 0.8px;\n",
       "}\n",
       "</style><pre class='xr-text-repr-fallback'>&lt;xarray.Dataset&gt; Size: 242MB\n",
       "Dimensions:    (number_of_lines: 2030, pixels_per_line: 1354)\n",
       "Coordinates:\n",
       "    longitude  (number_of_lines, pixels_per_line) float32 11MB -79.93 ... -111.3\n",
       "    latitude   (number_of_lines, pixels_per_line) float32 11MB 29.41 ... 43.24\n",
       "Dimensions without coordinates: number_of_lines, pixels_per_line\n",
       "Data variables: (12/20)\n",
       "    aot_869    (number_of_lines, pixels_per_line) float32 11MB ...\n",
       "    angstrom   (number_of_lines, pixels_per_line) float32 11MB ...\n",
       "    Rrs_412    (number_of_lines, pixels_per_line) float32 11MB ...\n",
       "    Rrs_443    (number_of_lines, pixels_per_line) float32 11MB ...\n",
       "    Rrs_469    (number_of_lines, pixels_per_line) float32 11MB ...\n",
       "    Rrs_488    (number_of_lines, pixels_per_line) float32 11MB ...\n",
       "    ...         ...\n",
       "    pic        (number_of_lines, pixels_per_line) float32 11MB ...\n",
       "    poc        (number_of_lines, pixels_per_line) float32 11MB ...\n",
       "    ipar       (number_of_lines, pixels_per_line) float32 11MB ...\n",
       "    nflh       (number_of_lines, pixels_per_line) float32 11MB ...\n",
       "    par        (number_of_lines, pixels_per_line) float32 11MB ...\n",
       "    l2_flags   (number_of_lines, pixels_per_line) int32 11MB ...\n",
       "Attributes: (12/48)\n",
       "    title:                          MODISA Level-2 Data\n",
       "    product_name:                   AQUA_MODIS.20201016T192500.L2.OC.nc\n",
       "    processing_version:             R2022.0\n",
       "    equatorCrossingLongitude:       82.23992\n",
       "    orbit_number:                   98160\n",
       "    history:                        l2gen par=/data1/sdpsoper/vdc/vpu0/workbu...\n",
       "    ...                             ...\n",
       "    geospatial_lon_max:             -79.92866\n",
       "    geospatial_lon_min:             -111.34791\n",
       "    startDirection:                 Ascending\n",
       "    endDirection:                   Ascending\n",
       "    day_night_flag:                 Day\n",
       "    earth_sun_distance_correction:  1.0067232847213745</pre><div class='xr-wrap' style='display:none'><div class='xr-header'><div class='xr-obj-type'>xarray.Dataset</div></div><ul class='xr-sections'><li class='xr-section-item'><input id='section-8bd661ff-3d02-4850-9e9c-633f197f8fa6' class='xr-section-summary-in' type='checkbox' disabled ><label for='section-8bd661ff-3d02-4850-9e9c-633f197f8fa6' class='xr-section-summary'  title='Expand/collapse section'>Dimensions:</label><div class='xr-section-inline-details'><ul class='xr-dim-list'><li><span>number_of_lines</span>: 2030</li><li><span>pixels_per_line</span>: 1354</li></ul></div><div class='xr-section-details'></div></li><li class='xr-section-item'><input id='section-f7206047-b842-4242-8083-a98633d64620' class='xr-section-summary-in' type='checkbox'  checked><label for='section-f7206047-b842-4242-8083-a98633d64620' class='xr-section-summary' >Coordinates: <span>(2)</span></label><div class='xr-section-inline-details'></div><div class='xr-section-details'><ul class='xr-var-list'><li class='xr-var-item'><div class='xr-var-name'><span>longitude</span></div><div class='xr-var-dims'>(number_of_lines, pixels_per_line)</div><div class='xr-var-dtype'>float32</div><div class='xr-var-preview xr-preview'>-79.93 -79.98 ... -111.2 -111.3</div><input id='attrs-69123aa5-3b0c-4017-afbf-a82ad2f95dc1' class='xr-var-attrs-in' type='checkbox' ><label for='attrs-69123aa5-3b0c-4017-afbf-a82ad2f95dc1' title='Show/Hide attributes'><svg class='icon xr-icon-file-text2'><use xlink:href='#icon-file-text2'></use></svg></label><input id='data-ceb5b397-248d-448c-96e8-7e13edce1444' class='xr-var-data-in' type='checkbox'><label for='data-ceb5b397-248d-448c-96e8-7e13edce1444' title='Show/Hide data repr'><svg class='icon xr-icon-database'><use xlink:href='#icon-database'></use></svg></label><div class='xr-var-attrs'><dl class='xr-attrs'><dt><span>long_name :</span></dt><dd>Longitude</dd><dt><span>units :</span></dt><dd>degrees_east</dd><dt><span>standard_name :</span></dt><dd>longitude</dd><dt><span>valid_min :</span></dt><dd>-180.0</dd><dt><span>valid_max :</span></dt><dd>180.0</dd></dl></div><div class='xr-var-data'><pre>array([[ -79.92866 ,  -79.978065,  -80.02709 , ..., -103.130714, -103.17495 ,\n",
       "        -103.222305],\n",
       "       [ -79.92987 ,  -79.97929 ,  -80.02831 , ..., -103.135605, -103.179085,\n",
       "        -103.227234],\n",
       "       [ -79.93107 ,  -79.98049 ,  -80.029526, ..., -103.14084 , -103.18308 ,\n",
       "        -103.23164 ],\n",
       "       ...,\n",
       "       [ -81.94552 ,  -82.00942 ,  -82.07307 , ..., -111.16721 , -111.22107 ,\n",
       "        -111.27121 ],\n",
       "       [ -81.945305,  -82.010086,  -82.07319 , ..., -111.17449 , -111.23164 ,\n",
       "        -111.27227 ],\n",
       "       [ -81.945526,  -82.01032 ,  -82.07339 , ..., -111.18491 , -111.241104,\n",
       "        -111.28044 ]], dtype=float32)</pre></div></li><li class='xr-var-item'><div class='xr-var-name'><span>latitude</span></div><div class='xr-var-dims'>(number_of_lines, pixels_per_line)</div><div class='xr-var-dtype'>float32</div><div class='xr-var-preview xr-preview'>29.41 29.41 29.41 ... 43.25 43.24</div><input id='attrs-5398f004-b9fc-4b7a-a481-0842a9cd9495' class='xr-var-attrs-in' type='checkbox' ><label for='attrs-5398f004-b9fc-4b7a-a481-0842a9cd9495' title='Show/Hide attributes'><svg class='icon xr-icon-file-text2'><use xlink:href='#icon-file-text2'></use></svg></label><input id='data-33d3c4d9-6d38-498b-b5bb-6e9e673c9fd5' class='xr-var-data-in' type='checkbox'><label for='data-33d3c4d9-6d38-498b-b5bb-6e9e673c9fd5' title='Show/Hide data repr'><svg class='icon xr-icon-database'><use xlink:href='#icon-database'></use></svg></label><div class='xr-var-attrs'><dl class='xr-attrs'><dt><span>long_name :</span></dt><dd>Latitude</dd><dt><span>units :</span></dt><dd>degrees_north</dd><dt><span>standard_name :</span></dt><dd>latitude</dd><dt><span>valid_min :</span></dt><dd>-90.0</dd><dt><span>valid_max :</span></dt><dd>90.0</dd></dl></div><div class='xr-var-data'><pre>array([[29.414118, 29.411684, 29.409252, ..., 26.111265, 26.100683, 26.089334],\n",
       "       [29.432163, 29.429674, 29.427185, ..., 26.128607, 26.118258, 26.106781],\n",
       "       [29.450209, 29.447664, 29.44512 , ..., 26.145864, 26.13586 , 26.124346],\n",
       "       ...,\n",
       "       [47.386322, 47.38564 , 47.384922, ..., 43.23497 , 43.219448, 43.204956],\n",
       "       [47.404453, 47.4037  , 47.40294 , ..., 43.252113, 43.23571 , 43.223988],\n",
       "       [47.422577, 47.421772, 47.42095 , ..., 43.268368, 43.252293, 43.240967]],\n",
       "      dtype=float32)</pre></div></li></ul></div></li><li class='xr-section-item'><input id='section-2e0fe5c4-b480-401f-a79f-75a56e357147' class='xr-section-summary-in' type='checkbox'  ><label for='section-2e0fe5c4-b480-401f-a79f-75a56e357147' class='xr-section-summary' >Data variables: <span>(20)</span></label><div class='xr-section-inline-details'></div><div class='xr-section-details'><ul class='xr-var-list'><li class='xr-var-item'><div class='xr-var-name'><span>aot_869</span></div><div class='xr-var-dims'>(number_of_lines, pixels_per_line)</div><div class='xr-var-dtype'>float32</div><div class='xr-var-preview xr-preview'>...</div><input id='attrs-0c5102c0-35bb-4560-92c7-5042d68d8d4a' class='xr-var-attrs-in' type='checkbox' ><label for='attrs-0c5102c0-35bb-4560-92c7-5042d68d8d4a' title='Show/Hide attributes'><svg class='icon xr-icon-file-text2'><use xlink:href='#icon-file-text2'></use></svg></label><input id='data-52262389-3565-4ea7-93d4-8635c7843f30' class='xr-var-data-in' type='checkbox'><label for='data-52262389-3565-4ea7-93d4-8635c7843f30' title='Show/Hide data repr'><svg class='icon xr-icon-database'><use xlink:href='#icon-database'></use></svg></label><div class='xr-var-attrs'><dl class='xr-attrs'><dt><span>long_name :</span></dt><dd>Aerosol optical thickness at 869 nm</dd><dt><span>standard_name :</span></dt><dd>atmosphere_optical_thickness_due_to_ambient_aerosol</dd><dt><span>valid_min :</span></dt><dd>0</dd><dt><span>valid_max :</span></dt><dd>30000</dd></dl></div><div class='xr-var-data'><pre>[2748620 values with dtype=float32]</pre></div></li><li class='xr-var-item'><div class='xr-var-name'><span>angstrom</span></div><div class='xr-var-dims'>(number_of_lines, pixels_per_line)</div><div class='xr-var-dtype'>float32</div><div class='xr-var-preview xr-preview'>...</div><input id='attrs-6e1a5c00-0b60-4caf-9a09-1baa5e2f3f27' class='xr-var-attrs-in' type='checkbox' ><label for='attrs-6e1a5c00-0b60-4caf-9a09-1baa5e2f3f27' title='Show/Hide attributes'><svg class='icon xr-icon-file-text2'><use xlink:href='#icon-file-text2'></use></svg></label><input id='data-01a29e2c-87ca-427b-91c6-b530aaec02b0' class='xr-var-data-in' type='checkbox'><label for='data-01a29e2c-87ca-427b-91c6-b530aaec02b0' title='Show/Hide data repr'><svg class='icon xr-icon-database'><use xlink:href='#icon-database'></use></svg></label><div class='xr-var-attrs'><dl class='xr-attrs'><dt><span>long_name :</span></dt><dd>Aerosol Angstrom exponent, 443 to 865 nm</dd><dt><span>standard_name :</span></dt><dd>aerosol_angstrom_exponent</dd><dt><span>valid_min :</span></dt><dd>-30000</dd><dt><span>valid_max :</span></dt><dd>5000</dd></dl></div><div class='xr-var-data'><pre>[2748620 values with dtype=float32]</pre></div></li><li class='xr-var-item'><div class='xr-var-name'><span>Rrs_412</span></div><div class='xr-var-dims'>(number_of_lines, pixels_per_line)</div><div class='xr-var-dtype'>float32</div><div class='xr-var-preview xr-preview'>...</div><input id='attrs-c4c55c53-52c4-44ad-9ebd-d5ab5bc38d9b' class='xr-var-attrs-in' type='checkbox' ><label for='attrs-c4c55c53-52c4-44ad-9ebd-d5ab5bc38d9b' title='Show/Hide attributes'><svg class='icon xr-icon-file-text2'><use xlink:href='#icon-file-text2'></use></svg></label><input id='data-6f9c7ae3-074e-4688-81de-155c1cf4f392' class='xr-var-data-in' type='checkbox'><label for='data-6f9c7ae3-074e-4688-81de-155c1cf4f392' title='Show/Hide data repr'><svg class='icon xr-icon-database'><use xlink:href='#icon-database'></use></svg></label><div class='xr-var-attrs'><dl class='xr-attrs'><dt><span>long_name :</span></dt><dd>Remote sensing reflectance at 412 nm</dd><dt><span>units :</span></dt><dd>sr^-1</dd><dt><span>standard_name :</span></dt><dd>surface_ratio_of_upwelling_radiance_emerging_from_sea_water_to_downwelling_radiative_flux_in_air</dd><dt><span>valid_min :</span></dt><dd>-30000</dd><dt><span>valid_max :</span></dt><dd>25000</dd><dt><span>solar_irradiance :</span></dt><dd>1711.8177</dd></dl></div><div class='xr-var-data'><pre>[2748620 values with dtype=float32]</pre></div></li><li class='xr-var-item'><div class='xr-var-name'><span>Rrs_443</span></div><div class='xr-var-dims'>(number_of_lines, pixels_per_line)</div><div class='xr-var-dtype'>float32</div><div class='xr-var-preview xr-preview'>...</div><input id='attrs-7de8be70-0cf7-4e5e-b26f-0e7c28d760b8' class='xr-var-attrs-in' type='checkbox' ><label for='attrs-7de8be70-0cf7-4e5e-b26f-0e7c28d760b8' title='Show/Hide attributes'><svg class='icon xr-icon-file-text2'><use xlink:href='#icon-file-text2'></use></svg></label><input id='data-afb809dd-b514-45ac-b606-f10a48add812' class='xr-var-data-in' type='checkbox'><label for='data-afb809dd-b514-45ac-b606-f10a48add812' title='Show/Hide data repr'><svg class='icon xr-icon-database'><use xlink:href='#icon-database'></use></svg></label><div class='xr-var-attrs'><dl class='xr-attrs'><dt><span>long_name :</span></dt><dd>Remote sensing reflectance at 443 nm</dd><dt><span>units :</span></dt><dd>sr^-1</dd><dt><span>standard_name :</span></dt><dd>surface_ratio_of_upwelling_radiance_emerging_from_sea_water_to_downwelling_radiative_flux_in_air</dd><dt><span>valid_min :</span></dt><dd>-30000</dd><dt><span>valid_max :</span></dt><dd>25000</dd><dt><span>solar_irradiance :</span></dt><dd>1887.5414</dd></dl></div><div class='xr-var-data'><pre>[2748620 values with dtype=float32]</pre></div></li><li class='xr-var-item'><div class='xr-var-name'><span>Rrs_469</span></div><div class='xr-var-dims'>(number_of_lines, pixels_per_line)</div><div class='xr-var-dtype'>float32</div><div class='xr-var-preview xr-preview'>...</div><input id='attrs-3e25ed71-9902-4b63-8005-7fcf2be0de22' class='xr-var-attrs-in' type='checkbox' ><label for='attrs-3e25ed71-9902-4b63-8005-7fcf2be0de22' title='Show/Hide attributes'><svg class='icon xr-icon-file-text2'><use xlink:href='#icon-file-text2'></use></svg></label><input id='data-ec99558f-4cd6-494f-8a6c-e9492ebaac92' class='xr-var-data-in' type='checkbox'><label for='data-ec99558f-4cd6-494f-8a6c-e9492ebaac92' title='Show/Hide data repr'><svg class='icon xr-icon-database'><use xlink:href='#icon-database'></use></svg></label><div class='xr-var-attrs'><dl class='xr-attrs'><dt><span>long_name :</span></dt><dd>Remote sensing reflectance at 469 nm</dd><dt><span>units :</span></dt><dd>sr^-1</dd><dt><span>standard_name :</span></dt><dd>surface_ratio_of_upwelling_radiance_emerging_from_sea_water_to_downwelling_radiative_flux_in_air</dd><dt><span>valid_min :</span></dt><dd>-30000</dd><dt><span>valid_max :</span></dt><dd>25000</dd><dt><span>solar_irradiance :</span></dt><dd>2035.2333</dd></dl></div><div class='xr-var-data'><pre>[2748620 values with dtype=float32]</pre></div></li><li class='xr-var-item'><div class='xr-var-name'><span>Rrs_488</span></div><div class='xr-var-dims'>(number_of_lines, pixels_per_line)</div><div class='xr-var-dtype'>float32</div><div class='xr-var-preview xr-preview'>...</div><input id='attrs-fc0e3109-a3bd-403d-8a15-e03181ba72ae' class='xr-var-attrs-in' type='checkbox' ><label for='attrs-fc0e3109-a3bd-403d-8a15-e03181ba72ae' title='Show/Hide attributes'><svg class='icon xr-icon-file-text2'><use xlink:href='#icon-file-text2'></use></svg></label><input id='data-ccfc419b-911d-43bd-bd8f-d2ed6dfab0fe' class='xr-var-data-in' type='checkbox'><label for='data-ccfc419b-911d-43bd-bd8f-d2ed6dfab0fe' title='Show/Hide data repr'><svg class='icon xr-icon-database'><use xlink:href='#icon-database'></use></svg></label><div class='xr-var-attrs'><dl class='xr-attrs'><dt><span>long_name :</span></dt><dd>Remote sensing reflectance at 488 nm</dd><dt><span>units :</span></dt><dd>sr^-1</dd><dt><span>standard_name :</span></dt><dd>surface_ratio_of_upwelling_radiance_emerging_from_sea_water_to_downwelling_radiative_flux_in_air</dd><dt><span>valid_min :</span></dt><dd>-30000</dd><dt><span>valid_max :</span></dt><dd>25000</dd><dt><span>solar_irradiance :</span></dt><dd>1941.784</dd></dl></div><div class='xr-var-data'><pre>[2748620 values with dtype=float32]</pre></div></li><li class='xr-var-item'><div class='xr-var-name'><span>Rrs_531</span></div><div class='xr-var-dims'>(number_of_lines, pixels_per_line)</div><div class='xr-var-dtype'>float32</div><div class='xr-var-preview xr-preview'>...</div><input id='attrs-0b99e4fb-ad6f-448c-aa0a-0d0ce3bba53c' class='xr-var-attrs-in' type='checkbox' ><label for='attrs-0b99e4fb-ad6f-448c-aa0a-0d0ce3bba53c' title='Show/Hide attributes'><svg class='icon xr-icon-file-text2'><use xlink:href='#icon-file-text2'></use></svg></label><input id='data-dbc9fc35-e299-4d9b-805c-835f5f353b06' class='xr-var-data-in' type='checkbox'><label for='data-dbc9fc35-e299-4d9b-805c-835f5f353b06' title='Show/Hide data repr'><svg class='icon xr-icon-database'><use xlink:href='#icon-database'></use></svg></label><div class='xr-var-attrs'><dl class='xr-attrs'><dt><span>long_name :</span></dt><dd>Remote sensing reflectance at 531 nm</dd><dt><span>units :</span></dt><dd>sr^-1</dd><dt><span>standard_name :</span></dt><dd>surface_ratio_of_upwelling_radiance_emerging_from_sea_water_to_downwelling_radiative_flux_in_air</dd><dt><span>valid_min :</span></dt><dd>-30000</dd><dt><span>valid_max :</span></dt><dd>25000</dd><dt><span>solar_irradiance :</span></dt><dd>1859.4445</dd></dl></div><div class='xr-var-data'><pre>[2748620 values with dtype=float32]</pre></div></li><li class='xr-var-item'><div class='xr-var-name'><span>Rrs_547</span></div><div class='xr-var-dims'>(number_of_lines, pixels_per_line)</div><div class='xr-var-dtype'>float32</div><div class='xr-var-preview xr-preview'>...</div><input id='attrs-2abc5497-8ada-41d7-9dec-74a12d4acc3f' class='xr-var-attrs-in' type='checkbox' ><label for='attrs-2abc5497-8ada-41d7-9dec-74a12d4acc3f' title='Show/Hide attributes'><svg class='icon xr-icon-file-text2'><use xlink:href='#icon-file-text2'></use></svg></label><input id='data-173fde27-115e-45f4-8661-8c86082eb3d2' class='xr-var-data-in' type='checkbox'><label for='data-173fde27-115e-45f4-8661-8c86082eb3d2' title='Show/Hide data repr'><svg class='icon xr-icon-database'><use xlink:href='#icon-database'></use></svg></label><div class='xr-var-attrs'><dl class='xr-attrs'><dt><span>long_name :</span></dt><dd>Remote sensing reflectance at 547 nm</dd><dt><span>units :</span></dt><dd>sr^-1</dd><dt><span>standard_name :</span></dt><dd>surface_ratio_of_upwelling_radiance_emerging_from_sea_water_to_downwelling_radiative_flux_in_air</dd><dt><span>valid_min :</span></dt><dd>-30000</dd><dt><span>valid_max :</span></dt><dd>25000</dd><dt><span>solar_irradiance :</span></dt><dd>1869.9834</dd></dl></div><div class='xr-var-data'><pre>[2748620 values with dtype=float32]</pre></div></li><li class='xr-var-item'><div class='xr-var-name'><span>Rrs_555</span></div><div class='xr-var-dims'>(number_of_lines, pixels_per_line)</div><div class='xr-var-dtype'>float32</div><div class='xr-var-preview xr-preview'>nan nan nan nan ... nan nan nan nan</div><input id='attrs-b4d789fa-818b-44a3-a52a-c5458b19c284' class='xr-var-attrs-in' type='checkbox' ><label for='attrs-b4d789fa-818b-44a3-a52a-c5458b19c284' title='Show/Hide attributes'><svg class='icon xr-icon-file-text2'><use xlink:href='#icon-file-text2'></use></svg></label><input id='data-0c77ad1f-67e6-466f-acd6-dac72fb123a0' class='xr-var-data-in' type='checkbox'><label for='data-0c77ad1f-67e6-466f-acd6-dac72fb123a0' title='Show/Hide data repr'><svg class='icon xr-icon-database'><use xlink:href='#icon-database'></use></svg></label><div class='xr-var-attrs'><dl class='xr-attrs'><dt><span>long_name :</span></dt><dd>Remote sensing reflectance at 555 nm</dd><dt><span>units :</span></dt><dd>(sr^-1)</dd><dt><span>standard_name :</span></dt><dd>surface_ratio_of_upwelling_radiance_emerging_from_sea_water_to_downwelling_radiative_flux_in_air</dd><dt><span>valid_min :</span></dt><dd>-30000</dd><dt><span>valid_max :</span></dt><dd>25000</dd><dt><span>solar_irradiance :</span></dt><dd>1837.5674</dd></dl></div><div class='xr-var-data'><pre>array([[nan, nan, nan, ..., nan, nan, nan],\n",
       "       [nan, nan, nan, ..., nan, nan, nan],\n",
       "       [nan, nan, nan, ..., nan, nan, nan],\n",
       "       ...,\n",
       "       [nan, nan, nan, ..., nan, nan, nan],\n",
       "       [nan, nan, nan, ..., nan, nan, nan],\n",
       "       [nan, nan, nan, ..., nan, nan, nan]], dtype=float32)</pre></div></li><li class='xr-var-item'><div class='xr-var-name'><span>Rrs_645</span></div><div class='xr-var-dims'>(number_of_lines, pixels_per_line)</div><div class='xr-var-dtype'>float32</div><div class='xr-var-preview xr-preview'>...</div><input id='attrs-28d81673-1eb2-4b9c-9c63-245e79f89610' class='xr-var-attrs-in' type='checkbox' ><label for='attrs-28d81673-1eb2-4b9c-9c63-245e79f89610' title='Show/Hide attributes'><svg class='icon xr-icon-file-text2'><use xlink:href='#icon-file-text2'></use></svg></label><input id='data-2df6283d-858f-4c1d-8143-ae497a27ce54' class='xr-var-data-in' type='checkbox'><label for='data-2df6283d-858f-4c1d-8143-ae497a27ce54' title='Show/Hide data repr'><svg class='icon xr-icon-database'><use xlink:href='#icon-database'></use></svg></label><div class='xr-var-attrs'><dl class='xr-attrs'><dt><span>long_name :</span></dt><dd>Remote sensing reflectance at 645 nm</dd><dt><span>units :</span></dt><dd>sr^-1</dd><dt><span>standard_name :</span></dt><dd>surface_ratio_of_upwelling_radiance_emerging_from_sea_water_to_downwelling_radiative_flux_in_air</dd><dt><span>valid_min :</span></dt><dd>-30000</dd><dt><span>valid_max :</span></dt><dd>25000</dd><dt><span>solar_irradiance :</span></dt><dd>1587.4379</dd></dl></div><div class='xr-var-data'><pre>[2748620 values with dtype=float32]</pre></div></li><li class='xr-var-item'><div class='xr-var-name'><span>Rrs_667</span></div><div class='xr-var-dims'>(number_of_lines, pixels_per_line)</div><div class='xr-var-dtype'>float32</div><div class='xr-var-preview xr-preview'>...</div><input id='attrs-11dc8527-6dcf-4a20-900e-d7bb2f0bd444' class='xr-var-attrs-in' type='checkbox' ><label for='attrs-11dc8527-6dcf-4a20-900e-d7bb2f0bd444' title='Show/Hide attributes'><svg class='icon xr-icon-file-text2'><use xlink:href='#icon-file-text2'></use></svg></label><input id='data-23a206ea-5704-4c38-910f-2ee285646ab0' class='xr-var-data-in' type='checkbox'><label for='data-23a206ea-5704-4c38-910f-2ee285646ab0' title='Show/Hide data repr'><svg class='icon xr-icon-database'><use xlink:href='#icon-database'></use></svg></label><div class='xr-var-attrs'><dl class='xr-attrs'><dt><span>long_name :</span></dt><dd>Remote sensing reflectance at 667 nm</dd><dt><span>units :</span></dt><dd>sr^-1</dd><dt><span>standard_name :</span></dt><dd>surface_ratio_of_upwelling_radiance_emerging_from_sea_water_to_downwelling_radiative_flux_in_air</dd><dt><span>valid_min :</span></dt><dd>-30000</dd><dt><span>valid_max :</span></dt><dd>25000</dd><dt><span>solar_irradiance :</span></dt><dd>1524.3859</dd></dl></div><div class='xr-var-data'><pre>[2748620 values with dtype=float32]</pre></div></li><li class='xr-var-item'><div class='xr-var-name'><span>Rrs_678</span></div><div class='xr-var-dims'>(number_of_lines, pixels_per_line)</div><div class='xr-var-dtype'>float32</div><div class='xr-var-preview xr-preview'>...</div><input id='attrs-94e70cad-2b62-4029-8fdb-db96d3b3c082' class='xr-var-attrs-in' type='checkbox' ><label for='attrs-94e70cad-2b62-4029-8fdb-db96d3b3c082' title='Show/Hide attributes'><svg class='icon xr-icon-file-text2'><use xlink:href='#icon-file-text2'></use></svg></label><input id='data-77b19b67-ac1f-42c1-b72d-27d085209b5a' class='xr-var-data-in' type='checkbox'><label for='data-77b19b67-ac1f-42c1-b72d-27d085209b5a' title='Show/Hide data repr'><svg class='icon xr-icon-database'><use xlink:href='#icon-database'></use></svg></label><div class='xr-var-attrs'><dl class='xr-attrs'><dt><span>long_name :</span></dt><dd>Remote sensing reflectance at 678 nm</dd><dt><span>units :</span></dt><dd>sr^-1</dd><dt><span>standard_name :</span></dt><dd>surface_ratio_of_upwelling_radiance_emerging_from_sea_water_to_downwelling_radiative_flux_in_air</dd><dt><span>valid_min :</span></dt><dd>-30000</dd><dt><span>valid_max :</span></dt><dd>25000</dd><dt><span>solar_irradiance :</span></dt><dd>1481.3671</dd></dl></div><div class='xr-var-data'><pre>[2748620 values with dtype=float32]</pre></div></li><li class='xr-var-item'><div class='xr-var-name'><span>chlor_a</span></div><div class='xr-var-dims'>(number_of_lines, pixels_per_line)</div><div class='xr-var-dtype'>float32</div><div class='xr-var-preview xr-preview'>...</div><input id='attrs-075ca4d4-cb9d-4609-9aae-40ae9cd1fd8b' class='xr-var-attrs-in' type='checkbox' ><label for='attrs-075ca4d4-cb9d-4609-9aae-40ae9cd1fd8b' title='Show/Hide attributes'><svg class='icon xr-icon-file-text2'><use xlink:href='#icon-file-text2'></use></svg></label><input id='data-d88f8a10-2ea3-42b6-acde-16c6032461ff' class='xr-var-data-in' type='checkbox'><label for='data-d88f8a10-2ea3-42b6-acde-16c6032461ff' title='Show/Hide data repr'><svg class='icon xr-icon-database'><use xlink:href='#icon-database'></use></svg></label><div class='xr-var-attrs'><dl class='xr-attrs'><dt><span>long_name :</span></dt><dd>Chlorophyll Concentration, OCI Algorithm</dd><dt><span>units :</span></dt><dd>mg m^-3</dd><dt><span>standard_name :</span></dt><dd>mass_concentration_of_chlorophyll_in_sea_water</dd><dt><span>valid_min :</span></dt><dd>0.001</dd><dt><span>valid_max :</span></dt><dd>100.0</dd><dt><span>reference :</span></dt><dd>Hu, C., Lee Z., and Franz, B.A. (2012). Chlorophyll-a algorithms for oligotrophic oceans: A novel approach based on three-band reflectance difference, J. Geophys. Res., 117, C01011, doi:10.1029/2011JC007395.</dd></dl></div><div class='xr-var-data'><pre>[2748620 values with dtype=float32]</pre></div></li><li class='xr-var-item'><div class='xr-var-name'><span>Kd_490</span></div><div class='xr-var-dims'>(number_of_lines, pixels_per_line)</div><div class='xr-var-dtype'>float32</div><div class='xr-var-preview xr-preview'>...</div><input id='attrs-8df352ab-dcae-481d-9178-9e522c5fb683' class='xr-var-attrs-in' type='checkbox' ><label for='attrs-8df352ab-dcae-481d-9178-9e522c5fb683' title='Show/Hide attributes'><svg class='icon xr-icon-file-text2'><use xlink:href='#icon-file-text2'></use></svg></label><input id='data-01b51fae-13c0-443c-a901-2411bb3a1ac7' class='xr-var-data-in' type='checkbox'><label for='data-01b51fae-13c0-443c-a901-2411bb3a1ac7' title='Show/Hide data repr'><svg class='icon xr-icon-database'><use xlink:href='#icon-database'></use></svg></label><div class='xr-var-attrs'><dl class='xr-attrs'><dt><span>long_name :</span></dt><dd>Diffuse attenuation coefficient at 490 nm, KD2 algorithm</dd><dt><span>units :</span></dt><dd>m^-1</dd><dt><span>valid_min :</span></dt><dd>50</dd><dt><span>valid_max :</span></dt><dd>30000</dd></dl></div><div class='xr-var-data'><pre>[2748620 values with dtype=float32]</pre></div></li><li class='xr-var-item'><div class='xr-var-name'><span>pic</span></div><div class='xr-var-dims'>(number_of_lines, pixels_per_line)</div><div class='xr-var-dtype'>float32</div><div class='xr-var-preview xr-preview'>...</div><input id='attrs-5de40738-4229-4b6d-ba00-b7ff40897507' class='xr-var-attrs-in' type='checkbox' ><label for='attrs-5de40738-4229-4b6d-ba00-b7ff40897507' title='Show/Hide attributes'><svg class='icon xr-icon-file-text2'><use xlink:href='#icon-file-text2'></use></svg></label><input id='data-229842d2-0f9e-4b76-8de7-66b77e5adb76' class='xr-var-data-in' type='checkbox'><label for='data-229842d2-0f9e-4b76-8de7-66b77e5adb76' title='Show/Hide data repr'><svg class='icon xr-icon-database'><use xlink:href='#icon-database'></use></svg></label><div class='xr-var-attrs'><dl class='xr-attrs'><dt><span>long_name :</span></dt><dd>Calcite Concentration, Balch and Gordon</dd><dt><span>units :</span></dt><dd>mol m^-3</dd><dt><span>valid_min :</span></dt><dd>-32500</dd><dt><span>valid_max :</span></dt><dd>30000</dd><dt><span>reference :</span></dt><dd>Balch, W.M., Gordon, H.R., Bowler, B.C., Drapeau, D.T., and Booth, E.S. (2005), Calcium carbonate measurements in the surface global ocean based on Moderate-Resolution Imaging Spectroradiometer data, J. Geophys. Res., 110, C07001, doi:10.1029/2004JC002560; Gordon, H.R. Boynton, G.C., Balch, W.M., Groom, S.B., Harbour, D.S., Smyth, T.J., Retrieval of Coccolithophore Calcite Concentration from SeaWiFS Imagery, GRL, 28, 8, 1587-1590.</dd></dl></div><div class='xr-var-data'><pre>[2748620 values with dtype=float32]</pre></div></li><li class='xr-var-item'><div class='xr-var-name'><span>poc</span></div><div class='xr-var-dims'>(number_of_lines, pixels_per_line)</div><div class='xr-var-dtype'>float32</div><div class='xr-var-preview xr-preview'>...</div><input id='attrs-e5a72bf5-ff80-4b6f-831c-3c0dc241108a' class='xr-var-attrs-in' type='checkbox' ><label for='attrs-e5a72bf5-ff80-4b6f-831c-3c0dc241108a' title='Show/Hide attributes'><svg class='icon xr-icon-file-text2'><use xlink:href='#icon-file-text2'></use></svg></label><input id='data-9caef0a7-c767-40e4-ab2d-94a6d7f7d20f' class='xr-var-data-in' type='checkbox'><label for='data-9caef0a7-c767-40e4-ab2d-94a6d7f7d20f' title='Show/Hide data repr'><svg class='icon xr-icon-database'><use xlink:href='#icon-database'></use></svg></label><div class='xr-var-attrs'><dl class='xr-attrs'><dt><span>long_name :</span></dt><dd>Particulate Organic Carbon, D. Stramski, 2007 (443/555 version)</dd><dt><span>units :</span></dt><dd>mg m^-3</dd><dt><span>valid_min :</span></dt><dd>-32000</dd><dt><span>valid_max :</span></dt><dd>-27000</dd><dt><span>reference :</span></dt><dd>Stramski, D., et al. &quot;Relationships between the surface concentration of particulate organic carbon and optical properties in the eastern South Pacific and eastern Atlantic Oceans.&quot; Biogeosciences 5.1 (2008): 171-201.</dd></dl></div><div class='xr-var-data'><pre>[2748620 values with dtype=float32]</pre></div></li><li class='xr-var-item'><div class='xr-var-name'><span>ipar</span></div><div class='xr-var-dims'>(number_of_lines, pixels_per_line)</div><div class='xr-var-dtype'>float32</div><div class='xr-var-preview xr-preview'>...</div><input id='attrs-01882ebd-12f1-447f-aa93-1529f124f761' class='xr-var-attrs-in' type='checkbox' ><label for='attrs-01882ebd-12f1-447f-aa93-1529f124f761' title='Show/Hide attributes'><svg class='icon xr-icon-file-text2'><use xlink:href='#icon-file-text2'></use></svg></label><input id='data-671ac358-7b1a-4f96-9737-e133a3819d40' class='xr-var-data-in' type='checkbox'><label for='data-671ac358-7b1a-4f96-9737-e133a3819d40' title='Show/Hide data repr'><svg class='icon xr-icon-database'><use xlink:href='#icon-database'></use></svg></label><div class='xr-var-attrs'><dl class='xr-attrs'><dt><span>long_name :</span></dt><dd>Instantaneous Photosynthetically Available Radiation</dd><dt><span>units :</span></dt><dd>einstein m^-2 s^-1</dd><dt><span>standard_name :</span></dt><dd>downwelling_photosynthetic_photon_radiance_in_sea_water</dd></dl></div><div class='xr-var-data'><pre>[2748620 values with dtype=float32]</pre></div></li><li class='xr-var-item'><div class='xr-var-name'><span>nflh</span></div><div class='xr-var-dims'>(number_of_lines, pixels_per_line)</div><div class='xr-var-dtype'>float32</div><div class='xr-var-preview xr-preview'>...</div><input id='attrs-1dfdf4bc-6bd7-462f-933d-c90911c86707' class='xr-var-attrs-in' type='checkbox' ><label for='attrs-1dfdf4bc-6bd7-462f-933d-c90911c86707' title='Show/Hide attributes'><svg class='icon xr-icon-file-text2'><use xlink:href='#icon-file-text2'></use></svg></label><input id='data-b1f770d3-fde4-49ec-acca-7c33c26fe8e9' class='xr-var-data-in' type='checkbox'><label for='data-b1f770d3-fde4-49ec-acca-7c33c26fe8e9' title='Show/Hide data repr'><svg class='icon xr-icon-database'><use xlink:href='#icon-database'></use></svg></label><div class='xr-var-attrs'><dl class='xr-attrs'><dt><span>long_name :</span></dt><dd>Normalized Fluorescence Line Height</dd><dt><span>units :</span></dt><dd>W m^-2 um^-1 sr^-1</dd><dt><span>valid_min :</span></dt><dd>-32353</dd><dt><span>valid_max :</span></dt><dd>32353</dd><dt><span>reference :</span></dt><dd>Behrenfeld, M.J., Westberry, T.K., Boss, E.S., O&#x27;Malley, R.T., Siegel, D.A., Wiggert, J.D., Franz, B.A., McClain, C.R., Feldman, G.C., Doney, S.C., Moore, J.K., Dall&#x27;Olmo, G., Milligan, A.J., Lima, I., and Mahowald, N.: Satellite-detected fluorescence reveals global physiology of ocean phytoplankton, Biogeosciences, 6, 779-794, doi:10.5194/bg-6-779-2009, 2009.</dd></dl></div><div class='xr-var-data'><pre>[2748620 values with dtype=float32]</pre></div></li><li class='xr-var-item'><div class='xr-var-name'><span>par</span></div><div class='xr-var-dims'>(number_of_lines, pixels_per_line)</div><div class='xr-var-dtype'>float32</div><div class='xr-var-preview xr-preview'>...</div><input id='attrs-21436de7-90b5-4a52-b723-25d41b932a5d' class='xr-var-attrs-in' type='checkbox' ><label for='attrs-21436de7-90b5-4a52-b723-25d41b932a5d' title='Show/Hide attributes'><svg class='icon xr-icon-file-text2'><use xlink:href='#icon-file-text2'></use></svg></label><input id='data-bde6ccd0-fee4-4094-a1de-d910fee8789a' class='xr-var-data-in' type='checkbox'><label for='data-bde6ccd0-fee4-4094-a1de-d910fee8789a' title='Show/Hide data repr'><svg class='icon xr-icon-database'><use xlink:href='#icon-database'></use></svg></label><div class='xr-var-attrs'><dl class='xr-attrs'><dt><span>long_name :</span></dt><dd>Photosynthetically Available Radiation, R. Frouin</dd><dt><span>units :</span></dt><dd>einstein m^-2 day^-1</dd><dt><span>standard_name :</span></dt><dd>surface_downwelling_photosynthetic_photon_flux_in_air</dd><dt><span>valid_min :</span></dt><dd>-32750</dd><dt><span>valid_max :</span></dt><dd>32250</dd><dt><span>reference :</span></dt><dd>Frouin, R., Ligner, D.W., and Gautier, C., 1989: A Simple analytical formula to compute clear sky total and photosynthetically available solar irradiance at the ocean surface. J. Geophys. Res., 94, 9731-9742.</dd></dl></div><div class='xr-var-data'><pre>[2748620 values with dtype=float32]</pre></div></li><li class='xr-var-item'><div class='xr-var-name'><span>l2_flags</span></div><div class='xr-var-dims'>(number_of_lines, pixels_per_line)</div><div class='xr-var-dtype'>int32</div><div class='xr-var-preview xr-preview'>...</div><input id='attrs-a67d3ab0-56b9-40cc-b2b3-baba0354acc0' class='xr-var-attrs-in' type='checkbox' ><label for='attrs-a67d3ab0-56b9-40cc-b2b3-baba0354acc0' title='Show/Hide attributes'><svg class='icon xr-icon-file-text2'><use xlink:href='#icon-file-text2'></use></svg></label><input id='data-a8a806e5-f615-4fbd-8c71-e88a5ad42c42' class='xr-var-data-in' type='checkbox'><label for='data-a8a806e5-f615-4fbd-8c71-e88a5ad42c42' title='Show/Hide data repr'><svg class='icon xr-icon-database'><use xlink:href='#icon-database'></use></svg></label><div class='xr-var-attrs'><dl class='xr-attrs'><dt><span>long_name :</span></dt><dd>Level-2 Processing Flags</dd><dt><span>valid_min :</span></dt><dd>-2147483648</dd><dt><span>valid_max :</span></dt><dd>2147483647</dd><dt><span>flag_masks :</span></dt><dd>[          1           2           4           8          16          32\n",
       "          64         128         256         512        1024        2048\n",
       "        4096        8192       16384       32768       65536      131072\n",
       "      262144      524288     1048576     2097152     4194304     8388608\n",
       "    16777216    33554432    67108864   134217728   268435456   536870912\n",
       "  1073741824 -2147483648]</dd><dt><span>flag_meanings :</span></dt><dd>ATMFAIL LAND PRODWARN HIGLINT HILT HISATZEN COASTZ SPARE STRAYLIGHT CLDICE COCCOLITH TURBIDW HISOLZEN SPARE LOWLW CHLFAIL NAVWARN ABSAER SPARE MAXAERITER MODGLINT CHLWARN ATMWARN SPARE SEAICE NAVFAIL FILTER SPARE BOWTIEDEL HIPOL PRODFAIL SPARE</dd></dl></div><div class='xr-var-data'><pre>[2748620 values with dtype=int32]</pre></div></li></ul></div></li><li class='xr-section-item'><input id='section-68c4165f-e699-4bc1-8651-891152e227e3' class='xr-section-summary-in' type='checkbox' disabled ><label for='section-68c4165f-e699-4bc1-8651-891152e227e3' class='xr-section-summary'  title='Expand/collapse section'>Indexes: <span>(0)</span></label><div class='xr-section-inline-details'></div><div class='xr-section-details'><ul class='xr-var-list'></ul></div></li><li class='xr-section-item'><input id='section-3687c31a-9f7f-4d72-82f9-49e03c163194' class='xr-section-summary-in' type='checkbox'  ><label for='section-3687c31a-9f7f-4d72-82f9-49e03c163194' class='xr-section-summary' >Attributes: <span>(48)</span></label><div class='xr-section-inline-details'></div><div class='xr-section-details'><dl class='xr-attrs'><dt><span>title :</span></dt><dd>MODISA Level-2 Data</dd><dt><span>product_name :</span></dt><dd>AQUA_MODIS.20201016T192500.L2.OC.nc</dd><dt><span>processing_version :</span></dt><dd>R2022.0</dd><dt><span>equatorCrossingLongitude :</span></dt><dd>82.23992</dd><dt><span>orbit_number :</span></dt><dd>98160</dd><dt><span>history :</span></dt><dd>l2gen par=/data1/sdpsoper/vdc/vpu0/workbuf/A2020290192500.L1B_LAC.param metafile=AQUA_MODIS.20201016T192500.L2.OC.nc.meta</dd><dt><span>instrument :</span></dt><dd>MODIS</dd><dt><span>platform :</span></dt><dd>Aqua</dd><dt><span>Conventions :</span></dt><dd>CF-1.6 ACDD-1.3</dd><dt><span>license :</span></dt><dd>https://science.nasa.gov/earth-science/earth-science-data/data-information-policy/</dd><dt><span>naming_authority :</span></dt><dd>gov.nasa.gsfc.sci.oceandata</dd><dt><span>id :</span></dt><dd>R2022.0/L2/AQUA_MODIS.20201016T192500.L2.OC.nc</dd><dt><span>date_created :</span></dt><dd>2022-09-09T07:31:39.000Z</dd><dt><span>keywords_vocabulary :</span></dt><dd>NASA Global Change Master Directory (GCMD) Science Keywords</dd><dt><span>keywords :</span></dt><dd>Earth Science &gt; Oceans &gt; Ocean Optics &gt; Ocean Color</dd><dt><span>standard_name_vocabulary :</span></dt><dd>CF Standard Name Table v36</dd><dt><span>institution :</span></dt><dd>NASA Goddard Space Flight Center, Ocean Ecology Laboratory, Ocean Biology Processing Group</dd><dt><span>creator_name :</span></dt><dd>NASA/GSFC/OBPG</dd><dt><span>creator_email :</span></dt><dd>data@oceancolor.gsfc.nasa.gov</dd><dt><span>creator_url :</span></dt><dd>https://oceandata.sci.gsfc.nasa.gov</dd><dt><span>project :</span></dt><dd>Ocean Biology Processing Group (NASA/GSFC/OBPG)</dd><dt><span>publisher_name :</span></dt><dd>NASA/GSFC/OBPG</dd><dt><span>publisher_url :</span></dt><dd>https://oceandata.sci.gsfc.nasa.gov</dd><dt><span>publisher_email :</span></dt><dd>data@oceancolor.gsfc.nasa.gov</dd><dt><span>processing_level :</span></dt><dd>L2</dd><dt><span>cdm_data_type :</span></dt><dd>swath</dd><dt><span>equatorCrossingDateTime :</span></dt><dd>2020-10-16T20:06:34.567Z</dd><dt><span>spatialResolution :</span></dt><dd>1 km</dd><dt><span>time_coverage_start :</span></dt><dd>2020-10-16T19:25:00.960Z</dd><dt><span>time_coverage_end :</span></dt><dd>2020-10-16T19:29:59.337Z</dd><dt><span>start_center_longitude :</span></dt><dd>-91.79514</dd><dt><span>start_center_latitude :</span></dt><dd>28.286394</dd><dt><span>end_center_longitude :</span></dt><dd>-97.217865</dd><dt><span>end_center_latitude :</span></dt><dd>46.232784</dd><dt><span>northernmost_latitude :</span></dt><dd>47.422752</dd><dt><span>southernmost_latitude :</span></dt><dd>26.083797</dd><dt><span>easternmost_longitude :</span></dt><dd>-79.92866</dd><dt><span>westernmost_longitude :</span></dt><dd>-111.34791</dd><dt><span>geospatial_lat_units :</span></dt><dd>degrees_north</dd><dt><span>geospatial_lon_units :</span></dt><dd>degrees_east</dd><dt><span>geospatial_lat_max :</span></dt><dd>47.422752</dd><dt><span>geospatial_lat_min :</span></dt><dd>26.083797</dd><dt><span>geospatial_lon_max :</span></dt><dd>-79.92866</dd><dt><span>geospatial_lon_min :</span></dt><dd>-111.34791</dd><dt><span>startDirection :</span></dt><dd>Ascending</dd><dt><span>endDirection :</span></dt><dd>Ascending</dd><dt><span>day_night_flag :</span></dt><dd>Day</dd><dt><span>earth_sun_distance_correction :</span></dt><dd>1.0067232847213745</dd></dl></div></li></ul></div></div>"
      ],
      "text/plain": [
       "<xarray.Dataset> Size: 242MB\n",
       "Dimensions:    (number_of_lines: 2030, pixels_per_line: 1354)\n",
       "Coordinates:\n",
       "    longitude  (number_of_lines, pixels_per_line) float32 11MB -79.93 ... -111.3\n",
       "    latitude   (number_of_lines, pixels_per_line) float32 11MB 29.41 ... 43.24\n",
       "Dimensions without coordinates: number_of_lines, pixels_per_line\n",
       "Data variables: (12/20)\n",
       "    aot_869    (number_of_lines, pixels_per_line) float32 11MB ...\n",
       "    angstrom   (number_of_lines, pixels_per_line) float32 11MB ...\n",
       "    Rrs_412    (number_of_lines, pixels_per_line) float32 11MB ...\n",
       "    Rrs_443    (number_of_lines, pixels_per_line) float32 11MB ...\n",
       "    Rrs_469    (number_of_lines, pixels_per_line) float32 11MB ...\n",
       "    Rrs_488    (number_of_lines, pixels_per_line) float32 11MB ...\n",
       "    ...         ...\n",
       "    pic        (number_of_lines, pixels_per_line) float32 11MB ...\n",
       "    poc        (number_of_lines, pixels_per_line) float32 11MB ...\n",
       "    ipar       (number_of_lines, pixels_per_line) float32 11MB ...\n",
       "    nflh       (number_of_lines, pixels_per_line) float32 11MB ...\n",
       "    par        (number_of_lines, pixels_per_line) float32 11MB ...\n",
       "    l2_flags   (number_of_lines, pixels_per_line) int32 11MB ...\n",
       "Attributes: (12/48)\n",
       "    title:                          MODISA Level-2 Data\n",
       "    product_name:                   AQUA_MODIS.20201016T192500.L2.OC.nc\n",
       "    processing_version:             R2022.0\n",
       "    equatorCrossingLongitude:       82.23992\n",
       "    orbit_number:                   98160\n",
       "    history:                        l2gen par=/data1/sdpsoper/vdc/vpu0/workbu...\n",
       "    ...                             ...\n",
       "    geospatial_lon_max:             -79.92866\n",
       "    geospatial_lon_min:             -111.34791\n",
       "    startDirection:                 Ascending\n",
       "    endDirection:                   Ascending\n",
       "    day_night_flag:                 Day\n",
       "    earth_sun_distance_correction:  1.0067232847213745"
      ]
     },
     "execution_count": 22,
     "metadata": {},
     "output_type": "execute_result"
    }
   ],
   "source": [
    "dataset"
   ]
  },
  {
   "cell_type": "markdown",
   "id": "708cfe28",
   "metadata": {},
   "source": [
    "Now, we can pull out and fine-tune the \"chlor_a\" variable for visualization."
   ]
  },
  {
   "cell_type": "code",
   "execution_count": 13,
   "id": "ae58ea34",
   "metadata": {},
   "outputs": [],
   "source": [
    "array = dataset[\"Rrs_555\"]\n",
    "array.attrs.update(\n",
    "    {\n",
    "        \"units\": f'({dataset[\"Rrs_555\"].attrs[\"units\"]})',\n",
    "    }\n",
    ")"
   ]
  },
  {
   "cell_type": "markdown",
   "id": "f926b41e",
   "metadata": {},
   "source": [
    "The `plot` method from XArray's plotting API is an easy way to take an `xr.Dataset` or `xr.DataArray` to\n",
    "a `matplotlib` figure."
   ]
  },
  {
   "cell_type": "code",
   "execution_count": 15,
   "id": "3f8798b4-4230-4419-bb1e-31f1f85b788e",
   "metadata": {},
   "outputs": [
    {
     "data": {
      "text/html": [
       "<div><svg style=\"position: absolute; width: 0; height: 0; overflow: hidden\">\n",
       "<defs>\n",
       "<symbol id=\"icon-database\" viewBox=\"0 0 32 32\">\n",
       "<path d=\"M16 0c-8.837 0-16 2.239-16 5v4c0 2.761 7.163 5 16 5s16-2.239 16-5v-4c0-2.761-7.163-5-16-5z\"></path>\n",
       "<path d=\"M16 17c-8.837 0-16-2.239-16-5v6c0 2.761 7.163 5 16 5s16-2.239 16-5v-6c0 2.761-7.163 5-16 5z\"></path>\n",
       "<path d=\"M16 26c-8.837 0-16-2.239-16-5v6c0 2.761 7.163 5 16 5s16-2.239 16-5v-6c0 2.761-7.163 5-16 5z\"></path>\n",
       "</symbol>\n",
       "<symbol id=\"icon-file-text2\" viewBox=\"0 0 32 32\">\n",
       "<path d=\"M28.681 7.159c-0.694-0.947-1.662-2.053-2.724-3.116s-2.169-2.030-3.116-2.724c-1.612-1.182-2.393-1.319-2.841-1.319h-15.5c-1.378 0-2.5 1.121-2.5 2.5v27c0 1.378 1.122 2.5 2.5 2.5h23c1.378 0 2.5-1.122 2.5-2.5v-19.5c0-0.448-0.137-1.23-1.319-2.841zM24.543 5.457c0.959 0.959 1.712 1.825 2.268 2.543h-4.811v-4.811c0.718 0.556 1.584 1.309 2.543 2.268zM28 29.5c0 0.271-0.229 0.5-0.5 0.5h-23c-0.271 0-0.5-0.229-0.5-0.5v-27c0-0.271 0.229-0.5 0.5-0.5 0 0 15.499-0 15.5 0v7c0 0.552 0.448 1 1 1h7v19.5z\"></path>\n",
       "<path d=\"M23 26h-14c-0.552 0-1-0.448-1-1s0.448-1 1-1h14c0.552 0 1 0.448 1 1s-0.448 1-1 1z\"></path>\n",
       "<path d=\"M23 22h-14c-0.552 0-1-0.448-1-1s0.448-1 1-1h14c0.552 0 1 0.448 1 1s-0.448 1-1 1z\"></path>\n",
       "<path d=\"M23 18h-14c-0.552 0-1-0.448-1-1s0.448-1 1-1h14c0.552 0 1 0.448 1 1s-0.448 1-1 1z\"></path>\n",
       "</symbol>\n",
       "</defs>\n",
       "</svg>\n",
       "<style>/* CSS stylesheet for displaying xarray objects in jupyterlab.\n",
       " *\n",
       " */\n",
       "\n",
       ":root {\n",
       "  --xr-font-color0: var(\n",
       "    --jp-content-font-color0,\n",
       "    var(--pst-color-text-base rgba(0, 0, 0, 1))\n",
       "  );\n",
       "  --xr-font-color2: var(\n",
       "    --jp-content-font-color2,\n",
       "    var(--pst-color-text-base, rgba(0, 0, 0, 0.54))\n",
       "  );\n",
       "  --xr-font-color3: var(\n",
       "    --jp-content-font-color3,\n",
       "    var(--pst-color-text-base, rgba(0, 0, 0, 0.38))\n",
       "  );\n",
       "  --xr-border-color: var(\n",
       "    --jp-border-color2,\n",
       "    hsl(from var(--pst-color-on-background, white) h s calc(l - 10))\n",
       "  );\n",
       "  --xr-disabled-color: var(\n",
       "    --jp-layout-color3,\n",
       "    hsl(from var(--pst-color-on-background, white) h s calc(l - 40))\n",
       "  );\n",
       "  --xr-background-color: var(\n",
       "    --jp-layout-color0,\n",
       "    var(--pst-color-on-background, white)\n",
       "  );\n",
       "  --xr-background-color-row-even: var(\n",
       "    --jp-layout-color1,\n",
       "    hsl(from var(--pst-color-on-background, white) h s calc(l - 5))\n",
       "  );\n",
       "  --xr-background-color-row-odd: var(\n",
       "    --jp-layout-color2,\n",
       "    hsl(from var(--pst-color-on-background, white) h s calc(l - 15))\n",
       "  );\n",
       "}\n",
       "\n",
       "html[theme=\"dark\"],\n",
       "html[data-theme=\"dark\"],\n",
       "body[data-theme=\"dark\"],\n",
       "body.vscode-dark {\n",
       "  --xr-font-color0: var(\n",
       "    --jp-content-font-color0,\n",
       "    var(--pst-color-text-base, rgba(255, 255, 255, 1))\n",
       "  );\n",
       "  --xr-font-color2: var(\n",
       "    --jp-content-font-color2,\n",
       "    var(--pst-color-text-base, rgba(255, 255, 255, 0.54))\n",
       "  );\n",
       "  --xr-font-color3: var(\n",
       "    --jp-content-font-color3,\n",
       "    var(--pst-color-text-base, rgba(255, 255, 255, 0.38))\n",
       "  );\n",
       "  --xr-border-color: var(\n",
       "    --jp-border-color2,\n",
       "    hsl(from var(--pst-color-on-background, #111111) h s calc(l + 10))\n",
       "  );\n",
       "  --xr-disabled-color: var(\n",
       "    --jp-layout-color3,\n",
       "    hsl(from var(--pst-color-on-background, #111111) h s calc(l + 40))\n",
       "  );\n",
       "  --xr-background-color: var(\n",
       "    --jp-layout-color0,\n",
       "    var(--pst-color-on-background, #111111)\n",
       "  );\n",
       "  --xr-background-color-row-even: var(\n",
       "    --jp-layout-color1,\n",
       "    hsl(from var(--pst-color-on-background, #111111) h s calc(l + 5))\n",
       "  );\n",
       "  --xr-background-color-row-odd: var(\n",
       "    --jp-layout-color2,\n",
       "    hsl(from var(--pst-color-on-background, #111111) h s calc(l + 15))\n",
       "  );\n",
       "}\n",
       "\n",
       ".xr-wrap {\n",
       "  display: block !important;\n",
       "  min-width: 300px;\n",
       "  max-width: 700px;\n",
       "}\n",
       "\n",
       ".xr-text-repr-fallback {\n",
       "  /* fallback to plain text repr when CSS is not injected (untrusted notebook) */\n",
       "  display: none;\n",
       "}\n",
       "\n",
       ".xr-header {\n",
       "  padding-top: 6px;\n",
       "  padding-bottom: 6px;\n",
       "  margin-bottom: 4px;\n",
       "  border-bottom: solid 1px var(--xr-border-color);\n",
       "}\n",
       "\n",
       ".xr-header > div,\n",
       ".xr-header > ul {\n",
       "  display: inline;\n",
       "  margin-top: 0;\n",
       "  margin-bottom: 0;\n",
       "}\n",
       "\n",
       ".xr-obj-type,\n",
       ".xr-array-name {\n",
       "  margin-left: 2px;\n",
       "  margin-right: 10px;\n",
       "}\n",
       "\n",
       ".xr-obj-type {\n",
       "  color: var(--xr-font-color2);\n",
       "}\n",
       "\n",
       ".xr-sections {\n",
       "  padding-left: 0 !important;\n",
       "  display: grid;\n",
       "  grid-template-columns: 150px auto auto 1fr 0 20px 0 20px;\n",
       "}\n",
       "\n",
       ".xr-section-item {\n",
       "  display: contents;\n",
       "}\n",
       "\n",
       ".xr-section-item input {\n",
       "  display: inline-block;\n",
       "  opacity: 0;\n",
       "  height: 0;\n",
       "}\n",
       "\n",
       ".xr-section-item input + label {\n",
       "  color: var(--xr-disabled-color);\n",
       "  border: 2px solid transparent !important;\n",
       "}\n",
       "\n",
       ".xr-section-item input:enabled + label {\n",
       "  cursor: pointer;\n",
       "  color: var(--xr-font-color2);\n",
       "}\n",
       "\n",
       ".xr-section-item input:focus + label {\n",
       "  border: 2px solid var(--xr-font-color0) !important;\n",
       "}\n",
       "\n",
       ".xr-section-item input:enabled + label:hover {\n",
       "  color: var(--xr-font-color0);\n",
       "}\n",
       "\n",
       ".xr-section-summary {\n",
       "  grid-column: 1;\n",
       "  color: var(--xr-font-color2);\n",
       "  font-weight: 500;\n",
       "}\n",
       "\n",
       ".xr-section-summary > span {\n",
       "  display: inline-block;\n",
       "  padding-left: 0.5em;\n",
       "}\n",
       "\n",
       ".xr-section-summary-in:disabled + label {\n",
       "  color: var(--xr-font-color2);\n",
       "}\n",
       "\n",
       ".xr-section-summary-in + label:before {\n",
       "  display: inline-block;\n",
       "  content: \"►\";\n",
       "  font-size: 11px;\n",
       "  width: 15px;\n",
       "  text-align: center;\n",
       "}\n",
       "\n",
       ".xr-section-summary-in:disabled + label:before {\n",
       "  color: var(--xr-disabled-color);\n",
       "}\n",
       "\n",
       ".xr-section-summary-in:checked + label:before {\n",
       "  content: \"▼\";\n",
       "}\n",
       "\n",
       ".xr-section-summary-in:checked + label > span {\n",
       "  display: none;\n",
       "}\n",
       "\n",
       ".xr-section-summary,\n",
       ".xr-section-inline-details {\n",
       "  padding-top: 4px;\n",
       "  padding-bottom: 4px;\n",
       "}\n",
       "\n",
       ".xr-section-inline-details {\n",
       "  grid-column: 2 / -1;\n",
       "}\n",
       "\n",
       ".xr-section-details {\n",
       "  display: none;\n",
       "  grid-column: 1 / -1;\n",
       "  margin-bottom: 5px;\n",
       "}\n",
       "\n",
       ".xr-section-summary-in:checked ~ .xr-section-details {\n",
       "  display: contents;\n",
       "}\n",
       "\n",
       ".xr-array-wrap {\n",
       "  grid-column: 1 / -1;\n",
       "  display: grid;\n",
       "  grid-template-columns: 20px auto;\n",
       "}\n",
       "\n",
       ".xr-array-wrap > label {\n",
       "  grid-column: 1;\n",
       "  vertical-align: top;\n",
       "}\n",
       "\n",
       ".xr-preview {\n",
       "  color: var(--xr-font-color3);\n",
       "}\n",
       "\n",
       ".xr-array-preview,\n",
       ".xr-array-data {\n",
       "  padding: 0 5px !important;\n",
       "  grid-column: 2;\n",
       "}\n",
       "\n",
       ".xr-array-data,\n",
       ".xr-array-in:checked ~ .xr-array-preview {\n",
       "  display: none;\n",
       "}\n",
       "\n",
       ".xr-array-in:checked ~ .xr-array-data,\n",
       ".xr-array-preview {\n",
       "  display: inline-block;\n",
       "}\n",
       "\n",
       ".xr-dim-list {\n",
       "  display: inline-block !important;\n",
       "  list-style: none;\n",
       "  padding: 0 !important;\n",
       "  margin: 0;\n",
       "}\n",
       "\n",
       ".xr-dim-list li {\n",
       "  display: inline-block;\n",
       "  padding: 0;\n",
       "  margin: 0;\n",
       "}\n",
       "\n",
       ".xr-dim-list:before {\n",
       "  content: \"(\";\n",
       "}\n",
       "\n",
       ".xr-dim-list:after {\n",
       "  content: \")\";\n",
       "}\n",
       "\n",
       ".xr-dim-list li:not(:last-child):after {\n",
       "  content: \",\";\n",
       "  padding-right: 5px;\n",
       "}\n",
       "\n",
       ".xr-has-index {\n",
       "  font-weight: bold;\n",
       "}\n",
       "\n",
       ".xr-var-list,\n",
       ".xr-var-item {\n",
       "  display: contents;\n",
       "}\n",
       "\n",
       ".xr-var-item > div,\n",
       ".xr-var-item label,\n",
       ".xr-var-item > .xr-var-name span {\n",
       "  background-color: var(--xr-background-color-row-even);\n",
       "  border-color: var(--xr-background-color-row-odd);\n",
       "  margin-bottom: 0;\n",
       "  padding-top: 2px;\n",
       "}\n",
       "\n",
       ".xr-var-item > .xr-var-name:hover span {\n",
       "  padding-right: 5px;\n",
       "}\n",
       "\n",
       ".xr-var-list > li:nth-child(odd) > div,\n",
       ".xr-var-list > li:nth-child(odd) > label,\n",
       ".xr-var-list > li:nth-child(odd) > .xr-var-name span {\n",
       "  background-color: var(--xr-background-color-row-odd);\n",
       "  border-color: var(--xr-background-color-row-even);\n",
       "}\n",
       "\n",
       ".xr-var-name {\n",
       "  grid-column: 1;\n",
       "}\n",
       "\n",
       ".xr-var-dims {\n",
       "  grid-column: 2;\n",
       "}\n",
       "\n",
       ".xr-var-dtype {\n",
       "  grid-column: 3;\n",
       "  text-align: right;\n",
       "  color: var(--xr-font-color2);\n",
       "}\n",
       "\n",
       ".xr-var-preview {\n",
       "  grid-column: 4;\n",
       "}\n",
       "\n",
       ".xr-index-preview {\n",
       "  grid-column: 2 / 5;\n",
       "  color: var(--xr-font-color2);\n",
       "}\n",
       "\n",
       ".xr-var-name,\n",
       ".xr-var-dims,\n",
       ".xr-var-dtype,\n",
       ".xr-preview,\n",
       ".xr-attrs dt {\n",
       "  white-space: nowrap;\n",
       "  overflow: hidden;\n",
       "  text-overflow: ellipsis;\n",
       "  padding-right: 10px;\n",
       "}\n",
       "\n",
       ".xr-var-name:hover,\n",
       ".xr-var-dims:hover,\n",
       ".xr-var-dtype:hover,\n",
       ".xr-attrs dt:hover {\n",
       "  overflow: visible;\n",
       "  width: auto;\n",
       "  z-index: 1;\n",
       "}\n",
       "\n",
       ".xr-var-attrs,\n",
       ".xr-var-data,\n",
       ".xr-index-data {\n",
       "  display: none;\n",
       "  border-top: 2px dotted var(--xr-background-color);\n",
       "  padding-bottom: 20px !important;\n",
       "  padding-top: 10px !important;\n",
       "}\n",
       "\n",
       ".xr-var-attrs-in + label,\n",
       ".xr-var-data-in + label,\n",
       ".xr-index-data-in + label {\n",
       "  padding: 0 1px;\n",
       "}\n",
       "\n",
       ".xr-var-attrs-in:checked ~ .xr-var-attrs,\n",
       ".xr-var-data-in:checked ~ .xr-var-data,\n",
       ".xr-index-data-in:checked ~ .xr-index-data {\n",
       "  display: block;\n",
       "}\n",
       "\n",
       ".xr-var-data > table {\n",
       "  float: right;\n",
       "}\n",
       "\n",
       ".xr-var-data > pre,\n",
       ".xr-index-data > pre,\n",
       ".xr-var-data > table > tbody > tr {\n",
       "  background-color: transparent !important;\n",
       "}\n",
       "\n",
       ".xr-var-name span,\n",
       ".xr-var-data,\n",
       ".xr-index-name div,\n",
       ".xr-index-data,\n",
       ".xr-attrs {\n",
       "  padding-left: 25px !important;\n",
       "}\n",
       "\n",
       ".xr-attrs,\n",
       ".xr-var-attrs,\n",
       ".xr-var-data,\n",
       ".xr-index-data {\n",
       "  grid-column: 1 / -1;\n",
       "}\n",
       "\n",
       "dl.xr-attrs {\n",
       "  padding: 0;\n",
       "  margin: 0;\n",
       "  display: grid;\n",
       "  grid-template-columns: 125px auto;\n",
       "}\n",
       "\n",
       ".xr-attrs dt,\n",
       ".xr-attrs dd {\n",
       "  padding: 0;\n",
       "  margin: 0;\n",
       "  float: left;\n",
       "  padding-right: 10px;\n",
       "  width: auto;\n",
       "}\n",
       "\n",
       ".xr-attrs dt {\n",
       "  font-weight: normal;\n",
       "  grid-column: 1;\n",
       "}\n",
       "\n",
       ".xr-attrs dt:hover span {\n",
       "  display: inline-block;\n",
       "  background: var(--xr-background-color);\n",
       "  padding-right: 10px;\n",
       "}\n",
       "\n",
       ".xr-attrs dd {\n",
       "  grid-column: 2;\n",
       "  white-space: pre-wrap;\n",
       "  word-break: break-all;\n",
       "}\n",
       "\n",
       ".xr-icon-database,\n",
       ".xr-icon-file-text2,\n",
       ".xr-no-icon {\n",
       "  display: inline-block;\n",
       "  vertical-align: middle;\n",
       "  width: 1em;\n",
       "  height: 1.5em !important;\n",
       "  stroke-width: 0;\n",
       "  stroke: currentColor;\n",
       "  fill: currentColor;\n",
       "}\n",
       "\n",
       ".xr-var-attrs-in:checked + label > .xr-icon-file-text2,\n",
       ".xr-var-data-in:checked + label > .xr-icon-database,\n",
       ".xr-index-data-in:checked + label > .xr-icon-database {\n",
       "  color: var(--xr-font-color0);\n",
       "  filter: drop-shadow(1px 1px 5px var(--xr-font-color2));\n",
       "  stroke-width: 0.8px;\n",
       "}\n",
       "</style><pre class='xr-text-repr-fallback'>&lt;xarray.DataArray &#x27;Rrs_555&#x27; (latitude: 90, longitude: 120)&gt; Size: 43kB\n",
       "array([[nan, nan, nan, ..., nan, nan, nan],\n",
       "       [nan, nan, nan, ..., nan, nan, nan],\n",
       "       [nan, nan, nan, ..., nan, nan, nan],\n",
       "       ...,\n",
       "       [nan, nan, nan, ..., nan, nan, nan],\n",
       "       [nan, nan, nan, ..., nan, nan, nan],\n",
       "       [nan, nan, nan, ..., nan, nan, nan]], dtype=float32)\n",
       "Coordinates:\n",
       "  * latitude   (latitude) float64 720B 41.3 41.31 41.32 ... 42.17 42.18 42.19\n",
       "  * longitude  (longitude) float64 960B -83.49 -83.48 -83.47 ... -82.31 -82.3</pre><div class='xr-wrap' style='display:none'><div class='xr-header'><div class='xr-obj-type'>xarray.DataArray</div><div class='xr-array-name'>'Rrs_555'</div><ul class='xr-dim-list'><li><span class='xr-has-index'>latitude</span>: 90</li><li><span class='xr-has-index'>longitude</span>: 120</li></ul></div><ul class='xr-sections'><li class='xr-section-item'><div class='xr-array-wrap'><input id='section-065f2cd6-a572-440b-9be5-8fe288e7bcff' class='xr-array-in' type='checkbox' checked><label for='section-065f2cd6-a572-440b-9be5-8fe288e7bcff' title='Show/hide data repr'><svg class='icon xr-icon-database'><use xlink:href='#icon-database'></use></svg></label><div class='xr-array-preview xr-preview'><span>nan nan nan nan nan nan nan nan ... nan nan nan nan nan nan nan nan</span></div><div class='xr-array-data'><pre>array([[nan, nan, nan, ..., nan, nan, nan],\n",
       "       [nan, nan, nan, ..., nan, nan, nan],\n",
       "       [nan, nan, nan, ..., nan, nan, nan],\n",
       "       ...,\n",
       "       [nan, nan, nan, ..., nan, nan, nan],\n",
       "       [nan, nan, nan, ..., nan, nan, nan],\n",
       "       [nan, nan, nan, ..., nan, nan, nan]], dtype=float32)</pre></div></div></li><li class='xr-section-item'><input id='section-aed02716-1360-41b2-8d18-3f77217169f8' class='xr-section-summary-in' type='checkbox'  checked><label for='section-aed02716-1360-41b2-8d18-3f77217169f8' class='xr-section-summary' >Coordinates: <span>(2)</span></label><div class='xr-section-inline-details'></div><div class='xr-section-details'><ul class='xr-var-list'><li class='xr-var-item'><div class='xr-var-name'><span class='xr-has-index'>latitude</span></div><div class='xr-var-dims'>(latitude)</div><div class='xr-var-dtype'>float64</div><div class='xr-var-preview xr-preview'>41.3 41.31 41.32 ... 42.18 42.19</div><input id='attrs-088c7453-82ca-4905-920d-32debf194417' class='xr-var-attrs-in' type='checkbox' disabled><label for='attrs-088c7453-82ca-4905-920d-32debf194417' title='Show/Hide attributes'><svg class='icon xr-icon-file-text2'><use xlink:href='#icon-file-text2'></use></svg></label><input id='data-53801189-e4b5-43a5-8e9b-e7e492f790de' class='xr-var-data-in' type='checkbox'><label for='data-53801189-e4b5-43a5-8e9b-e7e492f790de' title='Show/Hide data repr'><svg class='icon xr-icon-database'><use xlink:href='#icon-database'></use></svg></label><div class='xr-var-attrs'><dl class='xr-attrs'></dl></div><div class='xr-var-data'><pre>array([41.3 , 41.31, 41.32, 41.33, 41.34, 41.35, 41.36, 41.37, 41.38, 41.39,\n",
       "       41.4 , 41.41, 41.42, 41.43, 41.44, 41.45, 41.46, 41.47, 41.48, 41.49,\n",
       "       41.5 , 41.51, 41.52, 41.53, 41.54, 41.55, 41.56, 41.57, 41.58, 41.59,\n",
       "       41.6 , 41.61, 41.62, 41.63, 41.64, 41.65, 41.66, 41.67, 41.68, 41.69,\n",
       "       41.7 , 41.71, 41.72, 41.73, 41.74, 41.75, 41.76, 41.77, 41.78, 41.79,\n",
       "       41.8 , 41.81, 41.82, 41.83, 41.84, 41.85, 41.86, 41.87, 41.88, 41.89,\n",
       "       41.9 , 41.91, 41.92, 41.93, 41.94, 41.95, 41.96, 41.97, 41.98, 41.99,\n",
       "       42.  , 42.01, 42.02, 42.03, 42.04, 42.05, 42.06, 42.07, 42.08, 42.09,\n",
       "       42.1 , 42.11, 42.12, 42.13, 42.14, 42.15, 42.16, 42.17, 42.18, 42.19])</pre></div></li><li class='xr-var-item'><div class='xr-var-name'><span class='xr-has-index'>longitude</span></div><div class='xr-var-dims'>(longitude)</div><div class='xr-var-dtype'>float64</div><div class='xr-var-preview xr-preview'>-83.49 -83.48 ... -82.31 -82.3</div><input id='attrs-4be14867-0df3-43af-9b4c-1ecf40a099d9' class='xr-var-attrs-in' type='checkbox' disabled><label for='attrs-4be14867-0df3-43af-9b4c-1ecf40a099d9' title='Show/Hide attributes'><svg class='icon xr-icon-file-text2'><use xlink:href='#icon-file-text2'></use></svg></label><input id='data-061f7af2-2e6a-4a33-994b-86884f3841a1' class='xr-var-data-in' type='checkbox'><label for='data-061f7af2-2e6a-4a33-994b-86884f3841a1' title='Show/Hide data repr'><svg class='icon xr-icon-database'><use xlink:href='#icon-database'></use></svg></label><div class='xr-var-attrs'><dl class='xr-attrs'></dl></div><div class='xr-var-data'><pre>array([-83.49, -83.48, -83.47, -83.46, -83.45, -83.44, -83.43, -83.42, -83.41,\n",
       "       -83.4 , -83.39, -83.38, -83.37, -83.36, -83.35, -83.34, -83.33, -83.32,\n",
       "       -83.31, -83.3 , -83.29, -83.28, -83.27, -83.26, -83.25, -83.24, -83.23,\n",
       "       -83.22, -83.21, -83.2 , -83.19, -83.18, -83.17, -83.16, -83.15, -83.14,\n",
       "       -83.13, -83.12, -83.11, -83.1 , -83.09, -83.08, -83.07, -83.06, -83.05,\n",
       "       -83.04, -83.03, -83.02, -83.01, -83.  , -82.99, -82.98, -82.97, -82.96,\n",
       "       -82.95, -82.94, -82.93, -82.92, -82.91, -82.9 , -82.89, -82.88, -82.87,\n",
       "       -82.86, -82.85, -82.84, -82.83, -82.82, -82.81, -82.8 , -82.79, -82.78,\n",
       "       -82.77, -82.76, -82.75, -82.74, -82.73, -82.72, -82.71, -82.7 , -82.69,\n",
       "       -82.68, -82.67, -82.66, -82.65, -82.64, -82.63, -82.62, -82.61, -82.6 ,\n",
       "       -82.59, -82.58, -82.57, -82.56, -82.55, -82.54, -82.53, -82.52, -82.51,\n",
       "       -82.5 , -82.49, -82.48, -82.47, -82.46, -82.45, -82.44, -82.43, -82.42,\n",
       "       -82.41, -82.4 , -82.39, -82.38, -82.37, -82.36, -82.35, -82.34, -82.33,\n",
       "       -82.32, -82.31, -82.3 ])</pre></div></li></ul></div></li><li class='xr-section-item'><input id='section-0f2f2e81-6c1c-467e-876c-6c6bd4e69e9a' class='xr-section-summary-in' type='checkbox'  ><label for='section-0f2f2e81-6c1c-467e-876c-6c6bd4e69e9a' class='xr-section-summary' >Indexes: <span>(2)</span></label><div class='xr-section-inline-details'></div><div class='xr-section-details'><ul class='xr-var-list'><li class='xr-var-item'><div class='xr-index-name'><div>latitude</div></div><div class='xr-index-preview'>PandasIndex</div><input type='checkbox' disabled/><label></label><input id='index-47752813-8c8a-49a2-b189-2bc82e9f5537' class='xr-index-data-in' type='checkbox'/><label for='index-47752813-8c8a-49a2-b189-2bc82e9f5537' title='Show/Hide index repr'><svg class='icon xr-icon-database'><use xlink:href='#icon-database'></use></svg></label><div class='xr-index-data'><pre>PandasIndex(Index([ 41.30000000006717,  41.31000000006718,  41.32000000006718,\n",
       "        41.33000000006719,  41.34000000006719,   41.3500000000672,\n",
       "         41.3600000000672,  41.37000000006721,  41.38000000006721,\n",
       "        41.39000000006722,  41.40000000006722,  41.41000000006723,\n",
       "        41.42000000006723,  41.43000000006724,  41.44000000006724,\n",
       "        41.45000000006725, 41.460000000067254,  41.47000000006726,\n",
       "       41.480000000067264,  41.49000000006727, 41.500000000067274,\n",
       "        41.51000000006728, 41.520000000067284,  41.53000000006729,\n",
       "       41.540000000067295,   41.5500000000673, 41.560000000067305,\n",
       "        41.57000000006731, 41.580000000067315,  41.59000000006732,\n",
       "       41.600000000067325,  41.61000000006733, 41.620000000067336,\n",
       "        41.63000000006734, 41.640000000067346,  41.65000000006735,\n",
       "       41.660000000067356,  41.67000000006736, 41.680000000067366,\n",
       "        41.69000000006737,  41.70000000006738,  41.71000000006738,\n",
       "        41.72000000006739,  41.73000000006739,   41.7400000000674,\n",
       "         41.7500000000674,  41.76000000006741,  41.77000000006741,\n",
       "        41.78000000006742,  41.79000000006742,  41.80000000006743,\n",
       "        41.81000000006743,  41.82000000006744,  41.83000000006744,\n",
       "        41.84000000006745,  41.85000000006745,  41.86000000006746,\n",
       "        41.87000000006746,  41.88000000006747, 41.890000000067474,\n",
       "        41.90000000006748, 41.910000000067484,  41.92000000006749,\n",
       "       41.930000000067494,   41.9400000000675, 41.950000000067504,\n",
       "        41.96000000006751, 41.970000000067515,  41.98000000006752,\n",
       "       41.990000000067525,  42.00000000006753, 42.010000000067535,\n",
       "        42.02000000006754, 42.030000000067545,  42.04000000006755,\n",
       "       42.050000000067556,  42.06000000006756, 42.070000000067566,\n",
       "        42.08000000006757, 42.090000000067576,  42.10000000006758,\n",
       "       42.110000000067586,  42.12000000006759,   42.1300000000676,\n",
       "         42.1400000000676,  42.15000000006761,  42.16000000006761,\n",
       "        42.17000000006762,  42.18000000006762,  42.19000000006763],\n",
       "      dtype=&#x27;float64&#x27;, name=&#x27;latitude&#x27;))</pre></div></li><li class='xr-var-item'><div class='xr-index-name'><div>longitude</div></div><div class='xr-index-preview'>PandasIndex</div><input type='checkbox' disabled/><label></label><input id='index-46f5b258-e8ec-4832-a563-5c0bf0a9d23f' class='xr-index-data-in' type='checkbox'/><label for='index-46f5b258-e8ec-4832-a563-5c0bf0a9d23f' title='Show/Hide index repr'><svg class='icon xr-icon-database'><use xlink:href='#icon-database'></use></svg></label><div class='xr-index-data'><pre>PandasIndex(Index([-83.49000000008778, -83.48000000008778,  -83.4700000000878,\n",
       "        -83.4600000000878, -83.45000000008781, -83.44000000008782,\n",
       "       -83.43000000008783, -83.42000000008784, -83.41000000008785,\n",
       "       -83.40000000008786,\n",
       "       ...\n",
       "       -82.39000000008878, -82.38000000008878,  -82.3700000000888,\n",
       "        -82.3600000000888, -82.35000000008881, -82.34000000008882,\n",
       "       -82.33000000008883, -82.32000000008884, -82.31000000008885,\n",
       "       -82.30000000008886],\n",
       "      dtype=&#x27;float64&#x27;, name=&#x27;longitude&#x27;, length=120))</pre></div></li></ul></div></li><li class='xr-section-item'><input id='section-1b4b9674-90bd-49be-bfff-37399e17744d' class='xr-section-summary-in' type='checkbox' disabled ><label for='section-1b4b9674-90bd-49be-bfff-37399e17744d' class='xr-section-summary'  title='Expand/collapse section'>Attributes: <span>(0)</span></label><div class='xr-section-inline-details'></div><div class='xr-section-details'><dl class='xr-attrs'></dl></div></li></ul></div></div>"
      ],
      "text/plain": [
       "<xarray.DataArray 'Rrs_555' (latitude: 90, longitude: 120)> Size: 43kB\n",
       "array([[nan, nan, nan, ..., nan, nan, nan],\n",
       "       [nan, nan, nan, ..., nan, nan, nan],\n",
       "       [nan, nan, nan, ..., nan, nan, nan],\n",
       "       ...,\n",
       "       [nan, nan, nan, ..., nan, nan, nan],\n",
       "       [nan, nan, nan, ..., nan, nan, nan],\n",
       "       [nan, nan, nan, ..., nan, nan, nan]], dtype=float32)\n",
       "Coordinates:\n",
       "  * latitude   (latitude) float64 720B 41.3 41.31 41.32 ... 42.17 42.18 42.19\n",
       "  * longitude  (longitude) float64 960B -83.49 -83.48 -83.47 ... -82.31 -82.3"
      ]
     },
     "execution_count": 15,
     "metadata": {},
     "output_type": "execute_result"
    }
   ],
   "source": [
    "# Flatten the swath lat/lon\n",
    "lons = array['longitude'].values.flatten()\n",
    "lats = array['latitude'].values.flatten()\n",
    "data = array.values.flatten()\n",
    "\n",
    "# Mask out NaNs\n",
    "valid_mask = ~np.isnan(data) & ~np.isnan(lons) & ~np.isnan(lats)\n",
    "lons = lons[valid_mask]\n",
    "lats = lats[valid_mask]\n",
    "data = data[valid_mask]\n",
    "\n",
    "# Define swath\n",
    "swath_def = geometry.SwathDefinition(lons=lons, lats=lats)\n",
    "\n",
    "# Define target grid (regular lat/lon)\n",
    "target_lons = np.arange(-180, 180, 0.01)  # Choose region bounds/resolution\n",
    "target_lats = np.arange(-90, 90, 0.01)\n",
    "lon2d, lat2d = np.meshgrid(target_lons, target_lats)\n",
    "area_def = geometry.GridDefinition(lons=lon2d, lats=lat2d)\n",
    "\n",
    "# Regrid (nearest-neighbor)\n",
    "result = kd_tree.resample_nearest(\n",
    "    swath_def, data, area_def,\n",
    "    radius_of_influence=5000,  # in meters\n",
    "    fill_value=np.nan\n",
    ")\n",
    "\n",
    "# Create xarray DataArray\n",
    "regridded = xr.DataArray(\n",
    "    result,\n",
    "    dims=(\"latitude\", \"longitude\"),\n",
    "    coords={\"latitude\": target_lats, \"longitude\": target_lons},\n",
    "    name=\"Rrs_555\"\n",
    ")\n",
    "\n",
    "# Define bounding box\n",
    "min_lon, max_lon = -83.5, -82.3\n",
    "min_lat, max_lat = 41.3, 42.2\n",
    "\n",
    "# Subset the data\n",
    "regridded = regridded.sel(\n",
    "    longitude=slice(min_lon, max_lon),\n",
    "    latitude=slice(min_lat, max_lat)  # NOTE: latitude usually goes from high to low!\n",
    ")\n",
    "regridded"
   ]
  },
  {
   "cell_type": "code",
   "execution_count": 16,
   "id": "24d8d375-3098-4107-aa26-01f9b315289d",
   "metadata": {},
   "outputs": [
    {
     "data": {
      "text/plain": [
       "(-83.5, 41.3, -82.3, 42.2)"
      ]
     },
     "execution_count": 16,
     "metadata": {},
     "output_type": "execute_result"
    }
   ],
   "source": [
    "bbox"
   ]
  },
  {
   "cell_type": "code",
   "execution_count": 17,
   "id": "1080ca4e-1e68-490d-b4d4-1861b5725044",
   "metadata": {},
   "outputs": [],
   "source": [
    "min_lat = bbox[1]\n",
    "max_lat = bbox[3]\n",
    "min_lon = bbox[0]\n",
    "max_lon = bbox[2]"
   ]
  },
  {
   "cell_type": "markdown",
   "id": "0a58bddb",
   "metadata": {},
   "source": [
    "We can enrich the visualiation using `matplotlib` and `cartopy`. The coordinates are latitude and longitude, so if we add the \"Plate Carree\" coordinate reference system (CRS) to our axes, we will get an improved map."
   ]
  },
  {
   "cell_type": "code",
   "execution_count": 18,
   "id": "d0c561d4",
   "metadata": {},
   "outputs": [
    {
     "data": {
      "image/png": "[encoded data removed]",
      "text/plain": [
       "<Figure size 1000x700 with 2 Axes>"
      ]
     },
     "metadata": {},
     "output_type": "display_data"
    }
   ],
   "source": [
    "fig = plt.figure(figsize=(10, 7), dpi = 100)\n",
    "ax = plt.axes(projection=ccrs.PlateCarree())\n",
    "\n",
    "# Set extent: [west_lon, east_lon, south_lat, north_lat]\n",
    "ax.set_extent([min_lon, max_lon, min_lat, max_lat], crs=ccrs.PlateCarree())\n",
    "\n",
    "# Plot the data\n",
    "# Downsample if needed (e.g., every 5th point)\n",
    "regridded_plot = regridded.isel(latitude=slice(None, None, 1), longitude=slice(None, None, 1))\n",
    "vmin = float(regridded_plot.quantile(0.02))\n",
    "vmax = float(regridded_plot.quantile(0.98))\n",
    "regridded_plot.plot(x=\"longitude\", y=\"latitude\", cmap=\"jet\", vmin=vmin, vmax=vmax, ax=ax)\n",
    "\n",
    "\n",
    "# Add gridlines\n",
    "gl = ax.gridlines(draw_labels=False)\n",
    "gl.right_labels = False\n",
    "gl.top_labels = False\n",
    "\n",
    "# Add state borders\n",
    "# ax.add_feature(cfeature.STATES, linewidth=0.5)\n",
    "\n",
    "# Set title\n",
    "ax.set_title(dataset.attrs[\"product_name\"], loc=\"center\")\n",
    "\n",
    "plt.show()"
   ]
  },
  {
   "cell_type": "markdown",
   "id": "d2047e68",
   "metadata": {},
   "source": [
    "[back to top](#contents)\n",
    "\n",
    "<div class=\"alert alert-info\" role=\"alert\">\n",
    "\n",
    "You have completed the notebook on Aqua/MODIS L2 data exploration.\n",
    "\n",
    "</div>"
   ]
  },
  {
   "cell_type": "code",
   "execution_count": 19,
   "id": "38c768e1-fa5b-4c2f-ba3d-51b9b52aba3a",
   "metadata": {},
   "outputs": [
    {
     "name": "stdout",
     "output_type": "stream",
     "text": [
      "<xarray.DataArray 'Rrs_555' (number_of_lines: 2030, pixels_per_line: 1354)> Size: 11MB\n",
      "array([[nan, nan, nan, ..., nan, nan, nan],\n",
      "       [nan, nan, nan, ..., nan, nan, nan],\n",
      "       [nan, nan, nan, ..., nan, nan, nan],\n",
      "       ...,\n",
      "       [nan, nan, nan, ..., nan, nan, nan],\n",
      "       [nan, nan, nan, ..., nan, nan, nan],\n",
      "       [nan, nan, nan, ..., nan, nan, nan]], dtype=float32)\n",
      "Coordinates:\n",
      "    longitude  (number_of_lines, pixels_per_line) float32 11MB -79.93 ... -111.3\n",
      "    latitude   (number_of_lines, pixels_per_line) float32 11MB 29.41 ... 43.24\n",
      "Dimensions without coordinates: number_of_lines, pixels_per_line\n",
      "Attributes:\n",
      "    long_name:         Remote sensing reflectance at 555 nm\n",
      "    units:             (sr^-1)\n",
      "    standard_name:     surface_ratio_of_upwelling_radiance_emerging_from_sea_...\n",
      "    valid_min:         -30000\n",
      "    valid_max:         25000\n",
      "    solar_irradiance:  1837.5674\n"
     ]
    }
   ],
   "source": [
    "print(array)"
   ]
  },
  {
   "cell_type": "code",
   "execution_count": 20,
   "id": "82320167-3076-4d09-adf6-ea6e18dbcc66",
   "metadata": {},
   "outputs": [
    {
     "name": "stdout",
     "output_type": "stream",
     "text": [
      "Coordinates:\n",
      "    longitude  (number_of_lines, pixels_per_line) float32 11MB -79.93 ... -111.3\n",
      "    latitude   (number_of_lines, pixels_per_line) float32 11MB 29.41 ... 43.24\n"
     ]
    }
   ],
   "source": [
    "print(array.coords)"
   ]
  },
  {
   "cell_type": "code",
   "execution_count": 21,
   "id": "2f1ab679-1371-4edc-aa91-0c159e97d470",
   "metadata": {},
   "outputs": [
    {
     "name": "stdout",
     "output_type": "stream",
     "text": [
      "{'long_name': 'Remote sensing reflectance at 555 nm', 'units': '(sr^-1)', 'standard_name': 'surface_ratio_of_upwelling_radiance_emerging_from_sea_water_to_downwelling_radiative_flux_in_air', 'valid_min': np.int16(-30000), 'valid_max': np.int16(25000), 'solar_irradiance': np.float32(1837.5674)}\n"
     ]
    }
   ],
   "source": [
    "print(array.attrs)"
   ]
  },
  {
   "cell_type": "code",
   "execution_count": null,
   "id": "52071280-0c25-4089-a7f6-2fd52805e844",
   "metadata": {},
   "outputs": [],
   "source": []
  }
 ],
 "metadata": {
  "kernelspec": {
   "display_name": "Python 3 (ipykernel)",
   "language": "python",
   "name": "python3"
  },
  "language_info": {
   "codemirror_mode": {
    "name": "ipython",
    "version": 3
   },
   "file_extension": ".py",
   "mimetype": "text/x-python",
   "name": "python",
   "nbconvert_exporter": "python",
   "pygments_lexer": "ipython3",
   "version": "3.11.2"
  }
 },
 "nbformat": 4,
 "nbformat_minor": 5
}
