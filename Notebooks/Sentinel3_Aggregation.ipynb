{
 "cells": [
  {
   "cell_type": "code",
   "execution_count": 1,
   "id": "72bac3a9-2ef0-414c-a53c-45c78153c7fd",
   "metadata": {},
   "outputs": [
    {
     "name": "stderr",
     "output_type": "stream",
     "text": [
      "/Users/jessecox/.pyenv/versions/3.11.2/lib/python3.11/site-packages/tqdm/auto.py:21: TqdmWarning: IProgress not found. Please update jupyter and ipywidgets. See https://ipywidgets.readthedocs.io/en/stable/user_install.html\n",
      "  from .autonotebook import tqdm as notebook_tqdm\n"
     ]
    },
    {
     "name": "stdout",
     "output_type": "stream",
     "text": [
      "Trying to find wavelengths in OLCIS3A_L2_EFR_OC from ('2024-06-01', '2024-06-05')...\n"
     ]
    },
    {
     "name": "stderr",
     "output_type": "stream",
     "text": [
      "QUEUEING TASKS | : 100%|████████████████████████| 8/8 [00:00<00:00, 3118.73it/s]\n",
      "PROCESSING TASKS | : 100%|█████████████████████| 8/8 [00:00<00:00, 40378.38it/s]\n",
      "COLLECTING RESULTS | : 100%|██████████████████| 8/8 [00:00<00:00, 107892.06it/s]\n"
     ]
    },
    {
     "name": "stdout",
     "output_type": "stream",
     "text": [
      "found wavelength\n",
      "Found wavelengths in ../Data/S3A_OLCI_EFRNT.20240602T160846.L2.OC.nc (21 channels)\n",
      "Found 21 channels.\n",
      "\n",
      "Processing 2024-04-14 (composite window 2024-04-13 to 2024-04-13)\n",
      "Need to download 6 new files for this window.\n"
     ]
    },
    {
     "name": "stderr",
     "output_type": "stream",
     "text": [
      "QUEUEING TASKS | : 100%|█████████████████████████| 6/6 [00:00<00:00, 452.89it/s]\n",
      "PROCESSING TASKS | : 100%|████████████████████████| 6/6 [00:24<00:00,  4.04s/it]\n",
      "COLLECTING RESULTS | : 100%|██████████████████| 6/6 [00:00<00:00, 125829.12it/s]\n"
     ]
    },
    {
     "name": "stdout",
     "output_type": "stream",
     "text": [
      "Processing S3A_OLCI_EFRNT.20240413T160500.L2.OC.nc (not in cache)\n",
      "Available variables in S3A_OLCI_EFRNT.20240413T160500.L2.OC.nc:\n",
      "['aot_865', 'angstrom', 'Rrs_400', 'Rrs_412', 'Rrs_443', 'Rrs_490', 'Rrs_510', 'Rrs_560', 'Rrs_620', 'Rrs_665', 'Rrs_674', 'Rrs_681', 'Rrs_709', 'chlor_a', 'Kd_490', 'l2_flags']\n",
      "Expected Rrs variable names (based on reference wavelengths):\n",
      "['Rrs_400', 'Rrs_412', 'Rrs_443', 'Rrs_490', 'Rrs_510', 'Rrs_560', 'Rrs_620', 'Rrs_665', 'Rrs_674', 'Rrs_681', 'Rrs_709', 'Rrs_754', 'Rrs_762', 'Rrs_765', 'Rrs_768', 'Rrs_779', 'Rrs_865', 'Rrs_884', 'Rrs_899', 'Rrs_939', 'Rrs_1013']\n"
     ]
    },
    {
     "name": "stderr",
     "output_type": "stream",
     "text": [
      "                                                                                \r"
     ]
    },
    {
     "name": "stdout",
     "output_type": "stream",
     "text": [
      "Cached data to ../Cache/S3A_OLCI_EFRNT.20240413T160500.L2.OC.nc.npz\n",
      "Using cached data for S3A_OLCI_EFRNT.20240413T160500.L2.OC.nc\n",
      "Using cached data for S3B_OLCI_EFRNT.20240413T152600.L2.OC.nc\n",
      "Using cached data for S3B_OLCI_EFRNT.20240413T152900.L2.OC.nc\n",
      "Using cached data for S3B_OLCI_EFRNT.20240413T152600.L2.OC.nc\n",
      "Using cached data for S3B_OLCI_EFRNT.20240413T152900.L2.OC.nc\n",
      "Deleted old file: S3A_OLCI_EFRNT.20240413T160500.L2.OC.nc\n",
      "Deleted old file: S3B_OLCI_EFRNT.20240413T152900.L2.OC.nc\n",
      "Deleted old file: S3B_OLCI_EFRNT.20240413T152600.L2.OC.nc\n",
      "\n",
      "Processing 2024-04-15 (composite window 2024-04-14 to 2024-04-14)\n",
      "Need to download 2 new files for this window.\n"
     ]
    },
    {
     "name": "stderr",
     "output_type": "stream",
     "text": [
      "QUEUEING TASKS | : 100%|█████████████████████████| 2/2 [00:00<00:00, 656.85it/s]\n",
      "PROCESSING TASKS | : 100%|████████████████████████| 2/2 [00:07<00:00,  3.68s/it]\n",
      "COLLECTING RESULTS | : 100%|███████████████████| 2/2 [00:00<00:00, 40721.40it/s]\n"
     ]
    },
    {
     "name": "stdout",
     "output_type": "stream",
     "text": [
      "Processing S3A_OLCI_EFRNT.20240414T153850.L2.OC.nc (not in cache)\n",
      "Available variables in S3A_OLCI_EFRNT.20240414T153850.L2.OC.nc:\n",
      "['aot_865', 'angstrom', 'Rrs_400', 'Rrs_412', 'Rrs_443', 'Rrs_490', 'Rrs_510', 'Rrs_560', 'Rrs_620', 'Rrs_665', 'Rrs_674', 'Rrs_681', 'Rrs_709', 'chlor_a', 'Kd_490', 'l2_flags']\n",
      "Expected Rrs variable names (based on reference wavelengths):\n",
      "['Rrs_400', 'Rrs_412', 'Rrs_443', 'Rrs_490', 'Rrs_510', 'Rrs_560', 'Rrs_620', 'Rrs_665', 'Rrs_674', 'Rrs_681', 'Rrs_709', 'Rrs_754', 'Rrs_762', 'Rrs_765', 'Rrs_768', 'Rrs_779', 'Rrs_865', 'Rrs_884', 'Rrs_899', 'Rrs_939', 'Rrs_1013']\n"
     ]
    },
    {
     "name": "stderr",
     "output_type": "stream",
     "text": [
      "                                                                                \r"
     ]
    },
    {
     "name": "stdout",
     "output_type": "stream",
     "text": [
      "Cached data to ../Cache/S3A_OLCI_EFRNT.20240414T153850.L2.OC.nc.npz\n",
      "Using cached data for S3A_OLCI_EFRNT.20240414T153850.L2.OC.nc\n",
      "Deleted old file: S3A_OLCI_EFRNT.20240414T153850.L2.OC.nc\n",
      "\n",
      "Processing 2024-04-16 (composite window 2024-04-15 to 2024-04-15)\n",
      "Need to download 6 new files for this window.\n"
     ]
    },
    {
     "name": "stderr",
     "output_type": "stream",
     "text": [
      "QUEUEING TASKS | : 100%|█████████████████████████| 6/6 [00:00<00:00, 192.10it/s]\n",
      "PROCESSING TASKS | : 100%|████████████████████████| 6/6 [00:29<00:00,  4.94s/it]\n",
      "COLLECTING RESULTS | : 100%|██████████████████| 6/6 [00:00<00:00, 127100.12it/s]\n"
     ]
    },
    {
     "name": "stdout",
     "output_type": "stream",
     "text": [
      "Processing S3A_OLCI_EFRNT.20240415T151239.L2.OC.nc (not in cache)\n",
      "Available variables in S3A_OLCI_EFRNT.20240415T151239.L2.OC.nc:\n",
      "['aot_865', 'angstrom', 'Rrs_400', 'Rrs_412', 'Rrs_443', 'Rrs_490', 'Rrs_510', 'Rrs_560', 'Rrs_620', 'Rrs_665', 'Rrs_674', 'Rrs_681', 'Rrs_709', 'chlor_a', 'Kd_490', 'l2_flags']\n",
      "Expected Rrs variable names (based on reference wavelengths):\n",
      "['Rrs_400', 'Rrs_412', 'Rrs_443', 'Rrs_490', 'Rrs_510', 'Rrs_560', 'Rrs_620', 'Rrs_665', 'Rrs_674', 'Rrs_681', 'Rrs_709', 'Rrs_754', 'Rrs_762', 'Rrs_765', 'Rrs_768', 'Rrs_779', 'Rrs_865', 'Rrs_884', 'Rrs_899', 'Rrs_939', 'Rrs_1013']\n"
     ]
    },
    {
     "name": "stderr",
     "output_type": "stream",
     "text": [
      "                                                                                \r"
     ]
    },
    {
     "name": "stdout",
     "output_type": "stream",
     "text": [
      "Cached data to ../Cache/S3A_OLCI_EFRNT.20240415T151239.L2.OC.nc.npz\n",
      "Processing S3A_OLCI_EFRNT.20240415T151539.L2.OC.nc (not in cache)\n",
      "Available variables in S3A_OLCI_EFRNT.20240415T151539.L2.OC.nc:\n",
      "['aot_865', 'angstrom', 'Rrs_400', 'Rrs_412', 'Rrs_443', 'Rrs_490', 'Rrs_510', 'Rrs_560', 'Rrs_620', 'Rrs_665', 'Rrs_674', 'Rrs_681', 'Rrs_709', 'chlor_a', 'Kd_490', 'l2_flags']\n",
      "Expected Rrs variable names (based on reference wavelengths):\n",
      "['Rrs_400', 'Rrs_412', 'Rrs_443', 'Rrs_490', 'Rrs_510', 'Rrs_560', 'Rrs_620', 'Rrs_665', 'Rrs_674', 'Rrs_681', 'Rrs_709', 'Rrs_754', 'Rrs_762', 'Rrs_765', 'Rrs_768', 'Rrs_779', 'Rrs_865', 'Rrs_884', 'Rrs_899', 'Rrs_939', 'Rrs_1013']\n"
     ]
    },
    {
     "name": "stderr",
     "output_type": "stream",
     "text": [
      "                                                                                \r"
     ]
    },
    {
     "name": "stdout",
     "output_type": "stream",
     "text": [
      "Cached data to ../Cache/S3A_OLCI_EFRNT.20240415T151539.L2.OC.nc.npz\n",
      "Using cached data for S3A_OLCI_EFRNT.20240415T151239.L2.OC.nc\n",
      "Using cached data for S3A_OLCI_EFRNT.20240415T151539.L2.OC.nc\n",
      "Using cached data for S3B_OLCI_EFRNT.20240415T161438.L2.OC.nc\n",
      "Using cached data for S3B_OLCI_EFRNT.20240415T161438.L2.OC.nc\n",
      "Deleted old file: S3A_OLCI_EFRNT.20240415T151239.L2.OC.nc\n",
      "Deleted old file: S3B_OLCI_EFRNT.20240415T161438.L2.OC.nc\n",
      "Deleted old file: S3A_OLCI_EFRNT.20240415T151539.L2.OC.nc\n",
      "\n",
      "Processing 2024-04-17 (composite window 2024-04-16 to 2024-04-16)\n",
      "Need to download 2 new files for this window.\n"
     ]
    },
    {
     "name": "stderr",
     "output_type": "stream",
     "text": [
      "QUEUEING TASKS | : 100%|█████████████████████████| 2/2 [00:00<00:00, 577.37it/s]\n",
      "PROCESSING TASKS | : 100%|████████████████████████| 2/2 [00:06<00:00,  3.24s/it]\n",
      "COLLECTING RESULTS | : 100%|███████████████████| 2/2 [00:00<00:00, 15141.89it/s]\n"
     ]
    },
    {
     "name": "stdout",
     "output_type": "stream",
     "text": [
      "Using cached data for S3B_OLCI_EFRNT.20240416T154827.L2.OC.nc\n",
      "Using cached data for S3B_OLCI_EFRNT.20240416T154827.L2.OC.nc\n",
      "Deleted old file: S3B_OLCI_EFRNT.20240416T154827.L2.OC.nc\n",
      "\n",
      "Processing 2024-04-18 (composite window 2024-04-17 to 2024-04-17)\n",
      "Need to download 6 new files for this window.\n"
     ]
    },
    {
     "name": "stderr",
     "output_type": "stream",
     "text": [
      "QUEUEING TASKS | : 100%|████████████████████████| 6/6 [00:00<00:00, 1106.38it/s]\n",
      "PROCESSING TASKS | : 100%|████████████████████████| 6/6 [00:16<00:00,  2.82s/it]\n",
      "COLLECTING RESULTS | : 100%|███████████████████| 6/6 [00:00<00:00, 28959.52it/s]\n"
     ]
    },
    {
     "name": "stdout",
     "output_type": "stream",
     "text": [
      "Processing S3A_OLCI_EFRNT.20240417T160116.L2.OC.nc (not in cache)\n",
      "Available variables in S3A_OLCI_EFRNT.20240417T160116.L2.OC.nc:\n",
      "['aot_865', 'angstrom', 'Rrs_400', 'Rrs_412', 'Rrs_443', 'Rrs_490', 'Rrs_510', 'Rrs_560', 'Rrs_620', 'Rrs_665', 'Rrs_674', 'Rrs_681', 'Rrs_709', 'chlor_a', 'Kd_490', 'l2_flags']\n",
      "Expected Rrs variable names (based on reference wavelengths):\n",
      "['Rrs_400', 'Rrs_412', 'Rrs_443', 'Rrs_490', 'Rrs_510', 'Rrs_560', 'Rrs_620', 'Rrs_665', 'Rrs_674', 'Rrs_681', 'Rrs_709', 'Rrs_754', 'Rrs_762', 'Rrs_765', 'Rrs_768', 'Rrs_779', 'Rrs_865', 'Rrs_884', 'Rrs_899', 'Rrs_939', 'Rrs_1013']\n"
     ]
    },
    {
     "name": "stderr",
     "output_type": "stream",
     "text": [
      "                                                                                \r"
     ]
    },
    {
     "name": "stdout",
     "output_type": "stream",
     "text": [
      "Cached data to ../Cache/S3A_OLCI_EFRNT.20240417T160116.L2.OC.nc.npz\n",
      "Using cached data for S3A_OLCI_EFRNT.20240417T160116.L2.OC.nc\n",
      "Using cached data for S3B_OLCI_EFRNT.20240417T152216.L2.OC.nc\n",
      "Using cached data for S3B_OLCI_EFRNT.20240417T152516.L2.OC.nc\n",
      "Using cached data for S3B_OLCI_EFRNT.20240417T152216.L2.OC.nc\n",
      "Using cached data for S3B_OLCI_EFRNT.20240417T152516.L2.OC.nc\n",
      "Deleted old file: S3A_OLCI_EFRNT.20240417T160116.L2.OC.nc\n",
      "Deleted old file: S3B_OLCI_EFRNT.20240417T152516.L2.OC.nc\n",
      "Deleted old file: S3B_OLCI_EFRNT.20240417T152216.L2.OC.nc\n",
      "\n",
      "Processing 2024-04-19 (composite window 2024-04-18 to 2024-04-18)\n",
      "Need to download 4 new files for this window.\n"
     ]
    },
    {
     "name": "stderr",
     "output_type": "stream",
     "text": [
      "QUEUEING TASKS | : 100%|█████████████████████████| 4/4 [00:00<00:00, 510.27it/s]\n",
      "PROCESSING TASKS | : 100%|████████████████████████| 4/4 [00:14<00:00,  3.55s/it]\n",
      "COLLECTING RESULTS | : 100%|███████████████████| 4/4 [00:00<00:00, 32768.00it/s]\n"
     ]
    },
    {
     "name": "stdout",
     "output_type": "stream",
     "text": [
      "Processing S3A_OLCI_EFRNT.20240418T153505.L2.OC.nc (not in cache)\n",
      "Available variables in S3A_OLCI_EFRNT.20240418T153505.L2.OC.nc:\n",
      "['aot_865', 'angstrom', 'Rrs_400', 'Rrs_412', 'Rrs_443', 'Rrs_490', 'Rrs_510', 'Rrs_560', 'Rrs_620', 'Rrs_665', 'Rrs_674', 'Rrs_681', 'Rrs_709', 'chlor_a', 'Kd_490', 'l2_flags']\n",
      "Expected Rrs variable names (based on reference wavelengths):\n",
      "['Rrs_400', 'Rrs_412', 'Rrs_443', 'Rrs_490', 'Rrs_510', 'Rrs_560', 'Rrs_620', 'Rrs_665', 'Rrs_674', 'Rrs_681', 'Rrs_709', 'Rrs_754', 'Rrs_762', 'Rrs_765', 'Rrs_768', 'Rrs_779', 'Rrs_865', 'Rrs_884', 'Rrs_899', 'Rrs_939', 'Rrs_1013']\n"
     ]
    },
    {
     "name": "stderr",
     "output_type": "stream",
     "text": [
      "                                                                                \r"
     ]
    },
    {
     "name": "stdout",
     "output_type": "stream",
     "text": [
      "Cached data to ../Cache/S3A_OLCI_EFRNT.20240418T153505.L2.OC.nc.npz\n",
      "Processing S3A_OLCI_EFRNT.20240418T153805.L2.OC.nc (not in cache)\n",
      "Available variables in S3A_OLCI_EFRNT.20240418T153805.L2.OC.nc:\n",
      "['aot_865', 'angstrom', 'Rrs_400', 'Rrs_412', 'Rrs_443', 'Rrs_490', 'Rrs_510', 'Rrs_560', 'Rrs_620', 'Rrs_665', 'Rrs_674', 'Rrs_681', 'Rrs_709', 'chlor_a', 'Kd_490', 'l2_flags']\n",
      "Expected Rrs variable names (based on reference wavelengths):\n",
      "['Rrs_400', 'Rrs_412', 'Rrs_443', 'Rrs_490', 'Rrs_510', 'Rrs_560', 'Rrs_620', 'Rrs_665', 'Rrs_674', 'Rrs_681', 'Rrs_709', 'Rrs_754', 'Rrs_762', 'Rrs_765', 'Rrs_768', 'Rrs_779', 'Rrs_865', 'Rrs_884', 'Rrs_899', 'Rrs_939', 'Rrs_1013']\n"
     ]
    },
    {
     "name": "stderr",
     "output_type": "stream",
     "text": [
      "                                                                                \r"
     ]
    },
    {
     "name": "stdout",
     "output_type": "stream",
     "text": [
      "Cached data to ../Cache/S3A_OLCI_EFRNT.20240418T153805.L2.OC.nc.npz\n",
      "Using cached data for S3A_OLCI_EFRNT.20240418T153505.L2.OC.nc\n",
      "Using cached data for S3A_OLCI_EFRNT.20240418T153805.L2.OC.nc\n",
      "Deleted old file: S3A_OLCI_EFRNT.20240418T153805.L2.OC.nc\n",
      "Deleted old file: S3A_OLCI_EFRNT.20240418T153505.L2.OC.nc\n",
      "\n",
      "Processing 2024-04-20 (composite window 2024-04-19 to 2024-04-19)\n",
      "Need to download 2 new files for this window.\n"
     ]
    },
    {
     "name": "stderr",
     "output_type": "stream",
     "text": [
      "QUEUEING TASKS | : 100%|████████████████████████| 2/2 [00:00<00:00, 1995.86it/s]\n",
      "PROCESSING TASKS | : 100%|█████████████████████| 2/2 [00:00<00:00, 10106.76it/s]\n",
      "COLLECTING RESULTS | : 100%|███████████████████| 2/2 [00:00<00:00, 26886.56it/s]"
     ]
    },
    {
     "name": "stdout",
     "output_type": "stream",
     "text": [
      "Using cached data for S3B_OLCI_EFRNT.20240419T161054.L2.OC.nc\n"
     ]
    },
    {
     "name": "stderr",
     "output_type": "stream",
     "text": [
      "\n"
     ]
    },
    {
     "name": "stdout",
     "output_type": "stream",
     "text": [
      "Using cached data for S3B_OLCI_EFRNT.20240419T161054.L2.OC.nc\n",
      "Deleted old file: S3B_OLCI_EFRNT.20240419T161054.L2.OC.nc\n",
      "\n",
      "Processing 2024-04-21 (composite window 2024-04-20 to 2024-04-20)\n",
      "Need to download 2 new files for this window.\n"
     ]
    },
    {
     "name": "stderr",
     "output_type": "stream",
     "text": [
      "QUEUEING TASKS | : 100%|█████████████████████████| 2/2 [00:00<00:00, 665.82it/s]\n",
      "PROCESSING TASKS | : 100%|████████████████████████| 2/2 [00:06<00:00,  3.17s/it]\n",
      "COLLECTING RESULTS | : 100%|███████████████████| 2/2 [00:00<00:00, 28926.23it/s]\n"
     ]
    },
    {
     "name": "stdout",
     "output_type": "stream",
     "text": [
      "Using cached data for S3B_OLCI_EFRNT.20240420T154444.L2.OC.nc\n",
      "Using cached data for S3B_OLCI_EFRNT.20240420T154444.L2.OC.nc\n",
      "Deleted old file: S3B_OLCI_EFRNT.20240420T154444.L2.OC.nc\n",
      "\n",
      "Processing 2024-04-22 (composite window 2024-04-21 to 2024-04-21)\n",
      "Need to download 6 new files for this window.\n"
     ]
    },
    {
     "name": "stderr",
     "output_type": "stream",
     "text": [
      "QUEUEING TASKS | : 100%|█████████████████████████| 6/6 [00:00<00:00, 708.32it/s]\n",
      "PROCESSING TASKS | : 100%|████████████████████████| 6/6 [00:19<00:00,  3.20s/it]\n",
      "COLLECTING RESULTS | : 100%|███████████████████| 6/6 [00:00<00:00, 52211.25it/s]\n"
     ]
    },
    {
     "name": "stdout",
     "output_type": "stream",
     "text": [
      "Processing S3A_OLCI_EFRNT.20240421T155731.L2.OC.nc (not in cache)\n",
      "Available variables in S3A_OLCI_EFRNT.20240421T155731.L2.OC.nc:\n",
      "['aot_865', 'angstrom', 'Rrs_400', 'Rrs_412', 'Rrs_443', 'Rrs_490', 'Rrs_510', 'Rrs_560', 'Rrs_620', 'Rrs_665', 'Rrs_674', 'Rrs_681', 'Rrs_709', 'chlor_a', 'Kd_490', 'l2_flags']\n",
      "Expected Rrs variable names (based on reference wavelengths):\n",
      "['Rrs_400', 'Rrs_412', 'Rrs_443', 'Rrs_490', 'Rrs_510', 'Rrs_560', 'Rrs_620', 'Rrs_665', 'Rrs_674', 'Rrs_681', 'Rrs_709', 'Rrs_754', 'Rrs_762', 'Rrs_765', 'Rrs_768', 'Rrs_779', 'Rrs_865', 'Rrs_884', 'Rrs_899', 'Rrs_939', 'Rrs_1013']\n"
     ]
    },
    {
     "name": "stderr",
     "output_type": "stream",
     "text": [
      "                                                                                \r"
     ]
    },
    {
     "name": "stdout",
     "output_type": "stream",
     "text": [
      "Cached data to ../Cache/S3A_OLCI_EFRNT.20240421T155731.L2.OC.nc.npz\n",
      "Using cached data for S3A_OLCI_EFRNT.20240421T155731.L2.OC.nc\n",
      "Using cached data for S3B_OLCI_EFRNT.20240421T151833.L2.OC.nc\n",
      "Using cached data for S3B_OLCI_EFRNT.20240421T152133.L2.OC.nc\n",
      "Using cached data for S3B_OLCI_EFRNT.20240421T151833.L2.OC.nc\n",
      "Using cached data for S3B_OLCI_EFRNT.20240421T152133.L2.OC.nc\n",
      "Deleted old file: S3B_OLCI_EFRNT.20240421T151833.L2.OC.nc\n",
      "Deleted old file: S3A_OLCI_EFRNT.20240421T155731.L2.OC.nc\n",
      "Deleted old file: S3B_OLCI_EFRNT.20240421T152133.L2.OC.nc\n",
      "\n",
      "Processing 2024-04-23 (composite window 2024-04-22 to 2024-04-22)\n",
      "Need to download 4 new files for this window.\n"
     ]
    },
    {
     "name": "stderr",
     "output_type": "stream",
     "text": [
      "QUEUEING TASKS | : 100%|█████████████████████████| 4/4 [00:00<00:00, 759.01it/s]\n",
      "PROCESSING TASKS | : 100%|████████████████████████| 4/4 [00:13<00:00,  3.26s/it]\n",
      "COLLECTING RESULTS | : 100%|███████████████████| 4/4 [00:00<00:00, 66576.25it/s]\n"
     ]
    },
    {
     "name": "stdout",
     "output_type": "stream",
     "text": [
      "Processing S3A_OLCI_EFRNT.20240422T153120.L2.OC.nc (not in cache)\n",
      "Available variables in S3A_OLCI_EFRNT.20240422T153120.L2.OC.nc:\n",
      "['aot_865', 'angstrom', 'Rrs_400', 'Rrs_412', 'Rrs_443', 'Rrs_490', 'Rrs_510', 'Rrs_560', 'Rrs_620', 'Rrs_665', 'Rrs_674', 'Rrs_681', 'Rrs_709', 'chlor_a', 'Kd_490', 'l2_flags']\n",
      "Expected Rrs variable names (based on reference wavelengths):\n",
      "['Rrs_400', 'Rrs_412', 'Rrs_443', 'Rrs_490', 'Rrs_510', 'Rrs_560', 'Rrs_620', 'Rrs_665', 'Rrs_674', 'Rrs_681', 'Rrs_709', 'Rrs_754', 'Rrs_762', 'Rrs_765', 'Rrs_768', 'Rrs_779', 'Rrs_865', 'Rrs_884', 'Rrs_899', 'Rrs_939', 'Rrs_1013']\n"
     ]
    },
    {
     "name": "stderr",
     "output_type": "stream",
     "text": [
      "                                                                                \r"
     ]
    },
    {
     "name": "stdout",
     "output_type": "stream",
     "text": [
      "Cached data to ../Cache/S3A_OLCI_EFRNT.20240422T153120.L2.OC.nc.npz\n",
      "Processing S3A_OLCI_EFRNT.20240422T153420.L2.OC.nc (not in cache)\n",
      "Available variables in S3A_OLCI_EFRNT.20240422T153420.L2.OC.nc:\n",
      "['aot_865', 'angstrom', 'Rrs_400', 'Rrs_412', 'Rrs_443', 'Rrs_490', 'Rrs_510', 'Rrs_560', 'Rrs_620', 'Rrs_665', 'Rrs_674', 'Rrs_681', 'Rrs_709', 'chlor_a', 'Kd_490', 'l2_flags']\n",
      "Expected Rrs variable names (based on reference wavelengths):\n",
      "['Rrs_400', 'Rrs_412', 'Rrs_443', 'Rrs_490', 'Rrs_510', 'Rrs_560', 'Rrs_620', 'Rrs_665', 'Rrs_674', 'Rrs_681', 'Rrs_709', 'Rrs_754', 'Rrs_762', 'Rrs_765', 'Rrs_768', 'Rrs_779', 'Rrs_865', 'Rrs_884', 'Rrs_899', 'Rrs_939', 'Rrs_1013']\n"
     ]
    },
    {
     "name": "stderr",
     "output_type": "stream",
     "text": [
      "                                                                                \r"
     ]
    },
    {
     "name": "stdout",
     "output_type": "stream",
     "text": [
      "Cached data to ../Cache/S3A_OLCI_EFRNT.20240422T153420.L2.OC.nc.npz\n",
      "Using cached data for S3A_OLCI_EFRNT.20240422T153120.L2.OC.nc\n",
      "Using cached data for S3A_OLCI_EFRNT.20240422T153420.L2.OC.nc\n",
      "Deleted old file: S3A_OLCI_EFRNT.20240422T153420.L2.OC.nc\n",
      "Deleted old file: S3A_OLCI_EFRNT.20240422T153120.L2.OC.nc\n",
      "\n",
      "Processing 2024-04-24 (composite window 2024-04-23 to 2024-04-23)\n",
      "Need to download 2 new files for this window.\n"
     ]
    },
    {
     "name": "stderr",
     "output_type": "stream",
     "text": [
      "QUEUEING TASKS | : 100%|████████████████████████| 2/2 [00:00<00:00, 1138.83it/s]\n",
      "PROCESSING TASKS | : 100%|████████████████████████| 2/2 [00:06<00:00,  3.11s/it]\n",
      "COLLECTING RESULTS | : 100%|███████████████████| 2/2 [00:00<00:00, 35246.25it/s]\n"
     ]
    },
    {
     "name": "stdout",
     "output_type": "stream",
     "text": [
      "Using cached data for S3B_OLCI_EFRNT.20240423T160710.L2.OC.nc\n",
      "Using cached data for S3B_OLCI_EFRNT.20240423T160710.L2.OC.nc\n",
      "Deleted old file: S3B_OLCI_EFRNT.20240423T160710.L2.OC.nc\n",
      "\n",
      "Processing 2024-04-25 (composite window 2024-04-24 to 2024-04-24)\n",
      "Need to download 4 new files for this window.\n"
     ]
    },
    {
     "name": "stderr",
     "output_type": "stream",
     "text": [
      "QUEUEING TASKS | : 100%|█████████████████████████| 4/4 [00:00<00:00, 609.31it/s]\n",
      "PROCESSING TASKS | : 100%|████████████████████████| 4/4 [00:14<00:00,  3.54s/it]\n",
      "COLLECTING RESULTS | : 100%|███████████████████| 4/4 [00:00<00:00, 65281.00it/s]\n"
     ]
    },
    {
     "name": "stdout",
     "output_type": "stream",
     "text": [
      "Processing S3A_OLCI_EFRNT.20240424T161956.L2.OC.nc (not in cache)\n",
      "Available variables in S3A_OLCI_EFRNT.20240424T161956.L2.OC.nc:\n",
      "['aot_865', 'angstrom', 'Rrs_400', 'Rrs_412', 'Rrs_443', 'Rrs_490', 'Rrs_510', 'Rrs_560', 'Rrs_620', 'Rrs_665', 'Rrs_674', 'Rrs_681', 'Rrs_709', 'chlor_a', 'Kd_490', 'l2_flags']\n",
      "Expected Rrs variable names (based on reference wavelengths):\n",
      "['Rrs_400', 'Rrs_412', 'Rrs_443', 'Rrs_490', 'Rrs_510', 'Rrs_560', 'Rrs_620', 'Rrs_665', 'Rrs_674', 'Rrs_681', 'Rrs_709', 'Rrs_754', 'Rrs_762', 'Rrs_765', 'Rrs_768', 'Rrs_779', 'Rrs_865', 'Rrs_884', 'Rrs_899', 'Rrs_939', 'Rrs_1013']\n"
     ]
    },
    {
     "name": "stderr",
     "output_type": "stream",
     "text": [
      "                                                                                \r"
     ]
    },
    {
     "name": "stdout",
     "output_type": "stream",
     "text": [
      "Cached data to ../Cache/S3A_OLCI_EFRNT.20240424T161956.L2.OC.nc.npz\n",
      "Using cached data for S3A_OLCI_EFRNT.20240424T161956.L2.OC.nc\n",
      "Using cached data for S3B_OLCI_EFRNT.20240424T154059.L2.OC.nc\n",
      "Using cached data for S3B_OLCI_EFRNT.20240424T154059.L2.OC.nc\n",
      "Deleted old file: S3A_OLCI_EFRNT.20240424T161956.L2.OC.nc\n",
      "Deleted old file: S3B_OLCI_EFRNT.20240424T154059.L2.OC.nc\n",
      "\n",
      "Processing 2024-04-26 (composite window 2024-04-25 to 2024-04-25)\n",
      "Need to download 6 new files for this window.\n"
     ]
    },
    {
     "name": "stderr",
     "output_type": "stream",
     "text": [
      "QUEUEING TASKS | : 100%|█████████████████████████| 6/6 [00:00<00:00, 520.98it/s]\n",
      "PROCESSING TASKS | : 100%|████████████████████████| 6/6 [00:27<00:00,  4.62s/it]\n",
      "COLLECTING RESULTS | : 100%|██████████████████| 6/6 [00:00<00:00, 117597.31it/s]\n"
     ]
    },
    {
     "name": "stdout",
     "output_type": "stream",
     "text": [
      "Processing S3A_OLCI_EFRNT.20240425T155346.L2.OC.nc (not in cache)\n",
      "Available variables in S3A_OLCI_EFRNT.20240425T155346.L2.OC.nc:\n",
      "['aot_865', 'angstrom', 'Rrs_400', 'Rrs_412', 'Rrs_443', 'Rrs_490', 'Rrs_510', 'Rrs_560', 'Rrs_620', 'Rrs_665', 'Rrs_674', 'Rrs_681', 'Rrs_709', 'chlor_a', 'Kd_490', 'l2_flags']\n",
      "Expected Rrs variable names (based on reference wavelengths):\n",
      "['Rrs_400', 'Rrs_412', 'Rrs_443', 'Rrs_490', 'Rrs_510', 'Rrs_560', 'Rrs_620', 'Rrs_665', 'Rrs_674', 'Rrs_681', 'Rrs_709', 'Rrs_754', 'Rrs_762', 'Rrs_765', 'Rrs_768', 'Rrs_779', 'Rrs_865', 'Rrs_884', 'Rrs_899', 'Rrs_939', 'Rrs_1013']\n"
     ]
    },
    {
     "name": "stderr",
     "output_type": "stream",
     "text": [
      "                                                                                \r"
     ]
    },
    {
     "name": "stdout",
     "output_type": "stream",
     "text": [
      "Cached data to ../Cache/S3A_OLCI_EFRNT.20240425T155346.L2.OC.nc.npz\n",
      "Using cached data for S3A_OLCI_EFRNT.20240425T155346.L2.OC.nc\n",
      "Using cached data for S3B_OLCI_EFRNT.20240425T151448.L2.OC.nc\n",
      "Using cached data for S3B_OLCI_EFRNT.20240425T151748.L2.OC.nc\n",
      "Using cached data for S3B_OLCI_EFRNT.20240425T151448.L2.OC.nc\n",
      "Using cached data for S3B_OLCI_EFRNT.20240425T151748.L2.OC.nc\n",
      "Deleted old file: S3B_OLCI_EFRNT.20240425T151448.L2.OC.nc\n",
      "Deleted old file: S3A_OLCI_EFRNT.20240425T155346.L2.OC.nc\n",
      "Deleted old file: S3B_OLCI_EFRNT.20240425T151748.L2.OC.nc\n",
      "\n",
      "Processing 2024-04-27 (composite window 2024-04-26 to 2024-04-26)\n",
      "Need to download 4 new files for this window.\n"
     ]
    },
    {
     "name": "stderr",
     "output_type": "stream",
     "text": [
      "QUEUEING TASKS | : 100%|█████████████████████████| 4/4 [00:00<00:00, 253.65it/s]\n",
      "PROCESSING TASKS | : 100%|████████████████████████| 4/4 [00:18<00:00,  4.52s/it]\n",
      "COLLECTING RESULTS | : 100%|███████████████████| 4/4 [00:00<00:00, 39568.91it/s]\n"
     ]
    },
    {
     "name": "stdout",
     "output_type": "stream",
     "text": [
      "Processing S3A_OLCI_EFRNT.20240426T152735.L2.OC.nc (not in cache)\n",
      "Available variables in S3A_OLCI_EFRNT.20240426T152735.L2.OC.nc:\n",
      "['aot_865', 'angstrom', 'Rrs_400', 'Rrs_412', 'Rrs_443', 'Rrs_490', 'Rrs_510', 'Rrs_560', 'Rrs_620', 'Rrs_665', 'Rrs_674', 'Rrs_681', 'Rrs_709', 'chlor_a', 'Kd_490', 'l2_flags']\n",
      "Expected Rrs variable names (based on reference wavelengths):\n",
      "['Rrs_400', 'Rrs_412', 'Rrs_443', 'Rrs_490', 'Rrs_510', 'Rrs_560', 'Rrs_620', 'Rrs_665', 'Rrs_674', 'Rrs_681', 'Rrs_709', 'Rrs_754', 'Rrs_762', 'Rrs_765', 'Rrs_768', 'Rrs_779', 'Rrs_865', 'Rrs_884', 'Rrs_899', 'Rrs_939', 'Rrs_1013']\n"
     ]
    },
    {
     "name": "stderr",
     "output_type": "stream",
     "text": [
      "                                                                                \r"
     ]
    },
    {
     "name": "stdout",
     "output_type": "stream",
     "text": [
      "Cached data to ../Cache/S3A_OLCI_EFRNT.20240426T152735.L2.OC.nc.npz\n",
      "Processing S3A_OLCI_EFRNT.20240426T153035.L2.OC.nc (not in cache)\n",
      "Available variables in S3A_OLCI_EFRNT.20240426T153035.L2.OC.nc:\n",
      "['aot_865', 'angstrom', 'Rrs_400', 'Rrs_412', 'Rrs_443', 'Rrs_490', 'Rrs_510', 'Rrs_560', 'Rrs_620', 'Rrs_665', 'Rrs_674', 'Rrs_681', 'Rrs_709', 'chlor_a', 'Kd_490', 'l2_flags']\n",
      "Expected Rrs variable names (based on reference wavelengths):\n",
      "['Rrs_400', 'Rrs_412', 'Rrs_443', 'Rrs_490', 'Rrs_510', 'Rrs_560', 'Rrs_620', 'Rrs_665', 'Rrs_674', 'Rrs_681', 'Rrs_709', 'Rrs_754', 'Rrs_762', 'Rrs_765', 'Rrs_768', 'Rrs_779', 'Rrs_865', 'Rrs_884', 'Rrs_899', 'Rrs_939', 'Rrs_1013']\n"
     ]
    },
    {
     "name": "stderr",
     "output_type": "stream",
     "text": [
      "                                                                                \r"
     ]
    },
    {
     "name": "stdout",
     "output_type": "stream",
     "text": [
      "Cached data to ../Cache/S3A_OLCI_EFRNT.20240426T153035.L2.OC.nc.npz\n",
      "Using cached data for S3A_OLCI_EFRNT.20240426T152735.L2.OC.nc\n",
      "Using cached data for S3A_OLCI_EFRNT.20240426T153035.L2.OC.nc\n",
      "Deleted old file: S3A_OLCI_EFRNT.20240426T152735.L2.OC.nc\n",
      "Deleted old file: S3A_OLCI_EFRNT.20240426T153035.L2.OC.nc\n",
      "\n",
      "Processing 2024-04-28 (composite window 2024-04-27 to 2024-04-27)\n",
      "Need to download 2 new files for this window.\n"
     ]
    },
    {
     "name": "stderr",
     "output_type": "stream",
     "text": [
      "QUEUEING TASKS | : 100%|█████████████████████████| 2/2 [00:00<00:00, 445.14it/s]\n",
      "PROCESSING TASKS | : 100%|████████████████████████| 2/2 [00:05<00:00,  2.83s/it]\n",
      "COLLECTING RESULTS | : 100%|███████████████████| 2/2 [00:00<00:00, 20164.92it/s]\n"
     ]
    },
    {
     "name": "stdout",
     "output_type": "stream",
     "text": [
      "Using cached data for S3B_OLCI_EFRNT.20240427T160327.L2.OC.nc\n",
      "Using cached data for S3B_OLCI_EFRNT.20240427T160327.L2.OC.nc\n",
      "Deleted old file: S3B_OLCI_EFRNT.20240427T160327.L2.OC.nc\n",
      "\n",
      "Processing 2024-04-29 (composite window 2024-04-28 to 2024-04-28)\n",
      "Need to download 6 new files for this window.\n"
     ]
    },
    {
     "name": "stderr",
     "output_type": "stream",
     "text": [
      "QUEUEING TASKS | : 100%|█████████████████████████| 6/6 [00:00<00:00, 629.79it/s]\n",
      "PROCESSING TASKS | :  17%|████                    | 1/6 [00:09<00:47,  9.41s/it]\n",
      "Exception ignored in: <bound method IPythonKernel._clean_thread_parent_frames of <ipykernel.ipkernel.IPythonKernel object at 0x106d6ec50>>\n",
      "Traceback (most recent call last):\n",
      "  File \"/Users/jessecox/.pyenv/versions/3.11.2/lib/python3.11/site-packages/ipykernel/ipkernel.py\", line 775, in _clean_thread_parent_frames\n",
      "    def _clean_thread_parent_frames(\n",
      "\n",
      "KeyboardInterrupt: \n"
     ]
    },
    {
     "ename": "KeyboardInterrupt",
     "evalue": "",
     "output_type": "error",
     "traceback": [
      "\u001b[0;31m---------------------------------------------------------------------------\u001b[0m",
      "\u001b[0;31mKeyboardInterrupt\u001b[0m                         Traceback (most recent call last)",
      "File \u001b[0;32m~/.pyenv/versions/3.11.2/lib/python3.11/site-packages/pqdm/_base.py:65\u001b[0m, in \u001b[0;36m_parallel_process\u001b[0;34m(iterable, function, n_jobs, executor, argument_type, exception_behaviour, tqdm_class, **kwargs)\u001b[0m\n\u001b[1;32m     63\u001b[0m processing_opts[\u001b[38;5;124m'\u001b[39m\u001b[38;5;124mtotal\u001b[39m\u001b[38;5;124m'\u001b[39m] \u001b[38;5;241m=\u001b[39m \u001b[38;5;28mlen\u001b[39m(futures)\n\u001b[0;32m---> 65\u001b[0m \u001b[43m\u001b[49m\u001b[38;5;28;43;01mfor\u001b[39;49;00m\u001b[43m \u001b[49m\u001b[43m_\u001b[49m\u001b[43m \u001b[49m\u001b[38;5;129;43;01min\u001b[39;49;00m\u001b[43m \u001b[49m\u001b[43mtqdm_class\u001b[49m\u001b[43m(\u001b[49m\u001b[43mas_completed\u001b[49m\u001b[43m(\u001b[49m\u001b[43mfutures\u001b[49m\u001b[43m)\u001b[49m\u001b[43m,\u001b[49m\u001b[43m \u001b[49m\u001b[38;5;241;43m*\u001b[39;49m\u001b[38;5;241;43m*\u001b[39;49m\u001b[43mprocessing_opts\u001b[49m\u001b[43m)\u001b[49m\u001b[43m:\u001b[49m\n\u001b[1;32m     66\u001b[0m \u001b[43m    \u001b[49m\u001b[38;5;28;43;01mpass\u001b[39;49;00m\n",
      "File \u001b[0;32m~/.pyenv/versions/3.11.2/lib/python3.11/site-packages/tqdm/std.py:1181\u001b[0m, in \u001b[0;36mtqdm.__iter__\u001b[0;34m(self)\u001b[0m\n\u001b[1;32m   1180\u001b[0m \u001b[38;5;28;01mtry\u001b[39;00m:\n\u001b[0;32m-> 1181\u001b[0m \u001b[43m    \u001b[49m\u001b[38;5;28;43;01mfor\u001b[39;49;00m\u001b[43m \u001b[49m\u001b[43mobj\u001b[49m\u001b[43m \u001b[49m\u001b[38;5;129;43;01min\u001b[39;49;00m\u001b[43m \u001b[49m\u001b[43miterable\u001b[49m\u001b[43m:\u001b[49m\n\u001b[1;32m   1182\u001b[0m \u001b[43m        \u001b[49m\u001b[38;5;28;43;01myield\u001b[39;49;00m\u001b[43m \u001b[49m\u001b[43mobj\u001b[49m\n",
      "File \u001b[0;32m~/.pyenv/versions/3.11.2/lib/python3.11/concurrent/futures/_base.py:243\u001b[0m, in \u001b[0;36mas_completed\u001b[0;34m(fs, timeout)\u001b[0m\n\u001b[1;32m    239\u001b[0m         \u001b[38;5;28;01mraise\u001b[39;00m \u001b[38;5;167;01mTimeoutError\u001b[39;00m(\n\u001b[1;32m    240\u001b[0m                 \u001b[38;5;124m'\u001b[39m\u001b[38;5;132;01m%d\u001b[39;00m\u001b[38;5;124m (of \u001b[39m\u001b[38;5;132;01m%d\u001b[39;00m\u001b[38;5;124m) futures unfinished\u001b[39m\u001b[38;5;124m'\u001b[39m \u001b[38;5;241m%\u001b[39m (\n\u001b[1;32m    241\u001b[0m                 \u001b[38;5;28mlen\u001b[39m(pending), total_futures))\n\u001b[0;32m--> 243\u001b[0m \u001b[43mwaiter\u001b[49m\u001b[38;5;241;43m.\u001b[39;49m\u001b[43mevent\u001b[49m\u001b[38;5;241;43m.\u001b[39;49m\u001b[43mwait\u001b[49m\u001b[43m(\u001b[49m\u001b[43mwait_timeout\u001b[49m\u001b[43m)\u001b[49m\n\u001b[1;32m    245\u001b[0m \u001b[38;5;28;01mwith\u001b[39;00m waiter\u001b[38;5;241m.\u001b[39mlock:\n",
      "File \u001b[0;32m~/.pyenv/versions/3.11.2/lib/python3.11/threading.py:622\u001b[0m, in \u001b[0;36mEvent.wait\u001b[0;34m(self, timeout)\u001b[0m\n\u001b[1;32m    621\u001b[0m \u001b[38;5;28;01mif\u001b[39;00m \u001b[38;5;129;01mnot\u001b[39;00m signaled:\n\u001b[0;32m--> 622\u001b[0m     signaled \u001b[38;5;241m=\u001b[39m \u001b[38;5;28;43mself\u001b[39;49m\u001b[38;5;241;43m.\u001b[39;49m\u001b[43m_cond\u001b[49m\u001b[38;5;241;43m.\u001b[39;49m\u001b[43mwait\u001b[49m\u001b[43m(\u001b[49m\u001b[43mtimeout\u001b[49m\u001b[43m)\u001b[49m\n\u001b[1;32m    623\u001b[0m \u001b[38;5;28;01mreturn\u001b[39;00m signaled\n",
      "File \u001b[0;32m~/.pyenv/versions/3.11.2/lib/python3.11/threading.py:320\u001b[0m, in \u001b[0;36mCondition.wait\u001b[0;34m(self, timeout)\u001b[0m\n\u001b[1;32m    319\u001b[0m \u001b[38;5;28;01mif\u001b[39;00m timeout \u001b[38;5;129;01mis\u001b[39;00m \u001b[38;5;28;01mNone\u001b[39;00m:\n\u001b[0;32m--> 320\u001b[0m     \u001b[43mwaiter\u001b[49m\u001b[38;5;241;43m.\u001b[39;49m\u001b[43macquire\u001b[49m\u001b[43m(\u001b[49m\u001b[43m)\u001b[49m\n\u001b[1;32m    321\u001b[0m     gotit \u001b[38;5;241m=\u001b[39m \u001b[38;5;28;01mTrue\u001b[39;00m\n",
      "\u001b[0;31mKeyboardInterrupt\u001b[0m: ",
      "\nDuring handling of the above exception, another exception occurred:\n",
      "\u001b[0;31mKeyboardInterrupt\u001b[0m                         Traceback (most recent call last)",
      "Cell \u001b[0;32mIn[1], line 148\u001b[0m\n\u001b[1;32m    146\u001b[0m \u001b[38;5;28;01mif\u001b[39;00m to_download:\n\u001b[1;32m    147\u001b[0m     \u001b[38;5;28mprint\u001b[39m(\u001b[38;5;124mf\u001b[39m\u001b[38;5;124m\"\u001b[39m\u001b[38;5;124mNeed to download \u001b[39m\u001b[38;5;132;01m{\u001b[39;00m\u001b[38;5;28mlen\u001b[39m(to_download)\u001b[38;5;132;01m}\u001b[39;00m\u001b[38;5;124m new files for this window.\u001b[39m\u001b[38;5;124m\"\u001b[39m)\n\u001b[0;32m--> 148\u001b[0m     paths \u001b[38;5;241m=\u001b[39m \u001b[43msafe_download\u001b[49m\u001b[43m(\u001b[49m\u001b[43mto_download\u001b[49m\u001b[43m,\u001b[49m\u001b[43m \u001b[49m\u001b[38;5;124;43m\"\u001b[39;49m\u001b[38;5;124;43m../Data/\u001b[39;49m\u001b[38;5;124;43m\"\u001b[39;49m\u001b[43m)\u001b[49m\n\u001b[1;32m    149\u001b[0m     \u001b[38;5;28;01mif\u001b[39;00m \u001b[38;5;129;01mnot\u001b[39;00m paths:\n\u001b[1;32m    150\u001b[0m         \u001b[38;5;28mprint\u001b[39m(\u001b[38;5;124m\"\u001b[39m\u001b[38;5;124mNo files downloaded for this window. Skipping to next date.\u001b[39m\u001b[38;5;124m\"\u001b[39m)\n",
      "Cell \u001b[0;32mIn[1], line 58\u001b[0m, in \u001b[0;36msafe_download\u001b[0;34m(results, directory, max_retries)\u001b[0m\n\u001b[1;32m     56\u001b[0m \u001b[38;5;28;01mwhile\u001b[39;00m \u001b[38;5;28;01mTrue\u001b[39;00m:\n\u001b[1;32m     57\u001b[0m     \u001b[38;5;28;01mtry\u001b[39;00m:\n\u001b[0;32m---> 58\u001b[0m         paths \u001b[38;5;241m=\u001b[39m \u001b[43mearthaccess\u001b[49m\u001b[38;5;241;43m.\u001b[39;49m\u001b[43mdownload\u001b[49m\u001b[43m(\u001b[49m\u001b[43mresults\u001b[49m\u001b[43m,\u001b[49m\u001b[43m \u001b[49m\u001b[43mdirectory\u001b[49m\u001b[43m)\u001b[49m\n\u001b[1;32m     59\u001b[0m         \u001b[38;5;28;01mreturn\u001b[39;00m paths\n\u001b[1;32m     60\u001b[0m     \u001b[38;5;28;01mexcept\u001b[39;00m \u001b[38;5;167;01mException\u001b[39;00m \u001b[38;5;28;01mas\u001b[39;00m e:\n",
      "File \u001b[0;32m~/.pyenv/versions/3.11.2/lib/python3.11/site-packages/earthaccess/api.py:270\u001b[0m, in \u001b[0;36mdownload\u001b[0;34m(granules, local_path, provider, threads, pqdm_kwargs)\u001b[0m\n\u001b[1;32m    267\u001b[0m     granules \u001b[38;5;241m=\u001b[39m [granules]\n\u001b[1;32m    269\u001b[0m \u001b[38;5;28;01mtry\u001b[39;00m:\n\u001b[0;32m--> 270\u001b[0m     \u001b[38;5;28;01mreturn\u001b[39;00m \u001b[43mearthaccess\u001b[49m\u001b[38;5;241;43m.\u001b[39;49m\u001b[43m__store__\u001b[49m\u001b[38;5;241;43m.\u001b[39;49m\u001b[43mget\u001b[49m\u001b[43m(\u001b[49m\n\u001b[1;32m    271\u001b[0m \u001b[43m        \u001b[49m\u001b[43mgranules\u001b[49m\u001b[43m,\u001b[49m\u001b[43m \u001b[49m\u001b[43mlocal_path\u001b[49m\u001b[43m,\u001b[49m\u001b[43m \u001b[49m\u001b[43mprovider\u001b[49m\u001b[43m,\u001b[49m\u001b[43m \u001b[49m\u001b[43mthreads\u001b[49m\u001b[43m,\u001b[49m\u001b[43m \u001b[49m\u001b[43mpqdm_kwargs\u001b[49m\u001b[38;5;241;43m=\u001b[39;49m\u001b[43mpqdm_kwargs\u001b[49m\n\u001b[1;32m    272\u001b[0m \u001b[43m    \u001b[49m\u001b[43m)\u001b[49m\n\u001b[1;32m    273\u001b[0m \u001b[38;5;28;01mexcept\u001b[39;00m \u001b[38;5;167;01mAttributeError\u001b[39;00m \u001b[38;5;28;01mas\u001b[39;00m err:\n\u001b[1;32m    274\u001b[0m     logger\u001b[38;5;241m.\u001b[39merror(\n\u001b[1;32m    275\u001b[0m         \u001b[38;5;124mf\u001b[39m\u001b[38;5;124m\"\u001b[39m\u001b[38;5;132;01m{\u001b[39;00merr\u001b[38;5;132;01m}\u001b[39;00m\u001b[38;5;124m: You must call earthaccess.login() before you can download data\u001b[39m\u001b[38;5;124m\"\u001b[39m\n\u001b[1;32m    276\u001b[0m     )\n",
      "File \u001b[0;32m~/.pyenv/versions/3.11.2/lib/python3.11/site-packages/earthaccess/store.py:535\u001b[0m, in \u001b[0;36mStore.get\u001b[0;34m(self, granules, local_path, provider, threads, pqdm_kwargs)\u001b[0m\n\u001b[1;32m    528\u001b[0m     local_path \u001b[38;5;241m=\u001b[39m Path\u001b[38;5;241m.\u001b[39mcwd() \u001b[38;5;241m/\u001b[39m \u001b[38;5;124m\"\u001b[39m\u001b[38;5;124mdata\u001b[39m\u001b[38;5;124m\"\u001b[39m \u001b[38;5;241m/\u001b[39m \u001b[38;5;124mf\u001b[39m\u001b[38;5;124m\"\u001b[39m\u001b[38;5;132;01m{\u001b[39;00mtoday\u001b[38;5;132;01m}\u001b[39;00m\u001b[38;5;124m-\u001b[39m\u001b[38;5;132;01m{\u001b[39;00muuid\u001b[38;5;132;01m}\u001b[39;00m\u001b[38;5;124m\"\u001b[39m\n\u001b[1;32m    530\u001b[0m pqdm_kwargs \u001b[38;5;241m=\u001b[39m {\n\u001b[1;32m    531\u001b[0m     \u001b[38;5;124m\"\u001b[39m\u001b[38;5;124mn_jobs\u001b[39m\u001b[38;5;124m\"\u001b[39m: threads,\n\u001b[1;32m    532\u001b[0m     \u001b[38;5;241m*\u001b[39m\u001b[38;5;241m*\u001b[39m(pqdm_kwargs \u001b[38;5;129;01mor\u001b[39;00m {}),\n\u001b[1;32m    533\u001b[0m }\n\u001b[0;32m--> 535\u001b[0m \u001b[38;5;28;01mreturn\u001b[39;00m \u001b[38;5;28;43mself\u001b[39;49m\u001b[38;5;241;43m.\u001b[39;49m\u001b[43m_get\u001b[49m\u001b[43m(\u001b[49m\u001b[43mgranules\u001b[49m\u001b[43m,\u001b[49m\u001b[43m \u001b[49m\u001b[43mPath\u001b[49m\u001b[43m(\u001b[49m\u001b[43mlocal_path\u001b[49m\u001b[43m)\u001b[49m\u001b[43m,\u001b[49m\u001b[43m \u001b[49m\u001b[43mprovider\u001b[49m\u001b[43m,\u001b[49m\u001b[43m \u001b[49m\u001b[43mpqdm_kwargs\u001b[49m\u001b[38;5;241;43m=\u001b[39;49m\u001b[43mpqdm_kwargs\u001b[49m\u001b[43m)\u001b[49m\n",
      "File \u001b[0;32m~/.pyenv/versions/3.11.2/lib/python3.11/site-packages/multimethod/__init__.py:350\u001b[0m, in \u001b[0;36mmultimethod.__call__\u001b[0;34m(self, *args, **kwargs)\u001b[0m\n\u001b[1;32m    348\u001b[0m func \u001b[38;5;241m=\u001b[39m \u001b[38;5;28mself\u001b[39m\u001b[38;5;241m.\u001b[39mdispatch(\u001b[38;5;241m*\u001b[39margs)\n\u001b[1;32m    349\u001b[0m \u001b[38;5;28;01mtry\u001b[39;00m:\n\u001b[0;32m--> 350\u001b[0m     \u001b[38;5;28;01mreturn\u001b[39;00m \u001b[43mfunc\u001b[49m\u001b[43m(\u001b[49m\u001b[38;5;241;43m*\u001b[39;49m\u001b[43margs\u001b[49m\u001b[43m,\u001b[49m\u001b[43m \u001b[49m\u001b[38;5;241;43m*\u001b[39;49m\u001b[38;5;241;43m*\u001b[39;49m\u001b[43mkwargs\u001b[49m\u001b[43m)\u001b[49m\n\u001b[1;32m    351\u001b[0m \u001b[38;5;28;01mexcept\u001b[39;00m \u001b[38;5;167;01mTypeError\u001b[39;00m \u001b[38;5;28;01mas\u001b[39;00m ex:\n\u001b[1;32m    352\u001b[0m     \u001b[38;5;28;01mraise\u001b[39;00m DispatchError(\u001b[38;5;124mf\u001b[39m\u001b[38;5;124m\"\u001b[39m\u001b[38;5;124mFunction \u001b[39m\u001b[38;5;132;01m{\u001b[39;00mfunc\u001b[38;5;241m.\u001b[39m\u001b[38;5;18m__code__\u001b[39m\u001b[38;5;132;01m}\u001b[39;00m\u001b[38;5;124m\"\u001b[39m) \u001b[38;5;28;01mfrom\u001b[39;00m \u001b[38;5;21;01mex\u001b[39;00m\n",
      "File \u001b[0;32m~/.pyenv/versions/3.11.2/lib/python3.11/site-packages/earthaccess/store.py:649\u001b[0m, in \u001b[0;36mStore._get_granules\u001b[0;34m(self, granules, local_path, provider, pqdm_kwargs)\u001b[0m\n\u001b[1;32m    645\u001b[0m     \u001b[38;5;28;01mreturn\u001b[39;00m downloaded_files\n\u001b[1;32m    646\u001b[0m \u001b[38;5;28;01melse\u001b[39;00m:\n\u001b[1;32m    647\u001b[0m     \u001b[38;5;66;03m# if the data are cloud-based, but we are not in AWS,\u001b[39;00m\n\u001b[1;32m    648\u001b[0m     \u001b[38;5;66;03m# it will be downloaded as if it was on prem\u001b[39;00m\n\u001b[0;32m--> 649\u001b[0m     \u001b[38;5;28;01mreturn\u001b[39;00m \u001b[38;5;28;43mself\u001b[39;49m\u001b[38;5;241;43m.\u001b[39;49m\u001b[43m_download_onprem_granules\u001b[49m\u001b[43m(\u001b[49m\n\u001b[1;32m    650\u001b[0m \u001b[43m        \u001b[49m\u001b[43mdata_links\u001b[49m\u001b[43m,\u001b[49m\u001b[43m \u001b[49m\u001b[43mlocal_path\u001b[49m\u001b[43m,\u001b[49m\u001b[43m \u001b[49m\u001b[43mpqdm_kwargs\u001b[49m\u001b[38;5;241;43m=\u001b[39;49m\u001b[43mpqdm_kwargs\u001b[49m\n\u001b[1;32m    651\u001b[0m \u001b[43m    \u001b[49m\u001b[43m)\u001b[49m\n",
      "File \u001b[0;32m~/.pyenv/versions/3.11.2/lib/python3.11/site-packages/earthaccess/store.py:747\u001b[0m, in \u001b[0;36mStore._download_onprem_granules\u001b[0;34m(self, urls, directory, pqdm_kwargs)\u001b[0m\n\u001b[1;32m    737\u001b[0m arguments \u001b[38;5;241m=\u001b[39m [(url, directory) \u001b[38;5;28;01mfor\u001b[39;00m url \u001b[38;5;129;01min\u001b[39;00m urls]\n\u001b[1;32m    739\u001b[0m pqdm_kwargs \u001b[38;5;241m=\u001b[39m {\n\u001b[1;32m    740\u001b[0m     \u001b[38;5;124m\"\u001b[39m\u001b[38;5;124mexception_behaviour\u001b[39m\u001b[38;5;124m\"\u001b[39m: \u001b[38;5;124m\"\u001b[39m\u001b[38;5;124mimmediate\u001b[39m\u001b[38;5;124m\"\u001b[39m,\n\u001b[1;32m    741\u001b[0m     \u001b[38;5;241m*\u001b[39m\u001b[38;5;241m*\u001b[39m(pqdm_kwargs \u001b[38;5;129;01mor\u001b[39;00m {}),\n\u001b[0;32m   (...)\u001b[0m\n\u001b[1;32m    744\u001b[0m     \u001b[38;5;124m\"\u001b[39m\u001b[38;5;124margument_type\u001b[39m\u001b[38;5;124m\"\u001b[39m: \u001b[38;5;124m\"\u001b[39m\u001b[38;5;124margs\u001b[39m\u001b[38;5;124m\"\u001b[39m,\n\u001b[1;32m    745\u001b[0m }\n\u001b[0;32m--> 747\u001b[0m \u001b[38;5;28;01mreturn\u001b[39;00m \u001b[43mpqdm\u001b[49m\u001b[43m(\u001b[49m\u001b[43marguments\u001b[49m\u001b[43m,\u001b[49m\u001b[43m \u001b[49m\u001b[38;5;28;43mself\u001b[39;49m\u001b[38;5;241;43m.\u001b[39;49m\u001b[43m_download_file\u001b[49m\u001b[43m,\u001b[49m\u001b[43m \u001b[49m\u001b[38;5;241;43m*\u001b[39;49m\u001b[38;5;241;43m*\u001b[39;49m\u001b[43mpqdm_kwargs\u001b[49m\u001b[43m)\u001b[49m\n",
      "File \u001b[0;32m~/.pyenv/versions/3.11.2/lib/python3.11/site-packages/pqdm/threads.py:22\u001b[0m, in \u001b[0;36mpqdm\u001b[0;34m(array, function, n_jobs, argument_type, bounded, exception_behaviour, tqdm_class, **kwargs)\u001b[0m\n\u001b[1;32m     12\u001b[0m \u001b[38;5;28;01mdef\u001b[39;00m \u001b[38;5;21mpqdm\u001b[39m(\n\u001b[1;32m     13\u001b[0m     array: Iterable[Any],\n\u001b[1;32m     14\u001b[0m     function: Callable[[Any], Any],\n\u001b[0;32m   (...)\u001b[0m\n\u001b[1;32m     20\u001b[0m     \u001b[38;5;241m*\u001b[39m\u001b[38;5;241m*\u001b[39mkwargs\n\u001b[1;32m     21\u001b[0m ):\n\u001b[0;32m---> 22\u001b[0m     \u001b[38;5;28;01mreturn\u001b[39;00m \u001b[43m_parallel_process\u001b[49m\u001b[43m(\u001b[49m\n\u001b[1;32m     23\u001b[0m \u001b[43m        \u001b[49m\u001b[43miterable\u001b[49m\u001b[38;5;241;43m=\u001b[39;49m\u001b[43marray\u001b[49m\u001b[43m,\u001b[49m\n\u001b[1;32m     24\u001b[0m \u001b[43m        \u001b[49m\u001b[43mfunction\u001b[49m\u001b[38;5;241;43m=\u001b[39;49m\u001b[43mfunction\u001b[49m\u001b[43m,\u001b[49m\n\u001b[1;32m     25\u001b[0m \u001b[43m        \u001b[49m\u001b[43margument_type\u001b[49m\u001b[38;5;241;43m=\u001b[39;49m\u001b[43margument_type\u001b[49m\u001b[43m,\u001b[49m\n\u001b[1;32m     26\u001b[0m \u001b[43m        \u001b[49m\u001b[43mn_jobs\u001b[49m\u001b[38;5;241;43m=\u001b[39;49m\u001b[43mn_jobs\u001b[49m\u001b[43m,\u001b[49m\n\u001b[1;32m     27\u001b[0m \u001b[43m        \u001b[49m\u001b[43mexecutor\u001b[49m\u001b[38;5;241;43m=\u001b[39;49m\u001b[43mBoundedThreadPoolExecutor\u001b[49m\u001b[43m \u001b[49m\u001b[38;5;28;43;01mif\u001b[39;49;00m\u001b[43m \u001b[49m\u001b[43mbounded\u001b[49m\u001b[43m \u001b[49m\u001b[38;5;28;43;01melse\u001b[39;49;00m\u001b[43m \u001b[49m\u001b[43mThreadPoolExecutor\u001b[49m\u001b[43m,\u001b[49m\n\u001b[1;32m     28\u001b[0m \u001b[43m        \u001b[49m\u001b[43mexception_behaviour\u001b[49m\u001b[38;5;241;43m=\u001b[39;49m\u001b[43mexception_behaviour\u001b[49m\u001b[43m,\u001b[49m\n\u001b[1;32m     29\u001b[0m \u001b[43m        \u001b[49m\u001b[43mtqdm_class\u001b[49m\u001b[38;5;241;43m=\u001b[39;49m\u001b[43mtqdm_class\u001b[49m\u001b[43m,\u001b[49m\n\u001b[1;32m     30\u001b[0m \u001b[43m        \u001b[49m\u001b[38;5;241;43m*\u001b[39;49m\u001b[38;5;241;43m*\u001b[39;49m\u001b[43mkwargs\u001b[49m\n\u001b[1;32m     31\u001b[0m \u001b[43m    \u001b[49m\u001b[43m)\u001b[49m\n",
      "File \u001b[0;32m~/.pyenv/versions/3.11.2/lib/python3.11/site-packages/pqdm/_base.py:40\u001b[0m, in \u001b[0;36m_parallel_process\u001b[0;34m(iterable, function, n_jobs, executor, argument_type, exception_behaviour, tqdm_class, **kwargs)\u001b[0m\n\u001b[1;32m     35\u001b[0m \u001b[38;5;28;01mif\u001b[39;00m n_jobs \u001b[38;5;241m==\u001b[39m \u001b[38;5;241m1\u001b[39m:\n\u001b[1;32m     36\u001b[0m     \u001b[38;5;28;01mreturn\u001b[39;00m _handle_singular_processor(\n\u001b[1;32m     37\u001b[0m         iterable, function, argument_type, tqdm_class, tqdm_opts\n\u001b[1;32m     38\u001b[0m     )\n\u001b[0;32m---> 40\u001b[0m \u001b[43m\u001b[49m\u001b[38;5;28;43;01mwith\u001b[39;49;00m\u001b[43m \u001b[49m\u001b[43mexecutor\u001b[49m\u001b[43m(\u001b[49m\u001b[38;5;241;43m*\u001b[39;49m\u001b[38;5;241;43m*\u001b[39;49m\u001b[43mexecutor_opts\u001b[49m\u001b[43m)\u001b[49m\u001b[43m \u001b[49m\u001b[38;5;28;43;01mas\u001b[39;49;00m\u001b[43m \u001b[49m\u001b[43mpool\u001b[49m\u001b[43m:\u001b[49m\n\u001b[1;32m     42\u001b[0m \u001b[43m    \u001b[49m\u001b[43msubmitting_opts\u001b[49m\u001b[43m \u001b[49m\u001b[38;5;241;43m=\u001b[39;49m\u001b[43m \u001b[49m\u001b[43mcopy\u001b[49m\u001b[38;5;241;43m.\u001b[39;49m\u001b[43mcopy\u001b[49m\u001b[43m(\u001b[49m\u001b[43mtqdm_opts\u001b[49m\u001b[43m)\u001b[49m\n\u001b[1;32m     43\u001b[0m \u001b[43m    \u001b[49m\u001b[43msubmitting_opts\u001b[49m\u001b[43m[\u001b[49m\u001b[38;5;124;43m'\u001b[39;49m\u001b[38;5;124;43mdesc\u001b[39;49m\u001b[38;5;124;43m'\u001b[39;49m\u001b[43m]\u001b[49m\u001b[43m \u001b[49m\u001b[38;5;241;43m=\u001b[39;49m\u001b[43m \u001b[49m\u001b[38;5;124;43m'\u001b[39;49m\u001b[38;5;124;43mQUEUEING TASKS | \u001b[39;49m\u001b[38;5;124;43m'\u001b[39;49m\u001b[43m \u001b[49m\u001b[38;5;241;43m+\u001b[39;49m\u001b[43m \u001b[49m\u001b[43msubmitting_opts\u001b[49m\u001b[38;5;241;43m.\u001b[39;49m\u001b[43mget\u001b[49m\u001b[43m(\u001b[49m\u001b[38;5;124;43m'\u001b[39;49m\u001b[38;5;124;43mdesc\u001b[39;49m\u001b[38;5;124;43m'\u001b[39;49m\u001b[43m,\u001b[49m\u001b[43m \u001b[49m\u001b[38;5;124;43m'\u001b[39;49m\u001b[38;5;124;43m'\u001b[39;49m\u001b[43m)\u001b[49m\n",
      "File \u001b[0;32m~/.pyenv/versions/3.11.2/lib/python3.11/concurrent/futures/_base.py:647\u001b[0m, in \u001b[0;36mExecutor.__exit__\u001b[0;34m(self, exc_type, exc_val, exc_tb)\u001b[0m\n\u001b[1;32m    646\u001b[0m \u001b[38;5;28;01mdef\u001b[39;00m \u001b[38;5;21m__exit__\u001b[39m(\u001b[38;5;28mself\u001b[39m, exc_type, exc_val, exc_tb):\n\u001b[0;32m--> 647\u001b[0m     \u001b[38;5;28;43mself\u001b[39;49m\u001b[38;5;241;43m.\u001b[39;49m\u001b[43mshutdown\u001b[49m\u001b[43m(\u001b[49m\u001b[43mwait\u001b[49m\u001b[38;5;241;43m=\u001b[39;49m\u001b[38;5;28;43;01mTrue\u001b[39;49;00m\u001b[43m)\u001b[49m\n\u001b[1;32m    648\u001b[0m     \u001b[38;5;28;01mreturn\u001b[39;00m \u001b[38;5;28;01mFalse\u001b[39;00m\n",
      "File \u001b[0;32m~/.pyenv/versions/3.11.2/lib/python3.11/concurrent/futures/thread.py:235\u001b[0m, in \u001b[0;36mThreadPoolExecutor.shutdown\u001b[0;34m(self, wait, cancel_futures)\u001b[0m\n\u001b[1;32m    233\u001b[0m \u001b[38;5;28;01mif\u001b[39;00m wait:\n\u001b[1;32m    234\u001b[0m     \u001b[38;5;28;01mfor\u001b[39;00m t \u001b[38;5;129;01min\u001b[39;00m \u001b[38;5;28mself\u001b[39m\u001b[38;5;241m.\u001b[39m_threads:\n\u001b[0;32m--> 235\u001b[0m         \u001b[43mt\u001b[49m\u001b[38;5;241;43m.\u001b[39;49m\u001b[43mjoin\u001b[49m\u001b[43m(\u001b[49m\u001b[43m)\u001b[49m\n",
      "File \u001b[0;32m~/.pyenv/versions/3.11.2/lib/python3.11/threading.py:1112\u001b[0m, in \u001b[0;36mThread.join\u001b[0;34m(self, timeout)\u001b[0m\n\u001b[1;32m   1109\u001b[0m     \u001b[38;5;28;01mraise\u001b[39;00m \u001b[38;5;167;01mRuntimeError\u001b[39;00m(\u001b[38;5;124m\"\u001b[39m\u001b[38;5;124mcannot join current thread\u001b[39m\u001b[38;5;124m\"\u001b[39m)\n\u001b[1;32m   1111\u001b[0m \u001b[38;5;28;01mif\u001b[39;00m timeout \u001b[38;5;129;01mis\u001b[39;00m \u001b[38;5;28;01mNone\u001b[39;00m:\n\u001b[0;32m-> 1112\u001b[0m     \u001b[38;5;28;43mself\u001b[39;49m\u001b[38;5;241;43m.\u001b[39;49m\u001b[43m_wait_for_tstate_lock\u001b[49m\u001b[43m(\u001b[49m\u001b[43m)\u001b[49m\n\u001b[1;32m   1113\u001b[0m \u001b[38;5;28;01melse\u001b[39;00m:\n\u001b[1;32m   1114\u001b[0m     \u001b[38;5;66;03m# the behavior of a negative timeout isn't documented, but\u001b[39;00m\n\u001b[1;32m   1115\u001b[0m     \u001b[38;5;66;03m# historically .join(timeout=x) for x<0 has acted as if timeout=0\u001b[39;00m\n\u001b[1;32m   1116\u001b[0m     \u001b[38;5;28mself\u001b[39m\u001b[38;5;241m.\u001b[39m_wait_for_tstate_lock(timeout\u001b[38;5;241m=\u001b[39m\u001b[38;5;28mmax\u001b[39m(timeout, \u001b[38;5;241m0\u001b[39m))\n",
      "File \u001b[0;32m~/.pyenv/versions/3.11.2/lib/python3.11/threading.py:1132\u001b[0m, in \u001b[0;36mThread._wait_for_tstate_lock\u001b[0;34m(self, block, timeout)\u001b[0m\n\u001b[1;32m   1129\u001b[0m     \u001b[38;5;28;01mreturn\u001b[39;00m\n\u001b[1;32m   1131\u001b[0m \u001b[38;5;28;01mtry\u001b[39;00m:\n\u001b[0;32m-> 1132\u001b[0m     \u001b[38;5;28;01mif\u001b[39;00m \u001b[43mlock\u001b[49m\u001b[38;5;241;43m.\u001b[39;49m\u001b[43macquire\u001b[49m\u001b[43m(\u001b[49m\u001b[43mblock\u001b[49m\u001b[43m,\u001b[49m\u001b[43m \u001b[49m\u001b[43mtimeout\u001b[49m\u001b[43m)\u001b[49m:\n\u001b[1;32m   1133\u001b[0m         lock\u001b[38;5;241m.\u001b[39mrelease()\n\u001b[1;32m   1134\u001b[0m         \u001b[38;5;28mself\u001b[39m\u001b[38;5;241m.\u001b[39m_stop()\n",
      "\u001b[0;31mKeyboardInterrupt\u001b[0m: "
     ]
    }
   ],
   "source": [
    "import os\n",
    "import numpy as np\n",
    "import xarray as xr\n",
    "import earthaccess\n",
    "from datetime import datetime, timedelta\n",
    "import pickle\n",
    "import time\n",
    "import random\n",
    "from tqdm import tqdm\n",
    "\n",
    "# Authenticate\n",
    "auth = earthaccess.login(persist=True)\n",
    "\n",
    "# Parameters\n",
    "bbox = (-83.62, 41.34, -82, 42.27)      # (lon_min, lat_min, lon_max, lat_max)\n",
    "res = 0.01\n",
    "start_date = datetime(2024, 4, 14)\n",
    "end_date = datetime(2025, 5, 23)\n",
    "window_size = 7\n",
    "decay = 0.8\n",
    "\n",
    "# Ensure data directories exist\n",
    "os.makedirs(\"../Data/\", exist_ok=True)\n",
    "os.makedirs(\"../Cache/\", exist_ok=True)\n",
    "os.makedirs(\"../Images/\", exist_ok=True)\n",
    "\n",
    "# Output grid\n",
    "lat_bins = np.arange(bbox[1], bbox[3] + res, res)\n",
    "lon_bins = np.arange(bbox[0], bbox[2] + res, res)\n",
    "lat_centers = 0.5 * (lat_bins[:-1] + lat_bins[1:])\n",
    "lon_centers = 0.5 * (lon_bins[:-1] + lon_bins[1:])\n",
    "nlat, nlon = len(lat_centers), len(lon_centers)\n",
    "\n",
    "# --- Retry Helpers ---\n",
    "def safe_search(short_name, temporal, bounding_box, max_retries=500):\n",
    "    retries = 0\n",
    "    while True:\n",
    "        try:\n",
    "            results = earthaccess.search_data(\n",
    "                short_name=short_name,\n",
    "                temporal=temporal,\n",
    "                bounding_box=bounding_box\n",
    "            )\n",
    "            return results\n",
    "        except Exception as e:\n",
    "            retries += 1\n",
    "            if retries >= max_retries:\n",
    "                print(f\"Search failed after {max_retries} retries: {e}\")\n",
    "                return []\n",
    "            wait = 5 + random.uniform(0, 3)\n",
    "            print(f\"Search error: {e}. Retrying in {wait:.1f} seconds...\")\n",
    "            time.sleep(wait)\n",
    "\n",
    "def safe_download(results, directory=\"../Data/\", max_retries=5):\n",
    "    retries = 0\n",
    "    while True:\n",
    "        try:\n",
    "            paths = earthaccess.download(results, directory)\n",
    "            return paths\n",
    "        except Exception as e:\n",
    "            retries += 1\n",
    "            if retries >= max_retries:\n",
    "                print(f\"Download failed after {max_retries} retries: {e}\")\n",
    "                return []\n",
    "            wait = 5 + random.uniform(0, 3)\n",
    "            print(f\"Download error: {e}. Retrying in {wait:.1f} seconds...\")\n",
    "            time.sleep(wait)\n",
    "            \n",
    "# Wavelengths from a reference file (S3A or S3B, any available date)\n",
    "def get_reference_wavelengths():\n",
    "    satellites = [\"OLCIS3A_L2_EFR_OC\", \"OLCIS3B_L2_EFR_OC\"]\n",
    "    ref_file = None\n",
    "    search_dates = [(\"2024-06-01\", \"2024-06-05\"), (\"2024-05-01\", \"2024-06-01\"), (\"2024-04-01\", \"2024-05-01\")]\n",
    "\n",
    "    for sat in satellites:\n",
    "        for temporal in search_dates:\n",
    "            print(f\"Trying to find wavelengths in {sat} from {temporal}...\")\n",
    "\n",
    "            search_ref = safe_search(\n",
    "                short_name=sat,\n",
    "                temporal=temporal,\n",
    "                bounding_box=bbox,\n",
    "            )\n",
    "            if search_ref:\n",
    "                ref_file = safe_download(search_ref, \"../Data/\")[0]\n",
    "                try:\n",
    "                    with xr.open_dataset(ref_file, group=\"sensor_band_parameters\") as ds:\n",
    "                        if \"wavelength\" in ds:\n",
    "                            print(\"found wavelength\")\n",
    "                            wave_all = ds[\"wavelength\"].data\n",
    "                        elif \"wavelength_3d\" in ds:\n",
    "                            print(\"found wavelength_3d\")\n",
    "                            wave_all = ds[\"wavelength_3d\"].data\n",
    "                        else:\n",
    "                            raise KeyError(\"No 'wavelength' variable found in reference file.\")\n",
    "                    print(f\"Found wavelengths in {ref_file} ({len(wave_all)} channels)\")\n",
    "                    return wave_all\n",
    "                except Exception as e:\n",
    "                    print(f\"Failed to extract wavelengths from {ref_file}: {e}\")\n",
    "    raise RuntimeError(\"No reference files found to retrieve wavelengths.\")\n",
    "\n",
    "# Call it\n",
    "wave_all = get_reference_wavelengths()\n",
    "\n",
    "num_channels = len(wave_all)\n",
    "print(f\"Found {num_channels} channels.\")\n",
    "\n",
    "# Prepare main array\n",
    "total_days = (end_date - start_date).days + 1\n",
    "ndarray_all = np.full((total_days, nlat, nlon, num_channels), np.nan, dtype=np.float32)\n",
    "\n",
    "# Process day by day\n",
    "for day_idx in range(total_days):\n",
    "    current_date = start_date + timedelta(days=day_idx)\n",
    "    window_start = current_date - timedelta(days=window_size)\n",
    "    window_end = current_date - timedelta(days=1)\n",
    "\n",
    "    print(f\"\\nProcessing {current_date.date()} (composite window {window_start.date()} to {window_end.date()})\")\n",
    "\n",
    "    # Search for data from both S3A and S3B\n",
    "    results_s3a = safe_search(\n",
    "        short_name=\"OLCIS3A_L2_EFR_OC\",\n",
    "        temporal=(window_start.strftime(\"%Y-%m-%d\"), window_end.strftime(\"%Y-%m-%d\")),\n",
    "        bounding_box=bbox,\n",
    "    )\n",
    "    \n",
    "    results_s3b = safe_search(\n",
    "        short_name=\"OLCIS3B_L2_EFR_OC\",\n",
    "        temporal=(window_start.strftime(\"%Y-%m-%d\"), window_end.strftime(\"%Y-%m-%d\")),\n",
    "        bounding_box=bbox,\n",
    "    )\n",
    "    results = results_s3a + results_s3b\n",
    "\n",
    "    if not results:\n",
    "        print(\"No data found for this window. Skipping to next date.\")\n",
    "        continue\n",
    "\n",
    "    # Download new files\n",
    "    to_download = []\n",
    "    for granule in results:\n",
    "        granule_id = granule['umm']['DataGranule']['ArchiveAndDistributionInformation'][0]['Name']\n",
    "        granule_basename = os.path.basename(granule_id)\n",
    "        cache_path = f\"../Cache/{granule_basename}.nc.npz\"\n",
    "        if not os.path.exists(cache_path):\n",
    "            to_download.append(granule)\n",
    "\n",
    "    if to_download:\n",
    "        print(f\"Need to download {len(to_download)} new files for this window.\")\n",
    "        paths = safe_download(to_download, \"../Data/\")\n",
    "        if not paths:\n",
    "            print(\"No files downloaded for this window. Skipping to next date.\")\n",
    "            continue\n",
    "    else:\n",
    "        print(\"All files already cached. Skipping download.\")\n",
    "        paths = [f\"../Data/{os.path.basename(granule['granule_id'])}\" for granule in results]\n",
    "\n",
    "    # Initialize sum and weight arrays\n",
    "    sum_all = np.zeros((num_channels, nlat, nlon))\n",
    "    weight_all = np.zeros((num_channels, nlat, nlon))\n",
    "\n",
    "    for path in paths:\n",
    "        base = os.path.basename(path)\n",
    "        date_str = base.split(\".\")[1][:8]\n",
    "        file_date = datetime.strptime(date_str, \"%Y%m%d\")\n",
    "        delta_days = (window_end - file_date).days\n",
    "        weight = decay ** delta_days if delta_days >= 0 else 0\n",
    "\n",
    "        cache_file = f\"../Cache/{base}.npz\"\n",
    "\n",
    "        if not os.path.exists(cache_file):\n",
    "            print(f\"Processing {base} (not in cache)\")\n",
    "            try:\n",
    "                nav = xr.open_dataset(path, group=\"navigation_data\")\n",
    "                lat = nav[\"latitude\"].values\n",
    "                lon = nav[\"longitude\"].values\n",
    "\n",
    "\n",
    "\n",
    "                rrs_ds = xr.open_dataset(path, group=\"geophysical_data\")\n",
    "                lat_idx_all, lon_idx_all, ch_idx_all, val_all = [], [], [], []\n",
    "                print(f\"Available variables in {base}:\")\n",
    "                print([v for v in rrs_ds.variables])\n",
    "                print(\"Expected Rrs variable names (based on reference wavelengths):\")\n",
    "                print([f\"Rrs_{int(round(w))}\" for w in wave_all])\n",
    "\n",
    "                for ch_idx, wl in tqdm(list(enumerate(wave_all)), desc=f\"Channels in {base}\", leave=False):\n",
    "                    var_name = f\"Rrs_{int(round(wl))}\"\n",
    "                    if var_name not in rrs_ds:\n",
    "                        continue\n",
    "                    band = rrs_ds[var_name].values\n",
    "                    mask = (\n",
    "                        np.isfinite(band) &\n",
    "                        (lat >= bbox[1]) & (lat <= bbox[3]) &\n",
    "                        (lon >= bbox[0]) & (lon <= bbox[2])\n",
    "                    )\n",
    "                    lat_valid = lat[mask]\n",
    "                    lon_valid = lon[mask]\n",
    "                    val_valid = band[mask]\n",
    "\n",
    "                    lat_idx = np.searchsorted(lat_bins, lat_valid) - 1\n",
    "                    lon_idx = np.searchsorted(lon_bins, lon_valid) - 1\n",
    "\n",
    "                    lat_idx_all.extend(lat_idx)\n",
    "                    lon_idx_all.extend(lon_idx)\n",
    "                    ch_idx_all.extend([ch_idx] * len(val_valid))\n",
    "                    val_all.extend(val_valid)\n",
    "\n",
    "                np.savez_compressed(cache_file,\n",
    "                                    lat_idx=np.array(lat_idx_all, dtype=np.int16),\n",
    "                                    lon_idx=np.array(lon_idx_all, dtype=np.int16),\n",
    "                                    ch_idx=np.array(ch_idx_all, dtype=np.int16),\n",
    "                                    val=np.array(val_all, dtype=np.float32))\n",
    "                print(f\"Cached data to {cache_file}\")\n",
    "\n",
    "            except Exception as e:\n",
    "                print(f\"Failed to process {path}: {e}\")\n",
    "                continue\n",
    "        else:\n",
    "            print(f\"Using cached data for {base}\")\n",
    "\n",
    "        # Load from cache\n",
    "        data = np.load(cache_file)\n",
    "        lat_idx = data['lat_idx']\n",
    "        lon_idx = data['lon_idx']\n",
    "        ch_idx = data['ch_idx']\n",
    "        val = data['val']\n",
    "\n",
    "        for j in range(len(val)):\n",
    "            if 0 <= lat_idx[j] < nlat and 0 <= lon_idx[j] < nlon:\n",
    "                sum_all[ch_idx[j], lat_idx[j], lon_idx[j]] += val[j] * weight\n",
    "                weight_all[ch_idx[j], lat_idx[j], lon_idx[j]] += weight\n",
    "\n",
    "    # Finalize average\n",
    "    with np.errstate(invalid=\"ignore\", divide=\"ignore\"):\n",
    "        avg_all = sum_all / weight_all\n",
    "        avg_all[weight_all == 0] = np.nan\n",
    "\n",
    "    ndarray_all[day_idx] = np.transpose(avg_all, (1, 2, 0))\n",
    "\n",
    "    # Delete old files\n",
    "    delete_date = (current_date - timedelta(days=window_size)).strftime('%Y%m%d')\n",
    "    for fname in os.listdir(\"../Data/\"):\n",
    "        if delete_date in fname and fname.endswith(\".nc\"):\n",
    "            try:\n",
    "                os.remove(os.path.join(\"../Data/\", fname))\n",
    "                print(f\"Deleted old file: {fname}\")\n",
    "            except Exception as e:\n",
    "                print(f\"Could not delete {fname}: {e}\")\n",
    "\n",
    "# Save results\n",
    "np.save(\"../Images/composite_data.npy\", ndarray_all)\n",
    "print(\"\\nSaved full 4D composite data array to '../Images/composite_data_S3.npy'.\")\n",
    "\n",
    "metadata = {\"wavelengths\": wave_all, \"lat\": lat_centers, \"lon\": lon_centers}\n",
    "with open(\"../Images/composite_metadata.pkl\", \"wb\") as f:\n",
    "    pickle.dump(metadata, f)\n",
    "print(\"Saved metadata (wavelengths, lat, lon) to '../Images/composite_metadata_S3.pkl'.\")\n"
   ]
  },
  {
   "cell_type": "code",
   "execution_count": 5,
   "id": "67f293c6-00d9-451f-b340-4a2cf2e9344e",
   "metadata": {},
   "outputs": [
    {
     "name": "stderr",
     "output_type": "stream",
     "text": [
      "QUEUEING TASKS | : 100%|████████████████████████| 2/2 [00:00<00:00, 2333.41it/s]\n",
      "PROCESSING TASKS | : 100%|█████████████████████| 2/2 [00:00<00:00, 16288.56it/s]\n",
      "COLLECTING RESULTS | : 100%|███████████████████| 2/2 [00:00<00:00, 27776.85it/s]\n"
     ]
    },
    {
     "name": "stdout",
     "output_type": "stream",
     "text": [
      "Available variables in S3B_OLCI_EFRNT.20240427T160327.L2.OC.nc:\n",
      "['aot_865', 'angstrom', 'Rrs_400', 'Rrs_412', 'Rrs_443', 'Rrs_490', 'Rrs_510', 'Rrs_560', 'Rrs_620', 'Rrs_665', 'Rrs_674', 'Rrs_681', 'Rrs_709', 'chlor_a', 'Kd_490', 'l2_flags']\n",
      "Expected Rrs variable names (based on reference wavelengths):\n",
      "['Rrs_400', 'Rrs_412', 'Rrs_443', 'Rrs_490', 'Rrs_510', 'Rrs_560', 'Rrs_620', 'Rrs_665', 'Rrs_674', 'Rrs_681', 'Rrs_709', 'Rrs_754', 'Rrs_762', 'Rrs_765', 'Rrs_768', 'Rrs_779', 'Rrs_865', 'Rrs_884', 'Rrs_899', 'Rrs_939', 'Rrs_1013']\n"
     ]
    }
   ],
   "source": [
    "\n",
    "start_date = datetime(2024, 4, 14)\n",
    "end_date = datetime(2024, 4, 15)\n",
    "\n",
    "current_date = start_date\n",
    "window_start = current_date - timedelta(days=1)\n",
    "window_end = current_date - timedelta(days=1)\n",
    "\n",
    "results = safe_search(\n",
    "    short_name=\"OLCIS3A_L2_EFR_OC\",\n",
    "    temporal=(window_start.strftime(\"%Y-%m-%d\"), window_end.strftime(\"%Y-%m-%d\")),\n",
    "    bounding_box=bbox,\n",
    ")\n",
    "paths = safe_download(results, \"../Data/\")\n",
    "path = paths[0]\n",
    "nav = xr.open_dataset(path, group=\"navigation_data\")\n",
    "lat = nav[\"latitude\"].values\n",
    "lon = nav[\"longitude\"].values\n",
    "\n",
    "data = xr.open_dataset(path)\n",
    "keys = data.keys()\n",
    "for k in keys:\n",
    "    print(k)\n",
    "\n",
    "rrs_ds = xr.open_dataset(path, group=\"geophysical_data\")\n",
    "lat_idx_all, lon_idx_all, ch_idx_all, val_all = [], [], [], []\n",
    "print(f\"Available variables in {base}:\")\n",
    "print([v for v in rrs_ds.variables])\n",
    "print(\"Expected Rrs variable names (based on reference wavelengths):\")\n",
    "print([f\"Rrs_{int(round(w))}\" for w in wave_all])"
   ]
  },
  {
   "cell_type": "code",
   "execution_count": 1,
   "id": "e7668c74-5ee9-44df-96c7-450a2489b843",
   "metadata": {},
   "outputs": [
    {
     "ename": "NameError",
     "evalue": "name 'wave_all' is not defined",
     "output_type": "error",
     "traceback": [
      "\u001b[0;31m---------------------------------------------------------------------------\u001b[0m",
      "\u001b[0;31mNameError\u001b[0m                                 Traceback (most recent call last)",
      "Cell \u001b[0;32mIn[1], line 1\u001b[0m\n\u001b[0;32m----> 1\u001b[0m \u001b[43mwave_all\u001b[49m\n",
      "\u001b[0;31mNameError\u001b[0m: name 'wave_all' is not defined"
     ]
    }
   ],
   "source": [
    "wave_all"
   ]
  },
  {
   "cell_type": "code",
   "execution_count": 7,
   "id": "9cff9e53-c93e-464c-911e-a015c6e93981",
   "metadata": {},
   "outputs": [
    {
     "data": {
      "text/plain": [
       "['sensor_band_parameters',\n",
       " 'scan_line_attributes',\n",
       " 'geophysical_data',\n",
       " 'navigation_data',\n",
       " 'processing_control']"
      ]
     },
     "execution_count": 7,
     "metadata": {},
     "output_type": "execute_result"
    }
   ],
   "source": [
    "import h5netcdf\n",
    "with h5netcdf.File(paths[0]) as file:\n",
    "    groups = list(file)\n",
    "groups"
   ]
  },
  {
   "cell_type": "code",
   "execution_count": 25,
   "id": "367c288c-787e-4d39-b990-836ee062305e",
   "metadata": {},
   "outputs": [
    {
     "name": "stdout",
     "output_type": "stream",
     "text": [
      "\n",
      "sensor_band_parameters\n",
      "---------------------------\n",
      "wavelength\n",
      "vcal_gain\n",
      "vcal_offset\n",
      "F0\n",
      "aw\n",
      "bbw\n",
      "k_oz\n",
      "k_no2\n",
      "Tau_r\n",
      "\n",
      "scan_line_attributes\n",
      "---------------------------\n",
      "year\n",
      "day\n",
      "msec\n",
      "detnum\n",
      "mside\n",
      "slon\n",
      "clon\n",
      "elon\n",
      "slat\n",
      "clat\n",
      "elat\n",
      "csol_z\n",
      "\n",
      "geophysical_data\n",
      "---------------------------\n",
      "aot_865\n",
      "angstrom\n",
      "Rrs_400\n",
      "Rrs_412\n",
      "Rrs_443\n",
      "Rrs_490\n",
      "Rrs_510\n",
      "Rrs_560\n",
      "Rrs_620\n",
      "Rrs_665\n",
      "Rrs_674\n",
      "Rrs_681\n",
      "Rrs_709\n",
      "chlor_a\n",
      "Kd_490\n",
      "l2_flags\n",
      "\n",
      "navigation_data\n",
      "---------------------------\n",
      "longitude\n",
      "latitude\n",
      "cntl_pt_cols\n",
      "cntl_pt_rows\n",
      "tilt\n",
      "\n",
      "processing_control\n",
      "---------------------------\n"
     ]
    }
   ],
   "source": [
    "for group in groups:\n",
    "    ds = xr.open_dataset(path, group = group)\n",
    "    print()\n",
    "    print(group)\n",
    "    print('---------------------------')\n",
    "    for v in ds.variables:\n",
    "        print(v)"
   ]
  },
  {
   "cell_type": "code",
   "execution_count": 35,
   "id": "69d97992-0144-4521-97e7-f04d17efce12",
   "metadata": {},
   "outputs": [
    {
     "name": "stdout",
     "output_type": "stream",
     "text": [
      "wavelength\n",
      "vcal_gain\n",
      "vcal_offset\n",
      "F0\n",
      "aw\n",
      "bbw\n",
      "k_oz\n",
      "k_no2\n",
      "Tau_r\n"
     ]
    },
    {
     "data": {
      "text/html": [
       "<div><svg style=\"position: absolute; width: 0; height: 0; overflow: hidden\">\n",
       "<defs>\n",
       "<symbol id=\"icon-database\" viewBox=\"0 0 32 32\">\n",
       "<path d=\"M16 0c-8.837 0-16 2.239-16 5v4c0 2.761 7.163 5 16 5s16-2.239 16-5v-4c0-2.761-7.163-5-16-5z\"></path>\n",
       "<path d=\"M16 17c-8.837 0-16-2.239-16-5v6c0 2.761 7.163 5 16 5s16-2.239 16-5v-6c0 2.761-7.163 5-16 5z\"></path>\n",
       "<path d=\"M16 26c-8.837 0-16-2.239-16-5v6c0 2.761 7.163 5 16 5s16-2.239 16-5v-6c0 2.761-7.163 5-16 5z\"></path>\n",
       "</symbol>\n",
       "<symbol id=\"icon-file-text2\" viewBox=\"0 0 32 32\">\n",
       "<path d=\"M28.681 7.159c-0.694-0.947-1.662-2.053-2.724-3.116s-2.169-2.030-3.116-2.724c-1.612-1.182-2.393-1.319-2.841-1.319h-15.5c-1.378 0-2.5 1.121-2.5 2.5v27c0 1.378 1.122 2.5 2.5 2.5h23c1.378 0 2.5-1.122 2.5-2.5v-19.5c0-0.448-0.137-1.23-1.319-2.841zM24.543 5.457c0.959 0.959 1.712 1.825 2.268 2.543h-4.811v-4.811c0.718 0.556 1.584 1.309 2.543 2.268zM28 29.5c0 0.271-0.229 0.5-0.5 0.5h-23c-0.271 0-0.5-0.229-0.5-0.5v-27c0-0.271 0.229-0.5 0.5-0.5 0 0 15.499-0 15.5 0v7c0 0.552 0.448 1 1 1h7v19.5z\"></path>\n",
       "<path d=\"M23 26h-14c-0.552 0-1-0.448-1-1s0.448-1 1-1h14c0.552 0 1 0.448 1 1s-0.448 1-1 1z\"></path>\n",
       "<path d=\"M23 22h-14c-0.552 0-1-0.448-1-1s0.448-1 1-1h14c0.552 0 1 0.448 1 1s-0.448 1-1 1z\"></path>\n",
       "<path d=\"M23 18h-14c-0.552 0-1-0.448-1-1s0.448-1 1-1h14c0.552 0 1 0.448 1 1s-0.448 1-1 1z\"></path>\n",
       "</symbol>\n",
       "</defs>\n",
       "</svg>\n",
       "<style>/* CSS stylesheet for displaying xarray objects in jupyterlab.\n",
       " *\n",
       " */\n",
       "\n",
       ":root {\n",
       "  --xr-font-color0: var(--jp-content-font-color0, rgba(0, 0, 0, 1));\n",
       "  --xr-font-color2: var(--jp-content-font-color2, rgba(0, 0, 0, 0.54));\n",
       "  --xr-font-color3: var(--jp-content-font-color3, rgba(0, 0, 0, 0.38));\n",
       "  --xr-border-color: var(--jp-border-color2, #e0e0e0);\n",
       "  --xr-disabled-color: var(--jp-layout-color3, #bdbdbd);\n",
       "  --xr-background-color: var(--jp-layout-color0, white);\n",
       "  --xr-background-color-row-even: var(--jp-layout-color1, white);\n",
       "  --xr-background-color-row-odd: var(--jp-layout-color2, #eeeeee);\n",
       "}\n",
       "\n",
       "html[theme=dark],\n",
       "html[data-theme=dark],\n",
       "body[data-theme=dark],\n",
       "body.vscode-dark {\n",
       "  --xr-font-color0: rgba(255, 255, 255, 1);\n",
       "  --xr-font-color2: rgba(255, 255, 255, 0.54);\n",
       "  --xr-font-color3: rgba(255, 255, 255, 0.38);\n",
       "  --xr-border-color: #1F1F1F;\n",
       "  --xr-disabled-color: #515151;\n",
       "  --xr-background-color: #111111;\n",
       "  --xr-background-color-row-even: #111111;\n",
       "  --xr-background-color-row-odd: #313131;\n",
       "}\n",
       "\n",
       ".xr-wrap {\n",
       "  display: block !important;\n",
       "  min-width: 300px;\n",
       "  max-width: 700px;\n",
       "}\n",
       "\n",
       ".xr-text-repr-fallback {\n",
       "  /* fallback to plain text repr when CSS is not injected (untrusted notebook) */\n",
       "  display: none;\n",
       "}\n",
       "\n",
       ".xr-header {\n",
       "  padding-top: 6px;\n",
       "  padding-bottom: 6px;\n",
       "  margin-bottom: 4px;\n",
       "  border-bottom: solid 1px var(--xr-border-color);\n",
       "}\n",
       "\n",
       ".xr-header > div,\n",
       ".xr-header > ul {\n",
       "  display: inline;\n",
       "  margin-top: 0;\n",
       "  margin-bottom: 0;\n",
       "}\n",
       "\n",
       ".xr-obj-type,\n",
       ".xr-array-name {\n",
       "  margin-left: 2px;\n",
       "  margin-right: 10px;\n",
       "}\n",
       "\n",
       ".xr-obj-type {\n",
       "  color: var(--xr-font-color2);\n",
       "}\n",
       "\n",
       ".xr-sections {\n",
       "  padding-left: 0 !important;\n",
       "  display: grid;\n",
       "  grid-template-columns: 150px auto auto 1fr 0 20px 0 20px;\n",
       "}\n",
       "\n",
       ".xr-section-item {\n",
       "  display: contents;\n",
       "}\n",
       "\n",
       ".xr-section-item input {\n",
       "  display: inline-block;\n",
       "  opacity: 0;\n",
       "}\n",
       "\n",
       ".xr-section-item input + label {\n",
       "  color: var(--xr-disabled-color);\n",
       "}\n",
       "\n",
       ".xr-section-item input:enabled + label {\n",
       "  cursor: pointer;\n",
       "  color: var(--xr-font-color2);\n",
       "}\n",
       "\n",
       ".xr-section-item input:focus + label {\n",
       "  border: 2px solid var(--xr-font-color0);\n",
       "}\n",
       "\n",
       ".xr-section-item input:enabled + label:hover {\n",
       "  color: var(--xr-font-color0);\n",
       "}\n",
       "\n",
       ".xr-section-summary {\n",
       "  grid-column: 1;\n",
       "  color: var(--xr-font-color2);\n",
       "  font-weight: 500;\n",
       "}\n",
       "\n",
       ".xr-section-summary > span {\n",
       "  display: inline-block;\n",
       "  padding-left: 0.5em;\n",
       "}\n",
       "\n",
       ".xr-section-summary-in:disabled + label {\n",
       "  color: var(--xr-font-color2);\n",
       "}\n",
       "\n",
       ".xr-section-summary-in + label:before {\n",
       "  display: inline-block;\n",
       "  content: '►';\n",
       "  font-size: 11px;\n",
       "  width: 15px;\n",
       "  text-align: center;\n",
       "}\n",
       "\n",
       ".xr-section-summary-in:disabled + label:before {\n",
       "  color: var(--xr-disabled-color);\n",
       "}\n",
       "\n",
       ".xr-section-summary-in:checked + label:before {\n",
       "  content: '▼';\n",
       "}\n",
       "\n",
       ".xr-section-summary-in:checked + label > span {\n",
       "  display: none;\n",
       "}\n",
       "\n",
       ".xr-section-summary,\n",
       ".xr-section-inline-details {\n",
       "  padding-top: 4px;\n",
       "  padding-bottom: 4px;\n",
       "}\n",
       "\n",
       ".xr-section-inline-details {\n",
       "  grid-column: 2 / -1;\n",
       "}\n",
       "\n",
       ".xr-section-details {\n",
       "  display: none;\n",
       "  grid-column: 1 / -1;\n",
       "  margin-bottom: 5px;\n",
       "}\n",
       "\n",
       ".xr-section-summary-in:checked ~ .xr-section-details {\n",
       "  display: contents;\n",
       "}\n",
       "\n",
       ".xr-array-wrap {\n",
       "  grid-column: 1 / -1;\n",
       "  display: grid;\n",
       "  grid-template-columns: 20px auto;\n",
       "}\n",
       "\n",
       ".xr-array-wrap > label {\n",
       "  grid-column: 1;\n",
       "  vertical-align: top;\n",
       "}\n",
       "\n",
       ".xr-preview {\n",
       "  color: var(--xr-font-color3);\n",
       "}\n",
       "\n",
       ".xr-array-preview,\n",
       ".xr-array-data {\n",
       "  padding: 0 5px !important;\n",
       "  grid-column: 2;\n",
       "}\n",
       "\n",
       ".xr-array-data,\n",
       ".xr-array-in:checked ~ .xr-array-preview {\n",
       "  display: none;\n",
       "}\n",
       "\n",
       ".xr-array-in:checked ~ .xr-array-data,\n",
       ".xr-array-preview {\n",
       "  display: inline-block;\n",
       "}\n",
       "\n",
       ".xr-dim-list {\n",
       "  display: inline-block !important;\n",
       "  list-style: none;\n",
       "  padding: 0 !important;\n",
       "  margin: 0;\n",
       "}\n",
       "\n",
       ".xr-dim-list li {\n",
       "  display: inline-block;\n",
       "  padding: 0;\n",
       "  margin: 0;\n",
       "}\n",
       "\n",
       ".xr-dim-list:before {\n",
       "  content: '(';\n",
       "}\n",
       "\n",
       ".xr-dim-list:after {\n",
       "  content: ')';\n",
       "}\n",
       "\n",
       ".xr-dim-list li:not(:last-child):after {\n",
       "  content: ',';\n",
       "  padding-right: 5px;\n",
       "}\n",
       "\n",
       ".xr-has-index {\n",
       "  font-weight: bold;\n",
       "}\n",
       "\n",
       ".xr-var-list,\n",
       ".xr-var-item {\n",
       "  display: contents;\n",
       "}\n",
       "\n",
       ".xr-var-item > div,\n",
       ".xr-var-item label,\n",
       ".xr-var-item > .xr-var-name span {\n",
       "  background-color: var(--xr-background-color-row-even);\n",
       "  margin-bottom: 0;\n",
       "}\n",
       "\n",
       ".xr-var-item > .xr-var-name:hover span {\n",
       "  padding-right: 5px;\n",
       "}\n",
       "\n",
       ".xr-var-list > li:nth-child(odd) > div,\n",
       ".xr-var-list > li:nth-child(odd) > label,\n",
       ".xr-var-list > li:nth-child(odd) > .xr-var-name span {\n",
       "  background-color: var(--xr-background-color-row-odd);\n",
       "}\n",
       "\n",
       ".xr-var-name {\n",
       "  grid-column: 1;\n",
       "}\n",
       "\n",
       ".xr-var-dims {\n",
       "  grid-column: 2;\n",
       "}\n",
       "\n",
       ".xr-var-dtype {\n",
       "  grid-column: 3;\n",
       "  text-align: right;\n",
       "  color: var(--xr-font-color2);\n",
       "}\n",
       "\n",
       ".xr-var-preview {\n",
       "  grid-column: 4;\n",
       "}\n",
       "\n",
       ".xr-index-preview {\n",
       "  grid-column: 2 / 5;\n",
       "  color: var(--xr-font-color2);\n",
       "}\n",
       "\n",
       ".xr-var-name,\n",
       ".xr-var-dims,\n",
       ".xr-var-dtype,\n",
       ".xr-preview,\n",
       ".xr-attrs dt {\n",
       "  white-space: nowrap;\n",
       "  overflow: hidden;\n",
       "  text-overflow: ellipsis;\n",
       "  padding-right: 10px;\n",
       "}\n",
       "\n",
       ".xr-var-name:hover,\n",
       ".xr-var-dims:hover,\n",
       ".xr-var-dtype:hover,\n",
       ".xr-attrs dt:hover {\n",
       "  overflow: visible;\n",
       "  width: auto;\n",
       "  z-index: 1;\n",
       "}\n",
       "\n",
       ".xr-var-attrs,\n",
       ".xr-var-data,\n",
       ".xr-index-data {\n",
       "  display: none;\n",
       "  background-color: var(--xr-background-color) !important;\n",
       "  padding-bottom: 5px !important;\n",
       "}\n",
       "\n",
       ".xr-var-attrs-in:checked ~ .xr-var-attrs,\n",
       ".xr-var-data-in:checked ~ .xr-var-data,\n",
       ".xr-index-data-in:checked ~ .xr-index-data {\n",
       "  display: block;\n",
       "}\n",
       "\n",
       ".xr-var-data > table {\n",
       "  float: right;\n",
       "}\n",
       "\n",
       ".xr-var-name span,\n",
       ".xr-var-data,\n",
       ".xr-index-name div,\n",
       ".xr-index-data,\n",
       ".xr-attrs {\n",
       "  padding-left: 25px !important;\n",
       "}\n",
       "\n",
       ".xr-attrs,\n",
       ".xr-var-attrs,\n",
       ".xr-var-data,\n",
       ".xr-index-data {\n",
       "  grid-column: 1 / -1;\n",
       "}\n",
       "\n",
       "dl.xr-attrs {\n",
       "  padding: 0;\n",
       "  margin: 0;\n",
       "  display: grid;\n",
       "  grid-template-columns: 125px auto;\n",
       "}\n",
       "\n",
       ".xr-attrs dt,\n",
       ".xr-attrs dd {\n",
       "  padding: 0;\n",
       "  margin: 0;\n",
       "  float: left;\n",
       "  padding-right: 10px;\n",
       "  width: auto;\n",
       "}\n",
       "\n",
       ".xr-attrs dt {\n",
       "  font-weight: normal;\n",
       "  grid-column: 1;\n",
       "}\n",
       "\n",
       ".xr-attrs dt:hover span {\n",
       "  display: inline-block;\n",
       "  background: var(--xr-background-color);\n",
       "  padding-right: 10px;\n",
       "}\n",
       "\n",
       ".xr-attrs dd {\n",
       "  grid-column: 2;\n",
       "  white-space: pre-wrap;\n",
       "  word-break: break-all;\n",
       "}\n",
       "\n",
       ".xr-icon-database,\n",
       ".xr-icon-file-text2,\n",
       ".xr-no-icon {\n",
       "  display: inline-block;\n",
       "  vertical-align: middle;\n",
       "  width: 1em;\n",
       "  height: 1.5em !important;\n",
       "  stroke-width: 0;\n",
       "  stroke: currentColor;\n",
       "  fill: currentColor;\n",
       "}\n",
       "</style><pre class='xr-text-repr-fallback'>&lt;xarray.Dataset&gt; Size: 840B\n",
       "Dimensions:      (number_of_bands: 21, number_of_reflective_bands: 21)\n",
       "Dimensions without coordinates: number_of_bands, number_of_reflective_bands\n",
       "Data variables:\n",
       "    wavelength   (number_of_bands) float64 168B ...\n",
       "    vcal_gain    (number_of_reflective_bands) float32 84B ...\n",
       "    vcal_offset  (number_of_reflective_bands) float32 84B ...\n",
       "    F0           (number_of_reflective_bands) float32 84B ...\n",
       "    aw           (number_of_reflective_bands) float32 84B ...\n",
       "    bbw          (number_of_reflective_bands) float32 84B ...\n",
       "    k_oz         (number_of_reflective_bands) float32 84B ...\n",
       "    k_no2        (number_of_reflective_bands) float32 84B ...\n",
       "    Tau_r        (number_of_reflective_bands) float32 84B ...</pre><div class='xr-wrap' style='display:none'><div class='xr-header'><div class='xr-obj-type'>xarray.Dataset</div></div><ul class='xr-sections'><li class='xr-section-item'><input id='section-cbcd8d0b-39ba-42c6-99f6-4e0391a18932' class='xr-section-summary-in' type='checkbox' disabled ><label for='section-cbcd8d0b-39ba-42c6-99f6-4e0391a18932' class='xr-section-summary'  title='Expand/collapse section'>Dimensions:</label><div class='xr-section-inline-details'><ul class='xr-dim-list'><li><span>number_of_bands</span>: 21</li><li><span>number_of_reflective_bands</span>: 21</li></ul></div><div class='xr-section-details'></div></li><li class='xr-section-item'><input id='section-2584cf28-adfa-4671-99bf-5a0b299903be' class='xr-section-summary-in' type='checkbox' disabled ><label for='section-2584cf28-adfa-4671-99bf-5a0b299903be' class='xr-section-summary'  title='Expand/collapse section'>Coordinates: <span>(0)</span></label><div class='xr-section-inline-details'></div><div class='xr-section-details'><ul class='xr-var-list'></ul></div></li><li class='xr-section-item'><input id='section-56e8c53f-df9d-4a5b-90d5-d21964a2ba30' class='xr-section-summary-in' type='checkbox'  checked><label for='section-56e8c53f-df9d-4a5b-90d5-d21964a2ba30' class='xr-section-summary' >Data variables: <span>(9)</span></label><div class='xr-section-inline-details'></div><div class='xr-section-details'><ul class='xr-var-list'><li class='xr-var-item'><div class='xr-var-name'><span>wavelength</span></div><div class='xr-var-dims'>(number_of_bands)</div><div class='xr-var-dtype'>float64</div><div class='xr-var-preview xr-preview'>...</div><input id='attrs-22ee9d56-6dee-4be7-a0cb-80d8772d5beb' class='xr-var-attrs-in' type='checkbox' ><label for='attrs-22ee9d56-6dee-4be7-a0cb-80d8772d5beb' title='Show/Hide attributes'><svg class='icon xr-icon-file-text2'><use xlink:href='#icon-file-text2'></use></svg></label><input id='data-68eff5b3-51bb-40c8-91ec-733de479c83c' class='xr-var-data-in' type='checkbox'><label for='data-68eff5b3-51bb-40c8-91ec-733de479c83c' title='Show/Hide data repr'><svg class='icon xr-icon-database'><use xlink:href='#icon-database'></use></svg></label><div class='xr-var-attrs'><dl class='xr-attrs'><dt><span>long_name :</span></dt><dd>wavelengths</dd><dt><span>units :</span></dt><dd>nm</dd><dt><span>valid_min :</span></dt><dd>0</dd><dt><span>valid_max :</span></dt><dd>20000</dd></dl></div><div class='xr-var-data'><pre>[21 values with dtype=float64]</pre></div></li><li class='xr-var-item'><div class='xr-var-name'><span>vcal_gain</span></div><div class='xr-var-dims'>(number_of_reflective_bands)</div><div class='xr-var-dtype'>float32</div><div class='xr-var-preview xr-preview'>...</div><input id='attrs-e964a51d-3e26-4394-ab0d-aba6c8a773f6' class='xr-var-attrs-in' type='checkbox' ><label for='attrs-e964a51d-3e26-4394-ab0d-aba6c8a773f6' title='Show/Hide attributes'><svg class='icon xr-icon-file-text2'><use xlink:href='#icon-file-text2'></use></svg></label><input id='data-bf5cdf56-073f-4010-8638-5494e69175b3' class='xr-var-data-in' type='checkbox'><label for='data-bf5cdf56-073f-4010-8638-5494e69175b3' title='Show/Hide data repr'><svg class='icon xr-icon-database'><use xlink:href='#icon-database'></use></svg></label><div class='xr-var-attrs'><dl class='xr-attrs'><dt><span>long_name :</span></dt><dd>Vicarious Calibration Gain</dd><dt><span>valid_min :</span></dt><dd>0.0</dd><dt><span>valid_max :</span></dt><dd>2.0</dd></dl></div><div class='xr-var-data'><pre>[21 values with dtype=float32]</pre></div></li><li class='xr-var-item'><div class='xr-var-name'><span>vcal_offset</span></div><div class='xr-var-dims'>(number_of_reflective_bands)</div><div class='xr-var-dtype'>float32</div><div class='xr-var-preview xr-preview'>...</div><input id='attrs-1231562d-04ae-41a2-8d90-ad5cfc81e6a5' class='xr-var-attrs-in' type='checkbox' ><label for='attrs-1231562d-04ae-41a2-8d90-ad5cfc81e6a5' title='Show/Hide attributes'><svg class='icon xr-icon-file-text2'><use xlink:href='#icon-file-text2'></use></svg></label><input id='data-702924ff-e730-47c3-afaa-606a694ef72f' class='xr-var-data-in' type='checkbox'><label for='data-702924ff-e730-47c3-afaa-606a694ef72f' title='Show/Hide data repr'><svg class='icon xr-icon-database'><use xlink:href='#icon-database'></use></svg></label><div class='xr-var-attrs'><dl class='xr-attrs'><dt><span>long_name :</span></dt><dd>Vicarious Calibration Offset</dd><dt><span>units :</span></dt><dd>mW cm^-2 um^-1 sr^-1</dd><dt><span>valid_min :</span></dt><dd>0.0</dd><dt><span>valid_max :</span></dt><dd>10.0</dd></dl></div><div class='xr-var-data'><pre>[21 values with dtype=float32]</pre></div></li><li class='xr-var-item'><div class='xr-var-name'><span>F0</span></div><div class='xr-var-dims'>(number_of_reflective_bands)</div><div class='xr-var-dtype'>float32</div><div class='xr-var-preview xr-preview'>...</div><input id='attrs-da26bc3a-3cd0-42a2-b3c3-3e254243ace1' class='xr-var-attrs-in' type='checkbox' ><label for='attrs-da26bc3a-3cd0-42a2-b3c3-3e254243ace1' title='Show/Hide attributes'><svg class='icon xr-icon-file-text2'><use xlink:href='#icon-file-text2'></use></svg></label><input id='data-bc1de9ff-864a-4daa-889e-93b46c04ee09' class='xr-var-data-in' type='checkbox'><label for='data-bc1de9ff-864a-4daa-889e-93b46c04ee09' title='Show/Hide data repr'><svg class='icon xr-icon-database'><use xlink:href='#icon-database'></use></svg></label><div class='xr-var-attrs'><dl class='xr-attrs'><dt><span>long_name :</span></dt><dd>Mean Solar Flux</dd><dt><span>units :</span></dt><dd>W m^-2 um^-1</dd><dt><span>valid_min :</span></dt><dd>0.0</dd><dt><span>valid_max :</span></dt><dd>250.0</dd></dl></div><div class='xr-var-data'><pre>[21 values with dtype=float32]</pre></div></li><li class='xr-var-item'><div class='xr-var-name'><span>aw</span></div><div class='xr-var-dims'>(number_of_reflective_bands)</div><div class='xr-var-dtype'>float32</div><div class='xr-var-preview xr-preview'>...</div><input id='attrs-f0f0ecdf-578f-47a7-bf00-dafa904ac4e5' class='xr-var-attrs-in' type='checkbox' ><label for='attrs-f0f0ecdf-578f-47a7-bf00-dafa904ac4e5' title='Show/Hide attributes'><svg class='icon xr-icon-file-text2'><use xlink:href='#icon-file-text2'></use></svg></label><input id='data-fcdcdb92-aeaf-4db3-9600-3645c7ddcdbc' class='xr-var-data-in' type='checkbox'><label for='data-fcdcdb92-aeaf-4db3-9600-3645c7ddcdbc' title='Show/Hide data repr'><svg class='icon xr-icon-database'><use xlink:href='#icon-database'></use></svg></label><div class='xr-var-attrs'><dl class='xr-attrs'><dt><span>long_name :</span></dt><dd>Band-pass averaged absorption coefficient for seawater</dd><dt><span>units :</span></dt><dd>m^-1</dd><dt><span>standard_name :</span></dt><dd>volume_absorption_coefficient_of_radiative_flux_in_sea_water</dd><dt><span>valid_min :</span></dt><dd>1e-04</dd><dt><span>valid_max :</span></dt><dd>5.0</dd><dt><span>reference :</span></dt><dd>Pope, R.M. and Fry, E.S., 1997, &quot;Absorption spectrum (380-700 nm) of pure water. II. Integrating cavity measurements,&quot; Appl. Opt.,36, 8710-8723.; Kou, L., Labrie, D., Chylek, P., 1993, &quot;Refractive indices of water and ice in the 0.65-2.5 m spectral range,&quot; Appl. Opt.,32, 3531-3540 (1993).</dd></dl></div><div class='xr-var-data'><pre>[21 values with dtype=float32]</pre></div></li><li class='xr-var-item'><div class='xr-var-name'><span>bbw</span></div><div class='xr-var-dims'>(number_of_reflective_bands)</div><div class='xr-var-dtype'>float32</div><div class='xr-var-preview xr-preview'>...</div><input id='attrs-78db0da5-3fbe-43b8-bb6e-85b46b45c4a1' class='xr-var-attrs-in' type='checkbox' ><label for='attrs-78db0da5-3fbe-43b8-bb6e-85b46b45c4a1' title='Show/Hide attributes'><svg class='icon xr-icon-file-text2'><use xlink:href='#icon-file-text2'></use></svg></label><input id='data-b9e11066-76d8-4808-b3de-d9e488d97e44' class='xr-var-data-in' type='checkbox'><label for='data-b9e11066-76d8-4808-b3de-d9e488d97e44' title='Show/Hide data repr'><svg class='icon xr-icon-database'><use xlink:href='#icon-database'></use></svg></label><div class='xr-var-attrs'><dl class='xr-attrs'><dt><span>long_name :</span></dt><dd>Band-pass averaged backscattering coefficient for seawater</dd><dt><span>units :</span></dt><dd>m^-1</dd><dt><span>standard_name :</span></dt><dd>volume_backwards_scattering_coefficient_of_radiative_flux_in_sea_water</dd><dt><span>valid_min :</span></dt><dd>5e-06</dd><dt><span>valid_max :</span></dt><dd>1.0</dd><dt><span>reference :</span></dt><dd>Zhang, X., Hu, L., and He, M.-X. (2009). Scattering by pure seawater: effect of salinity, Opt. Express 17(7)</dd><dt><span>comment :</span></dt><dd>These are nominal values for a salinity of 38.4 at 20 degrees C.  The bbw values used in the processing are corrected for temperature and salinity on a per pixel basis.</dd></dl></div><div class='xr-var-data'><pre>[21 values with dtype=float32]</pre></div></li><li class='xr-var-item'><div class='xr-var-name'><span>k_oz</span></div><div class='xr-var-dims'>(number_of_reflective_bands)</div><div class='xr-var-dtype'>float32</div><div class='xr-var-preview xr-preview'>...</div><input id='attrs-04ca0450-2e66-4e79-8e59-327bca583f62' class='xr-var-attrs-in' type='checkbox' ><label for='attrs-04ca0450-2e66-4e79-8e59-327bca583f62' title='Show/Hide attributes'><svg class='icon xr-icon-file-text2'><use xlink:href='#icon-file-text2'></use></svg></label><input id='data-78fbe8ce-bbcf-4f32-a83e-7387d874670c' class='xr-var-data-in' type='checkbox'><label for='data-78fbe8ce-bbcf-4f32-a83e-7387d874670c' title='Show/Hide data repr'><svg class='icon xr-icon-database'><use xlink:href='#icon-database'></use></svg></label><div class='xr-var-attrs'><dl class='xr-attrs'><dt><span>long_name :</span></dt><dd>Ozone Absorption cross-sections</dd><dt><span>units :</span></dt><dd>cm^-1</dd><dt><span>valid_min :</span></dt><dd>0.0</dd><dt><span>valid_max :</span></dt><dd>0.1</dd><dt><span>reference :</span></dt><dd>Anderson, S.M., Morton, J., and Mauersberger, K.. &quot;Near-infrared absorption spectra of 16O3 and 18O3: Adiabatic energy of the 1A2 state?.&quot; The Journal of Chemical Physics 93.6 (1990): 3826-3832.; Anderson, Stuart M., Maeder, J., and Mauersberger, K. &quot;Effect of isotopic substitution on the visible absorption spectrum of ozone.&quot; The Journal of chemical physics 94.10 (1991): 6351-6357; http://dx.doi.org/10.1029/92GL00780; http://dx.doi.org/10.1029/93GL01765; http://dx.doi.org/10.1029/93GL02311</dd><dt><span>comment :</span></dt><dd>Computed at 229.15K with code provided by E.P.Shettle, NRL, Washington, DC; Based on the measurements of: S.Anderson et al. and J. Burkholder and Talukdar (1994)</dd></dl></div><div class='xr-var-data'><pre>[21 values with dtype=float32]</pre></div></li><li class='xr-var-item'><div class='xr-var-name'><span>k_no2</span></div><div class='xr-var-dims'>(number_of_reflective_bands)</div><div class='xr-var-dtype'>float32</div><div class='xr-var-preview xr-preview'>...</div><input id='attrs-29142c12-d29a-4729-931c-1a2ada4c1963' class='xr-var-attrs-in' type='checkbox' ><label for='attrs-29142c12-d29a-4729-931c-1a2ada4c1963' title='Show/Hide attributes'><svg class='icon xr-icon-file-text2'><use xlink:href='#icon-file-text2'></use></svg></label><input id='data-92c7aae9-5a41-4132-9971-0db929bf8abf' class='xr-var-data-in' type='checkbox'><label for='data-92c7aae9-5a41-4132-9971-0db929bf8abf' title='Show/Hide data repr'><svg class='icon xr-icon-database'><use xlink:href='#icon-database'></use></svg></label><div class='xr-var-attrs'><dl class='xr-attrs'><dt><span>long_name :</span></dt><dd>NO2 Absorption cross-sections</dd><dt><span>units :</span></dt><dd>cm^2 molecule^-1</dd><dt><span>valid_min :</span></dt><dd>0.0</dd><dt><span>valid_max :</span></dt><dd>0.1</dd><dt><span>reference :</span></dt><dd>K. Bogumil, et al., &quot;Measurements of molecular absorption spectra with the SCIAMACHY pre-flight model: Instrument characterization and reference data for atmospheric remote sensing in the 230-2380 nm region,&quot; J. Photochem. Photobiol. A.: Photochem. 157, 167-184 (2003).; W. Schneider,et al., &quot;Absorption cross-sections of NO2 in the UV and visible region (200 - 700 nm) at 298 K&quot;, J. Photochem. Photobiol. 40, 195-217 (1987)</dd></dl></div><div class='xr-var-data'><pre>[21 values with dtype=float32]</pre></div></li><li class='xr-var-item'><div class='xr-var-name'><span>Tau_r</span></div><div class='xr-var-dims'>(number_of_reflective_bands)</div><div class='xr-var-dtype'>float32</div><div class='xr-var-preview xr-preview'>...</div><input id='attrs-ff1a8658-cfbe-4a6d-b543-99ebd3834d18' class='xr-var-attrs-in' type='checkbox' ><label for='attrs-ff1a8658-cfbe-4a6d-b543-99ebd3834d18' title='Show/Hide attributes'><svg class='icon xr-icon-file-text2'><use xlink:href='#icon-file-text2'></use></svg></label><input id='data-174569a1-b46b-4e77-8581-94cba481f37e' class='xr-var-data-in' type='checkbox'><label for='data-174569a1-b46b-4e77-8581-94cba481f37e' title='Show/Hide data repr'><svg class='icon xr-icon-database'><use xlink:href='#icon-database'></use></svg></label><div class='xr-var-attrs'><dl class='xr-attrs'><dt><span>long_name :</span></dt><dd>Rayleigh Optical Thickness</dd><dt><span>valid_min :</span></dt><dd>0.0</dd><dt><span>valid_max :</span></dt><dd>0.5</dd><dt><span>reference :</span></dt><dd>Bodhaine, B.A., Wood, N.B, Dutton, E.G., Slusser, J.R. (1999). On Rayleigh Optical Depth Calculations, J. Atmos. Ocean Tech., 16, 1854-1861.</dd></dl></div><div class='xr-var-data'><pre>[21 values with dtype=float32]</pre></div></li></ul></div></li><li class='xr-section-item'><input id='section-37c61104-e3fd-4a43-aa32-098e491a1f1c' class='xr-section-summary-in' type='checkbox' disabled ><label for='section-37c61104-e3fd-4a43-aa32-098e491a1f1c' class='xr-section-summary'  title='Expand/collapse section'>Indexes: <span>(0)</span></label><div class='xr-section-inline-details'></div><div class='xr-section-details'><ul class='xr-var-list'></ul></div></li><li class='xr-section-item'><input id='section-15e65bb0-a997-4224-b1c3-569d8b3358c6' class='xr-section-summary-in' type='checkbox' disabled ><label for='section-15e65bb0-a997-4224-b1c3-569d8b3358c6' class='xr-section-summary'  title='Expand/collapse section'>Attributes: <span>(0)</span></label><div class='xr-section-inline-details'></div><div class='xr-section-details'><dl class='xr-attrs'></dl></div></li></ul></div></div>"
      ],
      "text/plain": [
       "<xarray.Dataset> Size: 840B\n",
       "Dimensions:      (number_of_bands: 21, number_of_reflective_bands: 21)\n",
       "Dimensions without coordinates: number_of_bands, number_of_reflective_bands\n",
       "Data variables:\n",
       "    wavelength   (number_of_bands) float64 168B ...\n",
       "    vcal_gain    (number_of_reflective_bands) float32 84B ...\n",
       "    vcal_offset  (number_of_reflective_bands) float32 84B ...\n",
       "    F0           (number_of_reflective_bands) float32 84B ...\n",
       "    aw           (number_of_reflective_bands) float32 84B ...\n",
       "    bbw          (number_of_reflective_bands) float32 84B ...\n",
       "    k_oz         (number_of_reflective_bands) float32 84B ...\n",
       "    k_no2        (number_of_reflective_bands) float32 84B ...\n",
       "    Tau_r        (number_of_reflective_bands) float32 84B ..."
      ]
     },
     "execution_count": 35,
     "metadata": {},
     "output_type": "execute_result"
    }
   ],
   "source": [
    "ds = xr.open_dataset(path, group = 'sensor_band_parameters')\n",
    "for v in ds.variables:\n",
    "    print(v)\n",
    "ds"
   ]
  },
  {
   "cell_type": "code",
   "execution_count": null,
   "id": "4ab076c4-a390-4df7-8898-a8b34ffb7cd5",
   "metadata": {},
   "outputs": [],
   "source": []
  }
 ],
 "metadata": {
  "kernelspec": {
   "display_name": "Python 3 (ipykernel)",
   "language": "python",
   "name": "python3"
  },
  "language_info": {
   "codemirror_mode": {
    "name": "ipython",
    "version": 3
   },
   "file_extension": ".py",
   "mimetype": "text/x-python",
   "name": "python",
   "nbconvert_exporter": "python",
   "pygments_lexer": "ipython3",
   "version": "3.11.2"
  }
 },
 "nbformat": 4,
 "nbformat_minor": 5
}
