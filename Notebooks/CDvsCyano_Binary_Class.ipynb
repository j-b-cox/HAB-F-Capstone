{
 "cells": [
  {
   "cell_type": "code",
   "execution_count": 23,
   "id": "8ce74efa-8d0a-4434-bc1f-9c6c7e3843a6",
   "metadata": {},
   "outputs": [],
   "source": [
    "import os\n",
    "import csv\n",
    "import numpy as np\n",
    "import matplotlib.pyplot as plt\n",
    "from glob import glob\n",
    "from sklearn.ensemble import RandomForestClassifier\n",
    "from sklearn.model_selection import train_test_split\n",
    "from sklearn.metrics import classification_report, ConfusionMatrixDisplay\n"
   ]
  },
  {
   "cell_type": "code",
   "execution_count": 29,
   "id": "9f3e6633-3943-49c9-b592-b2d3929e1713",
   "metadata": {},
   "outputs": [
    {
     "name": "stdout",
     "output_type": "stream",
     "text": [
      "✅ Saved:\n",
      " - 151 samples to ../LabelData/X.npy\n",
      " - 151 labels to ../LabelData/Y.npy\n",
      " - Metadata CSV to ../LabelData/labels.csv\n"
     ]
    }
   ],
   "source": [
    "# Config\n",
    "npy_dir = \"../LabelData/data/\"\n",
    "csv_out = \"../LabelData/labels.csv\"\n",
    "X_out = \"../LabelData/X.npy\"\n",
    "Y_out = \"../LabelData/Y.npy\"\n",
    "min_valid_bands = 4  # Minimum # finite values required to keep sample\n",
    "\n",
    "# CSV Header\n",
    "header = [\"filename\", \"label\", \"latitude\", \"longitude\", \"date\", \"valid_band_count\"]\n",
    "\n",
    "# Containers\n",
    "X = []\n",
    "Y = []\n",
    "meta = []\n",
    "\n",
    "# Iterate over .npy files\n",
    "for fname in sorted(os.listdir(npy_dir)):\n",
    "    if not fname.endswith(\".npy\"):\n",
    "        continue\n",
    "\n",
    "    path = os.path.join(npy_dir, fname)\n",
    "\n",
    "    # Parse metadata from filename\n",
    "    try:\n",
    "        label_str, lat_str, lon_str, date_str = fname[:-4].split(\"_\")\n",
    "        lat = float(lat_str)\n",
    "        lon = float(lon_str)\n",
    "    except Exception as e:\n",
    "        print(f\"[WARNING] Skipping {fname}: bad filename format → {e}\")\n",
    "        continue\n",
    "\n",
    "    try:\n",
    "        data = np.load(path, allow_pickle=True).item()\n",
    "        label = int(data.get(\"algae_class\", -1))\n",
    "        Rrs = data.get(\"Rrs_mean\")\n",
    "\n",
    "        if Rrs is None or not isinstance(Rrs, np.ndarray):\n",
    "            raise ValueError(\"Missing or invalid Rrs_mean\")\n",
    "\n",
    "        valid_count = np.isfinite(Rrs).sum()\n",
    "\n",
    "        if valid_count < min_valid_bands:\n",
    "            continue  # skip this sample\n",
    "\n",
    "        # Normalize Rrs shape and replace NaNs with 0 or keep as-is\n",
    "        Rrs_clean = np.where(np.isfinite(Rrs), Rrs, 0.0)  # You can change to NaN if preferred\n",
    "\n",
    "        # One-hot encode label\n",
    "        one_hot = [1, 0] if label == 0 else [0, 1]\n",
    "\n",
    "        # Append\n",
    "        X.append(Rrs_clean)\n",
    "        Y.append(one_hot)\n",
    "        meta.append([fname, label, lat, lon, date_str, int(valid_count)])\n",
    "\n",
    "    except Exception as e:\n",
    "        print(f\"[ERROR] Failed to load/process {fname}: {e}\")\n",
    "\n",
    "# Convert and save\n",
    "X = np.array(X, dtype=np.float32)\n",
    "Y = np.array(Y, dtype=np.int32)\n",
    "\n",
    "np.save(X_out, X)\n",
    "np.save(Y_out, Y)\n",
    "\n",
    "# Save metadata CSV\n",
    "with open(csv_out, \"w\", newline=\"\") as f:\n",
    "    writer = csv.writer(f)\n",
    "    writer.writerow(header)\n",
    "    writer.writerows(meta)\n",
    "\n",
    "print(f\"✅ Saved:\")\n",
    "print(f\" - {X.shape[0]} samples to {X_out}\")\n",
    "print(f\" - {Y.shape[0]} labels to {Y_out}\")\n",
    "print(f\" - Metadata CSV to {csv_out}\")"
   ]
  },
  {
   "cell_type": "code",
   "execution_count": 30,
   "id": "c520f335-9276-46d8-baa2-1ed31b1cc456",
   "metadata": {},
   "outputs": [
    {
     "name": "stdout",
     "output_type": "stream",
     "text": [
      "✅ Accuracy: 90.79%\n",
      "\n",
      "Classification Report:\n",
      "              precision    recall  f1-score   support\n",
      "\n",
      "           0       0.92      0.97      0.94        58\n",
      "           1       0.87      0.72      0.79        18\n",
      "\n",
      "    accuracy                           0.91        76\n",
      "   macro avg       0.89      0.84      0.86        76\n",
      "weighted avg       0.91      0.91      0.90        76\n",
      "\n"
     ]
    },
    {
     "data": {
      "image/png": "[encoded data removed]",
      "text/plain": [
       "<Figure size 640x480 with 2 Axes>"
      ]
     },
     "metadata": {},
     "output_type": "display_data"
    }
   ],
   "source": [
    "import numpy as np\n",
    "from sklearn.ensemble import RandomForestClassifier\n",
    "from sklearn.model_selection import train_test_split\n",
    "from sklearn.metrics import (\n",
    "    accuracy_score,\n",
    "    confusion_matrix,\n",
    "    classification_report,\n",
    "    ConfusionMatrixDisplay\n",
    ")\n",
    "import matplotlib.pyplot as plt\n",
    "\n",
    "# Paths\n",
    "X_path = \"../LabelData/X.npy\"\n",
    "Y_path = \"../LabelData/Y.npy\"\n",
    "\n",
    "# Load data\n",
    "X = np.load(X_path)\n",
    "Y = np.load(Y_path)\n",
    "\n",
    "# Convert one-hot → class labels\n",
    "y = np.argmax(Y, axis=1)  # shape (n_samples,)\n",
    "\n",
    "# Train/test split\n",
    "X_train, X_test, y_train, y_test = train_test_split(\n",
    "    X, y, test_size=0.5, random_state=42, stratify=y\n",
    ")\n",
    "\n",
    "# Initialize Random Forest\n",
    "clf = RandomForestClassifier(\n",
    "    n_estimators=100,\n",
    "    max_depth=None,\n",
    "    random_state=42,\n",
    "    class_weight=\"balanced\"\n",
    ")\n",
    "\n",
    "# Train\n",
    "clf.fit(X_train, y_train)\n",
    "\n",
    "# Predict\n",
    "y_pred = clf.predict(X_test)\n",
    "\n",
    "# Accuracy\n",
    "acc = accuracy_score(y_test, y_pred)\n",
    "print(f\"✅ Accuracy: {acc * 100:.2f}%\")\n",
    "\n",
    "# Classification Report\n",
    "print(\"\\nClassification Report:\")\n",
    "print(classification_report(y_test, y_pred))\n",
    "\n",
    "# Confusion Matrix\n",
    "cm = confusion_matrix(y_test, y_pred)\n",
    "disp = ConfusionMatrixDisplay(cm, display_labels=[\"Class 0\", \"Class 1\"])\n",
    "disp.plot(cmap=\"Blues\")\n",
    "plt.title(\"Confusion Matrix\")\n",
    "plt.tight_layout()\n",
    "plt.show()\n"
   ]
  },
  {
   "cell_type": "code",
   "execution_count": 21,
   "id": "4d307c5e-2178-464f-b387-02847ec6a538",
   "metadata": {},
   "outputs": [
    {
     "data": {
      "image/png": "[encoded data removed]",
      "text/plain": [
       "<Figure size 600x400 with 1 Axes>"
      ]
     },
     "metadata": {},
     "output_type": "display_data"
    }
   ],
   "source": []
  },
  {
   "cell_type": "code",
   "execution_count": null,
   "id": "25ffc43f-b7f9-4199-8fc6-7c0328698d97",
   "metadata": {},
   "outputs": [],
   "source": []
  }
 ],
 "metadata": {
  "kernelspec": {
   "display_name": "Python 3 (ipykernel)",
   "language": "python",
   "name": "python3"
  },
  "language_info": {
   "codemirror_mode": {
    "name": "ipython",
    "version": 3
   },
   "file_extension": ".py",
   "mimetype": "text/x-python",
   "name": "python",
   "nbconvert_exporter": "python",
   "pygments_lexer": "ipython3",
   "version": "3.11.2"
  }
 },
 "nbformat": 4,
 "nbformat_minor": 5
}
